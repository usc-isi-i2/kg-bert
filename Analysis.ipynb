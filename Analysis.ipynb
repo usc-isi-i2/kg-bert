{
 "cells": [
  {
   "cell_type": "code",
   "execution_count": 1,
   "metadata": {},
   "outputs": [],
   "source": [
    "import json, random\n",
    "from collections import Counter\n",
    "import pandas as pd\n",
    "import numpy as np\n",
    "import networkx as nx\n",
    "from itertools import islice\n",
    "from tqdm import tqdm\n",
    "import matplotlib.pyplot as plt\n",
    "from collections import defaultdict\n",
    "from transformers import GPT2LMHeadModel, GPT2Tokenizer"
   ]
  },
  {
   "cell_type": "markdown",
   "metadata": {},
   "source": [
    "# Set Up Folder"
   ]
  },
  {
   "cell_type": "code",
   "execution_count": 2,
   "metadata": {},
   "outputs": [],
   "source": [
    "# input\n",
    "data_dir=\"eqa_v1\"\n",
    "train_file='%s/train/train.json' % data_dir\n",
    "val_file='%s/val/val.json' % data_dir\n",
    "cskg_dim_folder=\"./data/cskg_dim/cskg_dim.tsv\"\n",
    "wordnet_file=\"./data/wn/kgtk_wordnet.tsv\"\n",
    "\n",
    "# output\n",
    "cskg_qa=\"./data/cskg_dim/eqa_cskg_dim.tsv\""
   ]
  },
  {
   "cell_type": "markdown",
   "metadata": {},
   "source": [
    "# Add Triples to each lines"
   ]
  },
  {
   "cell_type": "code",
   "execution_count": 3,
   "metadata": {},
   "outputs": [],
   "source": [
    "def load_source(filename):\n",
    "    with open(filename,\"r\",encoding=\"utf-8\") as f:\n",
    "        head=f.readline().strip().split(\"\\t\")\n",
    "        data=[]\n",
    "        for line in f:\n",
    "            temp=line.strip().split(\"\\t\")\n",
    "            data.append([item.split(\"|\")[0] for item in temp])\n",
    "            \n",
    "    return head, data\n",
    "\n",
    "def k_shortest_paths(G, source, target, k, weight=None):\n",
    "    return list(islice(nx.shortest_simple_paths(G, source, target, weight=weight), k))\n",
    "\n",
    "class QAsystem():\n",
    "    def __init__(self, filename):\n",
    "        # add data to QAsystem\n",
    "        with open(filename, 'r') as f:\n",
    "            self.train=json.load(f)\n",
    "        \n",
    "        # build dataframe for QA system\n",
    "        episodes=self.train[\"episodes\"]\n",
    "\n",
    "        questions=[]\n",
    "        qtypes=[]\n",
    "        answers=[]\n",
    "        objects=[]\n",
    "        for x in episodes:\n",
    "            questions.append(x['question']['question_text'])\n",
    "            answers.append(x['question']['answer_text'])\n",
    "            qtypes.append(x['question']['question_type'])\n",
    "            objects.append([x[\"goals\"][0][\"object_name\"],x[\"goals\"][0][\"room_name\"]])\n",
    "\n",
    "        # build df\n",
    "        data=zip(questions,answers,qtypes,objects)\n",
    "        self.df=pd.DataFrame(data)\n",
    "        self.df.columns=['question', 'answer', 'qtype',\"objects\"]\n",
    "        self.df=self.df.drop_duplicates(subset=['question','answer','qtype'])\n",
    "    \n",
    "    def build_graph_cskg(self, source):\n",
    "        # build a cskg graph\n",
    "        self.G = nx.DiGraph()\n",
    "        for line in source:\n",
    "            self.G.add_edge(line[4].replace(\" \",\"_\"),line[5].replace(\" \",\"_\"),label=line[6],id_=line[2],source=line[8])\n",
    "            \n",
    "    def save_file(self, filename):\n",
    "        # save file to json file\n",
    "        \n",
    "        question_triple=dict()\n",
    "        #build dict\n",
    "        for row in QA.df.iterrows():\n",
    "            question_text=row[1].question\n",
    "            question_triple[question_text]=[row[1].triples_len2,row[1].shortest_path]\n",
    "            \n",
    "        episodes=self.train[\"episodes\"]\n",
    "        for x in episodes:\n",
    "            x['question']['len2Paths']=question_triple[x['question']['question_text']]\n",
    "            x['question']['ShortestPath']=question_triple[x['question']['question_text']]\n",
    "            \n",
    "        self.train[\"episodes\"]=episodes\n",
    "        \n",
    "        with open(filename, 'w') as f:\n",
    "            json.dump(self.train, f)\n",
    "            \n",
    "    def add_cskg2QA(self):\n",
    "        # add cskg to QA system\n",
    "        # find object1 and object2 are in the path 2\n",
    "        len2_paths=[]\n",
    "        k_paths = []\n",
    "        # nodes not in graph\n",
    "        no_source=[]\n",
    "        \n",
    "        for objects in tqdm(self.df.objects):\n",
    "            obj1, obj2=objects\n",
    "\n",
    "            # check whther both nodes are in the graph. Otherwise, break\n",
    "            if not self.G.has_node(obj1):\n",
    "                len2_paths.append([])\n",
    "                k_paths.append([])\n",
    "\n",
    "                no_source.append(obj1)\n",
    "                continue\n",
    "\n",
    "            if not self.G.has_node(obj2):\n",
    "                len2_paths.append([x['question']['question_text']])\n",
    "                k_paths.append([x['question']['question_text']])\n",
    "\n",
    "                no_source.append(obj2)\n",
    "                continue\n",
    "            # find a length 2 path between both nodes\n",
    "            paths=[]\n",
    "            paths += list(nx.all_simple_paths(self.G, source=obj1, target=obj2,cutoff=2))\n",
    "            \n",
    "            len2_paths.append(paths)\n",
    "\n",
    "            # find the kth shortest path between two nodes\n",
    "            temp_path=[]\n",
    "            temp_path += list(k_shortest_paths(self.G, obj1, obj2, 20))\n",
    "\n",
    "            k_paths.append(temp_path)\n",
    "        self.df[\"triples_len2\"]=len2_paths\n",
    "        self.df[\"shortest_path\"]=k_paths\n",
    "        \n",
    "        # filter lines\n",
    "        # Choose the triples wioth relation: \"r/LocatedNear\",\"/r/AtLocation\"\n",
    "        id_reuqire={\"/r/LocatedNear\",\"/r/AtLocation\"}\n",
    "\n",
    "        paths_length=[]\n",
    "        paths_shortest=[]\n",
    "        for mult_node1, mult_node2 in zip(len2_paths,k_paths):\n",
    "            items=[]\n",
    "            for line in mult_node1:\n",
    "                # check whether the relation in this line is the stisfied relation id\n",
    "                status=True\n",
    "                #print(line)\n",
    "                for i in range(len(line)-1):\n",
    "                    node1=line[i]\n",
    "                    node2=line[i+1]\n",
    "                    edge_detail = self.G[node1][node2]\n",
    "                    edge_id= edge_detail[\"id_\"]\n",
    "                    #print(edge_id)\n",
    "                    if edge_id in id_reuqire:\n",
    "                        pass\n",
    "                    else:\n",
    "                        status=False\n",
    "                #print(status)        \n",
    "                if status:\n",
    "                    new_line=[]\n",
    "                    for i in range(len(line)-1):\n",
    "                        node1=line[i]\n",
    "                        node2=line[i+1]\n",
    "\n",
    "                        if not new_line:\n",
    "                            try:\n",
    "                                new_line+=[node1,self.G[node1][node2][\"label\"],node2]\n",
    "                            except:\n",
    "                                print(node1, node2,line,line[i],line[i+1])\n",
    "                        else:\n",
    "                            try:\n",
    "                                new_line+=[self.G[node1][node2][\"label\"],node2]\n",
    "                            except:\n",
    "                                print(node1, node2,line,line[i],line[i+1])\n",
    "                else:\n",
    "                    new_line=[]\n",
    "\n",
    "                if new_line:\n",
    "                    items.append(new_line)\n",
    "            paths_length.append(items)\n",
    "\n",
    "            items=[]\n",
    "            for line in mult_node2:\n",
    "                # check whether the relation in this line is the stisfied relation id\n",
    "                status=True\n",
    "                #print(line)\n",
    "                for i in range(len(line)-1):\n",
    "                    node1=line[i]\n",
    "                    node2=line[i+1]\n",
    "                    edge_detail = self.G[node1][node2]\n",
    "                    edge_id= edge_detail[\"id_\"]\n",
    "                    #print(edge_id)\n",
    "                    if edge_id in id_reuqire:\n",
    "                        pass\n",
    "                    else:\n",
    "                        status=False\n",
    "                #print(status)        \n",
    "                if status:\n",
    "                    new_line=[]\n",
    "                    for i in range(len(line)-1):\n",
    "                        node1=line[i]\n",
    "                        node2=line[i+1]\n",
    "\n",
    "                        if not new_line:\n",
    "                            try:\n",
    "                                new_line+=[node1,self.G[node1][node2][\"label\"],node2]\n",
    "                            except:\n",
    "                                print(node1, node2,line,line[i],line[i+1])\n",
    "                        else:\n",
    "                            try:\n",
    "                                new_line+=[self.G[node1][node2][\"label\"],node2]\n",
    "                            except:\n",
    "                                print(node1, node2,line,line[i],line[i+1])\n",
    "                else:\n",
    "                    new_line=[]\n",
    "\n",
    "                if new_line:\n",
    "                    items.append(new_line)\n",
    "            paths_shortest.append(items)\n",
    "        \n",
    "        # filter by label\n",
    "\n",
    "        # build relation id to relation label dictionary\n",
    "        relation_label=dict()\n",
    "        for node1, node2 in self.G.edges:\n",
    "            edge_detail=self.G[node1][node2]\n",
    "            rel_id=edge_detail['id_']\n",
    "\n",
    "            if rel_id in id_reuqire:\n",
    "                temp=relation_label.get(rel_id,dict())\n",
    "\n",
    "                label=edge_detail[\"label\"]\n",
    "                temp[label]=temp.get(label,0)+1\n",
    "                relation_label[rel_id]=temp\n",
    "\n",
    "        # choose the top 20 frequency relation and each relation label should also take 5%\n",
    "        # check total number of triples for different relation id\n",
    "        num_rel_id=dict()\n",
    "        for rel_id in relation_label:\n",
    "            num_rel_id[rel_id]=sum(relation_label[rel_id].values())\n",
    "        \n",
    "        relation_label_sort=dict()\n",
    "        for rel_id in relation_label:\n",
    "            label_num=relation_label[rel_id]\n",
    "            sort_label = sorted(label_num.items(),key=lambda k:k[1], reverse=True)\n",
    "\n",
    "            for label, num in sort_label[:20]:\n",
    "                if num >= num_rel_id[rel_id]*0.01:\n",
    "                    temp=relation_label_sort.get(rel_id, dict())\n",
    "                    temp[label]=num\n",
    "                    relation_label_sort[rel_id]=temp\n",
    "        \n",
    "        allowed_label=[]\n",
    "        for key_ in relation_label_sort:\n",
    "            allowed_label += list(relation_label_sort[key_])\n",
    "\n",
    "        filtered_paths_length=[]\n",
    "        for path_combine in paths_length:\n",
    "            temp=[]\n",
    "            for path in path_combine:\n",
    "                length = len(path)\n",
    "                relation_num = length//2\n",
    "\n",
    "                count = 1\n",
    "                pos= count*2-1\n",
    "                status = True\n",
    "                while pos < length:\n",
    "                    rel_label= path[pos]\n",
    "\n",
    "                    if rel_label not in allowed_label:\n",
    "                        status = False\n",
    "                        break\n",
    "\n",
    "                    count+=1\n",
    "                    pos= count*2-1\n",
    "\n",
    "                if status:\n",
    "                    temp.append(path)\n",
    "\n",
    "            filtered_paths_length.append(temp)\n",
    "        \n",
    "        filtered_paths_shortest=[]\n",
    "        for path_combine in paths_shortest:\n",
    "            temp=[]\n",
    "            for path in path_combine:\n",
    "                length = len(path)\n",
    "                relation_num = length//2\n",
    "\n",
    "                count = 1\n",
    "                pos= count*2-1\n",
    "                status = True\n",
    "                while pos < length:\n",
    "                    rel_label= path[pos]\n",
    "\n",
    "                    if rel_label not in allowed_label:\n",
    "                        status = False\n",
    "                        break\n",
    "\n",
    "                    count+=1\n",
    "                    pos= count*2-1\n",
    "\n",
    "                if status:\n",
    "                    temp.append(path)\n",
    "\n",
    "            filtered_paths_shortest.append(temp)\n",
    "            \n",
    "        self.df[\"triples_len2\"]=filtered_paths_length\n",
    "        self.df[\"shortest_path\"]=filtered_paths_shortest\n",
    "        return self.df"
   ]
  },
  {
   "cell_type": "code",
   "execution_count": 4,
   "metadata": {},
   "outputs": [
    {
     "data": {
      "text/plain": [
       "['/c/en/0-/r/DefinedAs-/c/en/empty_set-0000',\n",
       " '/c/en/0',\n",
       " '/r/DefinedAs',\n",
       " '/c/en/empty_set',\n",
       " '0',\n",
       " 'empty set',\n",
       " 'defined as',\n",
       " 'similarity',\n",
       " 'CN',\n",
       " '[[0]] is the [[empty set]].']"
      ]
     },
     "execution_count": 4,
     "metadata": {},
     "output_type": "execute_result"
    }
   ],
   "source": [
    "# load cskg_dim\n",
    "cskg_dim_head,cskg_dim_lines=load_source(cskg_dim_folder)\n",
    "cskg_dim_lines[0]"
   ]
  },
  {
   "cell_type": "markdown",
   "metadata": {},
   "source": [
    "# load train dataset"
   ]
  },
  {
   "cell_type": "code",
   "execution_count": 5,
   "metadata": {},
   "outputs": [],
   "source": [
    "# load original data\n",
    "QA=QAsystem(train_file)"
   ]
  },
  {
   "cell_type": "code",
   "execution_count": 6,
   "metadata": {},
   "outputs": [],
   "source": [
    "QA.build_graph_cskg(cskg_dim_lines)"
   ]
  },
  {
   "cell_type": "code",
   "execution_count": 7,
   "metadata": {},
   "outputs": [
    {
     "name": "stderr",
     "output_type": "stream",
     "text": [
      "100%|██████████| 471/471 [00:05<00:00, 89.44it/s] \n"
     ]
    },
    {
     "data": {
      "text/html": [
       "<div>\n",
       "<style scoped>\n",
       "    .dataframe tbody tr th:only-of-type {\n",
       "        vertical-align: middle;\n",
       "    }\n",
       "\n",
       "    .dataframe tbody tr th {\n",
       "        vertical-align: top;\n",
       "    }\n",
       "\n",
       "    .dataframe thead th {\n",
       "        text-align: right;\n",
       "    }\n",
       "</style>\n",
       "<table border=\"1\" class=\"dataframe\">\n",
       "  <thead>\n",
       "    <tr style=\"text-align: right;\">\n",
       "      <th></th>\n",
       "      <th>question</th>\n",
       "      <th>answer</th>\n",
       "      <th>qtype</th>\n",
       "      <th>objects</th>\n",
       "      <th>triples_len2</th>\n",
       "      <th>shortest_path</th>\n",
       "    </tr>\n",
       "  </thead>\n",
       "  <tbody>\n",
       "    <tr>\n",
       "      <th>0</th>\n",
       "      <td>what color is the cabinet in the kitchen?</td>\n",
       "      <td>black</td>\n",
       "      <td>color_room</td>\n",
       "      <td>[cabinet, kitchen]</td>\n",
       "      <td>[[cabinet, on top of, counter, by, kitchen], [...</td>\n",
       "      <td>[[cabinet, in, kitchen], [cabinet, above, cat,...</td>\n",
       "    </tr>\n",
       "    <tr>\n",
       "      <th>1</th>\n",
       "      <td>what color is the picture in the office?</td>\n",
       "      <td>brown</td>\n",
       "      <td>color_room</td>\n",
       "      <td>[picture, office]</td>\n",
       "      <td>[[picture, above, train, has, office], [pictur...</td>\n",
       "      <td>[[picture, above, train, has, office], [pictur...</td>\n",
       "    </tr>\n",
       "    <tr>\n",
       "      <th>2</th>\n",
       "      <td>what color is the sofa in the family room?</td>\n",
       "      <td>off-white</td>\n",
       "      <td>color_room</td>\n",
       "      <td>[sofa, family_room]</td>\n",
       "      <td>[]</td>\n",
       "      <td>[[sofa, next to, basket, behind, cat, at locat...</td>\n",
       "    </tr>\n",
       "    <tr>\n",
       "      <th>3</th>\n",
       "      <td>what color is the curtain in the hallway?</td>\n",
       "      <td>off-white</td>\n",
       "      <td>color_room</td>\n",
       "      <td>[curtain, hallway]</td>\n",
       "      <td>[[curtain, has, edge, of, hallway], [curtain, ...</td>\n",
       "      <td>[[curtain, has, edge, of, hallway], [curtain, ...</td>\n",
       "    </tr>\n",
       "    <tr>\n",
       "      <th>4</th>\n",
       "      <td>what color is the door in the closet?</td>\n",
       "      <td>white</td>\n",
       "      <td>color_room</td>\n",
       "      <td>[door, closet]</td>\n",
       "      <td>[[door, has a, handle, of, closet], [door, in,...</td>\n",
       "      <td>[[door, in, back, of, closet], [door, behind, ...</td>\n",
       "    </tr>\n",
       "    <tr>\n",
       "      <th>...</th>\n",
       "      <td>...</td>\n",
       "      <td>...</td>\n",
       "      <td>...</td>\n",
       "      <td>...</td>\n",
       "      <td>...</td>\n",
       "      <td>...</td>\n",
       "    </tr>\n",
       "    <tr>\n",
       "      <th>11268</th>\n",
       "      <td>what color is the table in the bedroom?</td>\n",
       "      <td>tan</td>\n",
       "      <td>color_room</td>\n",
       "      <td>[table, bedroom]</td>\n",
       "      <td>[[table, in, floor, in, bedroom], [table, in, ...</td>\n",
       "      <td>[[table, in, bedroom], [table, behind, baby, i...</td>\n",
       "    </tr>\n",
       "    <tr>\n",
       "      <th>11369</th>\n",
       "      <td>what color is the stool in the lounge?</td>\n",
       "      <td>tan</td>\n",
       "      <td>color_room</td>\n",
       "      <td>[stool, lounge]</td>\n",
       "      <td>[]</td>\n",
       "      <td>[]</td>\n",
       "    </tr>\n",
       "    <tr>\n",
       "      <th>11370</th>\n",
       "      <td>what color is the stool?</td>\n",
       "      <td>tan</td>\n",
       "      <td>color</td>\n",
       "      <td>[stool, lounge]</td>\n",
       "      <td>[]</td>\n",
       "      <td>[]</td>\n",
       "    </tr>\n",
       "    <tr>\n",
       "      <th>11398</th>\n",
       "      <td>what room is the stool located in?</td>\n",
       "      <td>lounge</td>\n",
       "      <td>location</td>\n",
       "      <td>[stool, lounge]</td>\n",
       "      <td>[]</td>\n",
       "      <td>[]</td>\n",
       "    </tr>\n",
       "    <tr>\n",
       "      <th>11430</th>\n",
       "      <td>what color is the chair in the hallway?</td>\n",
       "      <td>blue</td>\n",
       "      <td>color_room</td>\n",
       "      <td>[chair, hallway]</td>\n",
       "      <td>[[chair, at location, corner, of, hallway], [c...</td>\n",
       "      <td>[[chair, by, cabinet, in, hallway], [chair, wi...</td>\n",
       "    </tr>\n",
       "  </tbody>\n",
       "</table>\n",
       "<p>471 rows × 6 columns</p>\n",
       "</div>"
      ],
      "text/plain": [
       "                                         question     answer       qtype  \\\n",
       "0       what color is the cabinet in the kitchen?      black  color_room   \n",
       "1        what color is the picture in the office?      brown  color_room   \n",
       "2      what color is the sofa in the family room?  off-white  color_room   \n",
       "3       what color is the curtain in the hallway?  off-white  color_room   \n",
       "4           what color is the door in the closet?      white  color_room   \n",
       "...                                           ...        ...         ...   \n",
       "11268     what color is the table in the bedroom?        tan  color_room   \n",
       "11369      what color is the stool in the lounge?        tan  color_room   \n",
       "11370                    what color is the stool?        tan       color   \n",
       "11398          what room is the stool located in?     lounge    location   \n",
       "11430     what color is the chair in the hallway?       blue  color_room   \n",
       "\n",
       "                   objects                                       triples_len2  \\\n",
       "0       [cabinet, kitchen]  [[cabinet, on top of, counter, by, kitchen], [...   \n",
       "1        [picture, office]  [[picture, above, train, has, office], [pictur...   \n",
       "2      [sofa, family_room]                                                 []   \n",
       "3       [curtain, hallway]  [[curtain, has, edge, of, hallway], [curtain, ...   \n",
       "4           [door, closet]  [[door, has a, handle, of, closet], [door, in,...   \n",
       "...                    ...                                                ...   \n",
       "11268     [table, bedroom]  [[table, in, floor, in, bedroom], [table, in, ...   \n",
       "11369      [stool, lounge]                                                 []   \n",
       "11370      [stool, lounge]                                                 []   \n",
       "11398      [stool, lounge]                                                 []   \n",
       "11430     [chair, hallway]  [[chair, at location, corner, of, hallway], [c...   \n",
       "\n",
       "                                           shortest_path  \n",
       "0      [[cabinet, in, kitchen], [cabinet, above, cat,...  \n",
       "1      [[picture, above, train, has, office], [pictur...  \n",
       "2      [[sofa, next to, basket, behind, cat, at locat...  \n",
       "3      [[curtain, has, edge, of, hallway], [curtain, ...  \n",
       "4      [[door, in, back, of, closet], [door, behind, ...  \n",
       "...                                                  ...  \n",
       "11268  [[table, in, bedroom], [table, behind, baby, i...  \n",
       "11369                                                 []  \n",
       "11370                                                 []  \n",
       "11398                                                 []  \n",
       "11430  [[chair, by, cabinet, in, hallway], [chair, wi...  \n",
       "\n",
       "[471 rows x 6 columns]"
      ]
     },
     "execution_count": 7,
     "metadata": {},
     "output_type": "execute_result"
    }
   ],
   "source": [
    "QA.add_cskg2QA()"
   ]
  },
  {
   "cell_type": "code",
   "execution_count": 8,
   "metadata": {},
   "outputs": [],
   "source": [
    "QA.save_file(train_file)"
   ]
  },
  {
   "cell_type": "code",
   "execution_count": 10,
   "metadata": {},
   "outputs": [
    {
     "data": {
      "text/plain": [
       "Text(0, 0.5, 'Number of Question')"
      ]
     },
     "execution_count": 10,
     "metadata": {},
     "output_type": "execute_result"
    },
    {
     "data": {
      "image/png": "[encoded data removed]",
      "text/plain": [
       "<Figure size 432x288 with 1 Axes>"
      ]
     },
     "metadata": {
      "needs_background": "light"
     },
     "output_type": "display_data"
    }
   ],
   "source": [
    "a=plt.hist([len(_) for _ in QA.df[\"triples_len2\"]],log=True)\n",
    "plt.title('Distribution for the number of paths for each question (Length 2 Path)')\n",
    "plt.xlabel('Number of paths for each question')\n",
    "plt.ylabel('Number of Question')"
   ]
  },
  {
   "cell_type": "code",
   "execution_count": 11,
   "metadata": {},
   "outputs": [
    {
     "data": {
      "text/plain": [
       "Text(0, 0.5, 'Number of Question')"
      ]
     },
     "execution_count": 11,
     "metadata": {},
     "output_type": "execute_result"
    },
    {
     "data": {
      "image/png": "[encoded data removed]",
      "text/plain": [
       "<Figure size 432x288 with 1 Axes>"
      ]
     },
     "metadata": {
      "needs_background": "light"
     },
     "output_type": "display_data"
    }
   ],
   "source": [
    "a=plt.hist([len(_) for _ in QA.df[\"shortest_path\"]],log=True)\n",
    "plt.title('Distribution for the number of paths for each question (20 shortest paths)')\n",
    "plt.xlabel('Number of paths for each question')\n",
    "plt.ylabel('Number of Question')"
   ]
  },
  {
   "cell_type": "code",
   "execution_count": 12,
   "metadata": {},
   "outputs": [
    {
     "name": "stdout",
     "output_type": "stream",
     "text": [
      "length 2 path: 168\n",
      "shortest path: 77\n"
     ]
    }
   ],
   "source": [
    "# count missing answer\n",
    "print(\"length 2 path:\",sum([len(_)==0 for _ in QA.df[\"triples_len2\"]]))\n",
    "print(\"shortest path:\",sum([len(_)==0 for _ in QA.df[\"shortest_path\"]]))"
   ]
  },
  {
   "cell_type": "markdown",
   "metadata": {},
   "source": [
    "# Discard Room in Z position"
   ]
  },
  {
   "cell_type": "code",
   "execution_count": 13,
   "metadata": {},
   "outputs": [],
   "source": [
    "# check the room name in EQA\n",
    "\n",
    "rooms=set()\n",
    "for object_, room in QA.df.objects:\n",
    "    rooms.add(room)"
   ]
  },
  {
   "cell_type": "code",
   "execution_count": 14,
   "metadata": {},
   "outputs": [],
   "source": [
    "# romove room Z, has\n",
    "triples_len2_new=[]\n",
    "shortest_path_new=[]\n",
    "\n",
    "for triples1, triples2 in zip(QA.df.triples_len2, QA.df.shortest_path):\n",
    "    new_triples1=[]\n",
    "    new_triples2=[]\n",
    "    \n",
    "    for triple in triples1:\n",
    "        if triple[2] in rooms or \"room\" in triple[2]:\n",
    "            # romve room in Z position\n",
    "            continue\n",
    "            \n",
    "        elif \"has\" in triple[1] or \"has\" in triple[3]:\n",
    "            # romve \"has\" in relation\n",
    "            continue\n",
    "            \n",
    "        else:\n",
    "            new_triples1.append(triple)\n",
    "            \n",
    "    for triple in triples2:\n",
    "        if triple[2] in rooms or \"room\" in triple[2]:\n",
    "            continue\n",
    "        else:\n",
    "            new_triples2.append(triple)\n",
    "            \n",
    "    triples_len2_new.append(new_triples1)\n",
    "    shortest_path_new.append(new_triples2)\n",
    "    \n",
    "QA.df[\"triples_len2\"]=triples_len2_new\n",
    "QA.df[\"shortest_path\"]=shortest_path_new"
   ]
  },
  {
   "cell_type": "markdown",
   "metadata": {},
   "source": [
    "# Build Wordnet Ontology"
   ]
  },
  {
   "cell_type": "code",
   "execution_count": 15,
   "metadata": {},
   "outputs": [
    {
     "data": {
      "text/plain": [
       "['wn:physical_entity.n.01',\n",
       " '/r/IsA',\n",
       " 'wn:entity.n.01',\n",
       " '\"physical entity\"',\n",
       " '\"entity\"',\n",
       " '\"is a\"',\n",
       " '',\n",
       " '\"WN\"']"
      ]
     },
     "execution_count": 15,
     "metadata": {},
     "output_type": "execute_result"
    }
   ],
   "source": [
    "# build wordnet ontology\n",
    "# load wordnet\n",
    "wordnet_head,wordnet_lines=load_source(wordnet_file)\n",
    "wordnet_lines[0]"
   ]
  },
  {
   "cell_type": "code",
   "execution_count": 16,
   "metadata": {},
   "outputs": [],
   "source": [
    "# build graph\n",
    "wordnet_g=nx.DiGraph()"
   ]
  },
  {
   "cell_type": "code",
   "execution_count": 17,
   "metadata": {},
   "outputs": [],
   "source": [
    "id2label=defaultdict(set)\n",
    "\n",
    "for line in wordnet_lines:\n",
    "    if line[1]== \"/r/IsA\":\n",
    "        node1=line[0].split(\":\")[1]\n",
    "        node2=line[2].split(\":\")[1]\n",
    "        node1_labels=line[3].replace('\"',\"\").split(\"|\")\n",
    "        node2_labels=line[4].replace('\"',\"\").split(\"|\")\n",
    "        id2label[node1]=id2label[node1].union(node1_labels)\n",
    "        id2label[node2]=id2label[node2].union(node2_labels)\n",
    "        \n",
    "        if \".v.\" in node1 or \".v.\" in node1:\n",
    "            continue\n",
    "        wordnet_g.add_edge(node1,node2)\n",
    "    else:\n",
    "        continue"
   ]
  },
  {
   "cell_type": "code",
   "execution_count": 18,
   "metadata": {},
   "outputs": [],
   "source": [
    "# check the top level node\n",
    "start_node=set()\n",
    "\n",
    "for node in wordnet_g.nodes:\n",
    "    if wordnet_g.out_degree(node)==0:\n",
    "        start_node.add(node)"
   ]
  },
  {
   "cell_type": "code",
   "execution_count": 19,
   "metadata": {},
   "outputs": [
    {
     "data": {
      "text/plain": [
       "{'channel_island.n.01',\n",
       " 'entity.n.01',\n",
       " 'fury.n.04',\n",
       " 'godhead.n.01',\n",
       " 'magellanic_cloud.n.01',\n",
       " 'mediterranean.n.01',\n",
       " 'protagonist.n.02',\n",
       " 'south.n.01',\n",
       " 'spain.n.01',\n",
       " 'titan.n.02',\n",
       " 'united_kingdom.n.01',\n",
       " 'west_indies.n.01'}"
      ]
     },
     "execution_count": 19,
     "metadata": {},
     "output_type": "execute_result"
    }
   ],
   "source": [
    "start_node"
   ]
  },
  {
   "cell_type": "code",
   "execution_count": 20,
   "metadata": {},
   "outputs": [],
   "source": [
    "black_list={\"room.n.02\",'room.n.01',\"food.n.01\",'animal.n.01','person.n.01'}\n",
    "new_black_list=set()\n",
    "# check all sub class of blacklist\n",
    "\n",
    "for item in black_list:\n",
    "    temp=[item]\n",
    "    while temp:\n",
    "        new_temp=[]\n",
    "        for issue in temp:\n",
    "            new_temp+=[edge[0] for edge in wordnet_g.in_edges(issue)]\n",
    "            \n",
    "        new_temp_set=set(new_temp)\n",
    "        new_black_list=new_black_list.union(new_temp_set)\n",
    "        temp=new_temp_set\n",
    "    "
   ]
  },
  {
   "cell_type": "code",
   "execution_count": 21,
   "metadata": {},
   "outputs": [],
   "source": [
    "# check the blacklist label\n",
    "blacklist_label=set()\n",
    "\n",
    "for id_ in new_black_list:\n",
    "    blacklist_label=blacklist_label.union(id2label[id_])"
   ]
  },
  {
   "cell_type": "code",
   "execution_count": 23,
   "metadata": {},
   "outputs": [],
   "source": [
    "# filter by blacklist_label:\n",
    "triples_len2_new=[]\n",
    "shortest_path_new=[]\n",
    "count=0\n",
    "\n",
    "for triples1, triples2 in zip(QA.df.triples_len2, QA.df.shortest_path):\n",
    "    new_triples1=[]\n",
    "    new_triples2=[]\n",
    "    \n",
    "    for triple in triples1:\n",
    "        if triple[2] in blacklist_label:\n",
    "            count +=1\n",
    "            continue\n",
    "            \n",
    "        else:\n",
    "            new_triples1.append(triple)\n",
    "            \n",
    "    for triple in triples2:\n",
    "        if triple[2] in blacklist_label:\n",
    "            count +=1\n",
    "            continue\n",
    "        else:\n",
    "            new_triples2.append(triple)\n",
    "            \n",
    "    triples_len2_new.append(new_triples1)\n",
    "    shortest_path_new.append(new_triples2)"
   ]
  },
  {
   "cell_type": "code",
   "execution_count": 24,
   "metadata": {},
   "outputs": [
    {
     "data": {
      "text/plain": [
       "True"
      ]
     },
     "execution_count": 24,
     "metadata": {},
     "output_type": "execute_result"
    }
   ],
   "source": [
    "\"girl\" in blacklist_label"
   ]
  },
  {
   "cell_type": "code",
   "execution_count": 25,
   "metadata": {},
   "outputs": [
    {
     "data": {
      "text/html": [
       "<div>\n",
       "<style scoped>\n",
       "    .dataframe tbody tr th:only-of-type {\n",
       "        vertical-align: middle;\n",
       "    }\n",
       "\n",
       "    .dataframe tbody tr th {\n",
       "        vertical-align: top;\n",
       "    }\n",
       "\n",
       "    .dataframe thead th {\n",
       "        text-align: right;\n",
       "    }\n",
       "</style>\n",
       "<table border=\"1\" class=\"dataframe\">\n",
       "  <thead>\n",
       "    <tr style=\"text-align: right;\">\n",
       "      <th></th>\n",
       "      <th>question</th>\n",
       "      <th>answer</th>\n",
       "      <th>qtype</th>\n",
       "      <th>objects</th>\n",
       "      <th>triples_len2</th>\n",
       "      <th>shortest_path</th>\n",
       "    </tr>\n",
       "  </thead>\n",
       "  <tbody>\n",
       "    <tr>\n",
       "      <th>0</th>\n",
       "      <td>what color is the cabinet in the kitchen?</td>\n",
       "      <td>black</td>\n",
       "      <td>color_room</td>\n",
       "      <td>[cabinet, kitchen]</td>\n",
       "      <td>[[cabinet, for, food, in, kitchen], [cabinet, ...</td>\n",
       "      <td>[[cabinet, with, coffee_maker, in, kitchen]]</td>\n",
       "    </tr>\n",
       "    <tr>\n",
       "      <th>1</th>\n",
       "      <td>what color is the picture in the office?</td>\n",
       "      <td>brown</td>\n",
       "      <td>color_room</td>\n",
       "      <td>[picture, office]</td>\n",
       "      <td>[[picture, in, notebook, at location, office]]</td>\n",
       "      <td>[[picture, above, train, has, office], [pictur...</td>\n",
       "    </tr>\n",
       "    <tr>\n",
       "      <th>2</th>\n",
       "      <td>what color is the sofa in the family room?</td>\n",
       "      <td>off-white</td>\n",
       "      <td>color_room</td>\n",
       "      <td>[sofa, family_room]</td>\n",
       "      <td>[]</td>\n",
       "      <td>[[sofa, next to, basket, behind, cat, at locat...</td>\n",
       "    </tr>\n",
       "    <tr>\n",
       "      <th>3</th>\n",
       "      <td>what color is the curtain in the hallway?</td>\n",
       "      <td>off-white</td>\n",
       "      <td>color_room</td>\n",
       "      <td>[curtain, hallway]</td>\n",
       "      <td>[[curtain, in, mirror, in, hallway], [curtain,...</td>\n",
       "      <td>[[curtain, has, edge, of, hallway], [curtain, ...</td>\n",
       "    </tr>\n",
       "    <tr>\n",
       "      <th>4</th>\n",
       "      <td>what color is the door in the closet?</td>\n",
       "      <td>white</td>\n",
       "      <td>color_room</td>\n",
       "      <td>[door, closet]</td>\n",
       "      <td>[[door, behind, bar, in, closet], [door, on, b...</td>\n",
       "      <td>[[door, behind, bar, in, closet], [door, on, b...</td>\n",
       "    </tr>\n",
       "    <tr>\n",
       "      <th>...</th>\n",
       "      <td>...</td>\n",
       "      <td>...</td>\n",
       "      <td>...</td>\n",
       "      <td>...</td>\n",
       "      <td>...</td>\n",
       "      <td>...</td>\n",
       "    </tr>\n",
       "    <tr>\n",
       "      <th>11268</th>\n",
       "      <td>what color is the table in the bedroom?</td>\n",
       "      <td>tan</td>\n",
       "      <td>color_room</td>\n",
       "      <td>[table, bedroom]</td>\n",
       "      <td>[[table, at location, corner, in, bedroom], [t...</td>\n",
       "      <td>[[table, near, bookshelf, at location, bedroom...</td>\n",
       "    </tr>\n",
       "    <tr>\n",
       "      <th>11369</th>\n",
       "      <td>what color is the stool in the lounge?</td>\n",
       "      <td>tan</td>\n",
       "      <td>color_room</td>\n",
       "      <td>[stool, lounge]</td>\n",
       "      <td>[]</td>\n",
       "      <td>[]</td>\n",
       "    </tr>\n",
       "    <tr>\n",
       "      <th>11370</th>\n",
       "      <td>what color is the stool?</td>\n",
       "      <td>tan</td>\n",
       "      <td>color</td>\n",
       "      <td>[stool, lounge]</td>\n",
       "      <td>[]</td>\n",
       "      <td>[]</td>\n",
       "    </tr>\n",
       "    <tr>\n",
       "      <th>11398</th>\n",
       "      <td>what room is the stool located in?</td>\n",
       "      <td>lounge</td>\n",
       "      <td>location</td>\n",
       "      <td>[stool, lounge]</td>\n",
       "      <td>[]</td>\n",
       "      <td>[]</td>\n",
       "    </tr>\n",
       "    <tr>\n",
       "      <th>11430</th>\n",
       "      <td>what color is the chair in the hallway?</td>\n",
       "      <td>blue</td>\n",
       "      <td>color_room</td>\n",
       "      <td>[chair, hallway]</td>\n",
       "      <td>[[chair, at location, corner, of, hallway], [c...</td>\n",
       "      <td>[[chair, at location, corner, of, hallway], [c...</td>\n",
       "    </tr>\n",
       "  </tbody>\n",
       "</table>\n",
       "<p>471 rows × 6 columns</p>\n",
       "</div>"
      ],
      "text/plain": [
       "                                         question     answer       qtype  \\\n",
       "0       what color is the cabinet in the kitchen?      black  color_room   \n",
       "1        what color is the picture in the office?      brown  color_room   \n",
       "2      what color is the sofa in the family room?  off-white  color_room   \n",
       "3       what color is the curtain in the hallway?  off-white  color_room   \n",
       "4           what color is the door in the closet?      white  color_room   \n",
       "...                                           ...        ...         ...   \n",
       "11268     what color is the table in the bedroom?        tan  color_room   \n",
       "11369      what color is the stool in the lounge?        tan  color_room   \n",
       "11370                    what color is the stool?        tan       color   \n",
       "11398          what room is the stool located in?     lounge    location   \n",
       "11430     what color is the chair in the hallway?       blue  color_room   \n",
       "\n",
       "                   objects                                       triples_len2  \\\n",
       "0       [cabinet, kitchen]  [[cabinet, for, food, in, kitchen], [cabinet, ...   \n",
       "1        [picture, office]     [[picture, in, notebook, at location, office]]   \n",
       "2      [sofa, family_room]                                                 []   \n",
       "3       [curtain, hallway]  [[curtain, in, mirror, in, hallway], [curtain,...   \n",
       "4           [door, closet]  [[door, behind, bar, in, closet], [door, on, b...   \n",
       "...                    ...                                                ...   \n",
       "11268     [table, bedroom]  [[table, at location, corner, in, bedroom], [t...   \n",
       "11369      [stool, lounge]                                                 []   \n",
       "11370      [stool, lounge]                                                 []   \n",
       "11398      [stool, lounge]                                                 []   \n",
       "11430     [chair, hallway]  [[chair, at location, corner, of, hallway], [c...   \n",
       "\n",
       "                                           shortest_path  \n",
       "0           [[cabinet, with, coffee_maker, in, kitchen]]  \n",
       "1      [[picture, above, train, has, office], [pictur...  \n",
       "2      [[sofa, next to, basket, behind, cat, at locat...  \n",
       "3      [[curtain, has, edge, of, hallway], [curtain, ...  \n",
       "4      [[door, behind, bar, in, closet], [door, on, b...  \n",
       "...                                                  ...  \n",
       "11268  [[table, near, bookshelf, at location, bedroom...  \n",
       "11369                                                 []  \n",
       "11370                                                 []  \n",
       "11398                                                 []  \n",
       "11430  [[chair, at location, corner, of, hallway], [c...  \n",
       "\n",
       "[471 rows x 6 columns]"
      ]
     },
     "execution_count": 25,
     "metadata": {},
     "output_type": "execute_result"
    }
   ],
   "source": [
    "QA.df[\"triples_len2\"]=triples_len2_new\n",
    "QA.df[\"shortest_path\"]=shortest_path_new\n",
    "QA.df"
   ]
  },
  {
   "cell_type": "code",
   "execution_count": 26,
   "metadata": {},
   "outputs": [
    {
     "data": {
      "text/plain": [
       "[['cabinet', 'for', 'food', 'in', 'kitchen'],\n",
       " ['cabinet', 'with', 'coffee_maker', 'in', 'kitchen'],\n",
       " ['cabinet', 'above', 'fridge', 'at location', 'kitchen'],\n",
       " ['cabinet', 'above', 'microwave_oven', 'at location', 'kitchen'],\n",
       " ['cabinet', 'near', 'paper_towels', 'in', 'kitchen'],\n",
       " ['cabinet', 'above', 'trash', 'at location', 'kitchen'],\n",
       " ['cabinet', 'behind', 'desk', 'in', 'kitchen']]"
      ]
     },
     "execution_count": 26,
     "metadata": {},
     "output_type": "execute_result"
    }
   ],
   "source": [
    "triples_len2_new[0]"
   ]
  },
  {
   "cell_type": "code",
   "execution_count": 27,
   "metadata": {},
   "outputs": [
    {
     "name": "stdout",
     "output_type": "stream",
     "text": [
      "length 2 path: 208\n",
      "shortest path: 121\n"
     ]
    }
   ],
   "source": [
    "# count missing answer\n",
    "print(\"length 2 path:\",sum([len(_)==0 for _ in QA.df[\"triples_len2\"]]))\n",
    "print(\"shortest path:\",sum([len(_)==0 for _ in QA.df[\"shortest_path\"]]))"
   ]
  },
  {
   "cell_type": "markdown",
   "metadata": {},
   "source": [
    "# combine original question"
   ]
  },
  {
   "cell_type": "code",
   "execution_count": 28,
   "metadata": {},
   "outputs": [],
   "source": [
    "def score(tokens_tensor):\n",
    "    loss=model(tokens_tensor, labels=tokens_tensor)[0]\n",
    "    return np.exp(loss.cpu().detach().numpy())"
   ]
  },
  {
   "cell_type": "code",
   "execution_count": 29,
   "metadata": {},
   "outputs": [],
   "source": [
    "model = GPT2LMHeadModel.from_pretrained('gpt2')\n",
    "tokenizer = GPT2Tokenizer.from_pretrained('gpt2')"
   ]
  },
  {
   "cell_type": "code",
   "execution_count": 30,
   "metadata": {},
   "outputs": [
    {
     "name": "stdout",
     "output_type": "stream",
     "text": [
      "5.357414448669202 4.1571428571428575\n"
     ]
    }
   ],
   "source": [
    "# check the average answer\n",
    "count1=0\n",
    "count2=0\n",
    "sum_1=[]\n",
    "sum_2=[]\n",
    "for triples1, triples2 in zip(QA.df.triples_len2, QA.df.shortest_path):\n",
    "    if len(triples1)>0:\n",
    "        count1+=1\n",
    "        \n",
    "    if len(triples2)>0:\n",
    "        count2+=1\n",
    "    sum_1.append(len(triples1))\n",
    "    sum_2.append(len(triples2))\n",
    "    \n",
    "print(sum(sum_1)/count1,sum(sum_2)/count2)"
   ]
  },
  {
   "cell_type": "code",
   "execution_count": 31,
   "metadata": {},
   "outputs": [],
   "source": [
    "# build new sentence\n",
    "num_choice=5\n",
    "new_sentence=[]\n",
    "\n",
    "for row in QA.df.iterrows():\n",
    "    line=row[1]\n",
    "    question_text=line.question\n",
    "    object_=line.objects[0].replace(\"_\",\" \").replace(\"#\",\" \")\n",
    "    \n",
    "    question_templet=question_text.split(object_)[0]+object_+\", which can be\"\n",
    "    question_templet2=question_text.split(object_)[1]\n",
    "    \n",
    "    more_item=\"\"\n",
    "    \n",
    "    if not line.triples_len2:\n",
    "        #new_sentence.append(\"\")\n",
    "        continue\n",
    "    \n",
    "    if len(line.triples_len2)>num_choice:\n",
    "        triples=random.sample(line.triples_len2,num_choice)\n",
    "    else:\n",
    "        triples=line.triples_len2\n",
    "    \n",
    "    for triple in triples:\n",
    "        relation=triple[1]\n",
    "        item= triple[2]\n",
    "        if not more_item:\n",
    "            more_item+=relation + \" a \"+ item\n",
    "        else:\n",
    "            more_item += \" or \"+ relation+\" a \"+item\n",
    "            \n",
    "    sent=question_templet+\" \"+more_item+\",\"+question_templet2\n",
    "    sent.replace(\"_\",\" \").replace(\"?\",\" \")\n",
    "    if sent[-2]==\",\":\n",
    "        sent=sent[:-2]+\"?\"\n",
    "    new_sentence.append(sent)"
   ]
  },
  {
   "cell_type": "code",
   "execution_count": 32,
   "metadata": {},
   "outputs": [],
   "source": [
    "new_sentence_set= set(new_sentence)"
   ]
  },
  {
   "cell_type": "code",
   "execution_count": 33,
   "metadata": {},
   "outputs": [],
   "source": [
    "sentence_score=[]\n",
    "\n",
    "for sent in new_sentence_set:\n",
    "    tokens_tensor = tokenizer.encode(sent, add_special_tokens=False, return_tensors=\"pt\")\n",
    "    result_score=score(tokens_tensor)\n",
    "    sentence_score.append([sent,result_score])"
   ]
  },
  {
   "cell_type": "markdown",
   "metadata": {},
   "source": [
    "# load val dataset"
   ]
  },
  {
   "cell_type": "code",
   "execution_count": 34,
   "metadata": {},
   "outputs": [
    {
     "name": "stderr",
     "output_type": "stream",
     "text": [
      "100%|██████████| 114/114 [00:01<00:00, 85.24it/s]\n"
     ]
    },
    {
     "data": {
      "text/html": [
       "<div>\n",
       "<style scoped>\n",
       "    .dataframe tbody tr th:only-of-type {\n",
       "        vertical-align: middle;\n",
       "    }\n",
       "\n",
       "    .dataframe tbody tr th {\n",
       "        vertical-align: top;\n",
       "    }\n",
       "\n",
       "    .dataframe thead th {\n",
       "        text-align: right;\n",
       "    }\n",
       "</style>\n",
       "<table border=\"1\" class=\"dataframe\">\n",
       "  <thead>\n",
       "    <tr style=\"text-align: right;\">\n",
       "      <th></th>\n",
       "      <th>question</th>\n",
       "      <th>answer</th>\n",
       "      <th>qtype</th>\n",
       "      <th>objects</th>\n",
       "      <th>triples_len2</th>\n",
       "      <th>shortest_path</th>\n",
       "    </tr>\n",
       "  </thead>\n",
       "  <tbody>\n",
       "    <tr>\n",
       "      <th>0</th>\n",
       "      <td>what color is the picture in the closet?</td>\n",
       "      <td>brown</td>\n",
       "      <td>color_room</td>\n",
       "      <td>[picture, closet]</td>\n",
       "      <td>[[picture, on top of, bar, in, closet], [pictu...</td>\n",
       "      <td>[[picture, on top of, bar, in, closet], [pictu...</td>\n",
       "    </tr>\n",
       "    <tr>\n",
       "      <th>8</th>\n",
       "      <td>what color is the shelving in the hallway?</td>\n",
       "      <td>brown</td>\n",
       "      <td>color_room</td>\n",
       "      <td>[shelving, hallway]</td>\n",
       "      <td>[]</td>\n",
       "      <td>[]</td>\n",
       "    </tr>\n",
       "    <tr>\n",
       "      <th>13</th>\n",
       "      <td>what color is the door in the office?</td>\n",
       "      <td>white</td>\n",
       "      <td>color_room</td>\n",
       "      <td>[door, office]</td>\n",
       "      <td>[[door, above, building, has, office], [door, ...</td>\n",
       "      <td>[[door, by, office], [door, above, building, h...</td>\n",
       "    </tr>\n",
       "    <tr>\n",
       "      <th>22</th>\n",
       "      <td>what color is the door in the closet?</td>\n",
       "      <td>brown</td>\n",
       "      <td>color_room</td>\n",
       "      <td>[door, closet]</td>\n",
       "      <td>[[door, has a, handle, of, closet], [door, in,...</td>\n",
       "      <td>[[door, in, back, of, closet], [door, behind, ...</td>\n",
       "    </tr>\n",
       "    <tr>\n",
       "      <th>24</th>\n",
       "      <td>what color is the curtain in the bathroom?</td>\n",
       "      <td>off-white</td>\n",
       "      <td>color_room</td>\n",
       "      <td>[curtain, bathroom]</td>\n",
       "      <td>[[curtain, has a, house, has a, bathroom], [cu...</td>\n",
       "      <td>[[curtain, behind, clock, in, bathroom], [curt...</td>\n",
       "    </tr>\n",
       "    <tr>\n",
       "      <th>...</th>\n",
       "      <td>...</td>\n",
       "      <td>...</td>\n",
       "      <td>...</td>\n",
       "      <td>...</td>\n",
       "      <td>...</td>\n",
       "      <td>...</td>\n",
       "    </tr>\n",
       "    <tr>\n",
       "      <th>1805</th>\n",
       "      <td>what room is the wardrobe located in?</td>\n",
       "      <td>gym</td>\n",
       "      <td>location</td>\n",
       "      <td>[wardrobe, gym]</td>\n",
       "      <td>[]</td>\n",
       "      <td>[]</td>\n",
       "    </tr>\n",
       "    <tr>\n",
       "      <th>1826</th>\n",
       "      <td>what room is the tv stand located in?</td>\n",
       "      <td>family room</td>\n",
       "      <td>location</td>\n",
       "      <td>[tv#stand, family_room]</td>\n",
       "      <td>[]</td>\n",
       "      <td>[]</td>\n",
       "    </tr>\n",
       "    <tr>\n",
       "      <th>1852</th>\n",
       "      <td>what color is the cabinet in the bedroom?</td>\n",
       "      <td>brown</td>\n",
       "      <td>color_room</td>\n",
       "      <td>[cabinet, bedroom]</td>\n",
       "      <td>[[cabinet, above, television, in, bedroom], [c...</td>\n",
       "      <td>[[cabinet, in, bedroom], [cabinet, in, backgro...</td>\n",
       "    </tr>\n",
       "    <tr>\n",
       "      <th>1855</th>\n",
       "      <td>what color is the clothes dryer?</td>\n",
       "      <td>white</td>\n",
       "      <td>color</td>\n",
       "      <td>[clothes#dryer, laundry_room]</td>\n",
       "      <td>[]</td>\n",
       "      <td>[]</td>\n",
       "    </tr>\n",
       "    <tr>\n",
       "      <th>1913</th>\n",
       "      <td>what room is the bed located in?</td>\n",
       "      <td>bedroom</td>\n",
       "      <td>location</td>\n",
       "      <td>[bed, bedroom]</td>\n",
       "      <td>[[bed, above, couch, in, bedroom], [bed, on to...</td>\n",
       "      <td>[[bed, in, bedroom], [bed, under, baby, in, be...</td>\n",
       "    </tr>\n",
       "  </tbody>\n",
       "</table>\n",
       "<p>114 rows × 6 columns</p>\n",
       "</div>"
      ],
      "text/plain": [
       "                                        question       answer       qtype  \\\n",
       "0       what color is the picture in the closet?        brown  color_room   \n",
       "8     what color is the shelving in the hallway?        brown  color_room   \n",
       "13         what color is the door in the office?        white  color_room   \n",
       "22         what color is the door in the closet?        brown  color_room   \n",
       "24    what color is the curtain in the bathroom?    off-white  color_room   \n",
       "...                                          ...          ...         ...   \n",
       "1805       what room is the wardrobe located in?          gym    location   \n",
       "1826       what room is the tv stand located in?  family room    location   \n",
       "1852   what color is the cabinet in the bedroom?        brown  color_room   \n",
       "1855            what color is the clothes dryer?        white       color   \n",
       "1913            what room is the bed located in?      bedroom    location   \n",
       "\n",
       "                            objects  \\\n",
       "0                 [picture, closet]   \n",
       "8               [shelving, hallway]   \n",
       "13                   [door, office]   \n",
       "22                   [door, closet]   \n",
       "24              [curtain, bathroom]   \n",
       "...                             ...   \n",
       "1805                [wardrobe, gym]   \n",
       "1826        [tv#stand, family_room]   \n",
       "1852             [cabinet, bedroom]   \n",
       "1855  [clothes#dryer, laundry_room]   \n",
       "1913                 [bed, bedroom]   \n",
       "\n",
       "                                           triples_len2  \\\n",
       "0     [[picture, on top of, bar, in, closet], [pictu...   \n",
       "8                                                    []   \n",
       "13    [[door, above, building, has, office], [door, ...   \n",
       "22    [[door, has a, handle, of, closet], [door, in,...   \n",
       "24    [[curtain, has a, house, has a, bathroom], [cu...   \n",
       "...                                                 ...   \n",
       "1805                                                 []   \n",
       "1826                                                 []   \n",
       "1852  [[cabinet, above, television, in, bedroom], [c...   \n",
       "1855                                                 []   \n",
       "1913  [[bed, above, couch, in, bedroom], [bed, on to...   \n",
       "\n",
       "                                          shortest_path  \n",
       "0     [[picture, on top of, bar, in, closet], [pictu...  \n",
       "8                                                    []  \n",
       "13    [[door, by, office], [door, above, building, h...  \n",
       "22    [[door, in, back, of, closet], [door, behind, ...  \n",
       "24    [[curtain, behind, clock, in, bathroom], [curt...  \n",
       "...                                                 ...  \n",
       "1805                                                 []  \n",
       "1826                                                 []  \n",
       "1852  [[cabinet, in, bedroom], [cabinet, in, backgro...  \n",
       "1855                                                 []  \n",
       "1913  [[bed, in, bedroom], [bed, under, baby, in, be...  \n",
       "\n",
       "[114 rows x 6 columns]"
      ]
     },
     "execution_count": 34,
     "metadata": {},
     "output_type": "execute_result"
    }
   ],
   "source": [
    "QA=QAsystem(val_file)\n",
    "QA.build_graph_cskg(cskg_dim_lines)\n",
    "QA.add_cskg2QA()"
   ]
  },
  {
   "cell_type": "code",
   "execution_count": 35,
   "metadata": {},
   "outputs": [],
   "source": [
    "QA.save_file(val_file)\n",
    "\n",
    "# check the room name in EQA\n",
    "\n",
    "rooms=set()\n",
    "for object_, room in QA.df.objects:\n",
    "    rooms.add(room)\n",
    "    \n",
    "# romove room Z, has\n",
    "triples_len2_new=[]\n",
    "shortest_path_new=[]\n",
    "\n",
    "for triples1, triples2 in zip(QA.df.triples_len2, QA.df.shortest_path):\n",
    "    new_triples1=[]\n",
    "    new_triples2=[]\n",
    "    \n",
    "    for triple in triples1:\n",
    "        if triple[2] in rooms or \"room\" in triple[2]:\n",
    "            # romve room in Z position\n",
    "            continue\n",
    "            \n",
    "        elif \"has\" in triple[1] or \"has\" in triple[3]:\n",
    "            # romve \"has\" in relation\n",
    "            continue\n",
    "            \n",
    "        else:\n",
    "            new_triples1.append(triple)\n",
    "            \n",
    "    for triple in triples2:\n",
    "        if triple[2] in rooms or \"room\" in triple[2]:\n",
    "            continue\n",
    "        else:\n",
    "            new_triples2.append(triple)\n",
    "            \n",
    "    triples_len2_new.append(new_triples1)\n",
    "    shortest_path_new.append(new_triples2)\n",
    "    \n",
    "QA.df[\"triples_len2\"]=triples_len2_new\n",
    "QA.df[\"shortest_path\"]=shortest_path_new\n",
    "\n",
    "\n",
    "# filter by blacklist_label:\n",
    "triples_len2_new=[]\n",
    "shortest_path_new=[]\n",
    "count=0\n",
    "\n",
    "for triples1, triples2 in zip(QA.df.triples_len2, QA.df.shortest_path):\n",
    "    new_triples1=[]\n",
    "    new_triples2=[]\n",
    "    \n",
    "    for triple in triples1:\n",
    "        if triple[2] in blacklist_label:\n",
    "            count +=1\n",
    "            continue\n",
    "            \n",
    "        else:\n",
    "            new_triples1.append(triple)\n",
    "            \n",
    "    for triple in triples2:\n",
    "        if triple[2] in blacklist_label:\n",
    "            count +=1\n",
    "            continue\n",
    "        else:\n",
    "            new_triples2.append(triple)\n",
    "            \n",
    "    triples_len2_new.append(new_triples1)\n",
    "    shortest_path_new.append(new_triples2)"
   ]
  },
  {
   "cell_type": "code",
   "execution_count": 36,
   "metadata": {},
   "outputs": [
    {
     "name": "stdout",
     "output_type": "stream",
     "text": [
      "8.044776119402986 5.511627906976744\n"
     ]
    }
   ],
   "source": [
    "# check the average answer\n",
    "count1=0\n",
    "count2=0\n",
    "sum_1=[]\n",
    "sum_2=[]\n",
    "for triples1, triples2 in zip(QA.df.triples_len2, QA.df.shortest_path):\n",
    "    if len(triples1)>0:\n",
    "        count1+=1\n",
    "        \n",
    "    if len(triples2)>0:\n",
    "        count2+=1\n",
    "    sum_1.append(len(triples1))\n",
    "    sum_2.append(len(triples2))\n",
    "    \n",
    "print(sum(sum_1)/count1,sum(sum_2)/count2)"
   ]
  },
  {
   "cell_type": "code",
   "execution_count": 37,
   "metadata": {},
   "outputs": [],
   "source": [
    "# build new sentence\n",
    "num_choice=5\n",
    "new_sentence=[]\n",
    "\n",
    "\n",
    "for row in QA.df.iterrows():\n",
    "    line=row[1]\n",
    "    question_text=line.question\n",
    "    object_=line.objects[0].replace(\"_\",\" \").replace(\"#\",\" \")\n",
    "    \n",
    "    question_templet=question_text.split(object_)[0]+object_+\", which can be\"\n",
    "    question_templet2=question_text.split(object_)[1]\n",
    "    \n",
    "    more_item=\"\"\n",
    "    \n",
    "    if not line.triples_len2:\n",
    "        #new_sentence.append(\"\")\n",
    "        continue\n",
    "    \n",
    "    if len(line.triples_len2)>num_choice:\n",
    "        triples=random.sample(line.triples_len2,num_choice)\n",
    "    else:\n",
    "        triples=line.triples_len2\n",
    "    \n",
    "    for triple in triples:\n",
    "        relation=triple[1]\n",
    "        item= triple[2]\n",
    "        if not more_item:\n",
    "            more_item+=relation + \" a \"+ item\n",
    "        else:\n",
    "            more_item += \" or \"+ relation+\" a \"+item\n",
    "            \n",
    "    sent=question_templet+\" \"+more_item+\",\"+question_templet2\n",
    "    sent.replace(\"_\",\" \").replace(\"?\",\" \")\n",
    "    if sent[-2]==\",\":\n",
    "        sent=sent[:-2]+\"?\"\n",
    "    new_sentence.append(sent)"
   ]
  },
  {
   "cell_type": "code",
   "execution_count": 38,
   "metadata": {},
   "outputs": [
    {
     "data": {
      "text/plain": [
       "67"
      ]
     },
     "execution_count": 38,
     "metadata": {},
     "output_type": "execute_result"
    }
   ],
   "source": [
    "len(new_sentence)"
   ]
  },
  {
   "cell_type": "code",
   "execution_count": 39,
   "metadata": {},
   "outputs": [],
   "source": [
    "new_sentence_set=new_sentence_set.union(set(new_sentence))"
   ]
  },
  {
   "cell_type": "code",
   "execution_count": 40,
   "metadata": {},
   "outputs": [],
   "source": [
    "sentence_score=[]\n",
    "\n",
    "for sent in new_sentence_set:\n",
    "    tokens_tensor = tokenizer.encode(sent, add_special_tokens=False, return_tensors=\"pt\")\n",
    "    result_score=score(tokens_tensor)\n",
    "    sentence_score.append([sent,result_score])"
   ]
  },
  {
   "cell_type": "code",
   "execution_count": 45,
   "metadata": {},
   "outputs": [
    {
     "data": {
      "text/plain": [
       "[['what color is the stove, which can be in a countertop or near a dishwasher or in a corner or next to a fridge or next to a child, in the kitchen?',\n",
       "  31.765287],\n",
       " ['what color is the towel, which can be for a bath or on top of a ladder or on a mat or on a bowl or in a photo, in the bathroom?',\n",
       "  35.519028],\n",
       " ['what color is the refrigerator, which can be behind a counter or next to a countertop or next to a dishwasher or in a stack or behind a woman?',\n",
       "  36.45261],\n",
       " ['what color is the curtain, which can be in a mirror or behind a lamp or by a bedspread or behind a couch or by a shelf?',\n",
       "  36.517555],\n",
       " ['what color is the toaster, which can be in a corner or next to a pan or next to a container or above a cabinet or on a dryer?',\n",
       "  36.666138],\n",
       " ['what color is the curtain, which can be in a mirror or behind a desk or next to a fridge or in a image or in a photo, in the kitchen?',\n",
       "  36.486702],\n",
       " ['what color is the stove, which can be in a countertop or in a back or in a corner or on a trash or next to a knife, in the kitchen?',\n",
       "  37.68255],\n",
       " ['what color is the cabinet, which can be above a television or next to a fireplace or behind a table or behind a couch or behind a bed, in the bedroom?',\n",
       "  39.159645],\n",
       " ['what color is the cabinet, which can be next to a fireplace or above a television or behind a table or under a lamp or behind a bed, in the bedroom?',\n",
       "  39.214886],\n",
       " ['what color is the curtain, which can be behind a television or behind a sheet or behind a lamp or near a candle or in a mirror, in the bedroom?',\n",
       "  40.601776]]"
      ]
     },
     "execution_count": 45,
     "metadata": {},
     "output_type": "execute_result"
    }
   ],
   "source": [
    "sort_sentence_score=sorted(sentence_score,key=lambda k:int(k[1]))\n",
    "sort_sentence_score[:10]"
   ]
  },
  {
   "cell_type": "code",
   "execution_count": 42,
   "metadata": {},
   "outputs": [
    {
     "data": {
      "text/plain": [
       "[<matplotlib.lines.Line2D at 0x7fbd13ac4cd0>]"
      ]
     },
     "execution_count": 42,
     "metadata": {},
     "output_type": "execute_result"
    },
    {
     "data": {
      "image/png": "[encoded data removed]",
      "text/plain": [
       "<Figure size 432x288 with 1 Axes>"
      ]
     },
     "metadata": {
      "needs_background": "light"
     },
     "output_type": "display_data"
    }
   ],
   "source": [
    "# draw a score graph\n",
    "y=[_[1] for _ in sort_sentence_score]\n",
    "x= range(len(sort_sentence_score))\n",
    "\n",
    "plt.xlabel('Rank of the Sort')\n",
    "plt.ylabel('Perplexity of Sentences')\n",
    "plt.plot(x,y,'r--',label='type1')"
   ]
  },
  {
   "cell_type": "code",
   "execution_count": 43,
   "metadata": {},
   "outputs": [
    {
     "data": {
      "text/plain": [
       "151.79474"
      ]
     },
     "execution_count": 43,
     "metadata": {},
     "output_type": "execute_result"
    }
   ],
   "source": [
    "tokens_tensor = tokenizer.encode('what color is the counter, which is in the area or next to microwave?', add_special_tokens=False, return_tensors=\"pt\")\n",
    "result_score=score(tokens_tensor)\n",
    "result_score"
   ]
  },
  {
   "cell_type": "code",
   "execution_count": 44,
   "metadata": {},
   "outputs": [
    {
     "data": {
      "text/plain": [
       "[['what color is the table, which can be in a image or for a cover or at location a corner or behind a friends or near a grill, in the kitchen?',\n",
       "  135.02672],\n",
       " ['what color is the counter, which can be of a bar or under a medicine_cabinet?',\n",
       "  136.68172],\n",
       " ['what color is the table, which can be near a window_pane or with a sign or for a art or at location a building or near a ceiling, in the bathroom?',\n",
       "  137.24886],\n",
       " ['what color is the cabinet, which can be above a microwave_oven or for a food or behind a desk or above a fridge or with a coffee_maker, in the kitchen?',\n",
       "  139.65775],\n",
       " ['what color is the table, which can be at location a corner or for a luggage or near a ceiling, in the hallway?',\n",
       "  142.19083],\n",
       " ['what room is the shower, which can be for a toilet_seat or in a background or next to a tank, located in?',\n",
       "  145.7018],\n",
       " ['what color is the table, which can be with a presents or behind a couple or on a balcony or at location a rug or with a lamp_shade, in the living room?',\n",
       "  147.62056],\n",
       " ['what room is the counter, which can be of a bar or under a medicine_cabinet, located in?',\n",
       "  149.31508],\n",
       " ['what room is the sink, which can be are on a area or near a microwave or on a bar or behind a donuts or in a island, located in?',\n",
       "  160.81123],\n",
       " ['what room is the fireplace, which can be by a basket, located in?',\n",
       "  161.29413]]"
      ]
     },
     "execution_count": 44,
     "metadata": {},
     "output_type": "execute_result"
    }
   ],
   "source": [
    "sort_sentence_score[-10:]"
   ]
  },
  {
   "cell_type": "code",
   "execution_count": null,
   "metadata": {},
   "outputs": [],
   "source": []
  }
 ],
 "metadata": {
  "kernelspec": {
   "display_name": "isi",
   "language": "python",
   "name": "isi"
  },
  "language_info": {
   "codemirror_mode": {
    "name": "ipython",
    "version": 3
   },
   "file_extension": ".py",
   "mimetype": "text/x-python",
   "name": "python",
   "nbconvert_exporter": "python",
   "pygments_lexer": "ipython3",
   "version": "3.7.9"
  }
 },
 "nbformat": 4,
 "nbformat_minor": 4
}
