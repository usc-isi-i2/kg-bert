{
 "cells": [
  {
   "cell_type": "markdown",
   "metadata": {},
   "source": [
    "## Task\n",
    "1. see how many such game sentences with AtLocation we can create, and how many answers they have on average (the example above has 3 answers).  Also, inspect their quality and if you detect problems, see how they can be addressed.\n",
    "2. Think and investigate how other relations can be used to create related tasks. I think some should be possible, like UsedFor in this example: \"I want to cut paper so I will need knife or scissors\". You don't need to think about all relations but take some subset of let's say 10 that seem promising.\n",
    "3. Take the 50 household items from EQA that we worked with, and generate random walks of length 2 and 3 on the graph starting with them. Example for a random walk of length 2 is: toaster-LocatedAt-kitchen-UsedFor-cooking. You could do this with graph-tools for example (https://graph-tool.skewed.de/static/doc/quickstart.html)\n",
    "4. Think and investigate how can we generate game sentences with these walks, and whether it makes sense. One option would be to do something like \"A toaster can be located in a place that is used for cooking and baking.\"  Even if we can do this for a small set of patterns, it would be useful. The solution could also use disambiguation or other NLP tricks. \n",
    "5. It would be useful to see some examples where we can use these walks to create sentences. You don't need to code this last part 5."
   ]
  },
  {
   "cell_type": "code",
   "execution_count": 1,
   "metadata": {
    "scrolled": true
   },
   "outputs": [],
   "source": [
    "import matplotlib.pyplot as plt\n",
    "from tqdm import tqdm\n",
    "import networkx as nx\n",
    "import random, re\n",
    "from transformers import GPT2LMHeadModel, GPT2Tokenizer\n",
    "import numpy as np"
   ]
  },
  {
   "cell_type": "markdown",
   "metadata": {},
   "source": [
    "## Set up Folder"
   ]
  },
  {
   "cell_type": "code",
   "execution_count": 2,
   "metadata": {},
   "outputs": [],
   "source": [
    "# input\n",
    "cskg_dim_folder=\"./data/cskg_dim/cskg_dim.tsv\"\n",
    "\n",
    "# output\n",
    "AtLocation_sents_file=\"./data/psl/AtLocation_sents.txt\"\n",
    "gamesents_file=\"./data/psl/gamesents.txt\""
   ]
  },
  {
   "cell_type": "markdown",
   "metadata": {},
   "source": [
    "## Function"
   ]
  },
  {
   "cell_type": "code",
   "execution_count": 3,
   "metadata": {},
   "outputs": [],
   "source": [
    "def load_source(filename):\n",
    "    with open(filename,\"r\",encoding=\"utf-8\") as f:\n",
    "        head=f.readline().strip().split(\"\\t\")\n",
    "        data=[]\n",
    "        for line in f:\n",
    "            temp=line.strip().split(\"\\t\")\n",
    "            data.append([item.split(\"|\")[0] for item in temp])\n",
    "            \n",
    "    return head, data\n",
    "\n",
    "def data_filter(head, lines, filter_={\"relation\":[\"/r/AtLocation\"]}):\n",
    "    # filter the lines woth limitation\n",
    "    for head_name in filter_:\n",
    "        filter_values=filter_[head_name]\n",
    "        line_index=head.index(head_name)\n",
    "        \n",
    "        for filter_value in filter_values:\n",
    "            filter_lines=[]\n",
    "            for line in lines:\n",
    "                if line[line_index]==filter_value:\n",
    "                    filter_lines.append(line)\n",
    "            yield filter_value,filter_lines\n",
    "        \n",
    "def build_sentence(lines, sent_format='f\"I am going to {blank1} and I am going to see {blank2}\"',operation=\"or\",reverse_format=False):\n",
    "    # build dictionary structure\n",
    "    top_bot=dict()\n",
    "    if not reverse_format:\n",
    "        for line in lines:\n",
    "            subject_id=line[1]\n",
    "            subject_label=line[4]\n",
    "\n",
    "            object_id=line[3]\n",
    "            object_label=line[5]\n",
    "\n",
    "            temp=top_bot.get(object_label,[])\n",
    "            temp.append(subject_label)\n",
    "\n",
    "            top_bot[object_label]=temp\n",
    "            \n",
    "    else:\n",
    "        for line in lines:\n",
    "            subject_id=line[1]\n",
    "            subject_label=line[4]\n",
    "\n",
    "            object_id=line[3]\n",
    "            object_label=line[5]\n",
    "\n",
    "            temp=top_bot.get(subject_label,[])\n",
    "            temp.append(object_label)\n",
    "\n",
    "            top_bot[subject_label]=temp\n",
    "    \n",
    "    # build sentence\n",
    "    sents=[]\n",
    "    for top in top_bot:\n",
    "        bots=top_bot[top]\n",
    "        \n",
    "        blank1=top\n",
    "        blank2=f\" {operation} \".join(bots)\n",
    "        sents.append(eval(sent_format).replace(\"_\",\" \"))\n",
    "        \n",
    "    return sents, top_bot"
   ]
  },
  {
   "cell_type": "code",
   "execution_count": 4,
   "metadata": {},
   "outputs": [],
   "source": [
    "cskg_dim_head,cskg_dim_lines=load_source(cskg_dim_folder)"
   ]
  },
  {
   "cell_type": "code",
   "execution_count": 5,
   "metadata": {},
   "outputs": [
    {
     "data": {
      "text/plain": [
       "['id',\n",
       " 'node1',\n",
       " 'relation',\n",
       " 'node2',\n",
       " 'node1;label',\n",
       " 'node2;label',\n",
       " 'relation;label',\n",
       " 'relation;dimension',\n",
       " 'source',\n",
       " 'sentence']"
      ]
     },
     "execution_count": 5,
     "metadata": {},
     "output_type": "execute_result"
    }
   ],
   "source": [
    "# head\n",
    "cskg_dim_head"
   ]
  },
  {
   "cell_type": "code",
   "execution_count": 6,
   "metadata": {},
   "outputs": [
    {
     "data": {
      "text/plain": [
       "['/c/en/0-/r/DefinedAs-/c/en/empty_set-0000',\n",
       " '/c/en/0',\n",
       " '/r/DefinedAs',\n",
       " '/c/en/empty_set',\n",
       " '0',\n",
       " 'empty set',\n",
       " 'defined as',\n",
       " 'similarity',\n",
       " 'CN',\n",
       " '[[0]] is the [[empty set]].']"
      ]
     },
     "execution_count": 6,
     "metadata": {},
     "output_type": "execute_result"
    }
   ],
   "source": [
    "# example of lines\n",
    "cskg_dim_lines[0]"
   ]
  },
  {
   "cell_type": "markdown",
   "metadata": {},
   "source": [
    "## AtLocation Sentence"
   ]
  },
  {
   "cell_type": "code",
   "execution_count": 7,
   "metadata": {},
   "outputs": [],
   "source": [
    "mul_filter_lines=list(data_filter(cskg_dim_head, cskg_dim_lines, filter_={\"relation\":[\"/r/AtLocation\"]}))"
   ]
  },
  {
   "cell_type": "code",
   "execution_count": 8,
   "metadata": {},
   "outputs": [
    {
     "data": {
      "text/plain": [
       "['/c/en/00t_shirts-/r/AtLocation-/c/en/drawer-0000',\n",
       " '/c/en/00t_shirts',\n",
       " '/r/AtLocation',\n",
       " '/c/en/drawer',\n",
       " '00t shirts',\n",
       " 'drawer',\n",
       " 'at location',\n",
       " 'spatial',\n",
       " 'CN',\n",
       " '*Something you find in [[a drawer]] is [[00t-shirts]]']"
      ]
     },
     "execution_count": 8,
     "metadata": {},
     "output_type": "execute_result"
    }
   ],
   "source": [
    "mul_filter_lines[0][1][0]"
   ]
  },
  {
   "cell_type": "code",
   "execution_count": 9,
   "metadata": {},
   "outputs": [
    {
     "name": "stdout",
     "output_type": "stream",
     "text": [
      "game sentences with AtLocation we can create: 7771\n",
      "answers they have on average: 3.5770171149144256\n"
     ]
    }
   ],
   "source": [
    "AtLocation_sents,AtLocation_dict = build_sentence(mul_filter_lines[0][1])\n",
    "print(\"game sentences with AtLocation we can create:\",len(AtLocation_dict))\n",
    "\n",
    "# statistic of location sentence\n",
    "example_distribution=[len(AtLocation_dict[item]) for item in AtLocation_dict]\n",
    "avg_example= sum(example_distribution)/len(AtLocation_dict)\n",
    "print(\"answers they have on average:\", avg_example)"
   ]
  },
  {
   "cell_type": "code",
   "execution_count": 10,
   "metadata": {},
   "outputs": [
    {
     "data": {
      "image/png": "[encoded data removed]",
      "text/plain": [
       "<Figure size 432x288 with 1 Axes>"
      ]
     },
     "metadata": {
      "needs_background": "light"
     },
     "output_type": "display_data"
    }
   ],
   "source": [
    "a=plt.hist(example_distribution,log=True)"
   ]
  },
  {
   "cell_type": "code",
   "execution_count": 11,
   "metadata": {},
   "outputs": [],
   "source": [
    "# save file into desk\n",
    "with open(AtLocation_sents_file,\"w\",encoding=\"utf-8\") as f:\n",
    "    for line in AtLocation_sents:\n",
    "        f.write(line+\"\\n\")"
   ]
  },
  {
   "cell_type": "markdown",
   "metadata": {},
   "source": [
    "## More Sentences"
   ]
  },
  {
   "cell_type": "code",
   "execution_count": 12,
   "metadata": {},
   "outputs": [
    {
     "name": "stdout",
     "output_type": "stream",
     "text": [
      "number of relation id: 47\n"
     ]
    }
   ],
   "source": [
    "# check the distribution of relation id\n",
    "rel_dict=dict()\n",
    "for line in cskg_dim_lines:\n",
    "    rel_dict[line[2]]=rel_dict.get(line[2],0)+1\n",
    "    \n",
    "print(\"number of relation id:\", len(rel_dict))"
   ]
  },
  {
   "cell_type": "code",
   "execution_count": 13,
   "metadata": {},
   "outputs": [
    {
     "data": {
      "text/plain": [
       "{'/r/DefinedAs': 2173,\n",
       " '/r/HasContext': 238277,\n",
       " '/r/HasProperty': 9482,\n",
       " '/r/IsA': 316351,\n",
       " '/r/RelatedTo': 1703968,\n",
       " '/r/SimilarTo': 30635,\n",
       " '/r/Antonym': 401003,\n",
       " '/r/Synonym': 1245289,\n",
       " '/r/FormOf': 378859,\n",
       " '/r/AtLocation': 27797,\n",
       " '/r/DerivedFrom': 325914,\n",
       " '/r/EtymologicallyRelatedTo': 32075,\n",
       " '/r/CapableOf': 42375,\n",
       " '/r/InstanceOf': 1480,\n",
       " '/r/PartOf': 31964,\n",
       " '/r/MadeOf': 2757,\n",
       " '/r/ReceivesAction': 6037,\n",
       " '/r/HasA': 16973,\n",
       " '/r/UsedFor': 42580,\n",
       " '/r/NotHasProperty': 327,\n",
       " '/r/CausesDesire': 4688,\n",
       " '/r/HasSubevent': 25369,\n",
       " '/r/LocatedNear': 152274,\n",
       " '/r/DistinctFrom': 8249,\n",
       " '/r/MannerOf': 12618,\n",
       " '/r/Entails': 405,\n",
       " '/r/HasPrerequisite': 24977,\n",
       " '/r/NotCapableOf': 329,\n",
       " '/r/MotivatedByGoal': 9489,\n",
       " '/r/Desires': 3170,\n",
       " '/r/Causes': 17388,\n",
       " '/r/HasFirstSubevent': 3347,\n",
       " '/r/HasLastSubevent': 2874,\n",
       " '/r/NotDesires': 2886,\n",
       " '/r/CreatedBy': 450,\n",
       " '/r/EtymologicallyDerivedFrom': 71,\n",
       " '/r/SymbolOf': 4,\n",
       " 'at:xAttr': 133281,\n",
       " 'at:xEffect': 100307,\n",
       " 'at:xIntent': 57685,\n",
       " 'at:xReact': 74153,\n",
       " 'at:xWant': 129171,\n",
       " 'at:oReact': 31497,\n",
       " 'at:oWant': 53910,\n",
       " 'at:xNeed': 96103,\n",
       " 'at:oEffect': 35346,\n",
       " 'fn:HasLexicalUnit': 58765}"
      ]
     },
     "execution_count": 13,
     "metadata": {},
     "output_type": "execute_result"
    }
   ],
   "source": [
    "rel_dict"
   ]
  },
  {
   "cell_type": "code",
   "execution_count": 14,
   "metadata": {},
   "outputs": [],
   "source": [
    "#define the first word and second word used for build sentence:\n",
    "# example:\n",
    "# [I am going to], [and I am going to see]\n",
    "relation_sentence={\"/r/UsedFor\":[['f\"I want to {blank1} so I will need {blank2}\"',\"or\",False],\n",
    "                                 ['f\"I want to have {blank1} so I will need {blank2}\"',\"or\",False],\n",
    "                                 ['f\"I want to be {blank1} so I will need {blank2}\"',\"or\",False]],\n",
    "                   \"/r/CreatedBy\":[['f\"I have {blank1} so I can create {blank2}\"',\"or\", False]],\n",
    "                   \"/r/CapableOf\":[['f\"I have {blank1} so I am capable of {blank2}\"',\"or\", True],\n",
    "                                     ['f\"I am {blank1} so I am capable of {blank2}\"',\"or\", True]],\n",
    "                   \"/r/Causes\":[['f\"I have {blank1} so I will cause {blank2}\"',\"or\", True],\n",
    "                                  ['f\"I am {blank1} so I will cause {blank2}\"',\"or\", True]],\n",
    "                   \"/r/PartOf\":[['f\"I have {blank1} so I might also have {blank2}\"',\"or\", False],\n",
    "                                  ['f\"I am {blank1} so I might also have {blank2}\"',\"or\", False]],\n",
    "                   \"/r/MadeOf\":[['f\"I want to have {blank1} so I can make it from {blank2}\"',\"or\", True]],\n",
    "                   \"/r/HasPrerequisite\":[['f\"If I want to {blank1} then I should {blank2}\"',\"or\", True],\n",
    "                                           ['f\"If I want to be {blank1} then I should {blank2}\"',\"or\", True],\n",
    "                                           ['f\"If I want to have {blank1} then I should {blank2}\"',\"or\", True]],\n",
    "                   \"/r/CausesDesire\":[['f\"I want to {blank1} then I want to {blank2}\"',\"or\", False],\n",
    "                                        ['f\"I want to {blank1} then I have {blank2}\"',\"or\", False]],\n",
    "                   \"/r/NotDesires\":[['f\"I am {blank1} and I don\\'t want to {blank2}\"',\"or\", True]],\n",
    "                   \"/r/AtLocation\":[['f\"I need {blank1} so I will go to see {blank2}\"',\"or\", True]],\n",
    "                   '/r/LocatedNear':[['f\"I am going to {blank1} and I am going to see {blank2} nearby\"',\"or\", True]]}\n",
    "\n",
    "\n",
    "# get the sentence that having the relation in relation_sentence\n",
    "mul_filter_lines=list(data_filter(cskg_dim_head, cskg_dim_lines, filter_={\"relation\":relation_sentence.keys()}))"
   ]
  },
  {
   "cell_type": "code",
   "execution_count": 15,
   "metadata": {},
   "outputs": [],
   "source": [
    "sents_example=[]\n",
    "with open(gamesents_file,\"w\",encoding=\"utf-8\") as f:\n",
    "    for rel_id, lines in mul_filter_lines:\n",
    "        temp= []\n",
    "        for format_ in relation_sentence[rel_id]:\n",
    "            sents,example_dict = build_sentence(lines,\n",
    "                                 sent_format=format_[0],\n",
    "                                 operation=format_[1],\n",
    "                                 reverse_format=format_[2],)\n",
    "            #print(\"relation id:\",rel_id)\n",
    "            #print(\"game sentences we can create:\",len(sents))\n",
    "            example_distribution=[len(example_dict[item]) for item in example_dict]\n",
    "            avg_example= sum(example_distribution)/len(example_dict)\n",
    "            #print(\"answers they have on average:\", avg_example)\n",
    "            #print(\"example of sentences:\",sents[250])\n",
    "            #print()\n",
    "            if not temp:\n",
    "                temp= [[sents[i]] for i in range(len(sents))]\n",
    "            else:\n",
    "                temp=[temp[i]+[sents[i]] for i in range(len(sents))]\n",
    "\n",
    "        sents_example.append([rel_id,temp,example_dict])\n",
    "\n",
    "        # save file into desk\n",
    "\n",
    "        #f.write(\"**\"+rel_id+\"**\\n\")\n",
    "        #for line in sents:\n",
    "        #   f.write(line+\"\\n\")"
   ]
  },
  {
   "cell_type": "markdown",
   "metadata": {},
   "source": [
    "## Score sentence"
   ]
  },
  {
   "cell_type": "code",
   "execution_count": 16,
   "metadata": {},
   "outputs": [],
   "source": [
    "model = GPT2LMHeadModel.from_pretrained('gpt2')\n",
    "tokenizer = GPT2Tokenizer.from_pretrained('gpt2')\n",
    "\n",
    "def score(tokens_tensor):\n",
    "    loss=model(tokens_tensor, labels=tokens_tensor)[0]\n",
    "    return np.exp(loss.cpu().detach().numpy())\n",
    "\n",
    "def sents_pick(sents,scores,perplexity_threhold=100):\n",
    "    i = min(len(sents), len(scores))\n",
    "    sents_result=[]\n",
    "    for idx in range(i):\n",
    "        sent_collect=sents[idx]\n",
    "        score_collect=scores[idx]\n",
    "        \n",
    "        temp=float(\"inf\")\n",
    "        result=\"\"\n",
    "        \n",
    "        result_idx=0\n",
    "        temp_idx=0\n",
    "        for sent, score in zip(sent_collect,score_collect):\n",
    "            if temp>score:\n",
    "                temp=score\n",
    "                result=sent\n",
    "                result_idx=temp_idx\n",
    "            temp_idx+=1\n",
    "        if temp < perplexity_threhold:\n",
    "            sents_result.append([result_idx,result])\n",
    "        \n",
    "    return sents_result"
   ]
  },
  {
   "cell_type": "code",
   "execution_count": 17,
   "metadata": {},
   "outputs": [
    {
     "name": "stderr",
     "output_type": "stream",
     "text": [
      "  0%|          | 1/30174 [00:00<1:28:01,  5.71it/s]"
     ]
    },
    {
     "name": "stdout",
     "output_type": "stream",
     "text": [
      "process relation id: /r/UsedFor\n"
     ]
    },
    {
     "name": "stderr",
     "output_type": "stream",
     "text": [
      "100%|██████████| 30174/30174 [50:58<00:00,  9.86it/s] \n",
      "  1%|          | 4/388 [00:00<00:11, 32.66it/s]"
     ]
    },
    {
     "name": "stdout",
     "output_type": "stream",
     "text": [
      "process relation id: /r/CreatedBy\n"
     ]
    },
    {
     "name": "stderr",
     "output_type": "stream",
     "text": [
      "100%|██████████| 388/388 [00:11<00:00, 33.19it/s]\n",
      "  0%|          | 2/11488 [00:00<12:38, 15.15it/s]"
     ]
    },
    {
     "name": "stdout",
     "output_type": "stream",
     "text": [
      "process relation id: /r/CapableOf\n"
     ]
    },
    {
     "name": "stderr",
     "output_type": "stream",
     "text": [
      "100%|██████████| 11488/11488 [13:34<00:00, 14.10it/s]\n",
      "  0%|          | 0/1980 [00:00<?, ?it/s]"
     ]
    },
    {
     "name": "stdout",
     "output_type": "stream",
     "text": [
      "process relation id: /r/Causes\n"
     ]
    },
    {
     "name": "stderr",
     "output_type": "stream",
     "text": [
      "100%|██████████| 1980/1980 [03:16<00:00, 10.07it/s]\n",
      "  0%|          | 0/14005 [00:00<?, ?it/s]"
     ]
    },
    {
     "name": "stdout",
     "output_type": "stream",
     "text": [
      "process relation id: /r/PartOf\n"
     ]
    },
    {
     "name": "stderr",
     "output_type": "stream",
     "text": [
      "100%|██████████| 14005/14005 [16:37<00:00, 14.04it/s]\n",
      "  0%|          | 3/2239 [00:00<01:17, 28.86it/s]"
     ]
    },
    {
     "name": "stdout",
     "output_type": "stream",
     "text": [
      "process relation id: /r/MadeOf\n"
     ]
    },
    {
     "name": "stderr",
     "output_type": "stream",
     "text": [
      "100%|██████████| 2239/2239 [01:21<00:00, 27.57it/s]\n",
      "  0%|          | 1/3942 [00:00<07:27,  8.81it/s]"
     ]
    },
    {
     "name": "stdout",
     "output_type": "stream",
     "text": [
      "process relation id: /r/HasPrerequisite\n"
     ]
    },
    {
     "name": "stderr",
     "output_type": "stream",
     "text": [
      "100%|██████████| 3942/3942 [08:21<00:00,  7.86it/s]\n",
      "  0%|          | 2/598 [00:00<00:58, 10.22it/s]"
     ]
    },
    {
     "name": "stdout",
     "output_type": "stream",
     "text": [
      "process relation id: /r/CausesDesire\n"
     ]
    },
    {
     "name": "stderr",
     "output_type": "stream",
     "text": [
      "100%|██████████| 598/598 [00:54<00:00, 10.96it/s]\n",
      "  1%|          | 3/255 [00:00<00:10, 23.94it/s]"
     ]
    },
    {
     "name": "stdout",
     "output_type": "stream",
     "text": [
      "process relation id: /r/NotDesires\n"
     ]
    },
    {
     "name": "stderr",
     "output_type": "stream",
     "text": [
      "100%|██████████| 255/255 [00:09<00:00, 26.73it/s]\n",
      "  0%|          | 3/9894 [00:00<05:50, 28.18it/s]"
     ]
    },
    {
     "name": "stdout",
     "output_type": "stream",
     "text": [
      "process relation id: /r/AtLocation\n"
     ]
    },
    {
     "name": "stderr",
     "output_type": "stream",
     "text": [
      "100%|██████████| 9894/9894 [05:48<00:00, 28.36it/s]\n",
      "  0%|          | 3/16154 [00:00<09:27, 28.46it/s]"
     ]
    },
    {
     "name": "stdout",
     "output_type": "stream",
     "text": [
      "process relation id: /r/LocatedNear\n"
     ]
    },
    {
     "name": "stderr",
     "output_type": "stream",
     "text": [
      "100%|██████████| 16154/16154 [11:04<00:00, 24.33it/s]\n"
     ]
    }
   ],
   "source": [
    "relation_scores=[]\n",
    "for relation_collection in sents_example:\n",
    "    rel_id=relation_collection[0]\n",
    "    scores=[]\n",
    "    print(\"process relation id:\", rel_id)\n",
    "    for sents in tqdm(relation_collection[1]):\n",
    "        temp=[]\n",
    "        for sent in sents:\n",
    "            # too long sentence might out of index\n",
    "            if len(sent)>2000:\n",
    "                temp.append(float(\"inf\"))\n",
    "                continue\n",
    "            tokens_tensor = tokenizer.encode(sent, add_special_tokens=False, return_tensors=\"pt\")           \n",
    "            temp.append(score(tokens_tensor))\n",
    "        scores.append(temp)\n",
    "    relation_scores.append([rel_id,scores])"
   ]
  },
  {
   "cell_type": "code",
   "execution_count": 18,
   "metadata": {},
   "outputs": [],
   "source": [
    "# find the sentence with highest score/lowest perplexity and satisfy threshold\n",
    "filtered_sents_example=[]\n",
    "\n",
    "for idx_1 in range(len(sents_example)):\n",
    "    rel_id=sents_example[idx_1][0]\n",
    "    example_dict=sents_example[idx_1][2]\n",
    "    sents=sents_example[idx_1][1]\n",
    "    scores=relation_scores[idx_1][1]\n",
    "    \n",
    "    filtered_sent=sents_pick(sents,scores)\n",
    "    filtered_sents_example.append([rel_id,filtered_sent,example_dict])"
   ]
  },
  {
   "cell_type": "code",
   "execution_count": 19,
   "metadata": {},
   "outputs": [
    {
     "name": "stderr",
     "output_type": "stream",
     "text": [
      "100%|██████████| 1621/1621 [00:00<00:00, 174794.12it/s]\n",
      "100%|██████████| 8/8 [00:00<00:00, 36671.51it/s]\n",
      "100%|██████████| 402/402 [00:00<00:00, 76991.33it/s]\n",
      "100%|██████████| 196/196 [00:00<00:00, 45114.89it/s]\n",
      "100%|██████████| 2075/2075 [00:00<00:00, 153230.41it/s]\n",
      "100%|██████████| 1125/1125 [00:00<00:00, 284835.93it/s]\n",
      "100%|██████████| 1409/1409 [00:00<00:00, 94660.90it/s]\n",
      "100%|██████████| 86/86 [00:00<00:00, 91180.52it/s]\n",
      "100%|██████████| 99/99 [00:00<00:00, 198108.82it/s]\n",
      "100%|██████████| 495/495 [00:00<00:00, 92893.98it/s]\n",
      "100%|██████████| 1633/1633 [00:00<00:00, 46605.28it/s]\n"
     ]
    }
   ],
   "source": [
    "# based on the string pattern build edges\n",
    "edges=[]\n",
    "for relation_sents in filtered_sents_example:\n",
    "    rel_id=relation_sents[0]\n",
    "    ids_sents=relation_sents[1]\n",
    "    patterns_=relation_sentence[rel_id]\n",
    "    for id_, sent in tqdm(ids_sents):\n",
    "        pattern_undefine=patterns_[id_][0]\n",
    "        reverse=patterns_[id_][2]\n",
    "        connection=patterns_[id_][1]\n",
    "        pattern=pattern_undefine.replace(\"{blank1}\",\"(.*)\").replace(\"{blank2}\",\"(.*)\").replace('f\"',\"\").replace('\"',\"\")\n",
    "        \n",
    "        blank1,blank2s=re.findall(pattern, sent)[0]\n",
    "        blank2s_list=blank2s.split(\" \"+connection+\" \")\n",
    "        \n",
    "        for blank2 in blank2s_list:\n",
    "            if reverse:\n",
    "                subject_=blank1\n",
    "                object_=blank2\n",
    "                edges.append([subject_,rel_id,object_])\n",
    "            else:\n",
    "                subject_=blank2\n",
    "                object_=blank1\n",
    "                edges.append([subject_,rel_id,object_])"
   ]
  },
  {
   "cell_type": "code",
   "execution_count": 20,
   "metadata": {},
   "outputs": [
    {
     "name": "stdout",
     "output_type": "stream",
     "text": [
      "3.6594694632942626\n",
      "1.375\n",
      "14.898009950248756\n",
      "29.209183673469386\n",
      "5.151807228915662\n",
      "1.24\n",
      "12.447835344215756\n",
      "8.895348837209303\n",
      "1.2828282828282829\n",
      "13.139393939393939\n",
      "38.519902020820574\n"
     ]
    },
    {
     "data": {
      "image/png": "[encoded data removed]",
      "text/plain": [
       "<Figure size 432x288 with 1 Axes>"
      ]
     },
     "metadata": {
      "needs_background": "light"
     },
     "output_type": "display_data"
    },
    {
     "data": {
      "image/png": "[encoded data removed]",
      "text/plain": [
       "<Figure size 432x288 with 1 Axes>"
      ]
     },
     "metadata": {
      "needs_background": "light"
     },
     "output_type": "display_data"
    },
    {
     "data": {
      "image/png": "[encoded data removed]",
      "text/plain": [
       "<Figure size 432x288 with 1 Axes>"
      ]
     },
     "metadata": {
      "needs_background": "light"
     },
     "output_type": "display_data"
    },
    {
     "data": {
      "image/png": "[encoded data removed]",
      "text/plain": [
       "<Figure size 432x288 with 1 Axes>"
      ]
     },
     "metadata": {
      "needs_background": "light"
     },
     "output_type": "display_data"
    },
    {
     "data": {
      "image/png": "[encoded data removed]",
      "text/plain": [
       "<Figure size 432x288 with 1 Axes>"
      ]
     },
     "metadata": {
      "needs_background": "light"
     },
     "output_type": "display_data"
    },
    {
     "data": {
      "image/png": "[encoded data removed]",
      "text/plain": [
       "<Figure size 432x288 with 1 Axes>"
      ]
     },
     "metadata": {
      "needs_background": "light"
     },
     "output_type": "display_data"
    },
    {
     "data": {
      "image/png": "[encoded data removed]",
      "text/plain": [
       "<Figure size 432x288 with 1 Axes>"
      ]
     },
     "metadata": {
      "needs_background": "light"
     },
     "output_type": "display_data"
    },
    {
     "data": {
      "image/png": "[encoded data removed]",
      "text/plain": [
       "<Figure size 432x288 with 1 Axes>"
      ]
     },
     "metadata": {
      "needs_background": "light"
     },
     "output_type": "display_data"
    },
    {
     "data": {
      "image/png": "[encoded data removed]",
      "text/plain": [
       "<Figure size 432x288 with 1 Axes>"
      ]
     },
     "metadata": {
      "needs_background": "light"
     },
     "output_type": "display_data"
    },
    {
     "data": {
      "image/png": "[encoded data removed]",
      "text/plain": [
       "<Figure size 432x288 with 1 Axes>"
      ]
     },
     "metadata": {
      "needs_background": "light"
     },
     "output_type": "display_data"
    },
    {
     "data": {
      "image/png": "[encoded data removed]",
      "text/plain": [
       "<Figure size 432x288 with 1 Axes>"
      ]
     },
     "metadata": {
      "needs_background": "light"
     },
     "output_type": "display_data"
    }
   ],
   "source": [
    "# calculate the number of answer for different relation id\n",
    "\n",
    "for relation_sents in filtered_sents_example:\n",
    "    fig = plt.figure()\n",
    "    # count the number of \" or \" n1 in the sentence\n",
    "    # the answer of one sentence is n1+1\n",
    "    rel_id=relation_sents[0]\n",
    "    id_sents=relation_sents[1]\n",
    "    distribution=[]\n",
    "    for id_, sent in id_sents:\n",
    "        num_or = sent.count(\" or \")\n",
    "        distribution.append(num_or+1)    \n",
    "    a=plt.hist(distribution,log=True)\n",
    "    plt.title(rel_id)\n",
    "    print(sum(distribution)/len(distribution))"
   ]
  },
  {
   "cell_type": "markdown",
   "metadata": {},
   "source": [
    "# Build Graph"
   ]
  },
  {
   "cell_type": "code",
   "execution_count": 21,
   "metadata": {},
   "outputs": [],
   "source": [
    "def add2graph(graph, rel_id, subject_, object_,rel_set=relation_sentence):\n",
    "    temp = graph_tool.util.find_vertex(g, g.vp[\"position\"], subject_)\n",
    "    if not temp:\n",
    "        a = graph.add_vertex()\n",
    "        g.vp[\"position\"][a]=subject_\n",
    "    else:\n",
    "        a=temp[0]\n",
    "        \n",
    "    temp = graph_tool.util.find_vertex(g, g.vp[\"position\"], object_)\n",
    "    if not temp:\n",
    "        b = graph.add_vertex()\n",
    "        g.vp[\"position\"][b]=object_\n",
    "    else:\n",
    "        b=temp[0]\n",
    "        \n",
    "    edge_loc=graph_tool.util.find_edge(g, g.ep[\"position\"], rel_id)\n",
    "    if not edge_loc:\n",
    "        reverse=relation_sentence[rel_id][2]\n",
    "        \n",
    "        if reverse==True:\n",
    "            c = graph.add_edge(a, b)\n",
    "            g.ep[\"position\"][c]=rel_id.split(\"/\")[-1].split(\":\")[-1]\n",
    "        else:\n",
    "            c = graph.add_edge(b, a)\n",
    "            g.ep[\"position\"][c]=rel_id.split(\"/\")[-1].split(\":\")[-1]\n",
    "    else:\n",
    "        c = edge_loc[0]\n",
    "        \n",
    "    return\n",
    "\n",
    "def random_walk(num=2):\n",
    "    step=0\n",
    "    process=[]\n",
    "    root=None\n",
    "    \n",
    "    while step<num:\n",
    "        # random select root\n",
    "        if root == None:\n",
    "            root_name = random.sample(label_limit, 1)[0]\n",
    "            if root_name in G:\n",
    "                root=G[root_name]\n",
    "            else:\n",
    "                continue\n",
    "            \n",
    "        else:\n",
    "            #print(list(root.out_neighbors()))\n",
    "            root_name= random.sample(root.keys(), 1)[0]\n",
    "            if root_name in G:\n",
    "                root=G[root_name]\n",
    "            else:\n",
    "                step=0\n",
    "                process=[]\n",
    "                root=None\n",
    "                continue\n",
    "            #print(\"second root\", root)\n",
    "        \n",
    "        if G.out_degree[root_name]==0:\n",
    "            step=0\n",
    "            process=[]\n",
    "            root=None\n",
    "            continue\n",
    "        \n",
    "        #print(root,root.out_degree())\n",
    "        if root_name in process:\n",
    "            step=0\n",
    "            process=[]\n",
    "            root=None\n",
    "            continue\n",
    "        process.append(root_name)\n",
    "        step+=1\n",
    "    process.append(random.sample(root.keys(), 1)[0]) \n",
    "    return process\n",
    "\n",
    "def all_relation_walk(threshold=100,relation_list=[\"/r/UsedFor\"]):\n",
    "    # generate a sentence with all relation labels\n",
    "    relation_set=set(relation_list)\n",
    "    process=[]\n",
    "    root_name=\"\"\n",
    "    step=0\n",
    "    \n",
    "    while step<threshold:\n",
    "        #print(process, step,relation_set,threshold,root_name)\n",
    "        step+=1\n",
    "        if root_name == \"\":\n",
    "            root_name = random.sample(label_limit, 1)[0].replace(\" \",\"_\")\n",
    "            if root_name in G:\n",
    "                pass\n",
    "            else:\n",
    "                root_name = \"\"\n",
    "                continue\n",
    "                \n",
    "        else:\n",
    "            #print(list(root.out_neighbors()))\n",
    "            all_edges=list(G.out_edges(root_name, data=True))\n",
    "            random.shuffle(all_edges)\n",
    "            status = False\n",
    "            for sub, obj, rel in all_edges:\n",
    "                rel_label=rel[\"label\"]\n",
    "                if rel_label in relation_set:\n",
    "                    status=True\n",
    "                    break\n",
    "            \n",
    "            if status:\n",
    "                root_name=obj\n",
    "                relation_set.remove(rel_label)\n",
    "                if relation_set==set():\n",
    "                    process.append(root_name)\n",
    "                    break\n",
    "            else:\n",
    "                process=[]\n",
    "                root_name=\"\"\n",
    "                relation_set=set(relation_list)\n",
    "                continue\n",
    "            #print(\"second root\", root)\n",
    "        \n",
    "        if G.out_degree[root_name]==0:\n",
    "            process=[]\n",
    "            root_name=\"\"\n",
    "            relation_set=set(relation_list)\n",
    "            continue\n",
    "        \n",
    "        #print(root,root.out_degree())\n",
    "        # remove duplicate\n",
    "        if root_name in process:\n",
    "            process=[]\n",
    "            root_name=\"\"\n",
    "            continue\n",
    "\n",
    "        process.append(root_name)\n",
    "    return process\n",
    "\n",
    "def walk_sent(process):\n",
    "    sent=\"\"\n",
    "    for p2 in range(1, len(process)):\n",
    "        p1=p2-1\n",
    "        sub=process[p1].replace(\" \",\"_\")\n",
    "        obj=process[p2].replace(\" \",\"_\")\n",
    "        \n",
    "        relation_=G[sub][obj][\"label\"]\n",
    "        \n",
    "        if sent:\n",
    "            sent+=\"-\"+relation_+\"-\"+obj\n",
    "        else:\n",
    "            sent=sub+\"-\"+relation_+\"-\"+obj\n",
    "            \n",
    "    return sent\n",
    "\n",
    "def walk2gamesents(sent, relation2label, relation_swap={\"/r/LocatedNear\"}):\n",
    "    sent_token=sent.split(\"-\")\n",
    "    gamesent=\"\"\n",
    "    i=0\n",
    "    while i < len(sent_token):\n",
    "        if i==0:\n",
    "            gamesent+=sent_token[i].replace(\"_\",\" \")\n",
    "        \n",
    "        elif i==1:\n",
    "            rel_id=sent_token[i]\n",
    "            if rel_id in relation_swap:\n",
    "                rel_label=G_total[sent_token[i-1]][sent_token[i+1]][\"label\"]\n",
    "            else:\n",
    "                rel_label=relation2label[sent_token[i]]\n",
    "            \n",
    "            gamesent+=\" \"+rel_label\n",
    "            \n",
    "        elif (i+1)%2==0:\n",
    "            gamesent+=\" \"+ \"that\"+\" \"+relation2label[sent_token[i]]\n",
    "        \n",
    "        else:\n",
    "            gamesent+= \" \"+sent_token[i].replace(\"_\",\" \")\n",
    "        i+=1\n",
    "    return gamesent"
   ]
  },
  {
   "cell_type": "code",
   "execution_count": 22,
   "metadata": {},
   "outputs": [],
   "source": [
    "relation2label={\"/r/UsedFor\":\"is used for\",\"/r/CreatedBy\":\"is created by\",\"/r/CapableOf\":\"is capable of\",\n",
    "                \"/r/Causes\":\"casuses\",\"/r/PartOf\":\"is part of\",\"/r/HasContext\":'has context,',\"/r/MadeOf\":\"is made of\",\n",
    "                \"/r/HasPrerequisite\":\"has prerequisite,\",\"/r/CausesDesire\": \"causes desire,\",\"/r/NotDesires\":\"does not desire\",\n",
    "                \"/r/AtLocation\":\"is located in\",\"/r/LocatedNear\":\"is located near in\"}"
   ]
  },
  {
   "cell_type": "code",
   "execution_count": 23,
   "metadata": {},
   "outputs": [],
   "source": [
    "label_limit = set([\"rug\",\"piano\",\"dryer\",\"computer\",\"fireplace\",\"whiteboard\",\"bookshelf\",\"wardrobe cabinet\",\n",
    "                  \"pan\",\"toilet\",\"plates\",\"ottoman\",\"fish tank\",\"dishwasher\",\"microwave\",\"water dispenser\",\n",
    "                  \"bed\",\"table\",\"mirror\",\"tv stand\",\"stereo set\",\"chessboard\",\"playstation\",\"vacuum cleaner\",\n",
    "                  \"cup\",\"xbox\",\"heater\",\"bathtub\",\"shoe rack\",\"range oven\",\"refrigerator\",\"coffee machine\",\n",
    "                  \"sink\",\"sofa\",\"kettle\",\"dresser\",\"knife rack\",\"towel rack\",\"loudspeaker\",\"utensil holder\",\n",
    "                  \"desk\",\"vase\",\"shower\",\"washer\",\"fruit bowl\",\"television\",\"dressing table\",\"cutting board\",\n",
    "                  \"ironing board\",\"food processor\"])"
   ]
  },
  {
   "cell_type": "code",
   "execution_count": 24,
   "metadata": {},
   "outputs": [],
   "source": [
    "G = nx.DiGraph()\n",
    "for edge in edges:\n",
    "    sub,rel,obj=edge\n",
    "    sub=sub.replace(\" \",\"_\")\n",
    "    obj=obj.replace(\" \",\"_\")\n",
    "    G.add_edge(sub,obj,label=rel)"
   ]
  },
  {
   "cell_type": "code",
   "execution_count": 25,
   "metadata": {},
   "outputs": [],
   "source": [
    "# build the graph for the whole dataset.\n",
    "G_total= nx.DiGraph()\n",
    "for line in cskg_dim_lines:\n",
    "    G_total.add_edge(line[4].replace(\" \",\"_\"),line[5].replace(\" \",\"_\"),label=line[6])"
   ]
  },
  {
   "cell_type": "code",
   "execution_count": 50,
   "metadata": {},
   "outputs": [
    {
     "name": "stdout",
     "output_type": "stream",
     "text": [
      "random walk:  piano-/r/LocatedNear-stool-/r/LocatedNear-towel-/r/LocatedNear-puppy\n",
      "gamesentence is:  piano with stool that is located near in towel that is located near in puppy\n",
      "387.08466\n",
      "\n",
      "random walk:  toilet-/r/LocatedNear-toilet_bowl-/r/LocatedNear/r-spot-/r/LocatedNear-line\n",
      "gamesentence is:  toilet has toilet bowl that is located near in spot that is located near in line\n",
      "210.85747\n",
      "\n",
      "random walk:  bathtub-/r/LocatedNear/r-sponge-/r/LocatedNear-hand-/r/LocatedNear/r-leash\n",
      "gamesentence is:  bathtub is located near in sponge that is located near in hand that is located near in leash\n",
      "125.037865\n",
      "\n",
      "random walk:  shower-/r/LocatedNear/r-tray-/r/LocatedNear/r-lotion-/r/UsedFor-moisturizing_skin\n",
      "gamesentence is:  shower is located near in tray that is located near in lotion that is used for moisturizing skin\n",
      "127.34306\n",
      "\n",
      "random walk:  sink-/r/LocatedNear-left_side-/r/LocatedNear/r-cheese-/r/LocatedNear-muffin\n",
      "gamesentence is:  sink has left side that is located near in cheese that is located near in muffin\n",
      "256.01\n",
      "\n",
      "random walk:  television-/r/LocatedNear/r-picture_frame-/r/LocatedNear-sections-/r/LocatedNear/r-pasture\n",
      "gamesentence is:  television is located near in picture frame that is located near in sections that is located near in pasture\n",
      "260.38873\n",
      "\n",
      "random walk:  sofa-/r/LocatedNear/r-skirt-/r/LocatedNear-child-/r/LocatedNear/r-frosting\n",
      "gamesentence is:  sofa is located near in skirt that is located near in child that is located near in frosting\n",
      "146.72278\n",
      "\n",
      "random walk:  cup-/r/LocatedNear/r-pasta-/r/LocatedNear/r-squash-/r/LocatedNear-box\n",
      "gamesentence is:  cup is located near in pasta that is located near in squash that is located near in box\n",
      "82.51921\n",
      "\n",
      "random walk:  sink-/r/LocatedNear/r-curtain-/r/LocatedNear/r-seam-/r/LocatedNear-umbrella\n",
      "gamesentence is:  sink is located near in curtain that is located near in seam that is located near in umbrella\n",
      "100.05887\n",
      "\n",
      "random walk:  kettle-/r/LocatedNear/r-drink-/r/LocatedNear/r-lemon-/r/LocatedNear-painting\n",
      "gamesentence is:  kettle is located near in drink that is located near in lemon that is located near in painting\n",
      "154.79082\n",
      "\n"
     ]
    }
   ],
   "source": [
    "#show 10 example\n",
    "for i in range(10):\n",
    "    temp=random_walk(num=3)\n",
    "    sent=walk_sent(temp)\n",
    "    gamesent=walk2gamesents(sent, relation2label)\n",
    "    tokens_tensor = tokenizer.encode(gamesent, add_special_tokens=False, return_tensors=\"pt\")           \n",
    "    value=score(tokens_tensor)\n",
    "    print(\"random walk: \", sent)\n",
    "    print(\"gamesentence is: \", gamesent)\n",
    "    print(value)\n",
    "    print()"
   ]
  },
  {
   "cell_type": "code",
   "execution_count": 27,
   "metadata": {},
   "outputs": [
    {
     "name": "stdout",
     "output_type": "stream",
     "text": [
      "random walk:  desk-/r/LocatedNear-globe-/r/LocatedNear-light_fixture\n",
      "gamesentence is:  desk behind globe that is located near in light fixture\n",
      "\n",
      "random walk:  bathtub-/r/LocatedNear-room-/r/LocatedNear-lamp\n",
      "gamesentence is:  bathtub against room that is located near in lamp\n",
      "\n",
      "random walk:  sofa-/r/AtLocation-house-/r/LocatedNear-bamboo\n",
      "gamesentence is:  sofa is located in house that is located near in bamboo\n",
      "\n",
      "random walk:  piano-/r/LocatedNear-lid-/r/LocatedNear-pen\n",
      "gamesentence is:  piano has lid that is located near in pen\n",
      "\n",
      "random walk:  fireplace-/r/LocatedNear-floor_lamp-/r/LocatedNear-monitor\n",
      "gamesentence is:  fireplace behind floor lamp that is located near in monitor\n",
      "\n",
      "random walk:  table-/r/UsedFor-eat-/r/HasPrerequisite-procure_food\n",
      "gamesentence is:  table is used for eat that has prerequisite, procure food\n",
      "\n",
      "random walk:  television-/r/LocatedNear-archway-/r/LocatedNear-alley\n",
      "gamesentence is:  television in archway that is located near in alley\n",
      "\n",
      "random walk:  toilet-/r/LocatedNear-curtain-/r/LocatedNear-polka_dots\n",
      "gamesentence is:  toilet beside curtain that is located near in polka dots\n",
      "\n",
      "random walk:  rug-/r/LocatedNear-clock-/r/AtLocation-own_bedroom\n",
      "gamesentence is:  rug by clock that is located in own bedroom\n",
      "\n",
      "random walk:  sink-/r/LocatedNear-hole-/r/UsedFor-holding_things\n",
      "gamesentence is:  sink has a hole that is used for holding things\n",
      "\n"
     ]
    }
   ],
   "source": [
    "#show 10 example\n",
    "for i in range(10):\n",
    "    temp=random_walk(num=2)\n",
    "    sent=walk_sent(temp)\n",
    "    gamesent=walk2gamesents(sent, relation2label)\n",
    "    print(\"random walk: \", sent)\n",
    "    print(\"gamesentence is: \", gamesent)\n",
    "    print()"
   ]
  },
  {
   "cell_type": "code",
   "execution_count": 28,
   "metadata": {},
   "outputs": [
    {
     "data": {
      "text/plain": [
       "['desk', 'mouse', 'computer', 'table', 'wood', 'building_wood_houses']"
      ]
     },
     "execution_count": 28,
     "metadata": {},
     "output_type": "execute_result"
    }
   ],
   "source": [
    "temp=all_relation_walk(threshold=100000,relation_list=[\"/r/AtLocation\",\"/r/LocatedNear\",\"/r/UsedFor\",\"/r/PartOf\",\"/r/MadeOf\"])\n",
    "temp"
   ]
  },
  {
   "cell_type": "code",
   "execution_count": 29,
   "metadata": {},
   "outputs": [
    {
     "data": {
      "text/plain": [
       "66.515434"
      ]
     },
     "execution_count": 29,
     "metadata": {},
     "output_type": "execute_result"
    }
   ],
   "source": [
    "sent=walk_sent(temp)\n",
    "gamesent=walk2gamesents(sent, relation2label)\n",
    "tokens_tensor = tokenizer.encode(gamesent, add_special_tokens=False, return_tensors=\"pt\")           \n",
    "score(tokens_tensor)"
   ]
  },
  {
   "cell_type": "code",
   "execution_count": 30,
   "metadata": {},
   "outputs": [
    {
     "name": "stderr",
     "output_type": "stream",
     "text": [
      "100%|██████████| 100/100 [00:20<00:00,  4.77it/s]\n"
     ]
    }
   ],
   "source": [
    "example_sents_set=set()\n",
    "sent_score_list=[]\n",
    "relation_list=[\"/r/AtLocation\",\"/r/LocatedNear\",\"/r/UsedFor\",\"/r/PartOf\",\"/r/MadeOf\"]\n",
    "for i in tqdm(range(100)):\n",
    "    temp=all_relation_walk(threshold=100000,relation_list=relation_list)\n",
    "    if len(temp)<=len(relation_list):\n",
    "        continue\n",
    "    sent=walk_sent(temp)\n",
    "    gamesent=walk2gamesents(sent, relation2label)\n",
    "    if gamesent in example_sents_set:\n",
    "        continue\n",
    "    else:\n",
    "        example_sents_set.add(gamesent)\n",
    "    tokens_tensor = tokenizer.encode(gamesent, add_special_tokens=False, return_tensors=\"pt\")           \n",
    "    sent_score_list.append([gamesent,score(tokens_tensor)])"
   ]
  },
  {
   "cell_type": "code",
   "execution_count": 31,
   "metadata": {},
   "outputs": [
    {
     "data": {
      "text/plain": [
       "87"
      ]
     },
     "execution_count": 31,
     "metadata": {},
     "output_type": "execute_result"
    }
   ],
   "source": [
    "len(sent_score_list)"
   ]
  },
  {
   "cell_type": "code",
   "execution_count": 32,
   "metadata": {},
   "outputs": [
    {
     "data": {
      "text/plain": [
       "<matplotlib.lines.Line2D at 0x7f052cd74690>"
      ]
     },
     "execution_count": 32,
     "metadata": {},
     "output_type": "execute_result"
    },
    {
     "data": {
      "image/png": "[encoded data removed]",
      "text/plain": [
       "<Figure size 432x288 with 1 Axes>"
      ]
     },
     "metadata": {
      "needs_background": "light"
     },
     "output_type": "display_data"
    }
   ],
   "source": [
    "a=plt.hist([item[1] for item in sent_score_list],bins=40)\n",
    "plt.axvline(100, color='r', linestyle='dashed', linewidth=3)"
   ]
  },
  {
   "cell_type": "code",
   "execution_count": 33,
   "metadata": {},
   "outputs": [],
   "source": [
    "filter_sents=[]\n",
    "\n",
    "for sent, val in sent_score_list:\n",
    "    if val <=100:\n",
    "        filter_sents.append([sent,val])"
   ]
  },
  {
   "cell_type": "code",
   "execution_count": 34,
   "metadata": {},
   "outputs": [
    {
     "data": {
      "text/plain": [
       "[['bed is located in basement that is part of house that is located near in tree trunk that is made of wood that is used for build furniture',\n",
       "  46.71077],\n",
       " ['table is made of metal that is located near in handle that is part of door that is located in school that is used for learning',\n",
       "  88.500175],\n",
       " ['ottoman is used for sitting that is located near in table that is made of stone that is located in gallbladder that is part of human body',\n",
       "  85.66499],\n",
       " ['piano is located in drawing room that is used for sitting that is located near in porch that is part of house that is made of rooms',\n",
       "  85.448074],\n",
       " ['bed is located in room that is located near in map that is used for information that is part of newspaper that is made of ink and paper',\n",
       "  78.02122],\n",
       " ['table is made of wood that is located near in leg that is part of chair that is located in floor that is used for sitting on',\n",
       "  50.34615],\n",
       " ['table is made of wood that is located near in cow that is located in ohio that is part of united states that is used for living in',\n",
       "  84.83836],\n",
       " ['piano is located in drawing room that is used for drawing that is located near in arm that is part of person that is made of water',\n",
       "  92.221405],\n",
       " ['fireplace is used for decoration that is located near in container that is located in food that is made of carbon that is part of kerosene',\n",
       "  83.83317],\n",
       " ['table is made of plastic that is located near in bed that is located in room that is part of building that is used for storing things',\n",
       "  61.116825]]"
      ]
     },
     "execution_count": 34,
     "metadata": {},
     "output_type": "execute_result"
    }
   ],
   "source": [
    "filter_sents[:10]"
   ]
  },
  {
   "cell_type": "markdown",
   "metadata": {},
   "source": [
    "# New Task\n",
    "The edges can have the thing as a subject or object\n",
    "This requires double templates\n",
    "X is used for Y\n",
    "Y uses X"
   ]
  },
  {
   "cell_type": "code",
   "execution_count": 37,
   "metadata": {},
   "outputs": [],
   "source": [
    "relation2label={\"/r/UsedFor\":\"is used for\",\"/r/CreatedBy\":\"is created by\",\"/r/CapableOf\":\"is capable of\",\n",
    "                \"/r/Causes\":\"casuses\",\"/r/PartOf\":\"is part of\",\"/r/HasContext\":'has context,',\"/r/MadeOf\":\"is made of\",\n",
    "                \"/r/HasPrerequisite\":\"has prerequisite,\",\"/r/CausesDesire\": \"causes desire,\",\"/r/NotDesires\":\"does not desire\",\n",
    "                \"/r/AtLocation\":\"is located in\",\"/r/LocatedNear\":\"is located near in\",\n",
    "                \"/r/AtLocation/r\":\"has\",\"/r/UsedFor/r\":\"uses\",\"/r/PartOf/r\": \"has a part,\",\"/r/MadeOf/r\":\"is used to make\",\"/r/LocatedNear/r\":\"is located near in\",}"
   ]
  },
  {
   "cell_type": "code",
   "execution_count": 60,
   "metadata": {},
   "outputs": [],
   "source": [
    "G = nx.DiGraph()\n",
    "for edge in edges:\n",
    "    sub,rel,obj=edge\n",
    "    sub=sub.replace(\" \",\"_\")\n",
    "    obj=obj.replace(\" \",\"_\")\n",
    "    G.add_edge(sub,obj,label=rel)"
   ]
  },
  {
   "cell_type": "code",
   "execution_count": 62,
   "metadata": {},
   "outputs": [
    {
     "data": {
      "text/plain": [
       "{'label': '/r/UsedFor'}"
      ]
     },
     "execution_count": 62,
     "metadata": {},
     "output_type": "execute_result"
    }
   ],
   "source": [
    "G[\"bed\"][\"sit_on\"]"
   ]
  },
  {
   "cell_type": "code",
   "execution_count": 224,
   "metadata": {},
   "outputs": [],
   "source": [
    "def relation_walk_twoheads(threshold=10,relation_list=[\"/r/AtLocation\",\"/r/LocatedNear\",\"/r/UsedFor\",\"/r/PartOf\",\"/r/MadeOf\"]):\n",
    "    # random assign head num and tail num\n",
    "    num_relation=len(relation_list)\n",
    "\n",
    "    for i in range(threshold):\n",
    "        sub=\"\"\n",
    "        obj=\"\"\n",
    "        relation_limit=set(relation_list)\n",
    "        root_name = random.sample(label_limit, 1)[0].replace(\" \",\"_\")\n",
    "        \n",
    "        sub_connect=[sub,[]]\n",
    "        obj_connect=[obj,[]]\n",
    "        \n",
    "        if G.has_node(root_name):\n",
    "            pass\n",
    "        else:\n",
    "            continue\n",
    "        relation_have=set()\n",
    "        for connected_node in G[root_name]:\n",
    "            relation_name=G[root_name][connected_node][\"label\"]\n",
    "            \n",
    "            if relation_name in relation_limit:\n",
    "                relation_have.add(relation_name)\n",
    "                \n",
    "        if len(relation_have)>0:\n",
    "            for connected_node in G[root_name]:\n",
    "                relation_name=G[root_name][connected_node][\"label\"]\n",
    "                \n",
    "                obj_relation_have=set()\n",
    "                if relation_name in relation_limit:\n",
    "                    temp = list(G[connected_node])\n",
    "                    random.shuffle(temp)\n",
    "                    for connected_node2 in temp:\n",
    "                        relation_name=G[connected_node][connected_node2][\"label\"]\n",
    "                        \n",
    "                        if relation_name in relation_limit:\n",
    "                            obj_relation_have.add(relation_name)\n",
    "                            \n",
    "                    # check whether this subject and object satisfy the requirement\n",
    "                    new_relation_have=relation_have.union(obj_relation_have)\n",
    "                    \n",
    "                    if len(new_relation_have)==len(relation_list):\n",
    "                        sub=root_name\n",
    "                        obj=connected_node\n",
    "                        break\n",
    "                    else:\n",
    "                        continue\n",
    "        else:\n",
    "            # no relation_list\n",
    "            continue\n",
    "            \n",
    "        if sub and obj:\n",
    "            # both are assigned\n",
    "            # try to find a road\n",
    "            connect_relation = G[sub][obj][\"label\"]\n",
    "            #print(sub, obj)\n",
    "            #print(relation_limit,relation_have,obj_relation_have)\n",
    "            relation_limit.remove(connect_relation)\n",
    "            relation_have.remove(connect_relation)\n",
    "            if connect_relation in obj_relation_have:\n",
    "                obj_relation_have.remove(connect_relation)\n",
    "            \n",
    "            sub_num=len(relation_have)\n",
    "            obj_num=len(obj_relation_have)\n",
    "            \n",
    "            sub_connect=[sub,[]]\n",
    "            obj_connect=[obj,[]]\n",
    "            if sub_num > obj_num:\n",
    "                relation_have=relation_have.intersection(obj_relation_have)\n",
    "                temp = list(G[obj])\n",
    "                random.shuffle(temp)\n",
    "                for node in temp:\n",
    "                    relation_name=G[obj][node][\"label\"]\n",
    "                    if relation_name in obj_relation_have:\n",
    "                        obj_relation_have.remove(relation_name)\n",
    "                        obj_connect[1].append(node)\n",
    "                        \n",
    "                temp = list(G[sub])\n",
    "                random.shuffle(temp)\n",
    "                for node in temp:\n",
    "                    relation_name=G[sub][node][\"label\"]\n",
    "                    if relation_name in relation_have:\n",
    "                        relation_have.remove(relation_name)\n",
    "                        sub_connect[1].append(node)\n",
    "            else:\n",
    "                obj_relation_have=obj_relation_have-relation_have\n",
    "                temp = list(G[sub])\n",
    "                random.shuffle(temp)\n",
    "                #print(obj_relation_have)\n",
    "                #print(relation_have)\n",
    "                for node in temp:\n",
    "                    relation_name=G[sub][node][\"label\"]\n",
    "                    if relation_name in relation_have:\n",
    "                        relation_have.remove(relation_name)\n",
    "                        sub_connect[1].append(node)\n",
    "                \n",
    "                temp = list(G[obj])\n",
    "                random.shuffle(temp)\n",
    "                for node in temp:\n",
    "                    relation_name=G[obj][node][\"label\"]\n",
    "                    if relation_name in obj_relation_have:\n",
    "                        obj_relation_have.remove(relation_name)\n",
    "                        obj_connect[1].append(node)\n",
    "            break\n",
    "        else:\n",
    "            continue\n",
    "            \n",
    "    return sub_connect, obj_connect\n",
    "\n",
    "def build_sentence(sub_connect,obj_connect, relation_label={}):\n",
    "    sub_sent=\"\"\n",
    "    obj_sent=\"\"\n",
    "    \n",
    "    for i in range(len(sub_connect[1])):\n",
    "        item = sub_connect[1][i]\n",
    "        sub_connect[1][i]= relation_label[G[sub_connect[0]][item][\"label\"]]+\" \"+item\n",
    "    sub_sent=sub_connect[0]+\" \"+\" and \".join(sub_connect[1])\n",
    "    \n",
    "    for i in range(len(obj_connect[1])):\n",
    "        item = obj_connect[1][i]\n",
    "        obj_connect[1][i]= relation_label[G[obj_connect[0]][item][\"label\"]]+\" \"+item\n",
    "    obj_sent=obj_connect[0]+\" \"+\" and \".join(obj_connect[1])\n",
    "    \n",
    "    forward_sent= sub_sent+\" \"+relation2label[G[sub_connect[0]][obj_connect[0]][\"label\"]]+\" \"+obj_sent\n",
    "    reverse_sent= obj_sent+\" \"+relation2label[G[sub_connect[0]][obj_connect[0]][\"label\"]+\"/r\"]+\" \"+sub_sent\n",
    "    return forward_sent,reverse_sent"
   ]
  },
  {
   "cell_type": "code",
   "execution_count": 225,
   "metadata": {},
   "outputs": [
    {
     "data": {
      "text/plain": [
       "(['computer', ['arm', 'entertainment', 'hardware']], ['house', ['zodiac']])"
      ]
     },
     "execution_count": 225,
     "metadata": {},
     "output_type": "execute_result"
    }
   ],
   "source": [
    "sub_connect,obj_connect=relation_walk_twoheads()\n",
    "sub_connect,obj_connect"
   ]
  },
  {
   "cell_type": "code",
   "execution_count": 226,
   "metadata": {},
   "outputs": [
    {
     "data": {
      "text/plain": [
       "('computer is located near in arm and is used for entertainment and is made of hardware is located in house is part of zodiac',\n",
       " 'house is part of zodiac has computer is located near in arm and is used for entertainment and is made of hardware')"
      ]
     },
     "execution_count": 226,
     "metadata": {},
     "output_type": "execute_result"
    }
   ],
   "source": [
    "build_sentence(sub_connect,obj_connect,relation_label=relation2label)"
   ]
  },
  {
   "cell_type": "code",
   "execution_count": 227,
   "metadata": {},
   "outputs": [
    {
     "name": "stderr",
     "output_type": "stream",
     "text": [
      "100%|██████████| 100/100 [00:08<00:00, 11.88it/s]\n"
     ]
    }
   ],
   "source": [
    "# generate 10 sentence\n",
    "forward_sents=[]\n",
    "reverse_sents=[]\n",
    "for i in tqdm(range(100)):\n",
    "    sub_connect,obj_connect=relation_walk_twoheads()\n",
    "    if not sub_connect[1] or not obj_connect[1]:\n",
    "        continue\n",
    "    forward_sent, reverse_sent=build_sentence(sub_connect,obj_connect,relation_label=relation2label)\n",
    "    tokens_tensor = tokenizer.encode(forward_sent, add_special_tokens=False, return_tensors=\"pt\")\n",
    "    result_score1=score(tokens_tensor)\n",
    "    \n",
    "    tokens_tensor = tokenizer.encode(reverse_sent, add_special_tokens=False, return_tensors=\"pt\")\n",
    "    result_score2=score(tokens_tensor)\n",
    "    forward_sents.append([forward_sent,result_score1])\n",
    "    reverse_sents.append([reverse_sent,result_score2])"
   ]
  },
  {
   "cell_type": "code",
   "execution_count": 229,
   "metadata": {},
   "outputs": [
    {
     "data": {
      "text/plain": [
       "[['rug is used for decoration is located near in window is located in building and is part of auto and is made of glass',\n",
       "  129.48123],\n",
       " ['dresser is used for storing_clothing is located near in window is located in room and is made of glass and is part of auto',\n",
       "  153.51976],\n",
       " ['toilet is located in restaurant and is made of porcelain is located near in house is used for home and is part of zodiac',\n",
       "  88.93277],\n",
       " ['shower is part of house and is used for washing is located near in glass is located in dishwasher and is made of molten_sand',\n",
       "  141.21385],\n",
       " ['dishwasher is used for washing_dishes is located near in window is located in building and is made of glass and is part of auto',\n",
       "  109.83591],\n",
       " ['shower is used for bathing and is part of house is located near in glass is located in street and is made of sand',\n",
       "  120.71493],\n",
       " ['fireplace is located in home and is used for decoration is located near in house is made of building_material and is part of zodiac',\n",
       "  138.575],\n",
       " ['dishwasher is used for washing_dishes is located near in window is located in loft and is part of auto and is made of glass',\n",
       "  134.84572],\n",
       " ['toilet is located in plumbing_shop and is made of porcelain is located near in house is part of zodiac and is used for entertaining',\n",
       "  126.1113],\n",
       " ['dishwasher is used for washing_dishes is located near in window is located in bedroom and is part of auto and is made of glass',\n",
       "  116.18472]]"
      ]
     },
     "execution_count": 229,
     "metadata": {},
     "output_type": "execute_result"
    }
   ],
   "source": [
    "forward_sents[:10]"
   ]
  },
  {
   "cell_type": "code",
   "execution_count": 228,
   "metadata": {},
   "outputs": [
    {
     "data": {
      "text/plain": [
       "[['window is located in building and is part of auto and is made of glass is located near in rug is used for decoration',\n",
       "  132.36784],\n",
       " ['window is located in room and is made of glass and is part of auto is located near in dresser is used for storing_clothing',\n",
       "  118.3561],\n",
       " ['house is used for home and is part of zodiac is located near in toilet is located in restaurant and is made of porcelain',\n",
       "  96.14476],\n",
       " ['glass is located in dishwasher and is made of molten_sand is located near in shower is part of house and is used for washing',\n",
       "  90.51249],\n",
       " ['window is located in building and is made of glass and is part of auto is located near in dishwasher is used for washing_dishes',\n",
       "  103.59777],\n",
       " ['glass is located in street and is made of sand is located near in shower is used for bathing and is part of house',\n",
       "  111.273735],\n",
       " ['house is made of building_material and is part of zodiac is located near in fireplace is located in home and is used for decoration',\n",
       "  158.384],\n",
       " ['window is located in loft and is part of auto and is made of glass is located near in dishwasher is used for washing_dishes',\n",
       "  124.54951],\n",
       " ['house is part of zodiac and is used for entertaining is located near in toilet is located in plumbing_shop and is made of porcelain',\n",
       "  155.57253],\n",
       " ['window is located in bedroom and is part of auto and is made of glass is located near in dishwasher is used for washing_dishes',\n",
       "  99.27457]]"
      ]
     },
     "execution_count": 228,
     "metadata": {},
     "output_type": "execute_result"
    }
   ],
   "source": [
    "reverse_sents[:10]"
   ]
  },
  {
   "cell_type": "code",
   "execution_count": 233,
   "metadata": {},
   "outputs": [
    {
     "data": {
      "text/plain": [
       "<matplotlib.legend.Legend at 0x7f052cb672d0>"
      ]
     },
     "execution_count": 233,
     "metadata": {},
     "output_type": "execute_result"
    },
    {
     "data": {
      "image/png": "[encoded data removed]",
      "text/plain": [
       "<Figure size 432x288 with 1 Axes>"
      ]
     },
     "metadata": {
      "needs_background": "light"
     },
     "output_type": "display_data"
    }
   ],
   "source": [
    "# draw a score graph\n",
    "y1=[_[1] for _ in forward_sents]\n",
    "y2=[_[1] for _ in reverse_sents]\n",
    "x= range(len(forward_sents))\n",
    "\n",
    "plt.xlabel('Sentence')\n",
    "plt.ylabel('Perplexity of Sentences')\n",
    "plt.plot(x,y1,'r--',label='Forward Sentence')\n",
    "plt.plot(x,y2,'b--',label='Reverse Sentence')\n",
    "\n",
    "plt.legend()"
   ]
  },
  {
   "cell_type": "code",
   "execution_count": 238,
   "metadata": {},
   "outputs": [
    {
     "data": {
      "text/plain": [
       "Text(0.5, 1.0, 'Perplexity Distribution Forward Sentence')"
      ]
     },
     "execution_count": 238,
     "metadata": {},
     "output_type": "execute_result"
    },
    {
     "data": {
      "image/png": "[encoded data removed]",
      "text/plain": [
       "<Figure size 432x288 with 1 Axes>"
      ]
     },
     "metadata": {
      "needs_background": "light"
     },
     "output_type": "display_data"
    }
   ],
   "source": [
    "plt.hist(y1)\n",
    "plt.title('Perplexity Distribution Forward Sentence')"
   ]
  },
  {
   "cell_type": "code",
   "execution_count": 239,
   "metadata": {},
   "outputs": [
    {
     "data": {
      "text/plain": [
       "Text(0.5, 1.0, 'Perplexity Distribution Reverse Sentence')"
      ]
     },
     "execution_count": 239,
     "metadata": {},
     "output_type": "execute_result"
    },
    {
     "data": {
      "image/png": "[encoded data removed]",
      "text/plain": [
       "<Figure size 432x288 with 1 Axes>"
      ]
     },
     "metadata": {
      "needs_background": "light"
     },
     "output_type": "display_data"
    }
   ],
   "source": [
    "plt.hist(y2)\n",
    "plt.title(\"Perplexity Distribution Reverse Sentence\")"
   ]
  },
  {
   "cell_type": "code",
   "execution_count": null,
   "metadata": {},
   "outputs": [],
   "source": []
  }
 ],
 "metadata": {
  "kernelspec": {
   "display_name": "isi",
   "language": "python",
   "name": "isi"
  }
 },
 "nbformat": 4,
 "nbformat_minor": 4
}
