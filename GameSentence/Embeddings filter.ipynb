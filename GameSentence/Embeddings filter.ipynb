{
 "cells": [
  {
   "cell_type": "code",
   "execution_count": 1,
   "id": "incredible-uzbekistan",
   "metadata": {},
   "outputs": [],
   "source": [
    "import os, spacy, gzip, rltk, gzip, random, os\n",
    "import torch\n",
    "from tqdm import tqdm\n",
    "from collections import defaultdict\n",
    "import networkx as nx\n",
    "from numpy import dot\n",
    "from numpy.linalg import norm\n",
    "import numpy as np\n",
    "from sentence_transformers import SentenceTransformer\n",
    "from textblob import TextBlob\n",
    "from nltk.sentiment import SentimentIntensityAnalyzer\n",
    "import matplotlib.pyplot as plt\n",
    "from nltk.corpus import wordnet as wn\n",
    "from sklearn.model_selection import train_test_split\n",
    "from sklearn.metrics import accuracy_score"
   ]
  },
  {
   "cell_type": "code",
   "execution_count": 23,
   "id": "helpful-museum",
   "metadata": {},
   "outputs": [],
   "source": [
    "input_dir='input'\n",
    "wordnet_file=\"%s/kgtk_wordnet.tsv\" % input_dir\n",
    "cskg_embeddings_file=\"%s/bert_embeddings.txt\" % input_dir\n",
    "cskg_tranE_file=\"%s/trans_log_dot_0.1.tsv.gz\" % input_dir\n",
    "cskg_complex_file='%s/comp_log_dot_0.1.tsv.gz' % input_dir\n",
    "cskg_file=\"%s/cskg_renamed.tsv.gz\" % input_dir"
   ]
  },
  {
   "cell_type": "markdown",
   "id": "brave-copper",
   "metadata": {},
   "source": [
    "## Data Preparation\n",
    "load data model, embedding file, and black list (takes 10 mins, grab a coffee)"
   ]
  },
  {
   "cell_type": "code",
   "execution_count": 4,
   "id": "138cd351-4e72-40ba-835d-1bb4855312f8",
   "metadata": {},
   "outputs": [
    {
     "name": "stderr",
     "output_type": "stream",
     "text": [
      "[nltk_data] Downloading package vader_lexicon to\n",
      "[nltk_data]     /Users/filipilievski/nltk_data...\n"
     ]
    },
    {
     "data": {
      "text/plain": [
       "True"
      ]
     },
     "execution_count": 4,
     "metadata": {},
     "output_type": "execute_result"
    }
   ],
   "source": [
    "import nltk\n",
    "nltk.download('vader_lexicon')"
   ]
  },
  {
   "cell_type": "code",
   "execution_count": 5,
   "id": "greek-rescue",
   "metadata": {},
   "outputs": [
    {
     "name": "stderr",
     "output_type": "stream",
     "text": [
      "Some weights of the model checkpoint at /Users/filipilievski/.cache/torch/sentence_transformers/sbert.net_models_nli-bert-large/0_BERT were not used when initializing BertModel: ['classifier.weight', 'classifier.bias']\n",
      "- This IS expected if you are initializing BertModel from the checkpoint of a model trained on another task or with another architecture (e.g. initializing a BertForSequenceClassification model from a BertForPreTraining model).\n",
      "- This IS NOT expected if you are initializing BertModel from the checkpoint of a model that you expect to be exactly identical (initializing a BertForSequenceClassification model from a BertForSequenceClassification model).\n"
     ]
    }
   ],
   "source": [
    "# sentence transformer model\n",
    "model = SentenceTransformer('nli-bert-large')\n",
    "# nlp model\n",
    "nlp = spacy.load(\"en_core_web_sm\")\n",
    "# sentiment model\n",
    "sia = SentimentIntensityAnalyzer()"
   ]
  },
  {
   "cell_type": "code",
   "execution_count": 6,
   "id": "capable-football",
   "metadata": {},
   "outputs": [],
   "source": [
    "def text2token(text):\n",
    "    doc=nlp(text)\n",
    "    for sent in doc.sents:\n",
    "        break\n",
    "        \n",
    "    return list(sent)\n",
    "\n",
    "def load_source(filename):\n",
    "    # load data\n",
    "    with open(filename,\"r\",encoding=\"utf-8\") as f:\n",
    "        head=f.readline().strip().split(\"\\t\")\n",
    "        data=[]\n",
    "        for line in f:\n",
    "            temp=line.strip().split(\"\\t\")\n",
    "            data.append([item.split(\"|\")[0] for item in temp])\n",
    "            \n",
    "    return head, data\n",
    "\n",
    "def cosine_similar(embed1, embed2):\n",
    "    similar=dot(embed1, embed2)/(norm(embed1)*norm(embed2))\n",
    "    return similar\n",
    "\n",
    "# load cskg embedding file\n",
    "def load_embedding():\n",
    "    with open(cskg_embeddings_file,\"r\") as f:\n",
    "        head= f.readline().strip().split(\"\\t\")\n",
    "\n",
    "        # obtain embedding_sentence in file\n",
    "        cskg_word_embeddings=dict()\n",
    "\n",
    "        for item in tqdm(f):\n",
    "            # obtain list of line\n",
    "            line=item.strip().split(\"\\t\")\n",
    "\n",
    "            # only property is text embedding can obtain embeddings\n",
    "            word=line[0]\n",
    "            prop=line[1]\n",
    "            embedding=line[2]\n",
    "\n",
    "            if prop==\"text_embedding\":\n",
    "                cskg_word_embeddings[word]=embedding\n",
    "    return cskg_word_embeddings\n",
    "\n",
    "# load complex and tranE file\n",
    "def load_embedding_gz(filename):\n",
    "    cskg_word_embeddings=dict()\n",
    "    f=gzip.open(filename,'rb')\n",
    "    \n",
    "    for item in tqdm(f):\n",
    "        # obtain list of line\n",
    "        line=item.strip().decode(\"utf-8\").split(\"\\t\")\n",
    "        word=line[0]\n",
    "        embed=np.array([float(_) for _ in line[2:]])\n",
    "        cskg_word_embeddings[word]=embed\n",
    "        \n",
    "    return cskg_word_embeddings\n",
    "\n",
    "def synsets_cosine_sim(label1, label2):\n",
    "    # find the highest cosine similarity between two label by synsets definition\n",
    "    syns1=wn.synsets(label1.replace(\" \",\"_\"))\n",
    "    syns2=wn.synsets(label2.replace(\" \",\"_\"))\n",
    "    \n",
    "    sents1=[]\n",
    "    sents2=[]\n",
    "    \n",
    "    for syn in syns1:\n",
    "        sent=syn.definition()\n",
    "        sents1.append(sent)\n",
    "        \n",
    "    for syn in syns2:\n",
    "        sent=syn.definition()\n",
    "        sents2.append(sent)\n",
    "        \n",
    "    sents1_embed=model.encode(sents1)\n",
    "    sents2_embed=model.encode(sents2)\n",
    "    max_sim=0\n",
    "    \n",
    "    for embed1 in sents1_embed:\n",
    "        for embed2 in sents2_embed:\n",
    "            sim=cosine_similar(embed1,embed2)\n",
    "            max_sim=max(max_sim,sim)\n",
    "            \n",
    "    return max_sim\n",
    "\n",
    "def find_sent(sent_target, items):\n",
    "    for item in items:\n",
    "        sent_candit=item[0]\n",
    "        \n",
    "        if sent_candit==sent_target:\n",
    "            return item\n",
    "        \n",
    "def prediction_check(predict_score, threshold, ground):\n",
    "    if predict_score>threshold:\n",
    "        predict=\"1\"\n",
    "    else:\n",
    "        predict=\"0\"\n",
    "        \n",
    "    return predict==ground"
   ]
  },
  {
   "cell_type": "code",
   "execution_count": 7,
   "id": "starting-savage",
   "metadata": {},
   "outputs": [
    {
     "name": "stderr",
     "output_type": "stream",
     "text": [
      "2160968it [01:15, 28493.80it/s]\n",
      "2160968it [01:21, 26573.84it/s]\n"
     ]
    }
   ],
   "source": [
    "# embedding file\n",
    "cskg_tranE_embedding=load_embedding_gz(cskg_tranE_file)\n",
    "cskg_complex_embedding=load_embedding_gz(cskg_complex_file)"
   ]
  },
  {
   "cell_type": "code",
   "execution_count": 24,
   "id": "e08b5fee-94e5-4042-ae74-295d3a1b9f4f",
   "metadata": {},
   "outputs": [
    {
     "name": "stderr",
     "output_type": "stream",
     "text": [
      "4322096it [00:42, 101251.85it/s]\n"
     ]
    }
   ],
   "source": [
    "cskg_word_embeddings=load_embedding()"
   ]
  },
  {
   "cell_type": "code",
   "execution_count": 10,
   "id": "narrow-laundry",
   "metadata": {},
   "outputs": [],
   "source": [
    "# build wordnet ontology\n",
    "# load wordnet\n",
    "# use wordnet build ontology to find blacklist related to person and animal\n",
    "wordnet_head,wordnet_lines=load_source(wordnet_file)\n",
    "wordnet_g=nx.DiGraph()\n",
    "\n",
    "id2label=defaultdict(set)\n",
    "#black_list={\"room.n.02\",'room.n.01',\"food.n.01\",'animal.n.01','person.n.01',\"people.n.01\",\"peoples.n.01\"}\n",
    "black_list={'animal.n.01','person.n.01',\"people.n.01\",\"peoples.n.01\"}\n",
    "for line in wordnet_lines:\n",
    "    if line[1]== \"/r/IsA\":\n",
    "        node1=line[0].split(\":\")[1]\n",
    "        node2=line[2].split(\":\")[1]\n",
    "        node1_labels=line[3].replace('\"',\"\").split(\"|\")\n",
    "        node2_labels=line[4].replace('\"',\"\").split(\"|\")\n",
    "        id2label[node1]=id2label[node1].union(node1_labels)\n",
    "        id2label[node2]=id2label[node2].union(node2_labels)\n",
    "        \n",
    "        if \".v.\" in node1 or \".v.\" in node1:\n",
    "            continue\n",
    "        wordnet_g.add_edge(node1,node2)\n",
    "    else:\n",
    "        continue\n",
    "        \n",
    "new_black_list=set()\n",
    "# check all sub class of blacklist\n",
    "\n",
    "for item in black_list:\n",
    "    temp=[item]\n",
    "    new_black_list.add(item)\n",
    "    while temp:\n",
    "        new_temp=[]\n",
    "        for issue in temp:\n",
    "            new_temp+=[edge[0] for edge in wordnet_g.in_edges(issue)]\n",
    "            \n",
    "        new_temp_set=set(new_temp)\n",
    "        new_black_list=new_black_list.union(new_temp_set)\n",
    "        temp=new_temp_set\n",
    "        \n",
    "# check the blacklist label\n",
    "blacklist_label=set()\n",
    "\n",
    "for id_ in new_black_list:\n",
    "    blacklist_label=blacklist_label.union(id2label[id_])\n",
    "    \n",
    "blacklist_label.add(\"human\")"
   ]
  },
  {
   "cell_type": "code",
   "execution_count": 12,
   "id": "c54ee9f9-873d-4789-b6ad-a66927b1c89d",
   "metadata": {},
   "outputs": [
    {
     "data": {
      "text/plain": [
       "10219"
      ]
     },
     "execution_count": 12,
     "metadata": {},
     "output_type": "execute_result"
    }
   ],
   "source": [
    "len(blacklist_label)"
   ]
  },
  {
   "cell_type": "code",
   "execution_count": 15,
   "id": "4b66ca37-999d-4ac3-b1a6-11a80d11e5fb",
   "metadata": {},
   "outputs": [
    {
     "data": {
      "text/plain": [
       "11117"
      ]
     },
     "execution_count": 15,
     "metadata": {},
     "output_type": "execute_result"
    }
   ],
   "source": [
    "len(new_black_list)"
   ]
  },
  {
   "cell_type": "code",
   "execution_count": 21,
   "id": "c9dcb400-dd12-4bdd-b336-6081e9066835",
   "metadata": {},
   "outputs": [
    {
     "data": {
      "text/plain": [
       "True"
      ]
     },
     "execution_count": 21,
     "metadata": {},
     "output_type": "execute_result"
    }
   ],
   "source": [
    "# example of blacklist_label\n",
    "# check whether girl in blacklist\n",
    "\n",
    "\"girl\" in blacklist_label"
   ]
  },
  {
   "cell_type": "code",
   "execution_count": 18,
   "id": "50694a10",
   "metadata": {},
   "outputs": [],
   "source": [
    "# load cskg_renamed file\n",
    "with gzip.open(cskg_file) as f:\n",
    "\n",
    "    head=f.readline()\n",
    "    cskg_renamed_dist=dict()\n",
    "    for line in f:\n",
    "        line=line.strip().decode(\"utf-8\").split(\"\\t\")\n",
    "        node1=line[1]\n",
    "        node2=line[3]\n",
    "\n",
    "        node1_label=line[4].split(\"|\")[0].replace('\"','')\n",
    "        node2_label=line[5].split(\"|\")[0].replace('\"','')\n",
    "        if node1_label != \"\":\n",
    "            cskg_renamed_dist[node1]=node1_label\n",
    "\n",
    "        if node2_label != \"\":\n",
    "            cskg_renamed_dist[node2]=node2_label"
   ]
  },
  {
   "cell_type": "markdown",
   "id": "suspended-outside",
   "metadata": {},
   "source": [
    "## Case 2: Alternatives\n",
    "\n",
    "I went to the (Y) and I wanted to (X). There was no (Z), can I use (C) instead?"
   ]
  },
  {
   "cell_type": "code",
   "execution_count": 32,
   "id": "284896c3",
   "metadata": {},
   "outputs": [],
   "source": [
    "# data file location\n",
    "\n",
    "data_part1=\"output/case2_1.gz\"\n",
    "data_part2=\"output/case2_2.gz\"\n",
    "\n",
    "case2_cskg_file=\"output/case2_cskg.txt\"\n",
    "case2_bert_file=\"output/case2_bert.txt\"\n",
    "case2_tranE_file=\"output/case2_tranE.txt\"\n",
    "case2_complex_file=\"output/case2_complex.txt\"\n",
    "\n",
    "case2_cskgFFN_file=\".output/case2_cskg_FFN.txt\"\n",
    "case2_bertFFN_file=\"output/case2_bert_FFN.txt\"\n",
    "case2_tranEFFN_file=\"output/case2_tranE_FFN.txt\"\n",
    "case2_complexFFN_file=\"output/case2_complex_FFN.txt\"\n",
    "\n",
    "case2_ground=\"./ground/case2_ground.tsv\""
   ]
  },
  {
   "cell_type": "code",
   "execution_count": 29,
   "id": "fancy-class",
   "metadata": {},
   "outputs": [
    {
     "name": "stderr",
     "output_type": "stream",
     "text": [
      "[2021-05-26 09:49:07 sqlstore]: IMPORT graph directly into table graph_1 from /Users/filipilievski/mcs/kg-bert/GameSentence/input/cskg_renamed.tsv.gz ...\n",
      "[2021-05-26 09:50:16 query]: SQL Translation:\n",
      "---------------------------------------------\n",
      "  SELECT graph_1_c1.\"node1\" \"_aLias.plan\", graph_1_c4.\"node1\" \"_aLias.alt\", graph_1_c1.\"node2\" \"_aLias.goal\", graph_1_c3.\"node2\" \"_aLias.loc\"\n",
      "     FROM graph_1 AS graph_1_c1, graph_1 AS graph_1_c2, graph_1 AS graph_1_c3, graph_1 AS graph_1_c4\n",
      "     WHERE graph_1_c1.\"label\"=?\n",
      "     AND graph_1_c2.\"label\"=?\n",
      "     AND graph_1_c3.\"label\"=?\n",
      "     AND graph_1_c4.\"label\"=?\n",
      "     AND graph_1_c1.\"node1\"=graph_1_c2.\"node1\"\n",
      "     AND graph_1_c1.\"node2\"=graph_1_c4.\"node2\"\n",
      "     AND graph_1_c2.\"node2\"=graph_1_c3.\"node2\"\n",
      "     AND graph_1_c3.\"node1\"=graph_1_c4.\"node1\"\n",
      "     AND (graph_1_c4.\"node1\" != graph_1_c1.\"node1\")\n",
      "  PARAS: ['/r/CapableOf', '/r/AtLocation', '/r/AtLocation', '/r/CapableOf']\n",
      "---------------------------------------------\n",
      "[2021-05-26 09:50:16 sqlstore]: CREATE INDEX on table graph_1 column node2 ...\n",
      "[2021-05-26 09:50:22 sqlstore]: ANALYZE INDEX on table graph_1 column node2 ...\n",
      "[2021-05-26 09:50:22 sqlstore]: CREATE INDEX on table graph_1 column label ...\n",
      "[2021-05-26 09:50:25 sqlstore]: ANALYZE INDEX on table graph_1 column label ...\n",
      "[2021-05-26 09:50:26 sqlstore]: CREATE INDEX on table graph_1 column node1 ...\n",
      "[2021-05-26 09:50:28 sqlstore]: ANALYZE INDEX on table graph_1 column node1 ...\n",
      "[2021-05-26 09:50:44 query]: SQL Translation:\n",
      "---------------------------------------------\n",
      "  SELECT graph_1_c2.\"node1\" \"_aLias.plan\", graph_1_c3.\"node1\" \"_aLias.alt\", graph_1_c4.\"node2\" \"_aLias.goal\", graph_1_c3.\"node2\" \"_aLias.loc\"\n",
      "     FROM graph_1 AS graph_1_c1, graph_1 AS graph_1_c2, graph_1 AS graph_1_c3, graph_1 AS graph_1_c4\n",
      "     WHERE graph_1_c1.\"label\"=?\n",
      "     AND graph_1_c2.\"label\"=?\n",
      "     AND graph_1_c3.\"label\"=?\n",
      "     AND graph_1_c4.\"label\"=?\n",
      "     AND graph_1_c1.\"node1\"=graph_1_c2.\"node1\"\n",
      "     AND graph_1_c1.\"node2\"=graph_1_c4.\"node2\"\n",
      "     AND graph_1_c2.\"node2\"=graph_1_c3.\"node2\"\n",
      "     AND graph_1_c3.\"node1\"=graph_1_c4.\"node1\"\n",
      "     AND (graph_1_c3.\"node1\" != graph_1_c2.\"node1\")\n",
      "  PARAS: ['/r/UsedFor', '/r/AtLocation', '/r/AtLocation', '/r/UsedFor']\n",
      "---------------------------------------------\n"
     ]
    }
   ],
   "source": [
    "%%bash\n",
    "kgtk query --debug -i input/cskg_renamed.tsv.gz --match '(x)<-[:`/r/CapableOf`]-(z)-[:`/r/AtLocation`]->(y)<-[:`/r/AtLocation`]-(c)-[:`/r/CapableOf`]->(x)' --where 'c!=z' --return 'z as plan, c as alt, x as goal, y as loc' -o output/case2_1.gz\n",
    "kgtk query --debug -i input/cskg_renamed.tsv.gz --match '(x)<-[:`/r/UsedFor`]-(z)-[:`/r/AtLocation`]->(y)<-[:`/r/AtLocation`]-(c)-[:`/r/UsedFor`]->(x)' --where 'c!=z' --return 'z as plan, c as alt, x as goal, y as loc' -o output/case2_2.gz"
   ]
  },
  {
   "cell_type": "code",
   "execution_count": 33,
   "id": "third-tourism",
   "metadata": {},
   "outputs": [],
   "source": [
    "# load case2.txt file (the data file generated by kgtk)\n",
    "# output head and content\n",
    "f=gzip.open(data_part1)\n",
    "\n",
    "head=f.readline()\n",
    "content=[]\n",
    "for line in f:\n",
    "    content.append(line.strip().decode(\"utf-8\").split(\"\\t\"))\n",
    "    \n",
    "f=gzip.open(data_part2)\n",
    "\n",
    "head=f.readline()\n",
    "for line in f:\n",
    "    content.append(line.strip().decode(\"utf-8\").split(\"\\t\"))"
   ]
  },
  {
   "cell_type": "code",
   "execution_count": 34,
   "id": "a4f23b5f",
   "metadata": {},
   "outputs": [],
   "source": [
    "# remove duplicate\n",
    "# content line format: [z, c, x, y]\n",
    "# for case2, [z,c,x,y] is the same as [c,z,x,y]\n",
    "content_set=set()\n",
    "\n",
    "for line in content:\n",
    "    z,c,x,y=line\n",
    "    \n",
    "    if (z,c,x,y) not in content_set and (c,z,x,y) not in content_set:\n",
    "        content_set.add((z,c,x,y))"
   ]
  },
  {
   "cell_type": "code",
   "execution_count": 35,
   "id": "ae59fba0",
   "metadata": {},
   "outputs": [
    {
     "name": "stdout",
     "output_type": "stream",
     "text": [
      "Number of lines: 29926\n",
      "Number of lines after removing duplicate: 14949\n"
     ]
    }
   ],
   "source": [
    "# before removing\n",
    "print(f\"Number of lines: {len(content)}\")\n",
    "# after removing\n",
    "print(f\"Number of lines after removing duplicate: {len(content_set)}\")"
   ]
  },
  {
   "cell_type": "code",
   "execution_count": 36,
   "id": "gorgeous-lawyer",
   "metadata": {},
   "outputs": [
    {
     "name": "stdout",
     "output_type": "stream",
     "text": [
      "Number of location type: 687\n",
      "Number of chosen location: 96\n"
     ]
    }
   ],
   "source": [
    "# from content obtain the frequency of each location\n",
    "loc_distribution=dict()\n",
    "for line in content_set:\n",
    "    location=line[3]\n",
    "    \n",
    "    loc_distribution[location]=loc_distribution.get(location,0)+1\n",
    "print(\"Number of location type:\", len(loc_distribution))\n",
    "\n",
    "# only choose top 100 locations\n",
    "num_loc=100\n",
    "loc_sort=sorted(loc_distribution.items(),key=lambda k:k[1], reverse=True)\n",
    "loc_chosen=set([_[0] for _ in loc_sort[:num_loc]])\n",
    "# manual remove \n",
    "manual_remove_list=[\"/c/en/symphony\",\"/c/en/marching_band\",\"/c/en/band\",\"/c/en/orchestra\"]\n",
    "for item in manual_remove_list:\n",
    "    loc_chosen.remove(item)\n",
    "\n",
    "print(\"Number of chosen location:\", len(loc_chosen))\n",
    "# filter contenct by loc_chosen\n",
    "new_content=[]\n",
    "\n",
    "for line in content_set:\n",
    "    location=line[3]\n",
    "    if location in loc_chosen:\n",
    "        new_content.append(line)"
   ]
  },
  {
   "cell_type": "code",
   "execution_count": 37,
   "id": "quantitative-segment",
   "metadata": {},
   "outputs": [
    {
     "name": "stdout",
     "output_type": "stream",
     "text": [
      "Number of lines for all locations: 14949\n",
      "Number of lines for top 100 locations: 9733\n"
     ]
    }
   ],
   "source": [
    "print(f\"Number of lines for all locations: {len(content_set)}\")\n",
    "print(f\"Number of lines for top 100 locations: {len(new_content)}\")"
   ]
  },
  {
   "cell_type": "code",
   "execution_count": 39,
   "id": "mobile-fusion",
   "metadata": {
    "scrolled": true
   },
   "outputs": [
    {
     "name": "stderr",
     "output_type": "stream",
     "text": [
      "100%|██████████| 9733/9733 [01:24<00:00, 115.57it/s]\n"
     ]
    }
   ],
   "source": [
    "# filter content (target about 20 lines)\n",
    "# I went to the (Y) and I wanted to (X). There was no (Z), can I use (C) instead?\n",
    "# z as plan, c as alt, x as goal, y as loc\n",
    "\n",
    "\"\"\"\n",
    "Filter:\n",
    "Find similarity between Z and C\n",
    "filter sentence if leve similarity>0.6, jaccard similarity>0.6, and word synsets\n",
    "\"\"\"\n",
    "filter_content=[]\n",
    "leve_threshold=0.6\n",
    "jaccard_threshold=0.6\n",
    "for i in tqdm(range(len(new_content))):\n",
    "    line = new_content[i]\n",
    "    z_label=cskg_renamed_dist[line[0]]\n",
    "    c_label=cskg_renamed_dist[line[1]]\n",
    "    x_label=cskg_renamed_dist[line[2]]\n",
    "    \n",
    "    leve_sim=rltk.levenshtein_similarity(z_label,c_label)\n",
    "    jaccard_sim=rltk.hybrid_jaccard_similarity(set(z_label.split(\" \")),set(c_label.split(\" \")),\n",
    "                                                   function=rltk.levenshtein_similarity)\n",
    "    \n",
    "    if leve_sim>=leve_threshold or jaccard_sim>=jaccard_threshold:\n",
    "        continue\n",
    "    \n",
    "    # filter line by X, POS should be (verb)\n",
    "    tokens=text2token(x_label)\n",
    "    \n",
    "    if len(tokens)==0:\n",
    "        continue\n",
    "        \n",
    "    token1=tokens[0]\n",
    "    z_token=text2token(line[0].split(\"/\")[-1])[0]\n",
    "    c_token=text2token(line[1].split(\"/\")[-1])[0]\n",
    "    y_label=line[-1].split(\"/\")[-1]\n",
    "    \n",
    "    if z_token.lemma_==c_token.lemma_:\n",
    "        continue\n",
    "    \n",
    "    # filter token like \"cat\", \"dog\", \"woman\".....\n",
    "    if z_token.lemma_ in blacklist_label or c_token.lemma_ in blacklist_label:\n",
    "        continue\n",
    "    \n",
    "    # filter \"theater\" and \"movie theater\"\n",
    "    if z_token.lemma_ in c_token.lemma_ or c_token.lemma_ in z_token.lemma_:\n",
    "        continue\n",
    "    \n",
    "#     z_embed=np.array(eval(\"[\"+cskg_word_embeddings[line[0]]+\"]\"))\n",
    "#     c_embed=np.array(eval(\"[\"+cskg_word_embeddings[line[1]]+\"]\"))\n",
    "#     cosine_sim=synsets_cosine_sim(z_label,c_label)\n",
    "#     if cosine_sim>=0.9:\n",
    "#         continue\n",
    "        \n",
    "    if token1.pos_==\"VERB\":\n",
    "        filter_content.append(line)"
   ]
  },
  {
   "cell_type": "code",
   "execution_count": 40,
   "id": "3a1e1aa4",
   "metadata": {},
   "outputs": [
    {
     "name": "stdout",
     "output_type": "stream",
     "text": [
      "Number of lines before filtering: 9733\n",
      "Number of lines after filtering: 4643\n"
     ]
    }
   ],
   "source": [
    "print(f\"Number of lines before filtering: {len(new_content)}\")\n",
    "print(f\"Number of lines after filtering: {len(filter_content)}\")"
   ]
  },
  {
   "cell_type": "code",
   "execution_count": 17,
   "id": "cellular-joyce",
   "metadata": {
    "tags": []
   },
   "outputs": [
    {
     "name": "stderr",
     "output_type": "stream",
     "text": [
      "100%|██████████| 3587/3587 [02:45<00:00, 21.67it/s]\n"
     ]
    }
   ],
   "source": [
    "# generate sentence based on the generation filter line\n",
    "# Sentence format: I went to the (Y) and I wanted to (X). There was no (Z), can I use (C) instead?\n",
    "location_sents=defaultdict(set)\n",
    "\n",
    "\"\"\"\n",
    "output: location_sents\n",
    "output format:{location_id:[sentence,\n",
    "                            Node Embedding Similarity,\n",
    "                            transE Embedding similarity,\n",
    "                            complex similarity,\n",
    "                            Z label name,\n",
    "                            C label name]}\n",
    "\"\"\"\n",
    "\n",
    "for line in tqdm(filter_content):\n",
    "    z_label=cskg_renamed_dist[line[0]]\n",
    "    c_label=cskg_renamed_dist[line[1]]\n",
    "    x_label=cskg_renamed_dist[line[2]]\n",
    "    x_label = \" \".join([_.lemma_ for _ in text2token(x_label)])\n",
    "    y_label=cskg_renamed_dist[line[3]]\n",
    "    sent=f\"I went to the {y_label} and I wanted to {x_label}. There was no {z_label}, can I use {c_label} instead?\"\n",
    "        \n",
    "\n",
    "        \n",
    "    z_embed=np.array(eval(\"[\"+cskg_word_embeddings[line[0]]+\"]\"))\n",
    "    c_embed=np.array(eval(\"[\"+cskg_word_embeddings[line[1]]+\"]\"))\n",
    "    x_embed=np.array(eval(\"[\"+cskg_word_embeddings[line[2]]+\"]\"))\n",
    "    y_embed=np.array(eval(\"[\"+cskg_word_embeddings[line[3]]+\"]\"))\n",
    "    \n",
    "    z_embed_transE=cskg_tranE_embedding[line[0]]\n",
    "    c_embed_transE=cskg_tranE_embedding[line[1]]\n",
    "    \n",
    "    z_embed_complex=cskg_complex_embedding[line[0]]\n",
    "    c_embed_complex=cskg_complex_embedding[line[1]]\n",
    "    \n",
    "    cskg_similar=cosine_similar(z_embed,c_embed)\n",
    "    tranE_similar=cosine_similar(z_embed_transE,c_embed_transE)\n",
    "    complex_similar=cosine_similar(z_embed_complex,c_embed_complex)\n",
    "    temp = location_sents[line[3]]\n",
    "    temp.add((sent,cskg_similar,tranE_similar,complex_similar,z_label,c_label))\n",
    "    location_sents[line[3]]=temp"
   ]
  },
  {
   "cell_type": "code",
   "execution_count": 18,
   "id": "understanding-burner",
   "metadata": {},
   "outputs": [
    {
     "name": "stderr",
     "output_type": "stream",
     "text": [
      "100%|██████████| 92/92 [00:12<00:00,  7.12it/s]\n"
     ]
    }
   ],
   "source": [
    "# Add bert sentence embedding similarity into location_sents\n",
    "\"\"\"\n",
    "output: loca_sents\n",
    "output format:{location_id:[sentence,\n",
    "                            Node Embedding Similarity,\n",
    "                            transE Embedding similarity,\n",
    "                            complex similarity,\n",
    "                            bert sentence embedding similarity,\n",
    "                            z label name,\n",
    "                            C label name]}\n",
    "\"\"\"\n",
    "loc_sents=dict()\n",
    "for loc in tqdm(location_sents):\n",
    "    loc_sents[loc]=list(location_sents[loc])\n",
    "    \n",
    "    # use bert embedding\n",
    "    \n",
    "    z_labels=[]\n",
    "    c_labels=[]\n",
    "    \n",
    "    for tmp in loc_sents[loc]:\n",
    "        _,_,_,_,z_label,c_label=tmp\n",
    "        z_labels.append(z_label)\n",
    "        c_labels.append(c_label)\n",
    "        \n",
    "    z_labels_embedding=model.encode(z_labels)\n",
    "    c_labels_embedding=model.encode(c_labels)\n",
    "    \n",
    "    for idx in range(len(loc_sents[loc])):\n",
    "        z_embed=z_labels_embedding[idx]\n",
    "        c_embed=c_labels_embedding[idx]\n",
    "        similar=cosine_similar(z_embed,c_embed)\n",
    "        \n",
    "        sent,cskg_embed,tranE_similar,complex_similar,z_label,c_label=loc_sents[loc][idx]\n",
    "        loc_sents[loc][idx]=(sent,cskg_embed,tranE_similar,complex_similar,similar,z_label,c_label)"
   ]
  },
  {
   "cell_type": "code",
   "execution_count": 19,
   "id": "a32cc16c",
   "metadata": {},
   "outputs": [
    {
     "name": "stdout",
     "output_type": "stream",
     "text": [
      "Number of Sentence: 3336\n"
     ]
    }
   ],
   "source": [
    "with open(case2_cskg_file,\"w\") as f1, open(case2_bert_file,\"w\") as f4, open(case2_tranE_file,\"w\") as f2, open(case2_complex_file,\"w\") as f3:\n",
    "    sents_count=0\n",
    "    for loc in loc_sents:\n",
    "        lines=loc_sents[loc]\n",
    "        \n",
    "\n",
    "        sents_count+=len(lines)\n",
    "        cskg_lines=[(_[0],_[2]) for _ in sorted(lines,key=lambda k:k[1], reverse=True)]\n",
    "        transE_lines=[(_[0],_[3]) for _ in sorted(lines,key=lambda k:k[2], reverse=True)]\n",
    "        complex_lines=[(_[0],_[4]) for _ in sorted(lines,key=lambda k:k[3], reverse=True)]\n",
    "        bert_lines=[(_[0],_[1]) for _ in sorted(lines,key=lambda k:k[4], reverse=True)]\n",
    "        \n",
    "        f1.write(\"###################################\\n\")\n",
    "        f1.write(f\"location name: {loc}\\n\")\n",
    "        for sent, score in cskg_lines:\n",
    "            f1.write(sent+\"\\n\")\n",
    "        \n",
    "        f2.write(\"###################################\\n\")\n",
    "        f2.write(f\"location name: {loc}\\n\")\n",
    "        for sent, score in transE_lines:\n",
    "            f2.write(sent+\"\\n\")\n",
    "            \n",
    "        f3.write(\"###################################\\n\")\n",
    "        f3.write(f\"location name: {loc}\\n\")\n",
    "        for sent, score in complex_lines:\n",
    "            f3.write(sent+\"\\n\")\n",
    "            \n",
    "        f4.write(\"###################################\\n\")\n",
    "        f4.write(f\"location name: {loc}\\n\")\n",
    "        for sent, score in bert_lines:\n",
    "            f4.write(sent+\"\\n\")\n",
    "    print(f\"Number of Sentence: {sents_count}\")"
   ]
  },
  {
   "cell_type": "markdown",
   "id": "680f3122",
   "metadata": {},
   "source": [
    "Four new methods, BERT-FFN, CSKG-FFN, TransE-FFN, Complex-FFN.  \n",
    "Four different methods word embedding"
   ]
  },
  {
   "cell_type": "code",
   "execution_count": 20,
   "id": "7d396bb9",
   "metadata": {},
   "outputs": [],
   "source": [
    "class Feedforward(torch.nn.Module):\n",
    "        def __init__(self, input_size, hidden_size, hidden_layer):\n",
    "            super(Feedforward, self).__init__()\n",
    "            self.input_size = input_size\n",
    "            self.hidden_size  = hidden_size\n",
    "            self.fc1 = torch.nn.Linear(self.input_size, self.hidden_size)\n",
    "            self.fcs=[]\n",
    "            \n",
    "            for i in range(hidden_layer):\n",
    "                if i==hidden_layer-1:\n",
    "                    self.fcs.append(torch.nn.Linear(self.hidden_size, 1))\n",
    "                else:\n",
    "                    self.fcs.append(torch.nn.Linear(self.hidden_size, self.hidden_size))\n",
    "                    \n",
    "            self.relu = torch.nn.ReLU()\n",
    "            self.sigmoid = torch.nn.Sigmoid()\n",
    "        def forward(self, x):\n",
    "            output = self.fc1(x)\n",
    "            for func in self.fcs:\n",
    "                relu = self.relu(output)\n",
    "                output = func(relu)\n",
    "            output = self.sigmoid(output)\n",
    "            return output"
   ]
  },
  {
   "cell_type": "code",
   "execution_count": 21,
   "id": "5e527928",
   "metadata": {},
   "outputs": [],
   "source": [
    "# generate data for CSKG-FFN\n",
    "# output:\n",
    "    #x_data_cskg\n",
    "    #y_data_cskg\n",
    "\n",
    "# generate x data set and y data set.\n",
    "# build model\n",
    "FNNmodel = Feedforward(4096, 10,1)\n",
    "criterion = torch.nn.BCELoss()\n",
    "optimizer = torch.optim.SGD(FNNmodel.parameters(), lr = 0.01)\n",
    "loss_threshold=0.0001\n",
    "\n",
    "def FNNmodelGeneration(model_name,epoch=500,model_=FNNmodel,criterion=criterion,optimizer=optimizer,early_stop=True):\n",
    "    # model name: bert-ffn, cskg-ffn, transE-ffn, complex-ffn\n",
    "    x_data=[]\n",
    "    y_data=[]\n",
    "    tmp=0\n",
    "    for four_bert_embeds,four_cskg_embeds,four_transE_embeds,four_complex_embeds in tqdm(embeds_total):\n",
    "        if \"cskg\" in model_name:\n",
    "            #print(\"cskg model\")\n",
    "            x_data.append(np.concatenate(four_cskg_embeds, axis=None))\n",
    "            bert_sim=cosine_similar(four_bert_embeds[0],four_bert_embeds[1])\n",
    "            transE_sim=cosine_similar(four_transE_embeds[0],four_transE_embeds[1])\n",
    "            complex_sim=cosine_similar(four_complex_embeds[0],four_complex_embeds[1])\n",
    "            avg_sim=float((bert_sim+transE_sim+complex_sim)/3)\n",
    "            tmp+=avg_sim\n",
    "            \n",
    "        if \"bert\" in model_name:\n",
    "            #print(\"bert model\")\n",
    "            x_data.append(np.concatenate(four_bert_embeds, axis=None))\n",
    "            cskg_sim=cosine_similar(four_cskg_embeds[0],four_cskg_embeds[1])\n",
    "            transE_sim=cosine_similar(four_transE_embeds[0],four_transE_embeds[1])\n",
    "            complex_sim=cosine_similar(four_complex_embeds[0],four_complex_embeds[1])\n",
    "            avg_sim=float((cskg_sim+transE_sim+complex_sim)/3)\n",
    "            tmp+=avg_sim\n",
    "        \n",
    "        if \"transE\" in model_name:\n",
    "            #print(\"transE model\")\n",
    "            x_data.append(np.concatenate(four_transE_embeds, axis=None))\n",
    "            cskg_sim=cosine_similar(four_cskg_embeds[0],four_cskg_embeds[1])\n",
    "            bert_sim=cosine_similar(four_bert_embeds[0],four_bert_embeds[1])\n",
    "            complex_sim=cosine_similar(four_complex_embeds[0],four_complex_embeds[1])\n",
    "            avg_sim=float((cskg_sim+bert_sim+complex_sim)/3)\n",
    "            tmp+=avg_sim\n",
    "            \n",
    "        if \"complex\" in model_name:\n",
    "            #print(\"complex model\")\n",
    "            x_data.append(np.concatenate(four_complex_embeds, axis=None))\n",
    "            cskg_sim=cosine_similar(four_cskg_embeds[0],four_cskg_embeds[1])\n",
    "            bert_sim=cosine_similar(four_bert_embeds[0],four_bert_embeds[1])\n",
    "            transE_sim=cosine_similar(four_transE_embeds[0],four_transE_embeds[1])\n",
    "            avg_sim=float((cskg_sim+bert_sim+transE_sim)/3)\n",
    "            tmp+=avg_sim\n",
    "        y_data.append(avg_sim)\n",
    "\n",
    "    # set threshold    \n",
    "    threshold=tmp/len(embeds_total)\n",
    "    print(threshold)\n",
    "    y_data=[int(_>threshold) for _ in y_data]\n",
    "\n",
    "    # split to train and test 8:2\n",
    "    x_train, x_test, y_train, y_test = train_test_split(x_data, y_data,test_size=0.2)\n",
    "    \n",
    "    # move to tensor\n",
    "    x_train = torch.FloatTensor(x_train)\n",
    "    y_train = torch.FloatTensor(y_train)\n",
    "\n",
    "    x_test = torch.FloatTensor(x_test)\n",
    "    y_test = torch.FloatTensor(y_test)\n",
    "    \n",
    "    # find the initial loss\n",
    "    model_.eval()\n",
    "    y_pred = model_(x_test)\n",
    "    before_train = criterion(y_pred.squeeze(), y_test)\n",
    "    print('Test loss before training' , before_train.item())\n",
    "    \n",
    "    # model train\n",
    "    model_.train()\n",
    "    loss_before=float(\"inf\")\n",
    "    loss_q=[]\n",
    "    \n",
    "    for epoch in range(epoch):\n",
    "        optimizer.zero_grad()\n",
    "        # Forward pass\n",
    "        y_pred = model_(x_train)\n",
    "        # Compute Loss\n",
    "        loss = criterion(y_pred.squeeze(), y_train)\n",
    "        \n",
    "        if epoch%50==0:\n",
    "            y_pred=[int(_>0.5) for _ in y_pred]\n",
    "            accuracy=accuracy_score(y_train, y_pred)\n",
    "            print('Epoch {}: accuracy: {} train loss: {}'.format(epoch, accuracy, loss.item()))\n",
    "        # Backward pass\n",
    "        loss.backward()\n",
    "        optimizer.step()\n",
    "        \n",
    "        if early_stop:\n",
    "            loss_dif=loss_before-loss\n",
    "            loss_before=loss\n",
    "            if loss_dif<loss_threshold:\n",
    "                tmp=True\n",
    "            else:\n",
    "                tmp=False\n",
    "                \n",
    "            loss_q.append(tmp)\n",
    "            \n",
    "            if len(loss_q)>10:\n",
    "                loss_q=loss_q[1:]\n",
    "                \n",
    "            if all(loss_q):\n",
    "                break\n",
    "    print(loss_q)\n",
    "    y_pred=[int(_>0.5) for _ in y_pred]\n",
    "    accuracy=accuracy_score(y_train, y_pred)\n",
    "    print('Epoch {}: accuracy: {} train loss: {}'.format(epoch, accuracy, loss.item()))\n",
    "    \n",
    "    # test prediction result\n",
    "    model_.eval()\n",
    "    y_pred = model_(x_test)\n",
    "    after_train = criterion(y_pred.squeeze(), y_test) \n",
    "    y_pred=[int(_>0.5) for _ in y_pred]\n",
    "    accuracy=accuracy_score(y_test, y_pred)\n",
    "    print(\"Test Accuracy\", accuracy)\n",
    "    print('Test loss after Training' , after_train.item())\n",
    "    \n",
    "    return model_, x_train, x_test, y_train, y_test"
   ]
  },
  {
   "cell_type": "code",
   "execution_count": 22,
   "id": "900b8bbe",
   "metadata": {},
   "outputs": [
    {
     "name": "stderr",
     "output_type": "stream",
     "text": [
      "100%|██████████| 3587/3587 [00:21<00:00, 169.04it/s]\n"
     ]
    }
   ],
   "source": [
    "# build bert embedding\n",
    "# output: embeds_total:[[bert-embeddings],[cskg-embeddings],[transE-embeddings],[complex-embeddings]]\n",
    "z_labels=[]\n",
    "c_labels=[]\n",
    "x_labels=[]\n",
    "y_labels=[]\n",
    "\n",
    "for line in filter_content:\n",
    "    z_label=cskg_renamed_dist[line[0]]\n",
    "    c_label=cskg_renamed_dist[line[1]]\n",
    "    x_label=cskg_renamed_dist[line[2]]\n",
    "    y_label=cskg_renamed_dist[line[3]]\n",
    "    \n",
    "    z_labels.append(z_label)\n",
    "    c_labels.append(c_label)\n",
    "    x_labels.append(x_label)\n",
    "    y_labels.append(y_label)\n",
    "    \n",
    "z_embeds_bert=model.encode(z_labels)\n",
    "c_embeds_bert=model.encode(c_labels)\n",
    "x_embeds_bert=model.encode(x_labels)\n",
    "y_embeds_bert=model.encode(y_labels)\n",
    "\n",
    "embeds_total=[]\n",
    "for z_embed_bert,c_embed_bert,x_embed_bert,y_embed_bert in zip(z_embeds_bert,c_embeds_bert,x_embeds_bert,y_embeds_bert):\n",
    "    embeds_total.append([[z_embed_bert,c_embed_bert,x_embed_bert,y_embed_bert]])\n",
    "    \n",
    "count=0\n",
    "for line in tqdm(filter_content):\n",
    "    z_id=line[0]\n",
    "    c_id=line[1]\n",
    "    x_id=line[2]\n",
    "    y_id=line[3]\n",
    "    \n",
    "    z_embed_cskg=np.array(eval(\"[\"+cskg_word_embeddings[line[0]]+\"]\"))\n",
    "    c_embed_cskg=np.array(eval(\"[\"+cskg_word_embeddings[line[1]]+\"]\"))\n",
    "    x_embed_cskg=np.array(eval(\"[\"+cskg_word_embeddings[line[2]]+\"]\"))\n",
    "    y_embed_cskg=np.array(eval(\"[\"+cskg_word_embeddings[line[3]]+\"]\"))\n",
    "    \n",
    "    z_embed_transE=cskg_tranE_embedding[line[0]]\n",
    "    c_embed_transE=cskg_tranE_embedding[line[1]]\n",
    "    x_embed_transE=cskg_tranE_embedding[line[2]]\n",
    "    y_embed_transE=cskg_tranE_embedding[line[3]]\n",
    "    \n",
    "    z_embed_complex=cskg_complex_embedding[line[0]]\n",
    "    c_embed_complex=cskg_complex_embedding[line[1]]\n",
    "    x_embed_complex=cskg_complex_embedding[line[2]]\n",
    "    y_embed_complex=cskg_complex_embedding[line[3]]\n",
    "    \n",
    "    embeds_total[count].append([z_embed_cskg,c_embed_cskg,x_embed_cskg,y_embed_cskg])\n",
    "    embeds_total[count].append([z_embed_transE,c_embed_transE,x_embed_transE,y_embed_transE])\n",
    "    embeds_total[count].append([z_embed_complex,c_embed_complex,x_embed_complex,y_embed_complex])\n",
    "    count+=1"
   ]
  },
  {
   "cell_type": "code",
   "execution_count": 23,
   "id": "090780d6",
   "metadata": {},
   "outputs": [
    {
     "name": "stderr",
     "output_type": "stream",
     "text": [
      "100%|██████████| 3587/3587 [00:00<00:00, 16568.55it/s]\n"
     ]
    },
    {
     "name": "stdout",
     "output_type": "stream",
     "text": [
      "0.47026583635954383\n",
      "Test loss before training 0.6973719596862793\n",
      "Epoch 0: accuracy: 0.5060996863018473 train loss: 0.6930073499679565\n",
      "Epoch 50: accuracy: 0.6786336702683862 train loss: 0.651211678981781\n",
      "Epoch 100: accuracy: 0.6911815963750436 train loss: 0.6292164325714111\n",
      "Epoch 150: accuracy: 0.6946671314046706 train loss: 0.6132779121398926\n",
      "Epoch 200: accuracy: 0.6998954339491111 train loss: 0.6008340716362\n",
      "Epoch 250: accuracy: 0.707215057511328 train loss: 0.5905747413635254\n",
      "Epoch 300: accuracy: 0.7113976995468805 train loss: 0.5818042159080505\n",
      "Epoch 350: accuracy: 0.7194144301150227 train loss: 0.5740793943405151\n",
      "Epoch 400: accuracy: 0.7239456256535378 train loss: 0.5671882629394531\n",
      "Epoch 450: accuracy: 0.7284768211920529 train loss: 0.5609713196754456\n",
      "Epoch 500: accuracy: 0.734402230742419 train loss: 0.5552990436553955\n",
      "Epoch 550: accuracy: 0.7410247472987104 train loss: 0.5500729084014893\n",
      "[True, True, True, True, True, True, True, True, True, True]\n",
      "Epoch 572: accuracy: 0.7427675148135239 train loss: 0.547890305519104\n",
      "Test Accuracy 0.7116991643454039\n",
      "Test loss after Training 0.5749472975730896\n"
     ]
    }
   ],
   "source": [
    "model_name=\"cskg-ffn\"\n",
    "input_size=len(embeds_total[0][1][0])*4\n",
    "hidden_size=len(embeds_total[0][1][0])*2\n",
    "FNNmodel = Feedforward(input_size, hidden_size, hidden_layer=1)\n",
    "criterion = torch.nn.BCELoss()\n",
    "optimizer = torch.optim.SGD(FNNmodel.parameters(), lr = 0.01)\n",
    "FNNmodel_cskg,x_train, x_test, y_train, y_test=FNNmodelGeneration(model_name,\n",
    "                                                             epoch=1000,\n",
    "                                                             model_=FNNmodel,\n",
    "                                                             criterion=criterion,\n",
    "                                                             optimizer=optimizer)"
   ]
  },
  {
   "cell_type": "code",
   "execution_count": 24,
   "id": "db7fdc31",
   "metadata": {},
   "outputs": [
    {
     "name": "stderr",
     "output_type": "stream",
     "text": [
      "100%|██████████| 3587/3587 [00:00<00:00, 10124.39it/s]\n"
     ]
    },
    {
     "name": "stdout",
     "output_type": "stream",
     "text": [
      "0.49725841374274093\n",
      "Test loss before training 0.6895399689674377\n",
      "Epoch 0: accuracy: 0.5559428372255141 train loss: 0.6865533590316772\n",
      "Epoch 50: accuracy: 0.7120948065528059 train loss: 0.6109744310379028\n",
      "Epoch 100: accuracy: 0.7560125479261066 train loss: 0.5717506408691406\n",
      "Epoch 150: accuracy: 0.771000348553503 train loss: 0.5463775992393494\n",
      "Epoch 200: accuracy: 0.7849424886720111 train loss: 0.5279977321624756\n",
      "Epoch 250: accuracy: 0.7929592192401533 train loss: 0.5137481689453125\n",
      "Epoch 300: accuracy: 0.7964447542697805 train loss: 0.5021947026252747\n",
      "Epoch 350: accuracy: 0.7992331822934821 train loss: 0.49249473214149475\n",
      "Epoch 400: accuracy: 0.8013245033112583 train loss: 0.48417675495147705\n",
      "Epoch 450: accuracy: 0.8051585918438481 train loss: 0.4768959879875183\n",
      "Epoch 500: accuracy: 0.8072499128616243 train loss: 0.4704120457172394\n",
      "Epoch 550: accuracy: 0.8121296619031021 train loss: 0.46455755829811096\n",
      "Epoch 600: accuracy: 0.8152666434297665 train loss: 0.45921069383621216\n",
      "[True, True, True, True, True, True, True, True, True, True]\n",
      "Epoch 628: accuracy: 0.8159637504356919 train loss: 0.45640847086906433\n",
      "Test Accuracy 0.7715877437325905\n",
      "Test loss after Training 0.494763046503067\n"
     ]
    }
   ],
   "source": [
    "model_name=\"bert-ffn\"\n",
    "input_size=len(embeds_total[0][0][0])*4\n",
    "hidden_size=len(embeds_total[0][0][0])*2\n",
    "FNNmodel = Feedforward(input_size, hidden_size,1)\n",
    "criterion = torch.nn.BCELoss()\n",
    "optimizer = torch.optim.SGD(FNNmodel.parameters(), lr = 0.01)\n",
    "FNNmodel_bert,x_train, x_test, y_train, y_test=FNNmodelGeneration(model_name,\n",
    "                                                             epoch=1000,\n",
    "                                                             model_=FNNmodel,\n",
    "                                                             criterion=criterion,\n",
    "                                                             optimizer=optimizer)"
   ]
  },
  {
   "cell_type": "code",
   "execution_count": 25,
   "id": "aaf60137",
   "metadata": {},
   "outputs": [
    {
     "name": "stderr",
     "output_type": "stream",
     "text": [
      "100%|██████████| 3587/3587 [00:00<00:00, 14164.50it/s]\n"
     ]
    },
    {
     "name": "stdout",
     "output_type": "stream",
     "text": [
      "0.5868221314110155\n",
      "Test loss before training 0.6949823498725891\n",
      "Epoch 0: accuracy: 0.47263855001742766 train loss: 0.6979619860649109\n",
      "[True, True, True, True, True, True, True, True, True, True]\n",
      "Epoch 22: accuracy: 0.48623213663297316 train loss: 0.6957814693450928\n",
      "Test Accuracy 0.5055710306406686\n",
      "Test loss after Training 0.6931862831115723\n"
     ]
    }
   ],
   "source": [
    "model_name=\"complex-ffn\"\n",
    "input_size=len(embeds_total[0][3][0])*4\n",
    "hidden_size=len(embeds_total[0][3][0])*2\n",
    "FNNmodel = Feedforward(input_size, hidden_size,1)\n",
    "criterion = torch.nn.BCELoss()\n",
    "optimizer = torch.optim.SGD(FNNmodel.parameters(), lr = 0.01)\n",
    "FNNmodel_complex,x_train, x_test, y_train, y_test=FNNmodelGeneration(model_name,\n",
    "                                                             epoch=1000,\n",
    "                                                             model_=FNNmodel,\n",
    "                                                             criterion=criterion,\n",
    "                                                             optimizer=optimizer)"
   ]
  },
  {
   "cell_type": "code",
   "execution_count": 26,
   "id": "5ed0841a",
   "metadata": {},
   "outputs": [
    {
     "name": "stderr",
     "output_type": "stream",
     "text": [
      "100%|██████████| 3587/3587 [00:00<00:00, 23841.66it/s]\n"
     ]
    },
    {
     "name": "stdout",
     "output_type": "stream",
     "text": [
      "0.5323879011172258\n",
      "Test loss before training 0.6927801370620728\n",
      "Epoch 0: accuracy: 0.5026141512722203 train loss: 0.6975752115249634\n",
      "Epoch 50: accuracy: 0.5339839665388637 train loss: 0.6921212673187256\n",
      "[True, True, True, True, True, True, True, True, True, True]\n",
      "Epoch 92: accuracy: 0.557337051237365 train loss: 0.6878912448883057\n",
      "Test Accuracy 0.5835654596100278\n",
      "Test loss after Training 0.6848259568214417\n"
     ]
    }
   ],
   "source": [
    "model_name=\"transE-ffn\"\n",
    "input_size=len(embeds_total[0][3][0])*4\n",
    "hidden_size=len(embeds_total[0][3][0])*2\n",
    "FNNmodel = Feedforward(input_size, hidden_size,1)\n",
    "criterion = torch.nn.BCELoss()\n",
    "optimizer = torch.optim.SGD(FNNmodel.parameters(), lr = 0.01)\n",
    "FNNmodel_transE,x_train, x_test, y_train, y_test=FNNmodelGeneration(model_name,\n",
    "                                                             epoch=500,\n",
    "                                                             model_=FNNmodel,\n",
    "                                                             criterion=criterion,\n",
    "                                                             optimizer=optimizer)"
   ]
  },
  {
   "cell_type": "code",
   "execution_count": 27,
   "id": "a71d077a",
   "metadata": {},
   "outputs": [
    {
     "data": {
      "text/plain": [
       "(tensor([-0.2708,  0.2457,  0.2493,  0.0425,  0.5119, -0.3575, -0.2012,  0.1328,\n",
       "         -0.4845,  0.1149]),\n",
       " tensor([-0.6092, -0.1836,  0.3724, -0.3105, -0.5458, -0.7188,  0.2922,  1.0120,\n",
       "          0.3103, -0.6060]),\n",
       " tensor([-0.7270, -0.3961, -0.3811, -0.1782,  0.6764,  0.2270,  0.4481,  1.0731,\n",
       "          0.4963, -0.7541]),\n",
       " tensor([1., 0., 1.]))"
      ]
     },
     "execution_count": 27,
     "metadata": {},
     "output_type": "execute_result"
    }
   ],
   "source": [
    "# example of input and output\n",
    "x_train[0][:10],x_train[1][:10],x_train[2][:10],y_train[:3]"
   ]
  },
  {
   "cell_type": "code",
   "execution_count": 28,
   "id": "fb49eb83",
   "metadata": {},
   "outputs": [
    {
     "name": "stderr",
     "output_type": "stream",
     "text": [
      "100%|██████████| 3587/3587 [02:46<00:00, 21.58it/s]\n"
     ]
    }
   ],
   "source": [
    "# generate sentence based on the generation filter line\n",
    "# Sentence format: I went to the (Y) and I wanted to (X). There was no (Z), can I use (C) instead?\n",
    "location_sents=defaultdict(set)\n",
    "\n",
    "# trace the z and c to remove duplicate\n",
    "\n",
    "\"\"\"\n",
    "output: location_sents\n",
    "output format:{location_id:[sentence,\n",
    "                            bert sentence embedding FFN similarity,\n",
    "                            Node Embedding FFN Similarity,\n",
    "                            tranE Embedding FFN similarity,\n",
    "                            complex FFN similarity,\n",
    "                            z label name,\n",
    "                            C label name]}\n",
    "\"\"\"\n",
    "idx=0\n",
    "sents_set=set()\n",
    "for line in tqdm(filter_content):\n",
    "    z_label=cskg_renamed_dist[line[0]]\n",
    "    c_label=cskg_renamed_dist[line[1]]\n",
    "    x_label=cskg_renamed_dist[line[2]]\n",
    "    x_label = \" \".join([_.lemma_ for _ in text2token(x_label)])\n",
    "    y_label=cskg_renamed_dist[line[3]]\n",
    "    sent=f\"I went to the {y_label} and I wanted to {x_label}. There was no {z_label}, can I use {c_label} instead?\"\n",
    "    \n",
    "    if sent in sents_set:\n",
    "        continue\n",
    "        \n",
    "    four_bert_embeds,four_cskg_embeds,four_transE_embeds,four_complex_embeds = embeds_total[idx]\n",
    "    idx+=1\n",
    "    \n",
    "    bert_embed=[np.concatenate(four_bert_embeds, axis=None)]\n",
    "    bert_embed = torch.FloatTensor(bert_embed)\n",
    "    bert_score=FNNmodel_bert(bert_embed).tolist()[0][0]\n",
    "    \n",
    "    cskg_embed=[np.concatenate(four_cskg_embeds, axis=None)]\n",
    "    cskg_embed = torch.FloatTensor(cskg_embed)\n",
    "    cskg_score=FNNmodel_cskg(cskg_embed).tolist()[0][0]\n",
    "    \n",
    "    transE_embed=[np.concatenate(four_transE_embeds, axis=None)]\n",
    "    transE_embed = torch.FloatTensor(transE_embed)\n",
    "    transE_score=FNNmodel_transE(transE_embed).tolist()[0][0]\n",
    "    \n",
    "    complex_embed=[np.concatenate(four_complex_embeds, axis=None)]\n",
    "    complex_embed = torch.FloatTensor(complex_embed)\n",
    "    complex_score=FNNmodel_complex(complex_embed).tolist()[0][0]\n",
    "    \n",
    "    temp = location_sents[line[3]]\n",
    "    sents_set.add(sent)\n",
    "    temp.add((sent,bert_score,cskg_score,transE_score,complex_score))\n",
    "    location_sents[line[3]]=temp"
   ]
  },
  {
   "cell_type": "code",
   "execution_count": 29,
   "id": "powerful-press",
   "metadata": {},
   "outputs": [
    {
     "name": "stdout",
     "output_type": "stream",
     "text": [
      "Number of Sentence: 3336\n"
     ]
    }
   ],
   "source": [
    "with open(case2_cskgFFN_file,\"w\") as f1, open(case2_bertFFN_file,\"w\") as f4, open(case2_tranEFFN_file,\"w\") as f2, open(case2_complexFFN_file,\"w\") as f3:\n",
    "    sents_count=0\n",
    "    for loc in location_sents:\n",
    "        lines=location_sents[loc]\n",
    "        \n",
    "\n",
    "        sents_count+=len(lines)\n",
    "        cskg_lines=[(_[0],_[2]) for _ in sorted(lines,key=lambda k:k[2], reverse=True)]\n",
    "        transE_lines=[(_[0],_[3]) for _ in sorted(lines,key=lambda k:k[3], reverse=True)]\n",
    "        complex_lines=[(_[0],_[4]) for _ in sorted(lines,key=lambda k:k[4], reverse=True)]\n",
    "        bert_lines=[(_[0],_[1]) for _ in sorted(lines,key=lambda k:k[1], reverse=True)]\n",
    "        \n",
    "        f1.write(\"###################################\\n\")\n",
    "        f1.write(f\"location name: {loc}\\n\")\n",
    "        for sent, score in cskg_lines:\n",
    "            f1.write(sent+\"\\n\")\n",
    "        \n",
    "        f2.write(\"###################################\\n\")\n",
    "        f2.write(f\"location name: {loc}\\n\")\n",
    "        for sent, score in transE_lines:\n",
    "            f2.write(sent+\"\\n\")\n",
    "            \n",
    "        f3.write(\"###################################\\n\")\n",
    "        f3.write(f\"location name: {loc}\\n\")\n",
    "        for sent, score in complex_lines:\n",
    "            f3.write(sent+\"\\n\")\n",
    "            \n",
    "        f4.write(\"###################################\\n\")\n",
    "        f4.write(f\"location name: {loc}\\n\")\n",
    "        for sent, score in bert_lines:\n",
    "            f4.write(sent+\"\\n\")\n",
    "    print(f\"Number of Sentence: {sents_count}\")"
   ]
  },
  {
   "cell_type": "markdown",
   "id": "b3c4e74a",
   "metadata": {},
   "source": [
    "Build ground truth and accuracy"
   ]
  },
  {
   "cell_type": "code",
   "execution_count": 30,
   "id": "b4296e9b",
   "metadata": {},
   "outputs": [],
   "source": [
    "# random choose 50 sentences from filter content.\n",
    "# label them yes or No\n",
    "\n",
    "ground_truth_samples=random.sample(filter_content,50)\n",
    "# write to desk\n",
    "if os.path.isfile(case2_ground):\n",
    "    pass\n",
    "else:\n",
    "    with open(case2_ground,\"w\") as f:\n",
    "        for line in ground_truth_samples:\n",
    "            z_label=cskg_renamed_dist[line[0]]\n",
    "            c_label=cskg_renamed_dist[line[1]]\n",
    "            x_label=cskg_renamed_dist[line[2]]\n",
    "            x_label = \" \".join([_.lemma_ for _ in text2token(x_label)])\n",
    "            y_label=cskg_renamed_dist[line[3]]\n",
    "            \n",
    "            sent=f\"I went to the {y_label} and I wanted to {x_label}. There was no {z_label}, can I use {c_label} instead?\"\n",
    "            f.write(f\"{sent}\\t{0}\\n\")\n",
    "\n",
    "            \n",
    "ground_truth=[]\n",
    "with open(case2_ground,\"r\") as f:\n",
    "    for line in f:\n",
    "        line=line.strip()\n",
    "        sent, ground=line.split(\"\\t\")\n",
    "        ground_truth.append([sent, ground])"
   ]
  },
  {
   "cell_type": "code",
   "execution_count": 31,
   "id": "03154ef7",
   "metadata": {},
   "outputs": [
    {
     "data": {
      "text/plain": [
       "(('I went to the sink and I wanted to shower. There was no soap, can I use water instead?',\n",
       "  0.6914533629207568,\n",
       "  0.4151720487478732,\n",
       "  0.2434791997495785,\n",
       "  0.60516775,\n",
       "  'soap',\n",
       "  'water'),\n",
       " ('I went to the sink and I wanted to serve as mirror. There was no glass, can I use water instead?',\n",
       "  0.07152415066957474,\n",
       "  0.20447231829166412,\n",
       "  0.530784547328949,\n",
       "  0.5211141109466553))"
      ]
     },
     "execution_count": 31,
     "metadata": {},
     "output_type": "execute_result"
    }
   ],
   "source": [
    "loc_sents[\"/c/en/sink\"][0],list(location_sents[\"/c/en/sink\"])[10]"
   ]
  },
  {
   "cell_type": "code",
   "execution_count": 32,
   "id": "1e150cc9",
   "metadata": {},
   "outputs": [],
   "source": [
    "#max similarity and max similarity for each method\n",
    "cskg_embeds=[1,0]\n",
    "bert_embeds=[1,0]\n",
    "complex_embeds=[1,0]\n",
    "tranE_embeds=[1,0]\n",
    "\n",
    "cskgFFN_embeds=[1,0]\n",
    "bertFFN_embeds=[1,0]\n",
    "complexFFN_embeds=[1,0]\n",
    "tranEFFN_embeds=[1,0]\n",
    "\n",
    "noFFN_sents=[]\n",
    "for loc in loc_sents:\n",
    "    for line in loc_sents[loc]:\n",
    "        sent,cskg_embed,tranE_similar,complex_similar,bert_similar,z_label,c_label=line\n",
    "        \n",
    "        cskg_embeds[0],cskg_embeds[1]=min(cskg_embeds[0],cskg_embed),max(cskg_embeds[1],cskg_embed)\n",
    "        bert_embeds[0],bert_embeds[1]=min(bert_embeds[0],bert_similar),max(bert_embeds[1],bert_similar)\n",
    "        tranE_embeds[0],tranE_embeds[1]=min(tranE_embeds[0],tranE_similar),max(tranE_embeds[1],tranE_similar)\n",
    "        complex_embeds[0],complex_embeds[1]=min(complex_embeds[0],complex_similar),max(complex_embeds[1],complex_similar)\n",
    "        noFFN_sents.append(line)\n",
    "\n",
    "FFN_sents=[]\n",
    "for loc in location_sents:\n",
    "    for line in location_sents[loc]:\n",
    "        sent,bert_score,cskg_score,transE_score,complex_score=line\n",
    "        \n",
    "        cskgFFN_embeds[0],cskgFFN_embeds[1]=min(cskgFFN_embeds[0],cskg_score),max(cskgFFN_embeds[1],cskg_score)\n",
    "        bertFFN_embeds[0],bertFFN_embeds[1]=min(bertFFN_embeds[0],bert_score),max(bertFFN_embeds[1],bert_score)\n",
    "        tranEFFN_embeds[0],tranEFFN_embeds[1]=min(tranEFFN_embeds[0],transE_score),max(tranEFFN_embeds[1],transE_score)\n",
    "        complexFFN_embeds[0],complexFFN_embeds[1]=min(complexFFN_embeds[0],complex_score),max(complexFFN_embeds[1],complex_score)\n",
    "        FFN_sents.append(line)\n",
    "        "
   ]
  },
  {
   "cell_type": "code",
   "execution_count": 33,
   "id": "bb5fe796",
   "metadata": {},
   "outputs": [
    {
     "data": {
      "text/plain": [
       "0.3288101422263229"
      ]
     },
     "execution_count": 33,
     "metadata": {},
     "output_type": "execute_result"
    }
   ],
   "source": [
    "cskg_embeds[0]"
   ]
  },
  {
   "cell_type": "code",
   "execution_count": 35,
   "id": "690a944e",
   "metadata": {},
   "outputs": [
    {
     "name": "stdout",
     "output_type": "stream",
     "text": [
      "Accuracy when all prediction is 1 0.74\n"
     ]
    }
   ],
   "source": [
    "# check accuracy:\n",
    "accuracy_1=0\n",
    "for item in ground_truth:\n",
    "    sent, truth=item\n",
    "    if truth == \"1\":\n",
    "        accuracy_1+=1\n",
    "accuracy_1=accuracy_1/len(ground_truth)        \n",
    "print(\"Accuracy when all prediction is 1\", accuracy_1)\n",
    "\n",
    "cskgs=[]\n",
    "tranEs=[]\n",
    "complexs=[]\n",
    "berts=[]\n",
    "\n",
    "cskgFFNs=[]\n",
    "transEFFNs=[]\n",
    "complexFFNs=[]\n",
    "bertFFNs=[]\n",
    "for i in range(11):\n",
    "    i=i/10\n",
    "    \"\"\"\n",
    "    avg_cskg,avg_bert,avg_complex,avg_tranE,avg_cskgFFN,avg_complexFFN,avg_tranEFFN,avg_bertFFN\n",
    "    are threshold for different method\n",
    "    \"\"\"\n",
    "    avg_cskg=(cskg_embeds[1]-cskg_embeds[0])*i+cskg_embeds[0]\n",
    "    avg_bert=(bert_embeds[1]-bert_embeds[0])*i+bert_embeds[0]\n",
    "    avg_complex=(complex_embeds[1]-complex_embeds[0])*i+complex_embeds[0]\n",
    "    avg_tranE=(tranE_embeds[1]-tranE_embeds[0])*i+tranE_embeds[0]\n",
    "    avg_cskgFFN=(cskgFFN_embeds[1]-cskgFFN_embeds[0])*i+cskgFFN_embeds[0]\n",
    "    avg_complexFFN=(complexFFN_embeds[1]-complexFFN_embeds[0])*i+complexFFN_embeds[0]\n",
    "    avg_tranEFFN=(tranEFFN_embeds[1]-tranEFFN_embeds[0])*i+tranEFFN_embeds[0]\n",
    "    avg_bertFFN=(bertFFN_embeds[1]-bertFFN_embeds[0])*i+bertFFN_embeds[0]\n",
    "    \n",
    "    cskg_accuracy=0\n",
    "    tranE_accuracy=0\n",
    "    complex_accuracy=0\n",
    "    bert_accuracy=0\n",
    "\n",
    "    cskgFFN_accuracy=0\n",
    "    tranEFFN_accuracy=0\n",
    "    complexFFN_accuracy=0\n",
    "    bertFFN_accuracy=0\n",
    "    for item in ground_truth:\n",
    "        sent, truth=item\n",
    "        noFFN=find_sent(sent,noFFN_sents)\n",
    "        FFN=find_sent(sent,FFN_sents)\n",
    "        if noFFN:\n",
    "            sent,cskg_similar,tranE_similar,complex_similar,bert_similar,z_label,c_label=noFFN\n",
    "\n",
    "            cskg_accuracy+=prediction_check(cskg_similar,avg_cskg,truth)\n",
    "            tranE_accuracy+=prediction_check(tranE_similar,avg_tranE,truth)\n",
    "            complex_accuracy+=prediction_check(complex_similar,avg_complex,truth)\n",
    "            bert_accuracy+=prediction_check(bert_similar,avg_bert,truth)\n",
    "        if FFN:\n",
    "            sent,bert_score,cskg_score,transE_score,complex_score=FFN\n",
    "\n",
    "            cskgFFN_accuracy+=prediction_check(cskg_score,avg_cskgFFN,truth)\n",
    "            tranEFFN_accuracy+=prediction_check(transE_score,avg_tranEFFN,truth)\n",
    "            complexFFN_accuracy+=prediction_check(complex_score,avg_complexFFN,truth)\n",
    "            bertFFN_accuracy+=prediction_check(bert_score,avg_bertFFN,truth)\n",
    "\n",
    "    cskg_accuracy=cskg_accuracy/len(ground_truth)     \n",
    "    tranE_accuracy=tranE_accuracy/len(ground_truth)\n",
    "    complex_accuracy=complex_accuracy/len(ground_truth)     \n",
    "    bert_accuracy=bert_accuracy/len(ground_truth)\n",
    "\n",
    "    cskgFFN_accuracy=cskgFFN_accuracy/len(ground_truth)     \n",
    "    tranEFFN_accuracy=tranEFFN_accuracy/len(ground_truth)     \n",
    "    complexFFN_accuracy=complexFFN_accuracy/len(ground_truth)     \n",
    "    bertFFN_accuracy=bertFFN_accuracy/len(ground_truth)     \n",
    "    cskgs.append(cskg_accuracy)\n",
    "    tranEs.append(tranE_accuracy)\n",
    "    complexs.append(complex_accuracy)\n",
    "    berts.append(bert_accuracy)\n",
    "\n",
    "    cskgFFNs.append(cskgFFN_accuracy)\n",
    "    transEFFNs.append(tranEFFN_accuracy)\n",
    "    complexFFNs.append(complexFFN_accuracy)\n",
    "    bertFFNs.append(bertFFN_accuracy)"
   ]
  },
  {
   "cell_type": "code",
   "execution_count": 36,
   "id": "5c4f91d1",
   "metadata": {},
   "outputs": [
    {
     "data": {
      "image/png": "[encoded data removed]",
      "text/plain": [
       "<Figure size 432x288 with 1 Axes>"
      ]
     },
     "metadata": {
      "needs_background": "light"
     },
     "output_type": "display_data"
    }
   ],
   "source": [
    "y_=[round(_/10,1) for _ in list(range(11))]\n",
    "plt.plot(y_, cskgs, label=\"cskg\")\n",
    "plt.plot(y_, tranEs, label=\"tranE\")\n",
    "plt.plot(y_, complexs, label=\"complex\")\n",
    "plt.plot(y_, berts, label=\"bert\")\n",
    "plt.plot(y_, cskgFFNs, label=\"cskg_FFN\")\n",
    "plt.plot(y_, transEFFNs, label=\"trnasE_FFN\")\n",
    "plt.plot(y_, complexFFNs, label=\"complex_FFN\")\n",
    "plt.plot(y_, bertFFNs, label=\"bert_FFN\")\n",
    "plt.legend(loc=\"upper right\")\n",
    "plt.show()"
   ]
  },
  {
   "cell_type": "code",
   "execution_count": 37,
   "id": "e715db39",
   "metadata": {},
   "outputs": [
    {
     "data": {
      "text/plain": [
       "[0.74, 0.74, 0.76, 0.76, 0.7, 0.68, 0.6, 0.42, 0.28, 0.26, 0.26]"
      ]
     },
     "execution_count": 37,
     "metadata": {},
     "output_type": "execute_result"
    }
   ],
   "source": [
    "cskgs"
   ]
  },
  {
   "cell_type": "markdown",
   "id": "massive-education",
   "metadata": {},
   "source": [
    "## case 1\n",
    "I went to the Y. There was a X but it had no Z. Am I disappointed?"
   ]
  },
  {
   "cell_type": "code",
   "execution_count": 38,
   "id": "b3b12791",
   "metadata": {},
   "outputs": [],
   "source": [
    "# data file location\n",
    "case1_cskg_file=\"./Output/case1_cskg.txt\"\n",
    "case1_bert_file=\"./Output/case1_bert.txt\"\n",
    "case1_tranE_file=\"./Output/case1_tranE.txt\"\n",
    "case1_complex_file=\"./Output/case1_complex.txt\"\n",
    "\n",
    "case1_cskgFFN_file=\"./Output/case1_cskg_FFN.txt\"\n",
    "case1_bertFFN_file=\"./Output/case1_bert_FFN.txt\"\n",
    "case1_tranEFFN_file=\"./Output/case1_tranE_FFN.txt\"\n",
    "case1_complexFFN_file=\"./Output/case1_complex_FFN.txt\"\n",
    "\n",
    "case1_ground=\"./ground/case1_ground.tsv\""
   ]
  },
  {
   "cell_type": "code",
   "execution_count": null,
   "id": "latter-messaging",
   "metadata": {},
   "outputs": [],
   "source": [
    "%%bash\n",
    "kgtk query --debug -i cskg_renamed.tsv.gz --match '(z)-[:`/r/AtLocation`]->(x)-[:`/r/AtLocation`]->(y)' --return 'z as needed, x as place, y as Y' -o case1_1.gz"
   ]
  },
  {
   "cell_type": "code",
   "execution_count": null,
   "id": "challenging-replica",
   "metadata": {},
   "outputs": [],
   "source": [
    "# load kgtk file\n",
    "f=gzip.open(\"case1_1.gz\")\n",
    "\n",
    "head_case1=f.readline()\n",
    "content_case1=[]\n",
    "for line in f:\n",
    "    content_case1.append(line.strip().decode(\"utf-8\").split(\"\\t\"))"
   ]
  },
  {
   "cell_type": "code",
   "execution_count": null,
   "id": "occupied-application",
   "metadata": {},
   "outputs": [],
   "source": [
    "# remove duplicate\n",
    "# content line format: [z, x, y]\n",
    "content_case1_set=set()\n",
    "\n",
    "for line in content_case1:\n",
    "    z,x,y=line\n",
    "    \n",
    "    if (z,x,y) not in content_case1_set and (z,x,y) not in content_case1_set:\n",
    "        content_case1_set.add((z,x,y))"
   ]
  },
  {
   "cell_type": "code",
   "execution_count": null,
   "id": "52d5deb4",
   "metadata": {},
   "outputs": [],
   "source": [
    "# before removing\n",
    "print(f\"Number of lines: {len(content_case1)}\")\n",
    "# after removing\n",
    "print(f\"Number of lines after removing duplicate: {len(content_case1_set)}\")"
   ]
  },
  {
   "cell_type": "code",
   "execution_count": null,
   "id": "biological-nudist",
   "metadata": {},
   "outputs": [],
   "source": [
    "# from content obtain the frequency of each location\n",
    "loc_distribution=dict()\n",
    "for line in content_case1_set:\n",
    "    location=line[2]\n",
    "    \n",
    "    loc_distribution[location]=loc_distribution.get(location,0)+1\n",
    "\n",
    "print(\"Number of location type:\", len(loc_distribution))\n",
    "\n",
    "# only choose top 100 locations\n",
    "num_loc=100\n",
    "print(\"Number of chosen location:\", num_loc)\n",
    "loc_sort=sorted(loc_distribution.items(),key=lambda k:k[1], reverse=True)\n",
    "loc_chosen=set([_[0] for _ in loc_sort[:num_loc]])\n",
    "\n",
    "# filter contenct by loc_chosen\n",
    "new_content_case1=[]\n",
    "\n",
    "for line in tqdm(content_case1):\n",
    "    location=line[2]\n",
    "    if location in loc_chosen:\n",
    "        new_content_case1.append(line)"
   ]
  },
  {
   "cell_type": "code",
   "execution_count": null,
   "id": "decreased-exposure",
   "metadata": {},
   "outputs": [],
   "source": [
    "print(f\"Number of lines for all locations: {len(content_case1_set)}\")\n",
    "print(f\"Number of lines for top 100 locations: {len(new_content_case1)}\")"
   ]
  },
  {
   "cell_type": "code",
   "execution_count": null,
   "id": "demonstrated-grant",
   "metadata": {
    "scrolled": true
   },
   "outputs": [],
   "source": [
    "# I went to the {y_label}. There was a {x_label} but it had no {z_label}. Am I disappointed?\n",
    "# filter by sentiment analysis and cosine similarity\n",
    "\n",
    "\"\"\"\n",
    "Output:\n",
    "filter_content_case1: filtered x,y,z id, [[z1,x1,y1],[z2,x2,y2],[z3,x3,y3]] \n",
    "loc_line:{location_id:[sentence,\n",
    "                        node bert embedding similarity,\n",
    "                        tranE Embedding similarity,\n",
    "                        complex embedding similarity,\n",
    "                        z label name,\n",
    "                        x label name]}\n",
    "\"\"\"\n",
    "filter_content_case1=[]\n",
    "loc_line=defaultdict(set)\n",
    "\n",
    "for line in tqdm(new_content_case1):\n",
    "    z_label=cskg_renamed_dist[line[0]]\n",
    "    x_label=cskg_renamed_dist[line[1]]\n",
    "    y_label=cskg_renamed_dist[line[2]]\n",
    "    if z_label==x_label:\n",
    "        continue\n",
    "    x_tokens=text2token(x_label)\n",
    "    tokens=text2token(z_label)\n",
    "    sent=f\"I went to the {y_label}. There was a {x_label} but it had no {z_label}. Am I disappointed?\"\n",
    "    \n",
    "    polar=sia.polarity_scores(z_label)\n",
    "    if polar['neg']>0:\n",
    "        continue\n",
    "    polar=sia.polarity_scores(x_label)\n",
    "    if polar[\"neg\"]>0:\n",
    "        continue\n",
    "    \n",
    "    if x_label in blacklist_label:\n",
    "        continue\n",
    "        \n",
    "    if [_.lemma_ for _ in x_tokens]==[_.lemma_ for _ in tokens]:\n",
    "        continue\n",
    "    \n",
    "    cosine_sim=synsets_cosine_sim(z_label,x_label)\n",
    "    if cosine_sim>=0.9:\n",
    "        continue\n",
    "    \n",
    "    z_embed_transE=cskg_tranE_embedding[line[0]]\n",
    "    x_embed_transE=cskg_tranE_embedding[line[1]]\n",
    "    \n",
    "    z_embed_complex=cskg_complex_embedding[line[0]]\n",
    "    x_embed_complex=cskg_complex_embedding[line[1]]\n",
    "    \n",
    "    # calculate the cosine similarity between z and y\n",
    "    z_embed=np.array(eval(\"[\"+cskg_word_embeddings[line[0]]+\"]\"))\n",
    "    x_embed=np.array(eval(\"[\"+cskg_word_embeddings[line[1]]+\"]\"))\n",
    "    cskg_similar=cosine_similar(z_embed,x_embed)\n",
    "    tranE_similar=cosine_similar(z_embed_transE,x_embed_transE)\n",
    "    complex_similar=cosine_similar(z_embed_complex,x_embed_complex)\n",
    "    \n",
    "    \n",
    "    temp=loc_line[line[2]]\n",
    "    temp.add((sent,cskg_similar,tranE_similar,complex_similar,z_label,x_label))\n",
    "    loc_line[line[2]]=temp\n",
    "    \n",
    "    filter_content_case1.append(line)"
   ]
  },
  {
   "cell_type": "code",
   "execution_count": null,
   "id": "34ab6850",
   "metadata": {},
   "outputs": [],
   "source": [
    "print(f\"Number of lines before filter: {len(new_content_case1)}\")\n",
    "print(f\"Number of lines after filter: {len(filter_content_case1)}\")"
   ]
  },
  {
   "cell_type": "code",
   "execution_count": null,
   "id": "saved-block",
   "metadata": {},
   "outputs": [],
   "source": [
    "# add bert embedding into loc_sents\n",
    "\"\"\"\n",
    "Output:\n",
    "filter_content_case1: filtered x,y,z id, [[z1,x1,y1],[z2,x2,y2],[z3,x3,y3]] \n",
    "loc_line:{location_id:[sentence,\n",
    "                        node bert embedding similarity,\n",
    "                        tranE Embedding similarity,\n",
    "                        complex embedding similarity,\n",
    "                        sentence transformer embedding similarity,\n",
    "                        z label name,\n",
    "                        x label name]}\n",
    "\"\"\"\n",
    "total=0\n",
    "loc_sents=dict()\n",
    "for loc in tqdm(loc_line):\n",
    "    loc_sents[loc]=list(loc_line[loc])\n",
    "    total+=len(loc_sents[loc])\n",
    "    # use bert embedding\n",
    "    \n",
    "    z_labels=[]\n",
    "    x_labels=[]\n",
    "    \n",
    "    for tmp in loc_sents[loc]:\n",
    "        _,_,_,_,z_label,x_label=tmp\n",
    "        z_labels.append(z_label)\n",
    "        x_labels.append(x_label)\n",
    "        \n",
    "    z_labels_embedding=model.encode(z_labels)\n",
    "    x_labels_embedding=model.encode(x_labels)\n",
    "    \n",
    "    for idx in range(len(loc_sents[loc])):\n",
    "        z_embed=z_labels_embedding[idx]\n",
    "        x_embed=x_labels_embedding[idx]\n",
    "        similar=cosine_similar(z_embed,x_embed)\n",
    "        \n",
    "        sent,cskg_embed,tranE_similar,complex_similar,z_label,x_label=loc_sents[loc][idx]\n",
    "        loc_sents[loc][idx]=(sent,cskg_embed,tranE_similar,complex_similar,similar,z_label,x_label)"
   ]
  },
  {
   "cell_type": "code",
   "execution_count": null,
   "id": "brutal-picnic",
   "metadata": {},
   "outputs": [],
   "source": [
    "# write result into desk\n",
    "with open(case1_cskg_file,\"w\") as f1, open(case1_bert_file,\"w\") as f4, open(case1_tranE_file,\"w\") as f2, open(case1_complex_file,\"w\") as f3:\n",
    "    sents_count=0\n",
    "    for loc in loc_sents:\n",
    "        lines=loc_sents[loc]\n",
    "\n",
    "        sents_count+=len(lines)\n",
    "        cskg_lines=[_[0] for _ in sorted(lines,key=lambda k:k[1], reverse=True)]\n",
    "        transE_lines=[_[0] for _ in sorted(lines,key=lambda k:k[2], reverse=True)]\n",
    "        complex_lines=[_[0] for _ in sorted(lines,key=lambda k:k[3], reverse=True)]\n",
    "        bert_lines=[_[0] for _ in sorted(lines,key=lambda k:k[4], reverse=True)]\n",
    "        \n",
    "        f1.write(\"###################################\\n\")\n",
    "        f1.write(f\"location name: {loc}\\n\")\n",
    "        for sent in cskg_lines:\n",
    "            f1.write(sent+\"\\n\")\n",
    "        \n",
    "        f2.write(\"###################################\\n\")\n",
    "        f2.write(f\"location name: {loc}\\n\")\n",
    "        for sent in transE_lines:\n",
    "            f2.write(sent+\"\\n\")\n",
    "            \n",
    "        f3.write(\"###################################\\n\")\n",
    "        f3.write(f\"location name: {loc}\\n\")\n",
    "        for sent in complex_lines:\n",
    "            f3.write(sent+\"\\n\")\n",
    "            \n",
    "        f4.write(\"###################################\\n\")\n",
    "        f4.write(f\"location name: {loc}\\n\")\n",
    "        for sent in bert_lines:\n",
    "            f4.write(sent+\"\\n\")"
   ]
  },
  {
   "cell_type": "code",
   "execution_count": null,
   "id": "25821427",
   "metadata": {},
   "outputs": [],
   "source": [
    "sents_count"
   ]
  },
  {
   "cell_type": "markdown",
   "id": "loose-outside",
   "metadata": {},
   "source": [
    "## Case3\n",
    "There was `X` in the `Y`. What can it do to the `Z1n`? `Z1v` it."
   ]
  },
  {
   "cell_type": "code",
   "execution_count": 39,
   "id": "f0ce82dd",
   "metadata": {},
   "outputs": [],
   "source": [
    "# data file location\n",
    "case3_cskg_file=\"./Output/case3_cskg.txt\"\n",
    "case3_bert_file=\"./Output/case3_bert.txt\"\n",
    "case3_tranE_file=\"./Output/case3_tranE.txt\"\n",
    "case3_complex_file=\"./Output/case3_complex.txt\"\n",
    "\n",
    "case3_cskgFFN_file=\"./Output/case3_cskg_FFN.txt\"\n",
    "case3_bertFFN_file=\"./Output/case3_bert_FFN.txt\"\n",
    "case3_tranEFFN_file=\"./Output/case3_tranE_FFN.txt\"\n",
    "case3_complexFFN_file=\"./Output/case3_complex_FFN.txt\"\n",
    "\n",
    "case3_ground=\"./ground/case3_ground.tsv\""
   ]
  },
  {
   "cell_type": "code",
   "execution_count": null,
   "id": "brown-neighborhood",
   "metadata": {},
   "outputs": [],
   "source": [
    "%%bash\n",
    "kgtk query --debug -i cskg_renamed.tsv.gz --match '(z)<-[:`/r/UsedFor`]-(x)-[:`/r/AtLocation`]->(y)' --return 'z as needed, x as place, y as Y' -o case3_2.gz\n",
    "kgtk query --debug -i cskg_renamed.tsv.gz --match '(z)<-[:`/r/CapableOf`]-(x)-[:`/r/AtLocation`]->(y)' --return 'z as needed, x as place, y as Y' -o case3_1.gz"
   ]
  },
  {
   "cell_type": "code",
   "execution_count": 40,
   "id": "sensitive-teach",
   "metadata": {},
   "outputs": [],
   "source": [
    "# load kgtk file\n",
    "f=gzip.open(\"case3_1.gz\")\n",
    "\n",
    "head_case1=f.readline()\n",
    "content_case3=[]\n",
    "for line in f:\n",
    "    content_case3.append(line.strip().decode(\"utf-8\").split(\"\\t\"))\n",
    "    \n",
    "f=gzip.open(\"case3_2.gz\")\n",
    "\n",
    "head_case1=f.readline()\n",
    "content_case3=[]\n",
    "for line in f:\n",
    "    content_case3.append(line.strip().decode(\"utf-8\").split(\"\\t\"))"
   ]
  },
  {
   "cell_type": "code",
   "execution_count": 41,
   "id": "b0d4bb21",
   "metadata": {},
   "outputs": [],
   "source": [
    "# remove duplicate\n",
    "# content line format: [z, x, y]\n",
    "content_case3_set=set()\n",
    "\n",
    "for line in content_case3:\n",
    "    z,x,y=line\n",
    "    \n",
    "    if (z,x,y) not in content_case3_set and (z,x,y) not in content_case3_set:\n",
    "        content_case3_set.add((z,x,y))"
   ]
  },
  {
   "cell_type": "code",
   "execution_count": 42,
   "id": "6fc94ecc",
   "metadata": {},
   "outputs": [
    {
     "name": "stdout",
     "output_type": "stream",
     "text": [
      "Number of lines: 214878\n",
      "Number of lines after removing duplicate: 214878\n"
     ]
    }
   ],
   "source": [
    "# before removing\n",
    "print(f\"Number of lines: {len(content_case3)}\")\n",
    "# after removing\n",
    "print(f\"Number of lines after removing duplicate: {len(content_case3_set)}\")"
   ]
  },
  {
   "cell_type": "code",
   "execution_count": 43,
   "id": "accepting-variance",
   "metadata": {},
   "outputs": [
    {
     "name": "stdout",
     "output_type": "stream",
     "text": [
      "Number of location type: 5166\n",
      "Number of chosen location: 100\n"
     ]
    }
   ],
   "source": [
    "# from content obtain the frequency of each location\n",
    "loc_distribution=dict()\n",
    "for line in content_case3:\n",
    "    location=line[2]\n",
    "    \n",
    "    loc_distribution[location]=loc_distribution.get(location,0)+1\n",
    "\n",
    "print(\"Number of location type:\", len(loc_distribution))\n",
    "\n",
    "# only choose top 100 locations\n",
    "num_loc=100\n",
    "print(\"Number of chosen location:\", num_loc)    \n",
    "\n",
    "loc_sort=sorted(loc_distribution.items(),key=lambda k:k[1], reverse=True)\n",
    "loc_chosen=set([_[0] for _ in loc_sort[:num_loc]])"
   ]
  },
  {
   "cell_type": "code",
   "execution_count": 44,
   "id": "objective-jason",
   "metadata": {},
   "outputs": [
    {
     "name": "stderr",
     "output_type": "stream",
     "text": [
      "100%|██████████| 214878/214878 [00:00<00:00, 1138826.22it/s]\n"
     ]
    }
   ],
   "source": [
    "# filter contenct by loc_chosen\n",
    "new_content_case3=[]\n",
    "\n",
    "for line in tqdm(content_case3_set):\n",
    "    location=line[2]\n",
    "    if location in loc_chosen:\n",
    "        new_content_case3.append(line)"
   ]
  },
  {
   "cell_type": "code",
   "execution_count": 45,
   "id": "freelance-spoke",
   "metadata": {},
   "outputs": [
    {
     "name": "stdout",
     "output_type": "stream",
     "text": [
      "Number of lines for all locations: 214878\n",
      "Number of lines for top 100 locations: 69509\n"
     ]
    }
   ],
   "source": [
    "print(f\"Number of lines for all locations: {len(content_case3_set)}\")\n",
    "print(f\"Number of lines for top 100 locations: {len(new_content_case3)}\")"
   ]
  },
  {
   "cell_type": "code",
   "execution_count": 46,
   "id": "strong-genetics",
   "metadata": {},
   "outputs": [
    {
     "name": "stderr",
     "output_type": "stream",
     "text": [
      "100%|██████████| 69509/69509 [46:13<00:00, 25.06it/s]  \n"
     ]
    }
   ],
   "source": [
    "# filter content\n",
    "# z as plan, c as alt, x as goal, y as loc\n",
    "\"\"\"\n",
    "Output:\n",
    "loc_line:{location_id:[sentence,\n",
    "                        node bert embedding similarity,\n",
    "                        tranE Embedding similarity,\n",
    "                        complex embedding similarity,\n",
    "                        y label name,\n",
    "                        z label name]}\n",
    "\"\"\"\n",
    "loc_line_case3=defaultdict(set)\n",
    "for i in tqdm(range(len(new_content_case3))):\n",
    "    line=new_content_case3[i]\n",
    "    \n",
    "    y_id=line[2]\n",
    "    x_id=line[1]\n",
    "    z_id=line[0]\n",
    "    x_label=cskg_renamed_dist[x_id]\n",
    "    y_label=cskg_renamed_dist[y_id]\n",
    "    z_label=cskg_renamed_dist[z_id]\n",
    "    # filter line by X, POS should be (verb)\n",
    "    z_tokens=text2token(z_label)\n",
    "    \n",
    "    if len(z_tokens)<2:\n",
    "        continue\n",
    "    else:\n",
    "        zv=z_tokens[0]\n",
    "        zn_tokens=z_tokens[1:]\n",
    "        \n",
    "        y_embed=np.array(eval(\"[\"+cskg_word_embeddings[y_id]+\"]\"))\n",
    "        zn_text=\" \".join([_.lemma_ for _ in zn_tokens])\n",
    "        zn_id=\"/c/en/\"+zn_text.replace(\" \",\"_\")\n",
    "        \n",
    "        # find embed.\n",
    "        z_embed=np.array(eval(\"[\"+cskg_word_embeddings[z_id]+\"]\"))\n",
    "        \n",
    "        z_embed_transE=cskg_tranE_embedding[line[0]]\n",
    "        y_embed_transE=cskg_tranE_embedding[line[1]]\n",
    "\n",
    "        z_embed_complex=cskg_complex_embedding[line[0]]\n",
    "        y_embed_complex=cskg_complex_embedding[line[1]]\n",
    "        \n",
    "        cskg_similar=cosine_similar(z_embed,y_embed)\n",
    "        tranE_similar=cosine_similar(z_embed_transE,y_embed_transE)\n",
    "        complex_similar=cosine_similar(z_embed_complex,y_embed_complex)\n",
    "        \n",
    "        # remove item in blacklist\n",
    "        if x_label in blacklist_label or zn_text in blacklist_label:\n",
    "            continue\n",
    "        \n",
    "        # remove same item\n",
    "        if x_label==zn_text:\n",
    "            continue\n",
    "            \n",
    "        # only verb noun structure are allowed\n",
    "        if zv.pos_ == \"VERB\" and all([_.pos_==\"NOUN\" for _ in zn_tokens]):\n",
    "            \n",
    "            temp=loc_line_case3[y_id]\n",
    "            sent=f\"There was {x_label} in the {y_label}. What can it do to the {zn_text}? {zv.lemma_} it.\"\n",
    "            temp.add((sent,cskg_similar,tranE_similar,complex_similar,y_label,z_label))\n",
    "            loc_line_case3[y_id]=temp\n",
    "        else:\n",
    "            continue"
   ]
  },
  {
   "cell_type": "code",
   "execution_count": 47,
   "id": "ahead-celtic",
   "metadata": {},
   "outputs": [
    {
     "name": "stderr",
     "output_type": "stream",
     "text": [
      "100%|██████████| 100/100 [00:30<00:00,  3.33it/s]\n"
     ]
    }
   ],
   "source": [
    "\"\"\"\n",
    "Output:\n",
    "loc_line:{location_id:[sentence,\n",
    "                        node bert embedding similarity,\n",
    "                        tranE Embedding similarity,\n",
    "                        complex embedding similarity,\n",
    "                        sentence transformer embedding similarity,\n",
    "                        y label name,\n",
    "                        z label name]}\n",
    "\"\"\"\n",
    "total=0\n",
    "loc_sents=dict()\n",
    "for loc in tqdm(loc_line_case3):\n",
    "    loc_sents[loc]=list(loc_line_case3[loc])\n",
    "    total+=len(loc_sents[loc])\n",
    "    # use bert embedding\n",
    "    \n",
    "    z_labels=[]\n",
    "    y_labels=[]\n",
    "    \n",
    "    for tmp in loc_sents[loc]:\n",
    "        _,_,_,_,y_label,z_label=tmp\n",
    "        z_labels.append(z_label)\n",
    "        y_labels.append(y_label)\n",
    "        \n",
    "    z_labels_embedding=model.encode(z_labels)\n",
    "    y_labels_embedding=model.encode(y_labels)\n",
    "    \n",
    "    for idx in range(len(loc_sents[loc])):\n",
    "        z_embed=z_labels_embedding[idx]\n",
    "        y_embed=y_labels_embedding[idx]\n",
    "        similar=cosine_similar(z_embed,y_embed)\n",
    "        \n",
    "        sent,cskg_embed,tranE_similar,complex_similar,z_label,y_label=loc_sents[loc][idx]\n",
    "        loc_sents[loc][idx]=(sent,cskg_embed,tranE_similar,complex_similar,similar,z_label,y_label)"
   ]
  },
  {
   "cell_type": "code",
   "execution_count": 48,
   "id": "e488f16a",
   "metadata": {},
   "outputs": [
    {
     "data": {
      "text/plain": [
       "14696"
      ]
     },
     "execution_count": 48,
     "metadata": {},
     "output_type": "execute_result"
    }
   ],
   "source": [
    "total"
   ]
  },
  {
   "cell_type": "code",
   "execution_count": 49,
   "id": "personalized-twenty",
   "metadata": {},
   "outputs": [],
   "source": [
    "with open(case3_cskg_file,\"w\") as f1, open(case3_bert_file,\"w\") as f4, open(case3_tranE_file,\"w\") as f2, open(case3_complex_file,\"w\") as f3:\n",
    "    sents_count=0\n",
    "    for loc in loc_sents:\n",
    "        lines=loc_sents[loc]\n",
    "\n",
    "        sents_count+=len(lines)\n",
    "        cskg_lines=[_[0] for _ in sorted(lines,key=lambda k:k[1], reverse=True)]\n",
    "        transE_lines=[_[0] for _ in sorted(lines,key=lambda k:k[2], reverse=True)]\n",
    "        complex_lines=[_[0] for _ in sorted(lines,key=lambda k:k[3], reverse=True)]\n",
    "        bert_lines=[_[0] for _ in sorted(lines,key=lambda k:k[4], reverse=True)]\n",
    "        \n",
    "        f1.write(\"###################################\\n\")\n",
    "        f1.write(f\"location name: {loc}\\n\")\n",
    "        for sent in cskg_lines:\n",
    "            f1.write(sent+\"\\n\")\n",
    "        \n",
    "        f2.write(\"###################################\\n\")\n",
    "        f2.write(f\"location name: {loc}\\n\")\n",
    "        for sent in transE_lines:\n",
    "            f2.write(sent+\"\\n\")\n",
    "            \n",
    "        f3.write(\"###################################\\n\")\n",
    "        f3.write(f\"location name: {loc}\\n\")\n",
    "        for sent in complex_lines:\n",
    "            f3.write(sent+\"\\n\")\n",
    "            \n",
    "        f4.write(\"###################################\\n\")\n",
    "        f4.write(f\"location name: {loc}\\n\")\n",
    "        for sent in bert_lines:\n",
    "            f4.write(sent+\"\\n\")"
   ]
  },
  {
   "cell_type": "code",
   "execution_count": 50,
   "id": "consistent-phone",
   "metadata": {},
   "outputs": [
    {
     "data": {
      "text/plain": [
       "14696"
      ]
     },
     "execution_count": 50,
     "metadata": {},
     "output_type": "execute_result"
    }
   ],
   "source": [
    "sents_count"
   ]
  },
  {
   "cell_type": "code",
   "execution_count": null,
   "id": "96aab96e",
   "metadata": {},
   "outputs": [],
   "source": []
  }
 ],
 "metadata": {
  "kernelspec": {
   "display_name": "Python 3",
   "language": "python",
   "name": "python3"
  },
  "language_info": {
   "codemirror_mode": {
    "name": "ipython",
    "version": 3
   },
   "file_extension": ".py",
   "mimetype": "text/x-python",
   "name": "python",
   "nbconvert_exporter": "python",
   "pygments_lexer": "ipython3",
   "version": "3.8.8"
  }
 },
 "nbformat": 4,
 "nbformat_minor": 5
}
