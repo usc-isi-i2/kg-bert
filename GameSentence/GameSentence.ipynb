{
 "cells": [
  {
   "cell_type": "markdown",
   "metadata": {},
   "source": [
    "## Task\n",
    "1. see how many such game sentences with AtLocation we can create, and how many answers they have on average (the example above has 3 answers).  Also, inspect their quality and if you detect problems, see how they can be addressed.\n",
    "2. Think and investigate how other relations can be used to create related tasks. I think some should be possible, like UsedFor in this example: \"I want to cut paper so I will need knife or scissors\". You don't need to think about all relations but take some subset of let's say 10 that seem promising.\n",
    "3. Take the 50 household items from EQA that we worked with, and generate random walks of length 2 and 3 on the graph starting with them. Example for a random walk of length 2 is: toaster-LocatedAt-kitchen-UsedFor-cooking. You could do this with graph-tools for example (https://graph-tool.skewed.de/static/doc/quickstart.html)\n",
    "4. Think and investigate how can we generate game sentences with these walks, and whether it makes sense. One option would be to do something like \"A toaster can be located in a place that is used for cooking and baking.\"  Even if we can do this for a small set of patterns, it would be useful. The solution could also use disambiguation or other NLP tricks. \n",
    "5. It would be useful to see some examples where we can use these walks to create sentences. You don't need to code this last part 5."
   ]
  },
  {
   "cell_type": "code",
   "execution_count": 1,
   "metadata": {
    "scrolled": true
   },
   "outputs": [],
   "source": [
    "import matplotlib.pyplot as plt\n",
    "from tqdm import tqdm\n",
    "import networkx as nx\n",
    "import random, re\n",
    "from transformers import GPT2LMHeadModel, GPT2Tokenizer\n",
    "import numpy as np\n",
    "from numpy import dot\n",
    "from numpy.linalg import norm\n",
    "import pickle, os"
   ]
  },
  {
   "cell_type": "markdown",
   "metadata": {},
   "source": [
    "## Set up Folder"
   ]
  },
  {
   "cell_type": "markdown",
   "metadata": {},
   "source": [
    "**cskg_dim_folder**: the location of file, cskg_dim.tsv  \n",
    "**cskg_embeddings_file**: the location of file, cskg_embeddings.txt  \n",
    "**AtLocation_sents_file**: the location of file whose relation is AtLocation  \n",
    "**gamesents_file**: the location of file whose relation is defined by ourself.  \n",
    "**hops_avg**: 4-hops scenes sorted by avg cosine similarity  \n",
    "**hops_min**: 4-hops scenes sorted by min cosine similarity  \n",
    "**centric_avg**: node-centric scenes sorted by avg cosine similarity\n",
    "**centric_min**: node-centric scenes sorted by min cosine similarity"
   ]
  },
  {
   "cell_type": "code",
   "execution_count": 2,
   "metadata": {},
   "outputs": [],
   "source": [
    "# input\n",
    "cskg_dim_folder=\"./data/cskg_dim/cskg_dim.tsv\"\n",
    "cskg_embeddings_file=\"../psl/cskg_embedding/cskg_embeddings.txt\"\n",
    "\n",
    "# output\n",
    "AtLocation_sents_file=\"./data/psl/AtLocation_sents.txt\"\n",
    "gamesents_file=\"./data/psl/gamesents.txt\"\n",
    "hops_avg=\"../psl/GameSentence/4-hops-AvgSim.txt\"\n",
    "hops_min=\"../psl/GameSentence/4-hops-MinSim.txt\"\n",
    "centric_avg=\"../psl/GameSentence/node-centric-AvgSim.txt\"\n",
    "centric_min=\"../psl/GameSentence/node-centric-MinSim.txt\""
   ]
  },
  {
   "cell_type": "markdown",
   "metadata": {},
   "source": [
    "## Data Preprocess"
   ]
  },
  {
   "cell_type": "code",
   "execution_count": 3,
   "metadata": {},
   "outputs": [],
   "source": [
    "def load_source(filename):\n",
    "    # load file\n",
    "    # output file head and content\n",
    "    with open(filename,\"r\",encoding=\"utf-8\") as f:\n",
    "        head=f.readline().strip().split(\"\\t\")\n",
    "        data=[]\n",
    "        for line in f:\n",
    "            temp=line.strip().split(\"\\t\")\n",
    "            data.append([item.split(\"|\")[0] for item in temp])\n",
    "            \n",
    "    return head, data\n",
    "\n",
    "def data_filter(head, lines, filter_={\"relation\":[\"/r/AtLocation\"]}):\n",
    "    # filter the lines with limitation\n",
    "    for head_name in filter_:\n",
    "        filter_values=filter_[head_name]\n",
    "        line_index=head.index(head_name)\n",
    "        \n",
    "        for filter_value in filter_values:\n",
    "            filter_lines=[]\n",
    "            for line in lines:\n",
    "                if line[line_index]==filter_value:\n",
    "                    filter_lines.append(line)\n",
    "            yield filter_value,filter_lines\n",
    "        \n",
    "def build_sentence(lines, sent_format='f\"I am going to {blank1} and I am going to see {blank2}\"',operation=\"or\",reverse_format=False):\n",
    "    # build sentence based on lines\n",
    "    # input:\n",
    "        #lines: the filter line\n",
    "        #sent_format: Structure to generate sentence\n",
    "    # output:\n",
    "    # example: Example: I am going to A and I am going to see B or C or D.\n",
    "        # sents: The generated game sentence\n",
    "        # top_bot: a dictionary,{A:[B,C,D,...]}\n",
    "    top_bot=dict()\n",
    "    if not reverse_format:\n",
    "        for line in lines:\n",
    "            subject_id=line[1]\n",
    "            subject_label=line[4]\n",
    "\n",
    "            object_id=line[3]\n",
    "            object_label=line[5]\n",
    "\n",
    "            temp=top_bot.get(object_label,[])\n",
    "            temp.append(subject_label)\n",
    "\n",
    "            top_bot[object_label]=temp\n",
    "            \n",
    "    else:\n",
    "        for line in lines:\n",
    "            subject_id=line[1]\n",
    "            subject_label=line[4]\n",
    "\n",
    "            object_id=line[3]\n",
    "            object_label=line[5]\n",
    "\n",
    "            temp=top_bot.get(subject_label,[])\n",
    "            temp.append(object_label)\n",
    "\n",
    "            top_bot[subject_label]=temp\n",
    "    \n",
    "    # build sentence\n",
    "    sents=[]\n",
    "    for top in top_bot:\n",
    "        bots=top_bot[top]\n",
    "        \n",
    "        blank1=top\n",
    "        blank2=f\" {operation} \".join(bots)\n",
    "        sents.append(eval(sent_format).replace(\"_\",\" \"))\n",
    "        \n",
    "    return sents, top_bot"
   ]
  },
  {
   "cell_type": "code",
   "execution_count": 4,
   "metadata": {},
   "outputs": [],
   "source": [
    "# load cskg_dim file\n",
    "cskg_dim_head,cskg_dim_lines=load_source(cskg_dim_folder)"
   ]
  },
  {
   "cell_type": "code",
   "execution_count": 5,
   "metadata": {},
   "outputs": [
    {
     "data": {
      "text/plain": [
       "['id',\n",
       " 'node1',\n",
       " 'relation',\n",
       " 'node2',\n",
       " 'node1;label',\n",
       " 'node2;label',\n",
       " 'relation;label',\n",
       " 'relation;dimension',\n",
       " 'source',\n",
       " 'sentence']"
      ]
     },
     "execution_count": 5,
     "metadata": {},
     "output_type": "execute_result"
    }
   ],
   "source": [
    "# head\n",
    "cskg_dim_head"
   ]
  },
  {
   "cell_type": "code",
   "execution_count": 6,
   "metadata": {},
   "outputs": [
    {
     "data": {
      "text/plain": [
       "['/c/en/0-/r/DefinedAs-/c/en/empty_set-0000',\n",
       " '/c/en/0',\n",
       " '/r/DefinedAs',\n",
       " '/c/en/empty_set',\n",
       " '0',\n",
       " 'empty set',\n",
       " 'defined as',\n",
       " 'similarity',\n",
       " 'CN',\n",
       " '[[0]] is the [[empty set]].']"
      ]
     },
     "execution_count": 6,
     "metadata": {},
     "output_type": "execute_result"
    }
   ],
   "source": [
    "# example of lines\n",
    "cskg_dim_lines[0]"
   ]
  },
  {
   "cell_type": "markdown",
   "metadata": {},
   "source": [
    "## Build AtLocation Sentence\n",
    "Extract the lines whose relation id is /r/AtLocation.  \n",
    "Then try to build game sentence basd on each lines.  \n",
    "Example: I am going to drawer and I am going to see XX or XX or XX."
   ]
  },
  {
   "cell_type": "code",
   "execution_count": 7,
   "metadata": {},
   "outputs": [],
   "source": [
    "# find the sentence that relation is \"/r/AtLocation\"\n",
    "mul_filter_lines=list(data_filter(cskg_dim_head, cskg_dim_lines, filter_={\"relation\":[\"/r/AtLocation\"]}))"
   ]
  },
  {
   "cell_type": "code",
   "execution_count": 8,
   "metadata": {},
   "outputs": [
    {
     "data": {
      "text/plain": [
       "('/r/AtLocation',\n",
       " ['/c/en/00t_shirts-/r/AtLocation-/c/en/drawer-0000',\n",
       "  '/c/en/00t_shirts',\n",
       "  '/r/AtLocation',\n",
       "  '/c/en/drawer',\n",
       "  '00t shirts',\n",
       "  'drawer',\n",
       "  'at location',\n",
       "  'spatial',\n",
       "  'CN',\n",
       "  '*Something you find in [[a drawer]] is [[00t-shirts]]'])"
      ]
     },
     "execution_count": 8,
     "metadata": {},
     "output_type": "execute_result"
    }
   ],
   "source": [
    "# example of lines with relation /r/AtLocation\n",
    "mul_filter_lines[0][0], mul_filter_lines[0][1][0]"
   ]
  },
  {
   "cell_type": "code",
   "execution_count": 9,
   "metadata": {},
   "outputs": [
    {
     "name": "stdout",
     "output_type": "stream",
     "text": [
      "game sentences with AtLocation we can create: 7771\n",
      "answers they have on average: 3.5770171149144256\n"
     ]
    }
   ],
   "source": [
    "AtLocation_sents,AtLocation_dict = build_sentence(mul_filter_lines[0][1])\n",
    "print(\"game sentences with AtLocation we can create:\",len(AtLocation_dict))\n",
    "\n",
    "# statistic of location sentence\n",
    "example_distribution=[len(AtLocation_dict[item]) for item in AtLocation_dict]\n",
    "avg_example= sum(example_distribution)/len(AtLocation_dict)\n",
    "print(\"answers they have on average:\", avg_example)"
   ]
  },
  {
   "cell_type": "code",
   "execution_count": 10,
   "metadata": {},
   "outputs": [
    {
     "data": {
      "image/png": "[encoded data removed]",
      "text/plain": [
       "<Figure size 432x288 with 1 Axes>"
      ]
     },
     "metadata": {
      "needs_background": "light"
     },
     "output_type": "display_data"
    }
   ],
   "source": [
    "a=plt.hist(example_distribution,log=True)"
   ]
  },
  {
   "cell_type": "code",
   "execution_count": 11,
   "metadata": {},
   "outputs": [],
   "source": [
    "# save file to desk\n",
    "with open(AtLocation_sents_file,\"w\",encoding=\"utf-8\") as f:\n",
    "    for line in AtLocation_sents:\n",
    "        f.write(line+\"\\n\")"
   ]
  },
  {
   "cell_type": "markdown",
   "metadata": {},
   "source": [
    "## Build Sentences Based on More Relations\n",
    "Similar work with **Build AtLocation Sentence**  \n",
    "In this task, more relation id and sentence format will be defined in this task  \n",
    "According to relation distribution, 11 different relation id are chosen as the relation limitation."
   ]
  },
  {
   "cell_type": "code",
   "execution_count": 12,
   "metadata": {},
   "outputs": [
    {
     "name": "stdout",
     "output_type": "stream",
     "text": [
      "number of relation id: 47\n"
     ]
    }
   ],
   "source": [
    "# find the distribution of relation id\n",
    "rel_dict=dict()\n",
    "for line in cskg_dim_lines:\n",
    "    rel_dict[line[2]]=rel_dict.get(line[2],0)+1\n",
    "    \n",
    "print(\"number of relation id:\", len(rel_dict))"
   ]
  },
  {
   "cell_type": "code",
   "execution_count": 13,
   "metadata": {},
   "outputs": [],
   "source": [
    "# define the first word and second word used for build sentence for :\n",
    "# example:\n",
    "# [I am going to], [and I am going to see]\n",
    "relation_sentence={\"/r/UsedFor\":[['f\"I want to {blank1} so I will need {blank2}\"',\"or\",False],\n",
    "                                 ['f\"I want to have {blank1} so I will need {blank2}\"',\"or\",False],\n",
    "                                 ['f\"I want to be {blank1} so I will need {blank2}\"',\"or\",False]],\n",
    "                   \"/r/CreatedBy\":[['f\"I have {blank1} so I can create {blank2}\"',\"or\", False]],\n",
    "                   \"/r/CapableOf\":[['f\"I have {blank1} so I am capable of {blank2}\"',\"or\", True],\n",
    "                                     ['f\"I am {blank1} so I am capable of {blank2}\"',\"or\", True]],\n",
    "                   \"/r/Causes\":[['f\"I have {blank1} so I will cause {blank2}\"',\"or\", True],\n",
    "                                  ['f\"I am {blank1} so I will cause {blank2}\"',\"or\", True]],\n",
    "                   \"/r/PartOf\":[['f\"I have {blank1} so I might also have {blank2}\"',\"or\", False],\n",
    "                                  ['f\"I am {blank1} so I might also have {blank2}\"',\"or\", False]],\n",
    "                   \"/r/MadeOf\":[['f\"I want to have {blank1} so I can make it from {blank2}\"',\"or\", True]],\n",
    "                   \"/r/HasPrerequisite\":[['f\"If I want to {blank1} then I should {blank2}\"',\"or\", True],\n",
    "                                           ['f\"If I want to be {blank1} then I should {blank2}\"',\"or\", True],\n",
    "                                           ['f\"If I want to have {blank1} then I should {blank2}\"',\"or\", True]],\n",
    "                   \"/r/CausesDesire\":[['f\"I want to {blank1} then I want to {blank2}\"',\"or\", False],\n",
    "                                        ['f\"I want to {blank1} then I have {blank2}\"',\"or\", False]],\n",
    "                   \"/r/NotDesires\":[['f\"I am {blank1} and I don\\'t want to {blank2}\"',\"or\", True]],\n",
    "                   \"/r/AtLocation\":[['f\"I need {blank1} so I will go to see {blank2}\"',\"or\", True]],\n",
    "                   '/r/LocatedNear':[['f\"I am going to {blank1} and I am going to see {blank2} nearby\"',\"or\", True]]}\n",
    "\n",
    "\n",
    "# get the sentence that having the relation in relation_sentence\n",
    "mul_filter_lines=list(data_filter(cskg_dim_head, cskg_dim_lines, filter_={\"relation\":relation_sentence.keys()}))"
   ]
  },
  {
   "cell_type": "code",
   "execution_count": 14,
   "metadata": {},
   "outputs": [],
   "source": [
    "sents_example=[]\n",
    "# build sentence based on different relation limitation and write to desk\n",
    "# for each line, three different sentence will be generated.\n",
    "with open(gamesents_file,\"w\",encoding=\"utf-8\") as f:\n",
    "    for rel_id, lines in mul_filter_lines:\n",
    "        temp= []\n",
    "        for format_ in relation_sentence[rel_id]:\n",
    "            sents,example_dict = build_sentence(lines,\n",
    "                                 sent_format=format_[0],\n",
    "                                 operation=format_[1],\n",
    "                                 reverse_format=format_[2],)\n",
    "\n",
    "            example_distribution=[len(example_dict[item]) for item in example_dict]\n",
    "            avg_example= sum(example_distribution)/len(example_dict)\n",
    "            if not temp:\n",
    "                temp= [[sents[i]] for i in range(len(sents))]\n",
    "            else:\n",
    "                temp=[temp[i]+[sents[i]] for i in range(len(sents))]\n",
    "\n",
    "        sents_example.append([rel_id,temp,example_dict])\n",
    "\n",
    "        # save file into desk\n",
    "\n",
    "        f.write(\"**\"+rel_id+\"**\\n\")\n",
    "        for line in sents:\n",
    "            f.write(line+\"\\n\")"
   ]
  },
  {
   "cell_type": "code",
   "execution_count": 15,
   "metadata": {},
   "outputs": [
    {
     "data": {
      "text/plain": [
       "('/r/Causes',\n",
       " [['I have coerce so I will cause act', 'I am coerce so I will cause act'],\n",
       "  ['I have acting in play so I will cause applause or attention or audience to laugh or become famous or becoming professional actor or being on stage or big ego or breaking leg or comraderie with other actors or drama or dread of reviews or embarrasment or entertaining others or fall or fame and wealth or fun or gaining exposure or getting famous or getting noticed by agent or getting paid or illogical or imitate other character or laughter or looking foolish or might get applause or muscle or pride or receiving roses or satisfactory or silliness or speaking dialogue or stage fright or sudden reknown or win leading role',\n",
       "   'I am acting in play so I will cause applause or attention or audience to laugh or become famous or becoming professional actor or being on stage or big ego or breaking leg or comraderie with other actors or drama or dread of reviews or embarrasment or entertaining others or fall or fame and wealth or fun or gaining exposure or getting famous or getting noticed by agent or getting paid or illogical or imitate other character or laughter or looking foolish or might get applause or muscle or pride or receiving roses or satisfactory or silliness or speaking dialogue or stage fright or sudden reknown or win leading role'],\n",
       "  [\"I have acute episode of psychosis so I will cause losing touch with reality or perceiving one's world abnormally\",\n",
       "   \"I am acute episode of psychosis so I will cause losing touch with reality or perceiving one's world abnormally\"]])"
      ]
     },
     "execution_count": 15,
     "metadata": {},
     "output_type": "execute_result"
    }
   ],
   "source": [
    "# example of output\n",
    "# for the relation /r/Causes, each collections will generate two different format sentence\n",
    "sents_example[3][0], sents_example[3][1][:3]"
   ]
  },
  {
   "cell_type": "markdown",
   "metadata": {},
   "source": [
    "## Score sentence\n",
    "In this task, we define the score sentence which use perplexity to exsimate sentence quality."
   ]
  },
  {
   "cell_type": "code",
   "execution_count": 16,
   "metadata": {},
   "outputs": [],
   "source": [
    "# build gpt model\n",
    "model = GPT2LMHeadModel.from_pretrained('gpt2')\n",
    "tokenizer = GPT2Tokenizer.from_pretrained('gpt2')\n",
    "\n",
    "def score(tokens_tensor):\n",
    "    # input sentence tensor\n",
    "    # output score\n",
    "    loss=model(tokens_tensor, labels=tokens_tensor)[0]\n",
    "    return np.exp(loss.cpu().detach().numpy())\n",
    "\n",
    "def sents_pick(sents,scores,perplexity_threhold=100):\n",
    "    # filter sents based on perplexity\n",
    "    i = min(len(sents), len(scores))\n",
    "    sents_result=[]\n",
    "    for idx in range(i):\n",
    "        sent_collect=sents[idx]\n",
    "        score_collect=scores[idx]\n",
    "        \n",
    "        temp=float(\"inf\")\n",
    "        result=\"\"\n",
    "        \n",
    "        result_idx=0\n",
    "        temp_idx=0\n",
    "        for sent, score in zip(sent_collect,score_collect):\n",
    "            if temp>score:\n",
    "                temp=score\n",
    "                result=sent\n",
    "                result_idx=temp_idx\n",
    "            temp_idx+=1\n",
    "        if temp < perplexity_threhold:\n",
    "            sents_result.append([result_idx,result])\n",
    "        \n",
    "    return sents_result"
   ]
  },
  {
   "cell_type": "code",
   "execution_count": 17,
   "metadata": {},
   "outputs": [],
   "source": [
    "# if file exists load file otherwise run by yourself (2 hours)\n",
    "# relation_scores \n",
    "isfile_=os.path.isfile(\"GameSentence.pkl\")\n",
    "if not isfile_:\n",
    "    dsad\n",
    "    relation_scores=[]\n",
    "    for relation_collection in sents_example:\n",
    "        rel_id=relation_collection[0]\n",
    "        scores=[]\n",
    "        print(\"process relation id:\", rel_id)\n",
    "        for sents in tqdm(relation_collection[1]):\n",
    "            temp=[]\n",
    "            for sent in sents:\n",
    "                # too long sentence might out of index\n",
    "                if len(sent)>2000:\n",
    "                    temp.append(float(\"inf\"))\n",
    "                    continue\n",
    "                tokens_tensor = tokenizer.encode(sent, add_special_tokens=False, return_tensors=\"pt\")           \n",
    "                temp.append(score(tokens_tensor))\n",
    "            scores.append(temp)\n",
    "        relation_scores.append([rel_id,scores])\n",
    "    \n",
    "    # store the result to desktop\n",
    "    with open(\"GameSentence.pkl\", 'wb') as output:  # Overwrites any existing file.\n",
    "        pickle.dump(relation_scores, output, pickle.HIGHEST_PROTOCOL)    \n",
    "else:\n",
    "    with open(\"GameSentence.pkl\", 'rb') as input:\n",
    "        relation_scores = pickle.load(input)"
   ]
  },
  {
   "cell_type": "code",
   "execution_count": 18,
   "metadata": {},
   "outputs": [],
   "source": [
    "# find the sentence with highest score/lowest perplexity and satisfy threshold (100 default)\n",
    "# the output filtered_sents_example is considered as the high quality sentence\n",
    "filtered_sents_example=[]\n",
    "\n",
    "for idx_1 in range(len(sents_example)):\n",
    "    rel_id=sents_example[idx_1][0]\n",
    "    example_dict=sents_example[idx_1][2]\n",
    "    sents=sents_example[idx_1][1]\n",
    "    scores=relation_scores[idx_1][1]\n",
    "    \n",
    "    filtered_sent=sents_pick(sents,scores)\n",
    "    filtered_sents_example.append([rel_id,filtered_sent,example_dict])"
   ]
  },
  {
   "cell_type": "code",
   "execution_count": 19,
   "metadata": {},
   "outputs": [
    {
     "name": "stderr",
     "output_type": "stream",
     "text": [
      "100%|██████████| 1621/1621 [00:00<00:00, 131289.67it/s]\n",
      "100%|██████████| 8/8 [00:00<00:00, 25910.76it/s]\n",
      "100%|██████████| 402/402 [00:00<00:00, 57264.98it/s]\n",
      "100%|██████████| 196/196 [00:00<00:00, 30743.59it/s]\n",
      "100%|██████████| 2075/2075 [00:00<00:00, 125404.26it/s]\n",
      "100%|██████████| 1125/1125 [00:00<00:00, 210830.26it/s]\n",
      "100%|██████████| 1409/1409 [00:00<00:00, 66045.76it/s]\n",
      "100%|██████████| 86/86 [00:00<00:00, 74944.97it/s]\n",
      "100%|██████████| 99/99 [00:00<00:00, 165169.49it/s]\n",
      "100%|██████████| 495/495 [00:00<00:00, 67216.41it/s]\n",
      "100%|██████████| 1633/1633 [00:00<00:00, 41314.09it/s]\n"
     ]
    }
   ],
   "source": [
    "# based on the high quality sentence, extract the infomation including (subject, relation, object) to edges.\n",
    "edges=[]\n",
    "for relation_sents in filtered_sents_example:\n",
    "    rel_id=relation_sents[0]\n",
    "    ids_sents=relation_sents[1]\n",
    "    patterns_=relation_sentence[rel_id]\n",
    "    for id_, sent in tqdm(ids_sents):\n",
    "        pattern_undefine=patterns_[id_][0]\n",
    "        reverse=patterns_[id_][2]\n",
    "        connection=patterns_[id_][1]\n",
    "        pattern=pattern_undefine.replace(\"{blank1}\",\"(.*)\").replace(\"{blank2}\",\"(.*)\").replace('f\"',\"\").replace('\"',\"\")\n",
    "        \n",
    "        blank1,blank2s=re.findall(pattern, sent)[0]\n",
    "        blank2s_list=blank2s.split(\" \"+connection+\" \")\n",
    "        \n",
    "        for blank2 in blank2s_list:\n",
    "            if reverse:\n",
    "                subject_=blank1\n",
    "                object_=blank2\n",
    "                edges.append([subject_,rel_id,object_])\n",
    "            else:\n",
    "                subject_=blank2\n",
    "                object_=blank1\n",
    "                edges.append([subject_,rel_id,object_])"
   ]
  },
  {
   "cell_type": "code",
   "execution_count": 20,
   "metadata": {},
   "outputs": [
    {
     "data": {
      "text/plain": [
       "['accommodation', '/r/UsedFor', 'place to stay']"
      ]
     },
     "execution_count": 20,
     "metadata": {},
     "output_type": "execute_result"
    }
   ],
   "source": [
    "# example of edges:\n",
    "edges[0]"
   ]
  },
  {
   "cell_type": "code",
   "execution_count": 21,
   "metadata": {},
   "outputs": [
    {
     "data": {
      "image/png": "[encoded data removed]",
      "text/plain": [
       "<Figure size 432x288 with 1 Axes>"
      ]
     },
     "metadata": {
      "needs_background": "light"
     },
     "output_type": "display_data"
    },
    {
     "data": {
      "image/png": "[encoded data removed]",
      "text/plain": [
       "<Figure size 432x288 with 1 Axes>"
      ]
     },
     "metadata": {
      "needs_background": "light"
     },
     "output_type": "display_data"
    },
    {
     "data": {
      "image/png": "[encoded data removed]",
      "text/plain": [
       "<Figure size 432x288 with 1 Axes>"
      ]
     },
     "metadata": {
      "needs_background": "light"
     },
     "output_type": "display_data"
    },
    {
     "data": {
      "image/png": "[encoded data removed]",
      "text/plain": [
       "<Figure size 432x288 with 1 Axes>"
      ]
     },
     "metadata": {
      "needs_background": "light"
     },
     "output_type": "display_data"
    },
    {
     "data": {
      "image/png": "[encoded data removed]",
      "text/plain": [
       "<Figure size 432x288 with 1 Axes>"
      ]
     },
     "metadata": {
      "needs_background": "light"
     },
     "output_type": "display_data"
    },
    {
     "data": {
      "image/png": "[encoded data removed]",
      "text/plain": [
       "<Figure size 432x288 with 1 Axes>"
      ]
     },
     "metadata": {
      "needs_background": "light"
     },
     "output_type": "display_data"
    },
    {
     "data": {
      "image/png": "[encoded data removed]",
      "text/plain": [
       "<Figure size 432x288 with 1 Axes>"
      ]
     },
     "metadata": {
      "needs_background": "light"
     },
     "output_type": "display_data"
    },
    {
     "data": {
      "image/png": "[encoded data removed]",
      "text/plain": [
       "<Figure size 432x288 with 1 Axes>"
      ]
     },
     "metadata": {
      "needs_background": "light"
     },
     "output_type": "display_data"
    },
    {
     "data": {
      "image/png": "[encoded data removed]",
      "text/plain": [
       "<Figure size 432x288 with 1 Axes>"
      ]
     },
     "metadata": {
      "needs_background": "light"
     },
     "output_type": "display_data"
    },
    {
     "data": {
      "image/png": "[encoded data removed]",
      "text/plain": [
       "<Figure size 432x288 with 1 Axes>"
      ]
     },
     "metadata": {
      "needs_background": "light"
     },
     "output_type": "display_data"
    },
    {
     "data": {
      "image/png": "[encoded data removed]",
      "text/plain": [
       "<Figure size 432x288 with 1 Axes>"
      ]
     },
     "metadata": {
      "needs_background": "light"
     },
     "output_type": "display_data"
    }
   ],
   "source": [
    "# calculate the number of answer for different relation id\n",
    "\n",
    "for relation_sents in filtered_sents_example:\n",
    "    fig = plt.figure()\n",
    "    # count the number of \" or \" n1 in the sentence\n",
    "    # the answer of one sentence is n1+1\n",
    "    rel_id=relation_sents[0]\n",
    "    id_sents=relation_sents[1]\n",
    "    distribution=[]\n",
    "    for id_, sent in id_sents:\n",
    "        num_or = sent.count(\" or \")\n",
    "        distribution.append(num_or+1)    \n",
    "    a=plt.hist(distribution,log=True)\n",
    "    plt.title(rel_id)"
   ]
  },
  {
   "cell_type": "markdown",
   "metadata": {},
   "source": [
    "# Build Graph and Build Game Sentence by Random Walk\n",
    "Based on the edges obtained in the previous task, use these edges to build graph and make a random walk.  \n",
    "Use the generated random walk to build game sentences.  \n",
    "The quality of game sentences is evaluated by GPT-2"
   ]
  },
  {
   "cell_type": "code",
   "execution_count": 22,
   "metadata": {},
   "outputs": [],
   "source": [
    "def random_walk(num=2):\n",
    "    # make a random walk with the threshod num in graph\n",
    "    # input: \n",
    "        #num:depth of walk\n",
    "    #output:\n",
    "        #process:a random walk result\n",
    "    step=0\n",
    "    process=[]\n",
    "    root=None\n",
    "    \n",
    "    while step<num:\n",
    "        # random select root\n",
    "        if root == None:\n",
    "            root_name = random.sample(label_limit, 1)[0]\n",
    "            if root_name in G:\n",
    "                root=G[root_name]\n",
    "            else:\n",
    "                continue\n",
    "            \n",
    "        else:\n",
    "            #print(list(root.out_neighbors()))\n",
    "            root_name= random.sample(root.keys(), 1)[0]\n",
    "            if root_name in G:\n",
    "                root=G[root_name]\n",
    "            else:\n",
    "                step=0\n",
    "                process=[]\n",
    "                root=None\n",
    "                continue\n",
    "            #print(\"second root\", root)\n",
    "        \n",
    "        if G.out_degree[root_name]==0:\n",
    "            step=0\n",
    "            process=[]\n",
    "            root=None\n",
    "            continue\n",
    "        \n",
    "        #print(root,root.out_degree())\n",
    "        if root_name in process:\n",
    "            step=0\n",
    "            process=[]\n",
    "            root=None\n",
    "            continue\n",
    "        process.append(root_name)\n",
    "        step+=1\n",
    "    process.append(random.sample(root.keys(), 1)[0]) \n",
    "    return process\n",
    "\n",
    "def all_relation_walk(threshold=100,relation_list=[\"/r/UsedFor\"]):\n",
    "    # generate a sentence with relation labels limitation\n",
    "    # input: \n",
    "        #relation_list: list of relation id that use to filter random walk\n",
    "        #threshold: the max iteration\n",
    "    # output:\n",
    "        #a random walk that contains all relation id in relation list. example:[obj1, obj2, obj3,...]\n",
    "    relation_set=set(relation_list)\n",
    "    process=[]\n",
    "    root_name=\"\"\n",
    "    step=0\n",
    "    \n",
    "    while step<threshold:\n",
    "        step+=1\n",
    "        if root_name == \"\":\n",
    "            root_name = random.sample(label_limit, 1)[0].replace(\" \",\"_\")\n",
    "            if root_name in G:\n",
    "                pass\n",
    "            else:\n",
    "                root_name = \"\"\n",
    "                continue\n",
    "                \n",
    "        else:\n",
    "            #print(list(root.out_neighbors()))\n",
    "            all_edges=list(G.out_edges(root_name, data=True))\n",
    "            random.shuffle(all_edges)\n",
    "            status = False\n",
    "            for sub, obj, rel in all_edges:\n",
    "                rel_label=rel[\"label\"]\n",
    "                if rel_label in relation_set:\n",
    "                    status=True\n",
    "                    break\n",
    "            \n",
    "            if status:\n",
    "                root_name=obj\n",
    "                relation_set.remove(rel_label)\n",
    "                if relation_set==set():\n",
    "                    process.append(root_name)\n",
    "                    break\n",
    "            else:\n",
    "                process=[]\n",
    "                root_name=\"\"\n",
    "                relation_set=set(relation_list)\n",
    "                continue\n",
    "            #print(\"second root\", root)\n",
    "        \n",
    "        if G.out_degree[root_name]==0:\n",
    "            process=[]\n",
    "            root_name=\"\"\n",
    "            relation_set=set(relation_list)\n",
    "            continue\n",
    "        \n",
    "        #print(root,root.out_degree())\n",
    "        # remove duplicate\n",
    "        if root_name in process:\n",
    "            process=[]\n",
    "            root_name=\"\"\n",
    "            continue\n",
    "\n",
    "        process.append(root_name)\n",
    "    return process\n",
    "\n",
    "def walk_sent(process):\n",
    "    # add relation id between two objects in random walk\n",
    "    # output example: [obj1, rel1, obj2, rel2, obj3, rel3, obj4....]\n",
    "    sent=\"\"\n",
    "    for p2 in range(1, len(process)):\n",
    "        p1=p2-1\n",
    "        sub=process[p1].replace(\" \",\"_\")\n",
    "        obj=process[p2].replace(\" \",\"_\")\n",
    "        \n",
    "        relation_=G[sub][obj][\"label\"]\n",
    "        \n",
    "        if sent:\n",
    "            sent+=\"-\"+relation_+\"-\"+obj\n",
    "        else:\n",
    "            sent=sub+\"-\"+relation_+\"-\"+obj\n",
    "            \n",
    "    return sent\n",
    "\n",
    "def walk2gamesents(sent, relation2label, relation_swap={\"/r/LocatedNear\"}):\n",
    "    # transfer random walk to sentence\n",
    "    # input: \n",
    "        #sent: a random walk [obbj1, rel1, obj2, rel2, ....]\n",
    "        #relkation2label: relation label for different relation id\n",
    "        #relation swap: the relation that you want to use the relation label in cskg_dim instead of self defined\n",
    "    # output:\n",
    "        #gamesent: Game Sentence\n",
    "    sent_token=sent.split(\"-\")\n",
    "    gamesent=\"\"\n",
    "    i=0\n",
    "    while i < len(sent_token):\n",
    "        if i==0:\n",
    "            gamesent+=sent_token[i].replace(\"_\",\" \")\n",
    "        \n",
    "        elif i==1:\n",
    "            rel_id=sent_token[i]\n",
    "            if rel_id in relation_swap:\n",
    "                rel_label=G_total[sent_token[i-1]][sent_token[i+1]][\"label\"]\n",
    "            else:\n",
    "                rel_label=relation2label[sent_token[i]]\n",
    "            \n",
    "            gamesent+=\" \"+rel_label\n",
    "            \n",
    "        elif (i+1)%2==0:\n",
    "            gamesent+=\" \"+ \"that\"+\" \"+relation2label[sent_token[i]]\n",
    "        \n",
    "        else:\n",
    "            gamesent+= \" \"+sent_token[i].replace(\"_\",\" \")\n",
    "        i+=1\n",
    "    return gamesent"
   ]
  },
  {
   "cell_type": "code",
   "execution_count": 23,
   "metadata": {},
   "outputs": [],
   "source": [
    "# define the relation label \n",
    "relation2label={\"/r/UsedFor\":\"is used for\",\"/r/CreatedBy\":\"is created by\",\"/r/CapableOf\":\"is capable of\",\n",
    "                \"/r/Causes\":\"casuses\",\"/r/PartOf\":\"is part of\",\"/r/HasContext\":'has context,',\"/r/MadeOf\":\"is made of\",\n",
    "                \"/r/HasPrerequisite\":\"has prerequisite,\",\"/r/CausesDesire\": \"causes desire,\",\"/r/NotDesires\":\"does not desire\",\n",
    "                \"/r/AtLocation\":\"is located in\",\"/r/LocatedNear\":\"is located near in\"}"
   ]
  },
  {
   "cell_type": "code",
   "execution_count": 24,
   "metadata": {},
   "outputs": [],
   "source": [
    "# define the subject of sentence\n",
    "label_limit = set([\"rug\",\"piano\",\"dryer\",\"computer\",\"fireplace\",\"whiteboard\",\"bookshelf\",\"wardrobe cabinet\",\n",
    "                  \"pan\",\"toilet\",\"plates\",\"ottoman\",\"fish tank\",\"dishwasher\",\"microwave\",\"water dispenser\",\n",
    "                  \"bed\",\"table\",\"mirror\",\"tv stand\",\"stereo set\",\"chessboard\",\"playstation\",\"vacuum cleaner\",\n",
    "                  \"cup\",\"xbox\",\"heater\",\"bathtub\",\"shoe rack\",\"range oven\",\"refrigerator\",\"coffee machine\",\n",
    "                  \"sink\",\"sofa\",\"kettle\",\"dresser\",\"knife rack\",\"towel rack\",\"loudspeaker\",\"utensil holder\",\n",
    "                  \"desk\",\"vase\",\"shower\",\"washer\",\"fruit bowl\",\"television\",\"dressing table\",\"cutting board\",\n",
    "                  \"ironing board\",\"food processor\"])"
   ]
  },
  {
   "cell_type": "code",
   "execution_count": 25,
   "metadata": {},
   "outputs": [],
   "source": [
    "# based on high quality sentence extracted before to build graph.\n",
    "G = nx.DiGraph()\n",
    "for edge in edges:\n",
    "    sub,rel,obj=edge\n",
    "    sub=sub.replace(\" \",\"_\")\n",
    "    obj=obj.replace(\" \",\"_\")\n",
    "    G.add_edge(sub,obj,label=rel)"
   ]
  },
  {
   "cell_type": "code",
   "execution_count": 26,
   "metadata": {},
   "outputs": [],
   "source": [
    "# build the graph for the whole dataset (cskg_dim).\n",
    "G_total= nx.DiGraph()\n",
    "for line in cskg_dim_lines:\n",
    "    G_total.add_edge(line[4].replace(\" \",\"_\"),line[5].replace(\" \",\"_\"),label=line[6], head_tail=[line[1],line[3]])"
   ]
  },
  {
   "cell_type": "code",
   "execution_count": 27,
   "metadata": {},
   "outputs": [
    {
     "name": "stdout",
     "output_type": "stream",
     "text": [
      "random walk:  dresser-/r/LocatedNear-street-/r/LocatedNear-pizza-/r/LocatedNear-meat\n",
      "gamesentence is:  dresser on street that is located near in pizza that is located near in meat\n",
      "227.63489\n",
      "\n",
      "random walk:  bathtub-/r/LocatedNear-molding-/r/LocatedNear-door-/r/AtLocation-union_suit\n",
      "gamesentence is:  bathtub has molding that is located near in door that is located in union suit\n",
      "675.00885\n",
      "\n",
      "random walk:  television-/r/LocatedNear-staircase-/r/LocatedNear-back-/r/PartOf-body\n",
      "gamesentence is:  television in front of staircase that is located near in back that is part of body\n",
      "266.74973\n",
      "\n",
      "random walk:  vase-/r/LocatedNear-head-/r/PartOf-human_body-/r/MadeOf-water\n",
      "gamesentence is:  vase has a head that is part of human body that is made of water\n",
      "58.375175\n",
      "\n",
      "random walk:  computer-/r/LocatedNear-surface-/r/LocatedNear-toilet-/r/LocatedNear-caddy\n",
      "gamesentence is:  computer has surface that is located near in toilet that is located near in caddy\n",
      "197.67494\n",
      "\n"
     ]
    }
   ],
   "source": [
    "# make a iteration to find a game sentence\n",
    "# it should be noticed that for one iteration, it is possible that we cannot find a satisfied random walk\n",
    "\n",
    "# the depth of random walk in this example is 3\n",
    "for i in range(5):\n",
    "    temp=random_walk(num=3)\n",
    "    sent=walk_sent(temp)\n",
    "    gamesent=walk2gamesents(sent, relation2label)\n",
    "    tokens_tensor = tokenizer.encode(gamesent, add_special_tokens=False, return_tensors=\"pt\")           \n",
    "    value=score(tokens_tensor)\n",
    "    print(\"random walk: \", sent)\n",
    "    print(\"gamesentence is: \", gamesent)\n",
    "    print(value)\n",
    "    print()"
   ]
  },
  {
   "cell_type": "code",
   "execution_count": 28,
   "metadata": {},
   "outputs": [
    {
     "name": "stdout",
     "output_type": "stream",
     "text": [
      "random walk:  desk-/r/LocatedNear-computer_keyboard-/r/LocatedNear-black_monitor\n",
      "gamesentence is:  desk has computer keyboard that is located near in black monitor\n",
      "775.3785\n",
      "\n",
      "random walk:  vase-/r/LocatedNear-plate-/r/UsedFor-decoration\n",
      "gamesentence is:  vase above plate that is used for decoration\n",
      "683.93506\n",
      "\n",
      "random walk:  piano-/r/LocatedNear-lid-/r/LocatedNear-spokes\n",
      "gamesentence is:  piano has lid that is located near in spokes\n",
      "2487.3958\n",
      "\n",
      "random walk:  pan-/r/LocatedNear-pen-/r/LocatedNear-calculator\n",
      "gamesentence is:  pan in pen that is located near in calculator\n",
      "1075.763\n",
      "\n",
      "random walk:  television-/r/LocatedNear-lettering-/r/LocatedNear-ball\n",
      "gamesentence is:  television has lettering that is located near in ball\n",
      "1141.601\n",
      "\n"
     ]
    }
   ],
   "source": [
    "# make a iteration to find a game sentence\n",
    "# it should be noticed that for one iteration, it is possible that we cannot find a satisfied random walk\n",
    "\n",
    "# the depth of random walk in this example is 3\n",
    "for i in range(5):\n",
    "    temp=random_walk(num=2)\n",
    "    sent=walk_sent(temp)\n",
    "    gamesent=walk2gamesents(sent, relation2label)\n",
    "    tokens_tensor = tokenizer.encode(gamesent, add_special_tokens=False, return_tensors=\"pt\")           \n",
    "    value=score(tokens_tensor)\n",
    "    print(\"random walk: \", sent)\n",
    "    print(\"gamesentence is: \", gamesent)\n",
    "    print(value)\n",
    "    print()"
   ]
  },
  {
   "cell_type": "code",
   "execution_count": 29,
   "metadata": {},
   "outputs": [
    {
     "data": {
      "text/plain": [
       "['piano', 'drawing_room', 'sitting', 'porch', 'house', 'metal']"
      ]
     },
     "execution_count": 29,
     "metadata": {},
     "output_type": "execute_result"
    }
   ],
   "source": [
    "temp=all_relation_walk(threshold=100000,relation_list=[\"/r/AtLocation\",\"/r/LocatedNear\",\"/r/UsedFor\",\"/r/PartOf\",\"/r/MadeOf\"])\n",
    "temp"
   ]
  },
  {
   "cell_type": "code",
   "execution_count": 30,
   "metadata": {},
   "outputs": [
    {
     "data": {
      "text/plain": [
       "73.92111"
      ]
     },
     "execution_count": 30,
     "metadata": {},
     "output_type": "execute_result"
    }
   ],
   "source": [
    "sent=walk_sent(temp)\n",
    "gamesent=walk2gamesents(sent, relation2label)\n",
    "tokens_tensor = tokenizer.encode(gamesent, add_special_tokens=False, return_tensors=\"pt\")           \n",
    "score(tokens_tensor)"
   ]
  },
  {
   "cell_type": "markdown",
   "metadata": {},
   "source": [
    "## Game Sentence by Relation Limitation\n",
    "In the previous work, we find that most of relation id in random walk is just \"/r/LocatedNear\".  \n",
    "Therefore, in this task, a random walk should also go through all realtion id that we required.  \n",
    "Furthermore, the quality of game sentence is evaluated by cosine similarity and perplexity"
   ]
  },
  {
   "cell_type": "code",
   "execution_count": 31,
   "metadata": {},
   "outputs": [
    {
     "name": "stderr",
     "output_type": "stream",
     "text": [
      "4322096it [00:53, 80512.35it/s]\n"
     ]
    }
   ],
   "source": [
    "# load cskg embedding file\n",
    "with open(cskg_embeddings_file,\"r\") as f:\n",
    "    head= f.readline().strip().split(\"\\t\")\n",
    "    \n",
    "    # obtain embedding_sentence in file\n",
    "    cskg_word_embeddings=dict()\n",
    "    \n",
    "    for item in tqdm(f):\n",
    "        # obtain list of line\n",
    "        line=item.strip().split(\"\\t\")\n",
    "        \n",
    "        # only property is text embedding can obtain embeddings\n",
    "        word=line[0]\n",
    "        prop=line[1]\n",
    "        embedding=line[2]\n",
    "        \n",
    "        if prop==\"text_embedding\":\n",
    "            cskg_word_embeddings[word]=embedding"
   ]
  },
  {
   "cell_type": "code",
   "execution_count": 32,
   "metadata": {},
   "outputs": [
    {
     "name": "stderr",
     "output_type": "stream",
     "text": [
      "100%|██████████| 100/100 [00:28<00:00,  3.46it/s]\n"
     ]
    }
   ],
   "source": [
    "example_sents_set=set()\n",
    "sent_score_list=[]\n",
    "relation_list=[\"/r/AtLocation\",\"/r/LocatedNear\",\"/r/UsedFor\",\"/r/PartOf\",\"/r/MadeOf\"]\n",
    "# build the game sentence and evaluate the quality of sentence by cosine similarity and perplexity\n",
    "for i in tqdm(range(100)):\n",
    "    temp=all_relation_walk(threshold=100000,relation_list=relation_list)\n",
    "    \n",
    "    if len(temp)<=len(relation_list):\n",
    "        # the genrated random walk don't include all relation list\n",
    "        continue\n",
    "        \n",
    "    node_ids=[0]*len(temp)\n",
    "    for i in range(1,len(temp)):\n",
    "        p1=i-1\n",
    "        p2=i\n",
    "        \n",
    "        head=temp[p1]\n",
    "        tail= temp[p2]\n",
    "        \n",
    "        head_tail=G_total[head][tail][\"head_tail\"]\n",
    "        head_id= head_tail[0]\n",
    "        tail_id=head_tail[1]\n",
    "        \n",
    "        node_ids[p1]=head_id\n",
    "        node_ids[p2]=tail_id\n",
    "    sent=walk_sent(temp)\n",
    "    gamesent=walk2gamesents(sent, relation2label)\n",
    "    \n",
    "    head_id=node_ids[0]\n",
    "    tail_id=node_ids[-1]\n",
    "    \n",
    "    head_embed=np.array(eval(\"[\"+cskg_word_embeddings[head_id]+\"]\"))\n",
    "    similar_list=[]\n",
    "    \n",
    "    # calculate cosine similarity\n",
    "    for idx in range(1,len(node_ids)):\n",
    "        tail_id = node_ids[idx]\n",
    "        tail_embed=np.array(eval(\"[\"+cskg_word_embeddings[tail_id]+\"]\"))\n",
    "        similar=dot(head_embed, tail_embed)/(norm(head_embed)*norm(tail_embed))\n",
    "        similar_list.append(similar)\n",
    "        \n",
    "    if gamesent in example_sents_set:\n",
    "        continue\n",
    "    else:\n",
    "        example_sents_set.add(gamesent)\n",
    "    \n",
    "    # calculate perplexity\n",
    "    tokens_tensor = tokenizer.encode(gamesent, add_special_tokens=False, return_tensors=\"pt\")           \n",
    "    sent_score_list.append([gamesent,score(tokens_tensor),similar_list,min(similar_list),sum(similar_list)/len(similar_list)])"
   ]
  },
  {
   "cell_type": "code",
   "execution_count": 33,
   "metadata": {},
   "outputs": [
    {
     "data": {
      "text/plain": [
       "['table is made of wood that is located near in arm that is part of chair that is located in living room that is used for listening to music',\n",
       " 53.159096,\n",
       " [0.49426693981095504,\n",
       "  0.7344771973112891,\n",
       "  0.3618574217471083,\n",
       "  0.7433948467660306,\n",
       "  0.47780827917298335],\n",
       " 0.3618574217471083,\n",
       " 0.5623609369616733]"
      ]
     },
     "execution_count": 33,
     "metadata": {},
     "output_type": "execute_result"
    }
   ],
   "source": [
    "# example of output\n",
    "# Assume random walk is [A,rel1,B,rel2,C,rel3,D,rel4,E,rel5,F]\n",
    "# gamesentence, perplexity, cosine similarity list for [AB,AC,AD,AE,AF],min cosine similarity. average cosine similarity\n",
    "sent_score_list[0]"
   ]
  },
  {
   "cell_type": "code",
   "execution_count": 34,
   "metadata": {},
   "outputs": [
    {
     "data": {
      "text/plain": [
       "<matplotlib.lines.Line2D at 0x7fadfb8d1850>"
      ]
     },
     "execution_count": 34,
     "metadata": {},
     "output_type": "execute_result"
    },
    {
     "data": {
      "image/png": "[encoded data removed]",
      "text/plain": [
       "<Figure size 432x288 with 1 Axes>"
      ]
     },
     "metadata": {
      "needs_background": "light"
     },
     "output_type": "display_data"
    }
   ],
   "source": [
    "# distribution of perplexity\n",
    "a=plt.hist([item[1] for item in sent_score_list],bins=40)\n",
    "plt.axvline(100, color='r', linestyle='dashed', linewidth=3)"
   ]
  },
  {
   "cell_type": "code",
   "execution_count": 35,
   "metadata": {},
   "outputs": [],
   "source": [
    "# sort sentence by average similarity\n",
    "sent_score_list.sort(key=lambda k:k[-1], reverse=True)"
   ]
  },
  {
   "cell_type": "code",
   "execution_count": 36,
   "metadata": {},
   "outputs": [],
   "source": [
    "# write to desk\n",
    "with open(hops_avg,\"w\") as f:\n",
    "    for line in sent_score_list:\n",
    "        sent = line[0]\n",
    "        similar_list=\",\".join([str(round(_,2)) for _ in line[2]])\n",
    "        min_similar=str(round(line[3],2))\n",
    "        avg_similar=str(round(line[4],2))\n",
    "        \n",
    "        f.write(f\"Sentence: {sent}\\n\")\n",
    "        f.write(f\"Similarity List: {similar_list}\\n\")\n",
    "        f.write(f\"Min Similarity: {min_similar}\\n\")\n",
    "        f.write(f\"Avg Similarity: {avg_similar}\\n\")\n",
    "        f.write(\"\\n\")"
   ]
  },
  {
   "cell_type": "code",
   "execution_count": 37,
   "metadata": {
    "scrolled": true
   },
   "outputs": [
    {
     "name": "stdout",
     "output_type": "stream",
     "text": [
      "ottoman is used for decoration that is located near in floor that is located in library that is part of house that is made of rooms\n",
      "vase has a head that is part of human body that is made of water that is located in bottle that is used for hold\n",
      "ottoman is used for sitting that is located near in chair that is located in porch that is part of house that is made of rooms\n",
      "table is made of metal that is located near in towel that is located in roof that is part of house that is used for home\n",
      "table is made of plastic that is located near in shelf that is located in wall that is part of building that is used for live in\n",
      "table is made of wood that is located near in arm that is part of chair that is located in university that is used for learning\n",
      "fireplace is used for decoration that is located near in head that is part of human body that is made of water that is located in soup\n",
      "ottoman is used for sitting that is located near in chair that is located in porch that is part of house that is made of metal\n",
      "table is made of wood that is located near in arm that is part of chair that is located in living room that is used for listening to music\n",
      "ottoman is used for decoration that is located near in case that is part of door that is located in room that is made of four walls\n"
     ]
    }
   ],
   "source": [
    "# show the top average cosine similarity game sentence\n",
    "for item in sent_score_list[:10]:\n",
    "    sent=item[0]\n",
    "    print(sent)"
   ]
  },
  {
   "cell_type": "code",
   "execution_count": 38,
   "metadata": {},
   "outputs": [
    {
     "name": "stdout",
     "output_type": "stream",
     "text": [
      "desk as left leg that is part of person that is made of water that is located in lake that is used for sailing\n",
      "table is made of stone that is located near in balcony that is located in michigan that is part of united states that is used for living in\n",
      "table is made of stone that is located near in luggage that is located in trunk that is part of automobile that is used for travelling\n",
      "desk as left leg that is part of person that is made of water that is located in milk that is used for drinking\n",
      "piano is used for decoration that is located near in head that is part of human body that is made of water that is located in soft drink\n",
      "kettle is used for water that is located in fountain that is located near in wall that is part of house that is made of building material\n",
      "table is made of stone that is located in river that is located near in log that is part of ship that is used for sailing\n",
      "bed is located in basement that is part of house that is located near in button that is made of plastic that is used for eyeglass lenses\n",
      "piano is located in orchestra that is part of house that is located near in button that is made of plastic that is used for eyeglass lenses\n",
      "table is made of stone that is located in pond that is located near in lip that is part of mouth that is used for singing\n"
     ]
    }
   ],
   "source": [
    "# show the lowest average cosine similarity game sentence\n",
    "for item in sent_score_list[-10:]:\n",
    "    sent=item[0]\n",
    "    print(sent)"
   ]
  },
  {
   "cell_type": "code",
   "execution_count": 39,
   "metadata": {},
   "outputs": [],
   "source": [
    "# sort sentence by minimum similarity\n",
    "sent_score_list.sort(key=lambda k:k[-2], reverse=True)"
   ]
  },
  {
   "cell_type": "code",
   "execution_count": 40,
   "metadata": {},
   "outputs": [],
   "source": [
    "# store to desk\n",
    "with open(hops_min,\"w\") as f:\n",
    "    for line in sent_score_list:\n",
    "        sent = line[0]\n",
    "        similar_list=\",\".join([str(round(_,2)) for _ in line[2]])\n",
    "        min_similar=str(round(line[3],2))\n",
    "        avg_similar=str(round(line[4],2))\n",
    "        \n",
    "        f.write(f\"Sentence: {sent}\\n\")\n",
    "        f.write(f\"Similarity List: {similar_list}\\n\")\n",
    "        f.write(f\"Min Similarity: {min_similar}\\n\")\n",
    "        f.write(f\"Avg Similarity: {avg_similar}\\n\")\n",
    "        f.write(\"\\n\")"
   ]
  },
  {
   "cell_type": "code",
   "execution_count": 41,
   "metadata": {},
   "outputs": [
    {
     "name": "stdout",
     "output_type": "stream",
     "text": [
      "ottoman is used for decoration that is located near in floor that is located in library that is part of house that is made of rooms\n",
      "ottoman is used for sitting that is located near in chair that is located in porch that is part of house that is made of rooms\n",
      "ottoman is used for sitting that is located near in chair that is located in porch that is part of house that is made of metal\n",
      "fireplace is used for decoration that is located near in head that is part of human body that is made of water that is located in soup\n",
      "vase has a head that is part of human body that is made of water that is located in bottle that is used for hold\n",
      "table is made of plastic that is located near in handle that is part of door that is located in school that is used for education\n",
      "pan on head that is part of human body that is made of water that is located in fountain that is used for drinking\n",
      "pan on head that is part of human body that is made of water that is located in can that is used for storage\n",
      "heater above floor that is located in table that is made of stone that is part of building that is used for live in\n",
      "ottoman is used for decoration that is located near in window that is located in wall that is part of house that is made of metal\n"
     ]
    }
   ],
   "source": [
    "# show the top min cosine similarity game sentence\n",
    "for item in sent_score_list[:10]:\n",
    "    sent=item[0]\n",
    "    print(sent)"
   ]
  },
  {
   "cell_type": "code",
   "execution_count": 42,
   "metadata": {},
   "outputs": [
    {
     "name": "stdout",
     "output_type": "stream",
     "text": [
      "piano is located in orchestra that is part of house that is located near in pen that is made of plastic that is used for plexiglass\n",
      "table is made of stone that is located near in luggage that is located in trunk that is part of automobile that is used for travelling\n",
      "computer near arm that is part of person that is made of water that is located in faucet that is used for draw water\n",
      "table is made of stone that is located in river that is located near in log that is part of ship that is used for sailing\n",
      "kettle is used for water that is located in fountain that is located near in wall that is part of house that is made of building material\n",
      "piano is located in orchestra that is part of house that is located near in button that is made of plastic that is used for eyeglass lenses\n",
      "sofa is located in living room that is part of house that is located near in button that is made of plastic that is used for eyeglass lenses\n",
      "desk as left leg that is part of person that is made of water that is located in lake that is used for sailing\n",
      "bed is located in basement that is part of house that is located near in button that is made of plastic that is used for eyeglass lenses\n",
      "piano is used for decoration that is located near in head that is part of human body that is made of water that is located in soft drink\n"
     ]
    }
   ],
   "source": [
    "# show the lowest min cosine similarity game sentence\n",
    "for item in sent_score_list[-10:]:\n",
    "    sent=item[0]\n",
    "    print(sent)"
   ]
  },
  {
   "cell_type": "markdown",
   "metadata": {},
   "source": [
    "# Game Sentence by Star Walk\n",
    "The edges can have the thing as a subject or object\n",
    "This requires double templates\n",
    "X is used for Y\n",
    "Y uses X"
   ]
  },
  {
   "cell_type": "code",
   "execution_count": 43,
   "metadata": {},
   "outputs": [],
   "source": [
    "relation2label={\"/r/UsedFor\":\"is used for\",\"/r/CreatedBy\":\"is created by\",\"/r/CapableOf\":\"is capable of\",\n",
    "                \"/r/Causes\":\"casuses\",\"/r/PartOf\":\"is part of\",\"/r/HasContext\":'has context,',\"/r/MadeOf\":\"is made of\",\n",
    "                \"/r/HasPrerequisite\":\"has prerequisite,\",\"/r/CausesDesire\": \"causes desire,\",\"/r/NotDesires\":\"does not desire\",\n",
    "                \"/r/AtLocation\":\"is located in\",\"/r/LocatedNear\":\"is located near\",\n",
    "                \"/r/AtLocation/r\":\"has\",\"/r/UsedFor/r\":\"uses\",\"/r/PartOf/r\": \"has a part,\",\"/r/MadeOf/r\":\"is used to make\",\"/r/LocatedNear/r\":\"is located near\",}\n",
    "relation_list=[\"/r/AtLocation\",\"/r/LocatedNear\",\"/r/UsedFor\",\"/r/PartOf\",\"/r/MadeOf\"]"
   ]
  },
  {
   "cell_type": "code",
   "execution_count": 44,
   "metadata": {},
   "outputs": [],
   "source": [
    "G = nx.DiGraph()\n",
    "for edge in edges:\n",
    "    sub,rel,obj=edge\n",
    "    sub=sub.replace(\" \",\"_\")\n",
    "    obj=obj.replace(\" \",\"_\")\n",
    "    if rel in relation_list:\n",
    "        G.add_edge(sub,obj,label=rel)"
   ]
  },
  {
   "cell_type": "code",
   "execution_count": 45,
   "metadata": {},
   "outputs": [],
   "source": [
    "def star_walk(threshold=100):\n",
    "    # make a star walk with relation id limitation and return nodes\n",
    "    nodes=[\"\",[],[]]\n",
    "    relation_limit_set=set(relation_list)\n",
    "    \n",
    "    for i in range(threshold):\n",
    "        # pick one word from eqa\n",
    "        root_name = random.sample(label_limit, 1)[0]\n",
    "        \n",
    "        # check whether it has 5 different relation\n",
    "        if not G.has_node(root_name):\n",
    "            continue\n",
    "            \n",
    "        out_edges=G.out_edges(root_name)\n",
    "        in_edges=G.in_edges(root_name)\n",
    "        relation_set=set()\n",
    "        \n",
    "        for u,v in out_edges:\n",
    "            rel_name=G[u][v][\"label\"]\n",
    "            relation_set.add(rel_name)\n",
    "            \n",
    "        for u,v in in_edges:\n",
    "            rel_name=G[u][v][\"label\"]\n",
    "            relation_set.add(rel_name)\n",
    "            \n",
    "        if not len(relation_set)>=len(relation_list)-2:\n",
    "            #print(relation_set,root_name)\n",
    "            continue\n",
    "            \n",
    "        #print(relation_set,root_name)\n",
    "        nodes[0]=root_name\n",
    "        \n",
    "        shuffle_out_edges=list(out_edges)\n",
    "        shuffle_in_edges=list(in_edges)\n",
    "        random.shuffle(shuffle_out_edges)\n",
    "        random.shuffle(shuffle_in_edges)\n",
    "        #print(shuffle_out_edges,shuffle_in_edges)\n",
    "        for u,v in shuffle_out_edges:\n",
    "            rel_name=G[u][v][\"label\"]\n",
    "                \n",
    "            if rel_name in relation_limit_set:\n",
    "                relation_limit_set.remove(rel_name)\n",
    "            else:\n",
    "                continue\n",
    "                \n",
    "            nodes[1].append(v)\n",
    "            nodes[2].append(rel_name)\n",
    "            \n",
    "            if not relation_limit_set:\n",
    "                break\n",
    "                \n",
    "        for u,v in shuffle_in_edges:\n",
    "            rel_name=G[u][v][\"label\"]\n",
    "            \n",
    "            if not relation_limit_set:\n",
    "                break\n",
    "                \n",
    "            if rel_name in relation_limit_set:\n",
    "                relation_limit_set.remove(rel_name)\n",
    "            else:\n",
    "                continue\n",
    "                \n",
    "            nodes[1].append(u)\n",
    "            nodes[2].append(rel_name+\"/r\") \n",
    "        \n",
    "        if nodes[0]:\n",
    "            break\n",
    "            \n",
    "    return nodes\n",
    "\n",
    "def build_sentences(nodes):\n",
    "    # generate sentence by two different formate\n",
    "    root_=nodes[0]\n",
    "    sent1_list=[]\n",
    "    sent2_list=[]\n",
    "    for node, rel_ in zip(nodes[1],nodes[2]):\n",
    "        sub_sent1=f\"{root_} {relation2label[rel_]} {node}\"\n",
    "        sub_sent2=f\"{relation2label[rel_]} {node}\"\n",
    "        sent1_list.append(sub_sent1)\n",
    "        sent2_list.append(sub_sent2)\n",
    "        \n",
    "    sent1=\" and \".join(sent1_list)+\".\"\n",
    "    sent2=root_+\" \"+\" and \".join(sent2_list)+\".\"\n",
    "    sent1=sent1.replace(\"_\",\" \")\n",
    "    sent2=sent2.replace(\"_\",\" \")\n",
    "    \n",
    "    return sent1,sent2"
   ]
  },
  {
   "cell_type": "code",
   "execution_count": 46,
   "metadata": {},
   "outputs": [
    {
     "data": {
      "text/plain": [
       "(['sofa',\n",
       "  ['living_room', 'watching_television', 'stitching'],\n",
       "  ['/r/AtLocation', '/r/UsedFor', '/r/LocatedNear/r']],\n",
       " ('sofa is located in living room and sofa is used for watching television and sofa is located near stitching.',\n",
       "  'sofa is located in living room and is used for watching television and is located near stitching.'))"
      ]
     },
     "execution_count": 46,
     "metadata": {},
     "output_type": "execute_result"
    }
   ],
   "source": [
    "nodes_combine=star_walk()\n",
    "nodes_combine,build_sentences(nodes_combine)"
   ]
  },
  {
   "cell_type": "code",
   "execution_count": 47,
   "metadata": {},
   "outputs": [
    {
     "name": "stderr",
     "output_type": "stream",
     "text": [
      "100%|██████████| 100/100 [00:09<00:00, 10.74it/s]\n"
     ]
    }
   ],
   "source": [
    "# find random start and evaluate by perplexity\n",
    "example_sents_set=set()\n",
    "sent_score_list1=[]\n",
    "sent_score_list2=[]\n",
    "for i in tqdm(range(100)):\n",
    "    nodes_combine=star_walk()\n",
    "    if not nodes_combine[0]:\n",
    "        continue\n",
    "    sent1,sent2=build_sentences(nodes_combine)\n",
    "    if sent1 in example_sents_set:\n",
    "        continue\n",
    "    else:\n",
    "        example_sents_set.add(sent1)\n",
    "    tokens_tensor = tokenizer.encode(sent1, add_special_tokens=False, return_tensors=\"pt\")           \n",
    "    sent_score_list1.append([sent1,score(tokens_tensor)])\n",
    "    \n",
    "    tokens_tensor = tokenizer.encode(sent2, add_special_tokens=False, return_tensors=\"pt\")           \n",
    "    sent_score_list2.append([sent2,score(tokens_tensor)])"
   ]
  },
  {
   "cell_type": "code",
   "execution_count": 48,
   "metadata": {},
   "outputs": [
    {
     "name": "stdout",
     "output_type": "stream",
     "text": [
      "Average Perplexity with format1 152.90131486064257\n",
      "Average Perplexity with format2 170.3463178307119\n"
     ]
    }
   ],
   "source": [
    "score_list1=[]\n",
    "score_list2=[]\n",
    "for item1,item2 in zip(sent_score_list1,sent_score_list2):\n",
    "    sent1,res1=item1\n",
    "    sent2,res2=item2\n",
    "    score_list1.append(res1)\n",
    "    score_list2.append(res2)\n",
    "    \n",
    "print(\"Average Perplexity with format1\",sum(score_list1)/len(score_list1))\n",
    "print(\"Average Perplexity with format2\",sum(score_list2)/len(score_list2))"
   ]
  },
  {
   "cell_type": "markdown",
   "metadata": {},
   "source": [
    "The result shows that format1 is better than format2"
   ]
  },
  {
   "cell_type": "code",
   "execution_count": 49,
   "metadata": {},
   "outputs": [
    {
     "name": "stderr",
     "output_type": "stream",
     "text": [
      "100%|██████████| 100/100 [00:05<00:00, 17.64it/s]\n"
     ]
    }
   ],
   "source": [
    "example_sents_set=set()\n",
    "sent_score_list1=[]\n",
    "# build the game sentence and evaluate the quality of sentence by cosine similarity and perplexity\n",
    "for i in tqdm(range(100)):\n",
    "    nodes_combine=star_walk()\n",
    "    if not nodes_combine[0]:\n",
    "        continue\n",
    "        \n",
    "    # obatain two different sentence. However, only use the sentence 1\n",
    "    sent1,sent2=build_sentences(nodes_combine)\n",
    "    if sent1 in example_sents_set:\n",
    "        continue\n",
    "    else:\n",
    "        example_sents_set.add(sent1)\n",
    "        \n",
    "    if \"piano\" in nodes_combine:\n",
    "        continue\n",
    "        \n",
    "    node_ids=[0]*(len(nodes_combine[1])+1)\n",
    "    for i in range(1,len(node_ids)):\n",
    "        p1=0\n",
    "        p2=i-1\n",
    "        \n",
    "        head=nodes_combine[p1]\n",
    "        tail=nodes_combine[1][p2]\n",
    "        \n",
    "        try:\n",
    "            head_tail=G_total[head][tail][\"head_tail\"]\n",
    "            head_id= head_tail[0]\n",
    "            tail_id=head_tail[1]\n",
    "        except:\n",
    "            head_tail=G_total[tail][head][\"head_tail\"]\n",
    "            head_id= head_tail[1]\n",
    "            tail_id=head_tail[0]\n",
    "        head_id= head_tail[0]\n",
    "        tail_id=head_tail[1]\n",
    "        \n",
    "        node_ids[p1]=head_id\n",
    "        node_ids[p2+1]=tail_id\n",
    "    \n",
    "    head_id=node_ids[0]\n",
    "    head_embed=np.array(eval(\"[\"+cskg_word_embeddings[head_id]+\"]\"))\n",
    "    similar_list=[]\n",
    "    \n",
    "    for idx in range(1,len(node_ids)):\n",
    "        tail_id = node_ids[idx]\n",
    "        tail_embed=np.array(eval(\"[\"+cskg_word_embeddings[tail_id]+\"]\"))\n",
    "        similar=dot(head_embed, tail_embed)/(norm(head_embed)*norm(tail_embed))\n",
    "        similar_list.append(similar)\n",
    "    \n",
    "    tokens_tensor = tokenizer.encode(sent1, add_special_tokens=False, return_tensors=\"pt\")           \n",
    "    sent_score_list1.append([sent1,score(tokens_tensor),similar_list,min(similar_list),sum(similar_list)/len(similar_list)])"
   ]
  },
  {
   "cell_type": "code",
   "execution_count": 50,
   "metadata": {},
   "outputs": [
    {
     "data": {
      "text/plain": [
       "['desk is located near lines and desk is used for reading and desk has bag.',\n",
       " 312.91205,\n",
       " [0.7271340259943967, 0.4712606266889892, 0.5965097600831452],\n",
       " 0.4712606266889892,\n",
       " 0.598301470922177]"
      ]
     },
     "execution_count": 50,
     "metadata": {},
     "output_type": "execute_result"
    }
   ],
   "source": [
    "# example of output\n",
    "# Assume random walk is [A,rel1,B,rel2,C,rel3,D,rel4,E,rel5,F]\n",
    "# gamesentence, perplexity, cosine similarity list for [AB,AC,AD,AE,AF],min cosine similarity. average cosine similarity\n",
    "sent_score_list1[0]"
   ]
  },
  {
   "cell_type": "code",
   "execution_count": 51,
   "metadata": {},
   "outputs": [],
   "source": [
    "# sort sentence by avg similarity\n",
    "sent_score_list1.sort(key=lambda k:k[-2], reverse=True)"
   ]
  },
  {
   "cell_type": "code",
   "execution_count": 52,
   "metadata": {},
   "outputs": [],
   "source": [
    "# save avg similarity to desk\n",
    "with open(centric_min,\"w\") as f:\n",
    "    for line in sent_score_list1:\n",
    "        sent = line[0]\n",
    "        similar_list=\",\".join([str(round(_,2)) for _ in line[2]])\n",
    "        min_similar=str(round(line[3],2))\n",
    "        avg_similar=str(round(line[4],2))\n",
    "        \n",
    "        f.write(f\"Sentence: {sent}\\n\")\n",
    "        f.write(f\"Similarity List: {similar_list}\\n\")\n",
    "        f.write(f\"Min Similarity: {min_similar}\\n\")\n",
    "        f.write(f\"Avg Similarity: {avg_similar}\\n\")\n",
    "        f.write(\"\\n\")"
   ]
  },
  {
   "cell_type": "code",
   "execution_count": 53,
   "metadata": {},
   "outputs": [
    {
     "name": "stdout",
     "output_type": "stream",
     "text": [
      "computer is used for work and computer is located near device and computer is located in classroom and computer is made of silicon and computer has a part, computer memory.\n",
      "rug is located near window and rug is used for cover floor and rug has furniture.\n",
      "computer is located near sticker and computer is located in library and computer is used for entertainment and computer is made of hardware and computer has a part, cpu.\n",
      "bathtub is located near rug and bathtub is used for bathe and bathtub has water.\n",
      "dishwasher is located near door and dishwasher is used for washing dishes and dishwasher has kitchen utensil.\n",
      "dishwasher is located near window and dishwasher is used for washing dishes and dishwasher has kitchen utensil.\n",
      "dresser is located near brown wood and dresser is used for storing clothes and dresser has drawer.\n",
      "dresser is located near bed and dresser is used for storing clothes and dresser has drawer.\n",
      "dishwasher is used for washing dishes and dishwasher is located near drawer and dishwasher has kitchen utensil.\n",
      "sofa is located in house and sofa is used for relaxing and sofa is located near case.\n"
     ]
    }
   ],
   "source": [
    "# top sentence\n",
    "for item in sent_score_list1[:10]:\n",
    "    sent=item[0]\n",
    "    print(sent)"
   ]
  },
  {
   "cell_type": "code",
   "execution_count": 54,
   "metadata": {},
   "outputs": [
    {
     "name": "stdout",
     "output_type": "stream",
     "text": [
      "microwave is located near vent and microwave is used for preparing food and microwave is part of electromagnetic spectrum and microwave has wiener dog.\n",
      "microwave is located near grass and microwave is used for preparing food and microwave is part of electromagnetic spectrum and microwave has wiener dog.\n",
      "microwave is located near screen and microwave is part of electromagnetic spectrum and microwave is used for preparing food and microwave has wiener dog.\n",
      "microwave is located near steel and microwave is used for preparing food and microwave is part of electromagnetic spectrum and microwave has wiener dog.\n",
      "microwave is located near plastic and microwave is part of electromagnetic spectrum and microwave is used for preparing food and microwave has wiener dog.\n",
      "table is used for holding things and table is made of metal and table is located near toiletries and table has cup of coffee.\n",
      "table is used for sitting on and table is made of plastic and table is located near icing and table has flowers.\n",
      "rug is used for sit on and rug is located near plant and rug has dog.\n",
      "table is used for holding things and table is made of stone and table is located near fountain and table has carpet.\n",
      "rug is located near linoleum and rug is used for walking on and rug has people.\n"
     ]
    }
   ],
   "source": [
    "# lowest sentence\n",
    "for item in sent_score_list1[-10:]:\n",
    "    sent=item[0]\n",
    "    print(sent)"
   ]
  },
  {
   "cell_type": "code",
   "execution_count": 55,
   "metadata": {},
   "outputs": [],
   "source": [
    "# sort sentence by minimum similarity\n",
    "sent_score_list1.sort(key=lambda k:k[-1], reverse=True)"
   ]
  },
  {
   "cell_type": "code",
   "execution_count": 56,
   "metadata": {},
   "outputs": [],
   "source": [
    "with open(centric_avg,\"w\") as f:\n",
    "    for line in sent_score_list1:\n",
    "        sent = line[0]\n",
    "        similar_list=\",\".join([str(round(_,2)) for _ in line[2]])\n",
    "        min_similar=str(round(line[3],2))\n",
    "        avg_similar=str(round(line[4],2))\n",
    "        \n",
    "        f.write(f\"Sentence: {sent}\\n\")\n",
    "        f.write(f\"Similarity List: {similar_list}\\n\")\n",
    "        f.write(f\"Min Similarity: {min_similar}\\n\")\n",
    "        f.write(f\"Avg Similarity: {avg_similar}\\n\")\n",
    "        f.write(\"\\n\")"
   ]
  },
  {
   "cell_type": "code",
   "execution_count": 57,
   "metadata": {},
   "outputs": [
    {
     "name": "stdout",
     "output_type": "stream",
     "text": [
      "computer is used for work and computer is located near device and computer is located in classroom and computer is made of silicon and computer has a part, computer memory.\n",
      "rug is located near window and rug is used for cover floor and rug has furniture.\n",
      "bathtub is located near rug and bathtub is used for bathe and bathtub has water.\n",
      "rug is located near ceiling and rug is used for decoration and rug has furniture.\n",
      "sink is located near can and sink is located in laundry room and sink is used for washing.\n",
      "computer is located near sticker and computer is located in library and computer is used for entertainment and computer is made of hardware and computer has a part, cpu.\n",
      "dresser is located near brown wood and dresser is used for storing clothes and dresser has drawer.\n",
      "dishwasher is located near window and dishwasher is used for washing dishes and dishwasher has kitchen utensil.\n",
      "computer is located in classroom and computer is located near living room and computer is used for play and computer is made of microchips and computer has a part, computer accessory.\n",
      "table is used for eat at and table is made of metal and table is located near vases and table has clock.\n"
     ]
    }
   ],
   "source": [
    "#top sentence\n",
    "for item in sent_score_list1[:10]:\n",
    "    sent=item[0]\n",
    "    print(sent)"
   ]
  },
  {
   "cell_type": "code",
   "execution_count": 58,
   "metadata": {},
   "outputs": [
    {
     "name": "stdout",
     "output_type": "stream",
     "text": [
      "sofa is used for sleeping and sofa is located in house and sofa is located near leaf.\n",
      "ottoman is made of blend and ottoman is used for sit on and ottoman is located near controller.\n",
      "microwave is located near steel and microwave is used for preparing food and microwave is part of electromagnetic spectrum and microwave has wiener dog.\n",
      "table is used for holding things and table is made of stone and table is located near fountain and table has carpet.\n",
      "table is used for sitting on and table is made of plastic and table is located near icing and table has flowers.\n",
      "cup is used for drinking and cup is located near r and cup has tea.\n",
      "cup is used for hold and cup is located near dot and cup has tea.\n",
      "cup is used for hold and cup is located near slice and cup has tea.\n",
      "cup is used for drinking and cup is located near gravy and cup has tea.\n",
      "rug is used for sit on and rug is located near plant and rug has dog.\n"
     ]
    }
   ],
   "source": [
    "#lowest sentence\n",
    "for item in sent_score_list1[-10:]:\n",
    "    sent=item[0]\n",
    "    print(sent)"
   ]
  },
  {
   "cell_type": "code",
   "execution_count": null,
   "metadata": {},
   "outputs": [],
   "source": []
  }
 ],
 "metadata": {
  "kernelspec": {
   "display_name": "isi",
   "language": "python",
   "name": "isi"
  },
  "language_info": {
   "codemirror_mode": {
    "name": "ipython",
    "version": 3
   },
   "file_extension": ".py",
   "mimetype": "text/x-python",
   "name": "python",
   "nbconvert_exporter": "python",
   "pygments_lexer": "ipython3",
   "version": "3.7.9"
  }
 },
 "nbformat": 4,
 "nbformat_minor": 4
}
