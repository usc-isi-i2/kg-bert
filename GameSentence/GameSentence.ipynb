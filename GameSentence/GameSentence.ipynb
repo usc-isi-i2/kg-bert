{
 "cells": [
  {
   "cell_type": "markdown",
   "metadata": {},
   "source": [
    "## Task\n",
    "1. see how many such game sentences with AtLocation we can create, and how many answers they have on average (the example above has 3 answers).  Also, inspect their quality and if you detect problems, see how they can be addressed.\n",
    "2. Think and investigate how other relations can be used to create related tasks. I think some should be possible, like UsedFor in this example: \"I want to cut paper so I will need knife or scissors\". You don't need to think about all relations but take some subset of let's say 10 that seem promising.\n",
    "3. Take the 50 household items from EQA that we worked with, and generate random walks of length 2 and 3 on the graph starting with them. Example for a random walk of length 2 is: toaster-LocatedAt-kitchen-UsedFor-cooking. You could do this with graph-tools for example (https://graph-tool.skewed.de/static/doc/quickstart.html)\n",
    "4. Think and investigate how can we generate game sentences with these walks, and whether it makes sense. One option would be to do something like \"A toaster can be located in a place that is used for cooking and baking.\"  Even if we can do this for a small set of patterns, it would be useful. The solution could also use disambiguation or other NLP tricks. \n",
    "5. It would be useful to see some examples where we can use these walks to create sentences. You don't need to code this last part 5."
   ]
  },
  {
   "cell_type": "code",
   "execution_count": 84,
   "metadata": {
    "scrolled": true
   },
   "outputs": [],
   "source": [
    "import matplotlib.pyplot as plt\n",
    "from tqdm import tqdm\n",
    "import networkx as nx\n",
    "import random, re\n",
    "from transformers import GPT2LMHeadModel, GPT2Tokenizer\n",
    "import numpy as np\n",
    "from numpy import dot\n",
    "from numpy.linalg import norm"
   ]
  },
  {
   "cell_type": "markdown",
   "metadata": {},
   "source": [
    "## Set up Folder"
   ]
  },
  {
   "cell_type": "code",
   "execution_count": 57,
   "metadata": {},
   "outputs": [],
   "source": [
    "# input\n",
    "cskg_dim_folder=\"./data/cskg_dim/cskg_dim.tsv\"\n",
    "cskg_embeddings_file=\"../psl/cskg_embedding/cskg_embeddings.txt\"\n",
    "\n",
    "# output\n",
    "AtLocation_sents_file=\"./data/psl/AtLocation_sents.txt\"\n",
    "gamesents_file=\"./data/psl/gamesents.txt\""
   ]
  },
  {
   "cell_type": "markdown",
   "metadata": {},
   "source": [
    "## Function"
   ]
  },
  {
   "cell_type": "code",
   "execution_count": 3,
   "metadata": {},
   "outputs": [],
   "source": [
    "def load_source(filename):\n",
    "    with open(filename,\"r\",encoding=\"utf-8\") as f:\n",
    "        head=f.readline().strip().split(\"\\t\")\n",
    "        data=[]\n",
    "        for line in f:\n",
    "            temp=line.strip().split(\"\\t\")\n",
    "            data.append([item.split(\"|\")[0] for item in temp])\n",
    "            \n",
    "    return head, data\n",
    "\n",
    "def data_filter(head, lines, filter_={\"relation\":[\"/r/AtLocation\"]}):\n",
    "    # filter the lines woth limitation\n",
    "    for head_name in filter_:\n",
    "        filter_values=filter_[head_name]\n",
    "        line_index=head.index(head_name)\n",
    "        \n",
    "        for filter_value in filter_values:\n",
    "            filter_lines=[]\n",
    "            for line in lines:\n",
    "                if line[line_index]==filter_value:\n",
    "                    filter_lines.append(line)\n",
    "            yield filter_value,filter_lines\n",
    "        \n",
    "def build_sentence(lines, sent_format='f\"I am going to {blank1} and I am going to see {blank2}\"',operation=\"or\",reverse_format=False):\n",
    "    # build dictionary structure\n",
    "    top_bot=dict()\n",
    "    if not reverse_format:\n",
    "        for line in lines:\n",
    "            subject_id=line[1]\n",
    "            subject_label=line[4]\n",
    "\n",
    "            object_id=line[3]\n",
    "            object_label=line[5]\n",
    "\n",
    "            temp=top_bot.get(object_label,[])\n",
    "            temp.append(subject_label)\n",
    "\n",
    "            top_bot[object_label]=temp\n",
    "            \n",
    "    else:\n",
    "        for line in lines:\n",
    "            subject_id=line[1]\n",
    "            subject_label=line[4]\n",
    "\n",
    "            object_id=line[3]\n",
    "            object_label=line[5]\n",
    "\n",
    "            temp=top_bot.get(subject_label,[])\n",
    "            temp.append(object_label)\n",
    "\n",
    "            top_bot[subject_label]=temp\n",
    "    \n",
    "    # build sentence\n",
    "    sents=[]\n",
    "    for top in top_bot:\n",
    "        bots=top_bot[top]\n",
    "        \n",
    "        blank1=top\n",
    "        blank2=f\" {operation} \".join(bots)\n",
    "        sents.append(eval(sent_format).replace(\"_\",\" \"))\n",
    "        \n",
    "    return sents, top_bot"
   ]
  },
  {
   "cell_type": "code",
   "execution_count": 4,
   "metadata": {},
   "outputs": [],
   "source": [
    "cskg_dim_head,cskg_dim_lines=load_source(cskg_dim_folder)"
   ]
  },
  {
   "cell_type": "code",
   "execution_count": 5,
   "metadata": {},
   "outputs": [
    {
     "data": {
      "text/plain": [
       "['id',\n",
       " 'node1',\n",
       " 'relation',\n",
       " 'node2',\n",
       " 'node1;label',\n",
       " 'node2;label',\n",
       " 'relation;label',\n",
       " 'relation;dimension',\n",
       " 'source',\n",
       " 'sentence']"
      ]
     },
     "execution_count": 5,
     "metadata": {},
     "output_type": "execute_result"
    }
   ],
   "source": [
    "# head\n",
    "cskg_dim_head"
   ]
  },
  {
   "cell_type": "code",
   "execution_count": 6,
   "metadata": {},
   "outputs": [
    {
     "data": {
      "text/plain": [
       "['/c/en/0-/r/DefinedAs-/c/en/empty_set-0000',\n",
       " '/c/en/0',\n",
       " '/r/DefinedAs',\n",
       " '/c/en/empty_set',\n",
       " '0',\n",
       " 'empty set',\n",
       " 'defined as',\n",
       " 'similarity',\n",
       " 'CN',\n",
       " '[[0]] is the [[empty set]].']"
      ]
     },
     "execution_count": 6,
     "metadata": {},
     "output_type": "execute_result"
    }
   ],
   "source": [
    "# example of lines\n",
    "cskg_dim_lines[0]"
   ]
  },
  {
   "cell_type": "markdown",
   "metadata": {},
   "source": [
    "## AtLocation Sentence"
   ]
  },
  {
   "cell_type": "code",
   "execution_count": 7,
   "metadata": {},
   "outputs": [],
   "source": [
    "mul_filter_lines=list(data_filter(cskg_dim_head, cskg_dim_lines, filter_={\"relation\":[\"/r/AtLocation\"]}))"
   ]
  },
  {
   "cell_type": "code",
   "execution_count": 8,
   "metadata": {},
   "outputs": [
    {
     "data": {
      "text/plain": [
       "['/c/en/00t_shirts-/r/AtLocation-/c/en/drawer-0000',\n",
       " '/c/en/00t_shirts',\n",
       " '/r/AtLocation',\n",
       " '/c/en/drawer',\n",
       " '00t shirts',\n",
       " 'drawer',\n",
       " 'at location',\n",
       " 'spatial',\n",
       " 'CN',\n",
       " '*Something you find in [[a drawer]] is [[00t-shirts]]']"
      ]
     },
     "execution_count": 8,
     "metadata": {},
     "output_type": "execute_result"
    }
   ],
   "source": [
    "mul_filter_lines[0][1][0]"
   ]
  },
  {
   "cell_type": "code",
   "execution_count": 9,
   "metadata": {},
   "outputs": [
    {
     "name": "stdout",
     "output_type": "stream",
     "text": [
      "game sentences with AtLocation we can create: 7771\n",
      "answers they have on average: 3.5770171149144256\n"
     ]
    }
   ],
   "source": [
    "AtLocation_sents,AtLocation_dict = build_sentence(mul_filter_lines[0][1])\n",
    "print(\"game sentences with AtLocation we can create:\",len(AtLocation_dict))\n",
    "\n",
    "# statistic of location sentence\n",
    "example_distribution=[len(AtLocation_dict[item]) for item in AtLocation_dict]\n",
    "avg_example= sum(example_distribution)/len(AtLocation_dict)\n",
    "print(\"answers they have on average:\", avg_example)"
   ]
  },
  {
   "cell_type": "code",
   "execution_count": 10,
   "metadata": {},
   "outputs": [
    {
     "data": {
      "image/png": "[encoded data removed]",
      "text/plain": [
       "<Figure size 432x288 with 1 Axes>"
      ]
     },
     "metadata": {
      "needs_background": "light"
     },
     "output_type": "display_data"
    }
   ],
   "source": [
    "a=plt.hist(example_distribution,log=True)"
   ]
  },
  {
   "cell_type": "code",
   "execution_count": 11,
   "metadata": {},
   "outputs": [],
   "source": [
    "# save file into desk\n",
    "with open(AtLocation_sents_file,\"w\",encoding=\"utf-8\") as f:\n",
    "    for line in AtLocation_sents:\n",
    "        f.write(line+\"\\n\")"
   ]
  },
  {
   "cell_type": "markdown",
   "metadata": {},
   "source": [
    "## More Sentences"
   ]
  },
  {
   "cell_type": "code",
   "execution_count": 12,
   "metadata": {},
   "outputs": [
    {
     "name": "stdout",
     "output_type": "stream",
     "text": [
      "number of relation id: 47\n"
     ]
    }
   ],
   "source": [
    "# check the distribution of relation id\n",
    "rel_dict=dict()\n",
    "for line in cskg_dim_lines:\n",
    "    rel_dict[line[2]]=rel_dict.get(line[2],0)+1\n",
    "    \n",
    "print(\"number of relation id:\", len(rel_dict))"
   ]
  },
  {
   "cell_type": "code",
   "execution_count": 13,
   "metadata": {},
   "outputs": [
    {
     "data": {
      "text/plain": [
       "{'/r/DefinedAs': 2173,\n",
       " '/r/HasContext': 238277,\n",
       " '/r/HasProperty': 9482,\n",
       " '/r/IsA': 316351,\n",
       " '/r/RelatedTo': 1703968,\n",
       " '/r/SimilarTo': 30635,\n",
       " '/r/Antonym': 401003,\n",
       " '/r/Synonym': 1245289,\n",
       " '/r/FormOf': 378859,\n",
       " '/r/AtLocation': 27797,\n",
       " '/r/DerivedFrom': 325914,\n",
       " '/r/EtymologicallyRelatedTo': 32075,\n",
       " '/r/CapableOf': 42375,\n",
       " '/r/InstanceOf': 1480,\n",
       " '/r/PartOf': 31964,\n",
       " '/r/MadeOf': 2757,\n",
       " '/r/ReceivesAction': 6037,\n",
       " '/r/HasA': 16973,\n",
       " '/r/UsedFor': 42580,\n",
       " '/r/NotHasProperty': 327,\n",
       " '/r/CausesDesire': 4688,\n",
       " '/r/HasSubevent': 25369,\n",
       " '/r/LocatedNear': 152274,\n",
       " '/r/DistinctFrom': 8249,\n",
       " '/r/MannerOf': 12618,\n",
       " '/r/Entails': 405,\n",
       " '/r/HasPrerequisite': 24977,\n",
       " '/r/NotCapableOf': 329,\n",
       " '/r/MotivatedByGoal': 9489,\n",
       " '/r/Desires': 3170,\n",
       " '/r/Causes': 17388,\n",
       " '/r/HasFirstSubevent': 3347,\n",
       " '/r/HasLastSubevent': 2874,\n",
       " '/r/NotDesires': 2886,\n",
       " '/r/CreatedBy': 450,\n",
       " '/r/EtymologicallyDerivedFrom': 71,\n",
       " '/r/SymbolOf': 4,\n",
       " 'at:xAttr': 133281,\n",
       " 'at:xEffect': 100307,\n",
       " 'at:xIntent': 57685,\n",
       " 'at:xReact': 74153,\n",
       " 'at:xWant': 129171,\n",
       " 'at:oReact': 31497,\n",
       " 'at:oWant': 53910,\n",
       " 'at:xNeed': 96103,\n",
       " 'at:oEffect': 35346,\n",
       " 'fn:HasLexicalUnit': 58765}"
      ]
     },
     "execution_count": 13,
     "metadata": {},
     "output_type": "execute_result"
    }
   ],
   "source": [
    "rel_dict"
   ]
  },
  {
   "cell_type": "code",
   "execution_count": 14,
   "metadata": {},
   "outputs": [],
   "source": [
    "#define the first word and second word used for build sentence:\n",
    "# example:\n",
    "# [I am going to], [and I am going to see]\n",
    "relation_sentence={\"/r/UsedFor\":[['f\"I want to {blank1} so I will need {blank2}\"',\"or\",False],\n",
    "                                 ['f\"I want to have {blank1} so I will need {blank2}\"',\"or\",False],\n",
    "                                 ['f\"I want to be {blank1} so I will need {blank2}\"',\"or\",False]],\n",
    "                   \"/r/CreatedBy\":[['f\"I have {blank1} so I can create {blank2}\"',\"or\", False]],\n",
    "                   \"/r/CapableOf\":[['f\"I have {blank1} so I am capable of {blank2}\"',\"or\", True],\n",
    "                                     ['f\"I am {blank1} so I am capable of {blank2}\"',\"or\", True]],\n",
    "                   \"/r/Causes\":[['f\"I have {blank1} so I will cause {blank2}\"',\"or\", True],\n",
    "                                  ['f\"I am {blank1} so I will cause {blank2}\"',\"or\", True]],\n",
    "                   \"/r/PartOf\":[['f\"I have {blank1} so I might also have {blank2}\"',\"or\", False],\n",
    "                                  ['f\"I am {blank1} so I might also have {blank2}\"',\"or\", False]],\n",
    "                   \"/r/MadeOf\":[['f\"I want to have {blank1} so I can make it from {blank2}\"',\"or\", True]],\n",
    "                   \"/r/HasPrerequisite\":[['f\"If I want to {blank1} then I should {blank2}\"',\"or\", True],\n",
    "                                           ['f\"If I want to be {blank1} then I should {blank2}\"',\"or\", True],\n",
    "                                           ['f\"If I want to have {blank1} then I should {blank2}\"',\"or\", True]],\n",
    "                   \"/r/CausesDesire\":[['f\"I want to {blank1} then I want to {blank2}\"',\"or\", False],\n",
    "                                        ['f\"I want to {blank1} then I have {blank2}\"',\"or\", False]],\n",
    "                   \"/r/NotDesires\":[['f\"I am {blank1} and I don\\'t want to {blank2}\"',\"or\", True]],\n",
    "                   \"/r/AtLocation\":[['f\"I need {blank1} so I will go to see {blank2}\"',\"or\", True]],\n",
    "                   '/r/LocatedNear':[['f\"I am going to {blank1} and I am going to see {blank2} nearby\"',\"or\", True]]}\n",
    "\n",
    "\n",
    "# get the sentence that having the relation in relation_sentence\n",
    "mul_filter_lines=list(data_filter(cskg_dim_head, cskg_dim_lines, filter_={\"relation\":relation_sentence.keys()}))"
   ]
  },
  {
   "cell_type": "code",
   "execution_count": 15,
   "metadata": {},
   "outputs": [],
   "source": [
    "sents_example=[]\n",
    "with open(gamesents_file,\"w\",encoding=\"utf-8\") as f:\n",
    "    for rel_id, lines in mul_filter_lines:\n",
    "        temp= []\n",
    "        for format_ in relation_sentence[rel_id]:\n",
    "            sents,example_dict = build_sentence(lines,\n",
    "                                 sent_format=format_[0],\n",
    "                                 operation=format_[1],\n",
    "                                 reverse_format=format_[2],)\n",
    "            #print(\"relation id:\",rel_id)\n",
    "            #print(\"game sentences we can create:\",len(sents))\n",
    "            example_distribution=[len(example_dict[item]) for item in example_dict]\n",
    "            avg_example= sum(example_distribution)/len(example_dict)\n",
    "            #print(\"answers they have on average:\", avg_example)\n",
    "            #print(\"example of sentences:\",sents[250])\n",
    "            #print()\n",
    "            if not temp:\n",
    "                temp= [[sents[i]] for i in range(len(sents))]\n",
    "            else:\n",
    "                temp=[temp[i]+[sents[i]] for i in range(len(sents))]\n",
    "\n",
    "        sents_example.append([rel_id,temp,example_dict])\n",
    "\n",
    "        # save file into desk\n",
    "\n",
    "        #f.write(\"**\"+rel_id+\"**\\n\")\n",
    "        #for line in sents:\n",
    "        #   f.write(line+\"\\n\")"
   ]
  },
  {
   "cell_type": "markdown",
   "metadata": {},
   "source": [
    "## Score sentence"
   ]
  },
  {
   "cell_type": "code",
   "execution_count": 16,
   "metadata": {},
   "outputs": [],
   "source": [
    "model = GPT2LMHeadModel.from_pretrained('gpt2')\n",
    "tokenizer = GPT2Tokenizer.from_pretrained('gpt2')\n",
    "\n",
    "def score(tokens_tensor):\n",
    "    loss=model(tokens_tensor, labels=tokens_tensor)[0]\n",
    "    return np.exp(loss.cpu().detach().numpy())\n",
    "\n",
    "def sents_pick(sents,scores,perplexity_threhold=100):\n",
    "    i = min(len(sents), len(scores))\n",
    "    sents_result=[]\n",
    "    for idx in range(i):\n",
    "        sent_collect=sents[idx]\n",
    "        score_collect=scores[idx]\n",
    "        \n",
    "        temp=float(\"inf\")\n",
    "        result=\"\"\n",
    "        \n",
    "        result_idx=0\n",
    "        temp_idx=0\n",
    "        for sent, score in zip(sent_collect,score_collect):\n",
    "            if temp>score:\n",
    "                temp=score\n",
    "                result=sent\n",
    "                result_idx=temp_idx\n",
    "            temp_idx+=1\n",
    "        if temp < perplexity_threhold:\n",
    "            sents_result.append([result_idx,result])\n",
    "        \n",
    "    return sents_result"
   ]
  },
  {
   "cell_type": "code",
   "execution_count": 17,
   "metadata": {},
   "outputs": [
    {
     "name": "stderr",
     "output_type": "stream",
     "text": [
      "  0%|          | 1/30174 [00:00<1:28:51,  5.66it/s]"
     ]
    },
    {
     "name": "stdout",
     "output_type": "stream",
     "text": [
      "process relation id: /r/UsedFor\n"
     ]
    },
    {
     "name": "stderr",
     "output_type": "stream",
     "text": [
      "100%|██████████| 30174/30174 [49:22<00:00, 10.19it/s] \n",
      "  1%|          | 4/388 [00:00<00:11, 34.17it/s]"
     ]
    },
    {
     "name": "stdout",
     "output_type": "stream",
     "text": [
      "process relation id: /r/CreatedBy\n"
     ]
    },
    {
     "name": "stderr",
     "output_type": "stream",
     "text": [
      "100%|██████████| 388/388 [00:11<00:00, 34.32it/s]\n",
      "  0%|          | 2/11488 [00:00<12:05, 15.84it/s]"
     ]
    },
    {
     "name": "stdout",
     "output_type": "stream",
     "text": [
      "process relation id: /r/CapableOf\n"
     ]
    },
    {
     "name": "stderr",
     "output_type": "stream",
     "text": [
      "100%|██████████| 11488/11488 [13:28<00:00, 14.21it/s]\n",
      "  0%|          | 0/1980 [00:00<?, ?it/s]"
     ]
    },
    {
     "name": "stdout",
     "output_type": "stream",
     "text": [
      "process relation id: /r/Causes\n"
     ]
    },
    {
     "name": "stderr",
     "output_type": "stream",
     "text": [
      "100%|██████████| 1980/1980 [03:18<00:00,  9.98it/s]\n",
      "  0%|          | 0/14005 [00:00<?, ?it/s]"
     ]
    },
    {
     "name": "stdout",
     "output_type": "stream",
     "text": [
      "process relation id: /r/PartOf\n"
     ]
    },
    {
     "name": "stderr",
     "output_type": "stream",
     "text": [
      "100%|██████████| 14005/14005 [16:28<00:00, 14.16it/s]\n",
      "  0%|          | 3/2239 [00:00<01:35, 23.44it/s]"
     ]
    },
    {
     "name": "stdout",
     "output_type": "stream",
     "text": [
      "process relation id: /r/MadeOf\n"
     ]
    },
    {
     "name": "stderr",
     "output_type": "stream",
     "text": [
      "100%|██████████| 2239/2239 [01:16<00:00, 29.30it/s]\n",
      "  0%|          | 2/3942 [00:00<06:14, 10.51it/s]"
     ]
    },
    {
     "name": "stdout",
     "output_type": "stream",
     "text": [
      "process relation id: /r/HasPrerequisite\n"
     ]
    },
    {
     "name": "stderr",
     "output_type": "stream",
     "text": [
      "100%|██████████| 3942/3942 [09:04<00:00,  7.24it/s]\n",
      "  0%|          | 2/598 [00:00<00:58, 10.12it/s]"
     ]
    },
    {
     "name": "stdout",
     "output_type": "stream",
     "text": [
      "process relation id: /r/CausesDesire\n"
     ]
    },
    {
     "name": "stderr",
     "output_type": "stream",
     "text": [
      "100%|██████████| 598/598 [00:53<00:00, 11.17it/s]\n",
      "  1%|          | 3/255 [00:00<00:09, 26.92it/s]"
     ]
    },
    {
     "name": "stdout",
     "output_type": "stream",
     "text": [
      "process relation id: /r/NotDesires\n"
     ]
    },
    {
     "name": "stderr",
     "output_type": "stream",
     "text": [
      "100%|██████████| 255/255 [00:08<00:00, 30.94it/s]\n",
      "  0%|          | 4/9894 [00:00<05:03, 32.63it/s]"
     ]
    },
    {
     "name": "stdout",
     "output_type": "stream",
     "text": [
      "process relation id: /r/AtLocation\n"
     ]
    },
    {
     "name": "stderr",
     "output_type": "stream",
     "text": [
      "100%|██████████| 9894/9894 [05:48<00:00, 28.39it/s]\n",
      "  0%|          | 3/16154 [00:00<09:19, 28.86it/s]"
     ]
    },
    {
     "name": "stdout",
     "output_type": "stream",
     "text": [
      "process relation id: /r/LocatedNear\n"
     ]
    },
    {
     "name": "stderr",
     "output_type": "stream",
     "text": [
      "100%|██████████| 16154/16154 [11:23<00:00, 23.62it/s]\n"
     ]
    }
   ],
   "source": [
    "relation_scores=[]\n",
    "for relation_collection in sents_example:\n",
    "    rel_id=relation_collection[0]\n",
    "    scores=[]\n",
    "    print(\"process relation id:\", rel_id)\n",
    "    for sents in tqdm(relation_collection[1]):\n",
    "        temp=[]\n",
    "        for sent in sents:\n",
    "            # too long sentence might out of index\n",
    "            if len(sent)>2000:\n",
    "                temp.append(float(\"inf\"))\n",
    "                continue\n",
    "            tokens_tensor = tokenizer.encode(sent, add_special_tokens=False, return_tensors=\"pt\")           \n",
    "            temp.append(score(tokens_tensor))\n",
    "        scores.append(temp)\n",
    "    relation_scores.append([rel_id,scores])"
   ]
  },
  {
   "cell_type": "code",
   "execution_count": 18,
   "metadata": {},
   "outputs": [],
   "source": [
    "# find the sentence with highest score/lowest perplexity and satisfy threshold\n",
    "filtered_sents_example=[]\n",
    "\n",
    "for idx_1 in range(len(sents_example)):\n",
    "    rel_id=sents_example[idx_1][0]\n",
    "    example_dict=sents_example[idx_1][2]\n",
    "    sents=sents_example[idx_1][1]\n",
    "    scores=relation_scores[idx_1][1]\n",
    "    \n",
    "    filtered_sent=sents_pick(sents,scores)\n",
    "    filtered_sents_example.append([rel_id,filtered_sent,example_dict])"
   ]
  },
  {
   "cell_type": "code",
   "execution_count": 19,
   "metadata": {},
   "outputs": [
    {
     "name": "stderr",
     "output_type": "stream",
     "text": [
      "100%|██████████| 1621/1621 [00:00<00:00, 157957.55it/s]\n",
      "100%|██████████| 8/8 [00:00<00:00, 32451.09it/s]\n",
      "100%|██████████| 402/402 [00:00<00:00, 67363.57it/s]\n",
      "100%|██████████| 196/196 [00:00<00:00, 35494.30it/s]\n",
      "100%|██████████| 2075/2075 [00:00<00:00, 129525.11it/s]\n",
      "100%|██████████| 1125/1125 [00:00<00:00, 218271.44it/s]\n",
      "100%|██████████| 1409/1409 [00:00<00:00, 73224.15it/s]\n",
      "100%|██████████| 86/86 [00:00<00:00, 70520.07it/s]\n",
      "100%|██████████| 99/99 [00:00<00:00, 162264.98it/s]\n",
      "100%|██████████| 495/495 [00:00<00:00, 66152.00it/s]\n",
      "100%|██████████| 1633/1633 [00:00<00:00, 38720.67it/s]\n"
     ]
    }
   ],
   "source": [
    "# based on the string pattern build edges\n",
    "edges=[]\n",
    "for relation_sents in filtered_sents_example:\n",
    "    rel_id=relation_sents[0]\n",
    "    ids_sents=relation_sents[1]\n",
    "    patterns_=relation_sentence[rel_id]\n",
    "    for id_, sent in tqdm(ids_sents):\n",
    "        pattern_undefine=patterns_[id_][0]\n",
    "        reverse=patterns_[id_][2]\n",
    "        connection=patterns_[id_][1]\n",
    "        pattern=pattern_undefine.replace(\"{blank1}\",\"(.*)\").replace(\"{blank2}\",\"(.*)\").replace('f\"',\"\").replace('\"',\"\")\n",
    "        \n",
    "        blank1,blank2s=re.findall(pattern, sent)[0]\n",
    "        blank2s_list=blank2s.split(\" \"+connection+\" \")\n",
    "        \n",
    "        for blank2 in blank2s_list:\n",
    "            if reverse:\n",
    "                subject_=blank1\n",
    "                object_=blank2\n",
    "                edges.append([subject_,rel_id,object_])\n",
    "            else:\n",
    "                subject_=blank2\n",
    "                object_=blank1\n",
    "                edges.append([subject_,rel_id,object_])"
   ]
  },
  {
   "cell_type": "code",
   "execution_count": 20,
   "metadata": {},
   "outputs": [
    {
     "name": "stdout",
     "output_type": "stream",
     "text": [
      "3.6594694632942626\n",
      "1.375\n",
      "14.898009950248756\n",
      "29.209183673469386\n",
      "5.151807228915662\n",
      "1.24\n",
      "12.447835344215756\n",
      "8.895348837209303\n",
      "1.2828282828282829\n",
      "13.139393939393939\n",
      "38.519902020820574\n"
     ]
    },
    {
     "data": {
      "image/png": "[encoded data removed]",
      "text/plain": [
       "<Figure size 432x288 with 1 Axes>"
      ]
     },
     "metadata": {
      "needs_background": "light"
     },
     "output_type": "display_data"
    },
    {
     "data": {
      "image/png": "[encoded data removed]",
      "text/plain": [
       "<Figure size 432x288 with 1 Axes>"
      ]
     },
     "metadata": {
      "needs_background": "light"
     },
     "output_type": "display_data"
    },
    {
     "data": {
      "image/png": "[encoded data removed]",
      "text/plain": [
       "<Figure size 432x288 with 1 Axes>"
      ]
     },
     "metadata": {
      "needs_background": "light"
     },
     "output_type": "display_data"
    },
    {
     "data": {
      "image/png": "[encoded data removed]",
      "text/plain": [
       "<Figure size 432x288 with 1 Axes>"
      ]
     },
     "metadata": {
      "needs_background": "light"
     },
     "output_type": "display_data"
    },
    {
     "data": {
      "image/png": "[encoded data removed]",
      "text/plain": [
       "<Figure size 432x288 with 1 Axes>"
      ]
     },
     "metadata": {
      "needs_background": "light"
     },
     "output_type": "display_data"
    },
    {
     "data": {
      "image/png": "[encoded data removed]",
      "text/plain": [
       "<Figure size 432x288 with 1 Axes>"
      ]
     },
     "metadata": {
      "needs_background": "light"
     },
     "output_type": "display_data"
    },
    {
     "data": {
      "image/png": "[encoded data removed]",
      "text/plain": [
       "<Figure size 432x288 with 1 Axes>"
      ]
     },
     "metadata": {
      "needs_background": "light"
     },
     "output_type": "display_data"
    },
    {
     "data": {
      "image/png": "[encoded data removed]",
      "text/plain": [
       "<Figure size 432x288 with 1 Axes>"
      ]
     },
     "metadata": {
      "needs_background": "light"
     },
     "output_type": "display_data"
    },
    {
     "data": {
      "image/png": "[encoded data removed]",
      "text/plain": [
       "<Figure size 432x288 with 1 Axes>"
      ]
     },
     "metadata": {
      "needs_background": "light"
     },
     "output_type": "display_data"
    },
    {
     "data": {
      "image/png": "[encoded data removed]",
      "text/plain": [
       "<Figure size 432x288 with 1 Axes>"
      ]
     },
     "metadata": {
      "needs_background": "light"
     },
     "output_type": "display_data"
    },
    {
     "data": {
      "image/png": "[encoded data removed]",
      "text/plain": [
       "<Figure size 432x288 with 1 Axes>"
      ]
     },
     "metadata": {
      "needs_background": "light"
     },
     "output_type": "display_data"
    }
   ],
   "source": [
    "# calculate the number of answer for different relation id\n",
    "\n",
    "for relation_sents in filtered_sents_example:\n",
    "    fig = plt.figure()\n",
    "    # count the number of \" or \" n1 in the sentence\n",
    "    # the answer of one sentence is n1+1\n",
    "    rel_id=relation_sents[0]\n",
    "    id_sents=relation_sents[1]\n",
    "    distribution=[]\n",
    "    for id_, sent in id_sents:\n",
    "        num_or = sent.count(\" or \")\n",
    "        distribution.append(num_or+1)    \n",
    "    a=plt.hist(distribution,log=True)\n",
    "    plt.title(rel_id)\n",
    "    print(sum(distribution)/len(distribution))"
   ]
  },
  {
   "cell_type": "markdown",
   "metadata": {},
   "source": [
    "# Build Graph"
   ]
  },
  {
   "cell_type": "code",
   "execution_count": 21,
   "metadata": {},
   "outputs": [],
   "source": [
    "def add2graph(graph, rel_id, subject_, object_,rel_set=relation_sentence):\n",
    "    temp = graph_tool.util.find_vertex(g, g.vp[\"position\"], subject_)\n",
    "    if not temp:\n",
    "        a = graph.add_vertex()\n",
    "        g.vp[\"position\"][a]=subject_\n",
    "    else:\n",
    "        a=temp[0]\n",
    "        \n",
    "    temp = graph_tool.util.find_vertex(g, g.vp[\"position\"], object_)\n",
    "    if not temp:\n",
    "        b = graph.add_vertex()\n",
    "        g.vp[\"position\"][b]=object_\n",
    "    else:\n",
    "        b=temp[0]\n",
    "        \n",
    "    edge_loc=graph_tool.util.find_edge(g, g.ep[\"position\"], rel_id)\n",
    "    if not edge_loc:\n",
    "        reverse=relation_sentence[rel_id][2]\n",
    "        \n",
    "        if reverse==True:\n",
    "            c = graph.add_edge(a, b)\n",
    "            g.ep[\"position\"][c]=rel_id.split(\"/\")[-1].split(\":\")[-1]\n",
    "        else:\n",
    "            c = graph.add_edge(b, a)\n",
    "            g.ep[\"position\"][c]=rel_id.split(\"/\")[-1].split(\":\")[-1]\n",
    "    else:\n",
    "        c = edge_loc[0]\n",
    "        \n",
    "    return\n",
    "\n",
    "def random_walk(num=2):\n",
    "    step=0\n",
    "    process=[]\n",
    "    root=None\n",
    "    \n",
    "    while step<num:\n",
    "        # random select root\n",
    "        if root == None:\n",
    "            root_name = random.sample(label_limit, 1)[0]\n",
    "            if root_name in G:\n",
    "                root=G[root_name]\n",
    "            else:\n",
    "                continue\n",
    "            \n",
    "        else:\n",
    "            #print(list(root.out_neighbors()))\n",
    "            root_name= random.sample(root.keys(), 1)[0]\n",
    "            if root_name in G:\n",
    "                root=G[root_name]\n",
    "            else:\n",
    "                step=0\n",
    "                process=[]\n",
    "                root=None\n",
    "                continue\n",
    "            #print(\"second root\", root)\n",
    "        \n",
    "        if G.out_degree[root_name]==0:\n",
    "            step=0\n",
    "            process=[]\n",
    "            root=None\n",
    "            continue\n",
    "        \n",
    "        #print(root,root.out_degree())\n",
    "        if root_name in process:\n",
    "            step=0\n",
    "            process=[]\n",
    "            root=None\n",
    "            continue\n",
    "        process.append(root_name)\n",
    "        step+=1\n",
    "    process.append(random.sample(root.keys(), 1)[0]) \n",
    "    return process\n",
    "\n",
    "def all_relation_walk(threshold=100,relation_list=[\"/r/UsedFor\"]):\n",
    "    # generate a sentence with all relation labels\n",
    "    relation_set=set(relation_list)\n",
    "    process=[]\n",
    "    root_name=\"\"\n",
    "    step=0\n",
    "    \n",
    "    while step<threshold:\n",
    "        #print(process, step,relation_set,threshold,root_name)\n",
    "        step+=1\n",
    "        if root_name == \"\":\n",
    "            root_name = random.sample(label_limit, 1)[0].replace(\" \",\"_\")\n",
    "            if root_name in G:\n",
    "                pass\n",
    "            else:\n",
    "                root_name = \"\"\n",
    "                continue\n",
    "                \n",
    "        else:\n",
    "            #print(list(root.out_neighbors()))\n",
    "            all_edges=list(G.out_edges(root_name, data=True))\n",
    "            random.shuffle(all_edges)\n",
    "            status = False\n",
    "            for sub, obj, rel in all_edges:\n",
    "                rel_label=rel[\"label\"]\n",
    "                if rel_label in relation_set:\n",
    "                    status=True\n",
    "                    break\n",
    "            \n",
    "            if status:\n",
    "                root_name=obj\n",
    "                relation_set.remove(rel_label)\n",
    "                if relation_set==set():\n",
    "                    process.append(root_name)\n",
    "                    break\n",
    "            else:\n",
    "                process=[]\n",
    "                root_name=\"\"\n",
    "                relation_set=set(relation_list)\n",
    "                continue\n",
    "            #print(\"second root\", root)\n",
    "        \n",
    "        if G.out_degree[root_name]==0:\n",
    "            process=[]\n",
    "            root_name=\"\"\n",
    "            relation_set=set(relation_list)\n",
    "            continue\n",
    "        \n",
    "        #print(root,root.out_degree())\n",
    "        # remove duplicate\n",
    "        if root_name in process:\n",
    "            process=[]\n",
    "            root_name=\"\"\n",
    "            continue\n",
    "\n",
    "        process.append(root_name)\n",
    "    return process\n",
    "\n",
    "def walk_sent(process):\n",
    "    sent=\"\"\n",
    "    for p2 in range(1, len(process)):\n",
    "        p1=p2-1\n",
    "        sub=process[p1].replace(\" \",\"_\")\n",
    "        obj=process[p2].replace(\" \",\"_\")\n",
    "        \n",
    "        relation_=G[sub][obj][\"label\"]\n",
    "        \n",
    "        if sent:\n",
    "            sent+=\"-\"+relation_+\"-\"+obj\n",
    "        else:\n",
    "            sent=sub+\"-\"+relation_+\"-\"+obj\n",
    "            \n",
    "    return sent\n",
    "\n",
    "def walk2gamesents(sent, relation2label, relation_swap={\"/r/LocatedNear\"}):\n",
    "    sent_token=sent.split(\"-\")\n",
    "    gamesent=\"\"\n",
    "    i=0\n",
    "    while i < len(sent_token):\n",
    "        if i==0:\n",
    "            gamesent+=sent_token[i].replace(\"_\",\" \")\n",
    "        \n",
    "        elif i==1:\n",
    "            rel_id=sent_token[i]\n",
    "            if rel_id in relation_swap:\n",
    "                rel_label=G_total[sent_token[i-1]][sent_token[i+1]][\"label\"]\n",
    "            else:\n",
    "                rel_label=relation2label[sent_token[i]]\n",
    "            \n",
    "            gamesent+=\" \"+rel_label\n",
    "            \n",
    "        elif (i+1)%2==0:\n",
    "            gamesent+=\" \"+ \"that\"+\" \"+relation2label[sent_token[i]]\n",
    "        \n",
    "        else:\n",
    "            gamesent+= \" \"+sent_token[i].replace(\"_\",\" \")\n",
    "        i+=1\n",
    "    return gamesent"
   ]
  },
  {
   "cell_type": "code",
   "execution_count": 22,
   "metadata": {},
   "outputs": [],
   "source": [
    "relation2label={\"/r/UsedFor\":\"is used for\",\"/r/CreatedBy\":\"is created by\",\"/r/CapableOf\":\"is capable of\",\n",
    "                \"/r/Causes\":\"casuses\",\"/r/PartOf\":\"is part of\",\"/r/HasContext\":'has context,',\"/r/MadeOf\":\"is made of\",\n",
    "                \"/r/HasPrerequisite\":\"has prerequisite,\",\"/r/CausesDesire\": \"causes desire,\",\"/r/NotDesires\":\"does not desire\",\n",
    "                \"/r/AtLocation\":\"is located in\",\"/r/LocatedNear\":\"is located near in\"}"
   ]
  },
  {
   "cell_type": "code",
   "execution_count": 23,
   "metadata": {},
   "outputs": [],
   "source": [
    "label_limit = set([\"rug\",\"piano\",\"dryer\",\"computer\",\"fireplace\",\"whiteboard\",\"bookshelf\",\"wardrobe cabinet\",\n",
    "                  \"pan\",\"toilet\",\"plates\",\"ottoman\",\"fish tank\",\"dishwasher\",\"microwave\",\"water dispenser\",\n",
    "                  \"bed\",\"table\",\"mirror\",\"tv stand\",\"stereo set\",\"chessboard\",\"playstation\",\"vacuum cleaner\",\n",
    "                  \"cup\",\"xbox\",\"heater\",\"bathtub\",\"shoe rack\",\"range oven\",\"refrigerator\",\"coffee machine\",\n",
    "                  \"sink\",\"sofa\",\"kettle\",\"dresser\",\"knife rack\",\"towel rack\",\"loudspeaker\",\"utensil holder\",\n",
    "                  \"desk\",\"vase\",\"shower\",\"washer\",\"fruit bowl\",\"television\",\"dressing table\",\"cutting board\",\n",
    "                  \"ironing board\",\"food processor\"])"
   ]
  },
  {
   "cell_type": "code",
   "execution_count": 24,
   "metadata": {},
   "outputs": [],
   "source": [
    "G = nx.DiGraph()\n",
    "for edge in edges:\n",
    "    sub,rel,obj=edge\n",
    "    sub=sub.replace(\" \",\"_\")\n",
    "    obj=obj.replace(\" \",\"_\")\n",
    "    G.add_edge(sub,obj,label=rel)"
   ]
  },
  {
   "cell_type": "code",
   "execution_count": 80,
   "metadata": {},
   "outputs": [],
   "source": [
    "# build the graph for the whole dataset.\n",
    "G_total= nx.DiGraph()\n",
    "for line in cskg_dim_lines:\n",
    "    G_total.add_edge(line[4].replace(\" \",\"_\"),line[5].replace(\" \",\"_\"),label=line[6], head_tail=[line[1],line[3]])"
   ]
  },
  {
   "cell_type": "code",
   "execution_count": 26,
   "metadata": {},
   "outputs": [
    {
     "name": "stdout",
     "output_type": "stream",
     "text": [
      "random walk:  dresser-/r/LocatedNear-knob-/r/LocatedNear-meter-/r/LocatedNear-pay_by_cell_phone\n",
      "gamesentence is:  dresser has a knob that is located near in meter that is located near in pay by cell phone\n",
      "230.62224\n",
      "\n",
      "random walk:  toilet-/r/LocatedNear-shed-/r/LocatedNear-wall-/r/PartOf-house\n",
      "gamesentence is:  toilet in shed that is located near in wall that is part of house\n",
      "172.06158\n",
      "\n",
      "random walk:  dresser-/r/LocatedNear-kitchen-/r/LocatedNear-tools-/r/AtLocation-neighbor's_house\n",
      "gamesentence is:  dresser related to kitchen that is located near in tools that is located in neighbor's house\n",
      "219.56825\n",
      "\n",
      "random walk:  sofa-/r/UsedFor-watching_television-/r/UsedFor-education-/r/UsedFor-learning\n",
      "gamesentence is:  sofa is used for watching television that is used for education that is used for learning\n",
      "72.216415\n",
      "\n",
      "random walk:  piano-/r/LocatedNear-wall-/r/PartOf-building-/r/UsedFor-live_in\n",
      "gamesentence is:  piano against wall that is part of building that is used for live in\n",
      "350.78207\n",
      "\n",
      "random walk:  desk-/r/LocatedNear-shelf-/r/AtLocation-room-/r/LocatedNear-museum\n",
      "gamesentence is:  desk for shelf that is located in room that is located near in museum\n",
      "265.92017\n",
      "\n",
      "random walk:  rug-/r/LocatedNear-corner-/r/LocatedNear-crate-/r/LocatedNear-computer\n",
      "gamesentence is:  rug has corner that is located near in crate that is located near in computer\n",
      "230.71024\n",
      "\n",
      "random walk:  dishwasher-/r/LocatedNear-door-/r/AtLocation-apartment-/r/UsedFor-1_family_to_live_in\n",
      "gamesentence is:  dishwasher has door that is located in apartment that is used for 1 family to live in\n",
      "137.91765\n",
      "\n",
      "random walk:  vase-/r/LocatedNear-bird-/r/AtLocation-tree-/r/CapableOf-shadowing\n",
      "gamesentence is:  vase has a bird that is located in tree that is capable of shadowing\n",
      "127.73252\n",
      "\n",
      "random walk:  television-/r/LocatedNear-bureau-/r/UsedFor-storage-/r/UsedFor-storage\n",
      "gamesentence is:  television sitting on bureau that is used for storage that is used for storage\n",
      "249.24133\n",
      "\n"
     ]
    }
   ],
   "source": [
    "#show 10 example\n",
    "for i in range(10):\n",
    "    temp=random_walk(num=3)\n",
    "    sent=walk_sent(temp)\n",
    "    gamesent=walk2gamesents(sent, relation2label)\n",
    "    tokens_tensor = tokenizer.encode(gamesent, add_special_tokens=False, return_tensors=\"pt\")           \n",
    "    value=score(tokens_tensor)\n",
    "    print(\"random walk: \", sent)\n",
    "    print(\"gamesentence is: \", gamesent)\n",
    "    print(value)\n",
    "    print()"
   ]
  },
  {
   "cell_type": "code",
   "execution_count": 27,
   "metadata": {},
   "outputs": [
    {
     "name": "stdout",
     "output_type": "stream",
     "text": [
      "random walk:  fireplace-/r/LocatedNear-arch-/r/LocatedNear-trolley\n",
      "gamesentence is:  fireplace has arch that is located near in trolley\n",
      "\n",
      "random walk:  computer-/r/LocatedNear-coffee-/r/LocatedNear-spoon_handle\n",
      "gamesentence is:  computer next to coffee that is located near in spoon handle\n",
      "\n",
      "random walk:  sofa-/r/AtLocation-house-/r/LocatedNear-roof\n",
      "gamesentence is:  sofa is located in house that is located near in roof\n",
      "\n",
      "random walk:  bed-/r/UsedFor-resting-/r/Causes-being_late_to_work\n",
      "gamesentence is:  bed is used for resting that casuses being late to work\n",
      "\n",
      "random walk:  heater-/r/LocatedNear-loop-/r/LocatedNear-dock\n",
      "gamesentence is:  heater has loop that is located near in dock\n",
      "\n",
      "random walk:  kettle-/r/LocatedNear-kitchen-/r/LocatedNear-fridge\n",
      "gamesentence is:  kettle in kitchen that is located near in fridge\n",
      "\n",
      "random walk:  vase-/r/LocatedNear-junkyard-/r/LocatedNear-fence\n",
      "gamesentence is:  vase in junkyard that is located near in fence\n",
      "\n",
      "random walk:  television-/r/LocatedNear-window-/r/AtLocation-office\n",
      "gamesentence is:  television between window that is located in office\n",
      "\n",
      "random walk:  fireplace-/r/LocatedNear-coffee_table-/r/LocatedNear-dog\n",
      "gamesentence is:  fireplace behind coffee table that is located near in dog\n",
      "\n",
      "random walk:  fireplace-/r/LocatedNear-floor-/r/AtLocation-classroom\n",
      "gamesentence is:  fireplace above floor that is located in classroom\n",
      "\n"
     ]
    }
   ],
   "source": [
    "#show 10 example\n",
    "for i in range(10):\n",
    "    temp=random_walk(num=2)\n",
    "    sent=walk_sent(temp)\n",
    "    gamesent=walk2gamesents(sent, relation2label)\n",
    "    print(\"random walk: \", sent)\n",
    "    print(\"gamesentence is: \", gamesent)\n",
    "    print()"
   ]
  },
  {
   "cell_type": "code",
   "execution_count": 28,
   "metadata": {},
   "outputs": [
    {
     "data": {
      "text/plain": [
       "['piano', 'drawing_room', 'sitting', 'wall', 'house', 'rooms']"
      ]
     },
     "execution_count": 28,
     "metadata": {},
     "output_type": "execute_result"
    }
   ],
   "source": [
    "temp=all_relation_walk(threshold=100000,relation_list=[\"/r/AtLocation\",\"/r/LocatedNear\",\"/r/UsedFor\",\"/r/PartOf\",\"/r/MadeOf\"])\n",
    "temp"
   ]
  },
  {
   "cell_type": "code",
   "execution_count": 29,
   "metadata": {},
   "outputs": [
    {
     "data": {
      "text/plain": [
       "79.48515"
      ]
     },
     "execution_count": 29,
     "metadata": {},
     "output_type": "execute_result"
    }
   ],
   "source": [
    "sent=walk_sent(temp)\n",
    "gamesent=walk2gamesents(sent, relation2label)\n",
    "tokens_tensor = tokenizer.encode(gamesent, add_special_tokens=False, return_tensors=\"pt\")           \n",
    "score(tokens_tensor)"
   ]
  },
  {
   "cell_type": "code",
   "execution_count": 58,
   "metadata": {},
   "outputs": [
    {
     "name": "stderr",
     "output_type": "stream",
     "text": [
      "4322096it [00:50, 85252.24it/s]\n"
     ]
    }
   ],
   "source": [
    "# load cskg embedding file\n",
    "with open(cskg_embeddings_file,\"r\") as f:\n",
    "    head= f.readline().strip().split(\"\\t\")\n",
    "    \n",
    "    # obtain embedding_sentence in file\n",
    "    cskg_word_embeddings=dict()\n",
    "    \n",
    "    for item in tqdm(f):\n",
    "        # obtain list of line\n",
    "        line=item.strip().split(\"\\t\")\n",
    "        \n",
    "        # only property is text embedding can obtain embeddings\n",
    "        word=line[0]\n",
    "        prop=line[1]\n",
    "        embedding=line[2]\n",
    "        \n",
    "        if prop==\"text_embedding\":\n",
    "            cskg_word_embeddings[word]=embedding"
   ]
  },
  {
   "cell_type": "code",
   "execution_count": 99,
   "metadata": {},
   "outputs": [
    {
     "name": "stderr",
     "output_type": "stream",
     "text": [
      "100%|██████████| 100/100 [00:21<00:00,  4.74it/s]\n"
     ]
    }
   ],
   "source": [
    "example_sents_set=set()\n",
    "sent_score_list=[]\n",
    "relation_list=[\"/r/AtLocation\",\"/r/LocatedNear\",\"/r/UsedFor\",\"/r/PartOf\",\"/r/MadeOf\"]\n",
    "for i in tqdm(range(100)):\n",
    "    temp=all_relation_walk(threshold=100000,relation_list=relation_list)\n",
    "    if len(temp)<=len(relation_list):\n",
    "        continue\n",
    "        \n",
    "    node_ids=[0]*len(temp)\n",
    "    for i in range(1,len(temp)):\n",
    "        p1=i-1\n",
    "        p2=i\n",
    "        \n",
    "        head=temp[p1]\n",
    "        tail= temp[p2]\n",
    "        \n",
    "        head_tail=G_total[head][tail][\"head_tail\"]\n",
    "        head_id= head_tail[0]\n",
    "        tail_id=head_tail[1]\n",
    "        \n",
    "        node_ids[p1]=head_id\n",
    "        node_ids[p2]=tail_id\n",
    "    sent=walk_sent(temp)\n",
    "    gamesent=walk2gamesents(sent, relation2label)\n",
    "    \n",
    "    head_id=node_ids[0]\n",
    "    tail_id=node_ids[-1]\n",
    "    \n",
    "    head_embed=np.array(eval(\"[\"+cskg_word_embeddings[head_id]+\"]\"))\n",
    "    tail_embed=np.array(eval(\"[\"+cskg_word_embeddings[tail_id]+\"]\"))\n",
    "    similar=dot(head_embed, tail_embed)/(norm(head_embed)*norm(tail_embed))\n",
    "    \n",
    "    if gamesent in example_sents_set:\n",
    "        continue\n",
    "    else:\n",
    "        example_sents_set.add(gamesent)\n",
    "    tokens_tensor = tokenizer.encode(gamesent, add_special_tokens=False, return_tensors=\"pt\")           \n",
    "    sent_score_list.append([gamesent,score(tokens_tensor),similar])"
   ]
  },
  {
   "cell_type": "code",
   "execution_count": 100,
   "metadata": {},
   "outputs": [
    {
     "data": {
      "text/plain": [
       "<matplotlib.lines.Line2D at 0x7efe508dde10>"
      ]
     },
     "execution_count": 100,
     "metadata": {},
     "output_type": "execute_result"
    },
    {
     "data": {
      "image/png": "[encoded data removed]",
      "text/plain": [
       "<Figure size 432x288 with 1 Axes>"
      ]
     },
     "metadata": {
      "needs_background": "light"
     },
     "output_type": "display_data"
    }
   ],
   "source": [
    "a=plt.hist([item[1] for item in sent_score_list],bins=40)\n",
    "plt.axvline(100, color='r', linestyle='dashed', linewidth=3)"
   ]
  },
  {
   "cell_type": "code",
   "execution_count": 101,
   "metadata": {},
   "outputs": [],
   "source": [
    "# sort sentence by similarity\n",
    "sent_score_list.sort(key=lambda k:k[-1], reverse=True)"
   ]
  },
  {
   "cell_type": "code",
   "execution_count": 102,
   "metadata": {},
   "outputs": [
    {
     "data": {
      "text/plain": [
       "[<matplotlib.lines.Line2D at 0x7efe5048ed90>]"
      ]
     },
     "execution_count": 102,
     "metadata": {},
     "output_type": "execute_result"
    },
    {
     "data": {
      "image/png": "[encoded data removed]",
      "text/plain": [
       "<Figure size 432x288 with 1 Axes>"
      ]
     },
     "metadata": {
      "needs_background": "light"
     },
     "output_type": "display_data"
    }
   ],
   "source": [
    "y1= [_[-1] for _ in sent_score_list]\n",
    "y2 = [_[1] for _ in sent_score_list]\n",
    "x= range(len(sent_score_list))\n",
    "\n",
    "\n",
    "plt.plot(x,y1)"
   ]
  },
  {
   "cell_type": "code",
   "execution_count": 103,
   "metadata": {},
   "outputs": [
    {
     "data": {
      "text/plain": [
       "[<matplotlib.lines.Line2D at 0x7efe50478d50>]"
      ]
     },
     "execution_count": 103,
     "metadata": {},
     "output_type": "execute_result"
    },
    {
     "data": {
      "image/png": "[encoded data removed]",
      "text/plain": [
       "<Figure size 432x288 with 1 Axes>"
      ]
     },
     "metadata": {
      "needs_background": "light"
     },
     "output_type": "display_data"
    }
   ],
   "source": [
    "plt.plot(x,y2)"
   ]
  },
  {
   "cell_type": "markdown",
   "metadata": {},
   "source": [
    "# New Task\n",
    "The edges can have the thing as a subject or object\n",
    "This requires double templates\n",
    "X is used for Y\n",
    "Y uses X"
   ]
  },
  {
   "cell_type": "code",
   "execution_count": 35,
   "metadata": {},
   "outputs": [],
   "source": [
    "relation2label={\"/r/UsedFor\":\"is used for\",\"/r/CreatedBy\":\"is created by\",\"/r/CapableOf\":\"is capable of\",\n",
    "                \"/r/Causes\":\"casuses\",\"/r/PartOf\":\"is part of\",\"/r/HasContext\":'has context,',\"/r/MadeOf\":\"is made of\",\n",
    "                \"/r/HasPrerequisite\":\"has prerequisite,\",\"/r/CausesDesire\": \"causes desire,\",\"/r/NotDesires\":\"does not desire\",\n",
    "                \"/r/AtLocation\":\"is located in\",\"/r/LocatedNear\":\"is located near\",\n",
    "                \"/r/AtLocation/r\":\"has\",\"/r/UsedFor/r\":\"uses\",\"/r/PartOf/r\": \"has a part,\",\"/r/MadeOf/r\":\"is used to make\",\"/r/LocatedNear/r\":\"is located near\",}\n",
    "relation_list=[\"/r/AtLocation\",\"/r/LocatedNear\",\"/r/UsedFor\",\"/r/PartOf\",\"/r/MadeOf\"]"
   ]
  },
  {
   "cell_type": "code",
   "execution_count": 36,
   "metadata": {},
   "outputs": [],
   "source": [
    "G = nx.DiGraph()\n",
    "for edge in edges:\n",
    "    sub,rel,obj=edge\n",
    "    sub=sub.replace(\" \",\"_\")\n",
    "    obj=obj.replace(\" \",\"_\")\n",
    "    if rel in relation_list:\n",
    "        G.add_edge(sub,obj,label=rel)"
   ]
  },
  {
   "cell_type": "code",
   "execution_count": 37,
   "metadata": {},
   "outputs": [],
   "source": [
    "def star_walk(threshold=100):\n",
    "    nodes=[\"\",[],[]]\n",
    "    relation_limit_set=set(relation_list)\n",
    "    \n",
    "    for i in range(threshold):\n",
    "        # pick one word from eqa\n",
    "        root_name = random.sample(label_limit, 1)[0]\n",
    "        \n",
    "        # check whether it has 5 different relation\n",
    "        if not G.has_node(root_name):\n",
    "            continue\n",
    "            \n",
    "        out_edges=G.out_edges(root_name)\n",
    "        in_edges=G.in_edges(root_name)\n",
    "        relation_set=set()\n",
    "        \n",
    "        for u,v in out_edges:\n",
    "            rel_name=G[u][v][\"label\"]\n",
    "            relation_set.add(rel_name)\n",
    "            \n",
    "        for u,v in in_edges:\n",
    "            rel_name=G[u][v][\"label\"]\n",
    "            relation_set.add(rel_name)\n",
    "            \n",
    "        if not len(relation_set)>=len(relation_list)-2:\n",
    "            #print(relation_set,root_name)\n",
    "            continue\n",
    "            \n",
    "        #print(relation_set,root_name)\n",
    "        nodes[0]=root_name\n",
    "        \n",
    "        shuffle_out_edges=list(out_edges)\n",
    "        shuffle_in_edges=list(in_edges)\n",
    "        random.shuffle(shuffle_out_edges)\n",
    "        random.shuffle(shuffle_in_edges)\n",
    "        #print(shuffle_out_edges,shuffle_in_edges)\n",
    "        for u,v in shuffle_out_edges:\n",
    "            rel_name=G[u][v][\"label\"]\n",
    "                \n",
    "            if rel_name in relation_limit_set:\n",
    "                relation_limit_set.remove(rel_name)\n",
    "            else:\n",
    "                continue\n",
    "                \n",
    "            nodes[1].append(v)\n",
    "            nodes[2].append(rel_name)\n",
    "            \n",
    "            if not relation_limit_set:\n",
    "                break\n",
    "                \n",
    "        for u,v in shuffle_in_edges:\n",
    "            rel_name=G[u][v][\"label\"]\n",
    "            \n",
    "            if not relation_limit_set:\n",
    "                break\n",
    "                \n",
    "            if rel_name in relation_limit_set:\n",
    "                relation_limit_set.remove(rel_name)\n",
    "            else:\n",
    "                continue\n",
    "                \n",
    "            nodes[1].append(u)\n",
    "            nodes[2].append(rel_name+\"/r\") \n",
    "        \n",
    "        if nodes[0]:\n",
    "            break\n",
    "            \n",
    "    return nodes\n",
    "\n",
    "def build_sentences(nodes):\n",
    "    root_=nodes[0]\n",
    "    sent1_list=[]\n",
    "    sent2_list=[]\n",
    "    for node, rel_ in zip(nodes[1],nodes[2]):\n",
    "        sub_sent1=f\"{root_} {relation2label[rel_]} {node}\"\n",
    "        sub_sent2=f\"{relation2label[rel_]} {node}\"\n",
    "        sent1_list.append(sub_sent1)\n",
    "        sent2_list.append(sub_sent2)\n",
    "        \n",
    "    sent1=\" and \".join(sent1_list)+\".\"\n",
    "    sent2=root_+\" \"+\" and \".join(sent2_list)+\".\"\n",
    "    sent1=sent1.replace(\"_\",\" \")\n",
    "    sent2=sent2.replace(\"_\",\" \")\n",
    "    \n",
    "    return sent1,sent2"
   ]
  },
  {
   "cell_type": "code",
   "execution_count": 38,
   "metadata": {},
   "outputs": [
    {
     "data": {
      "text/plain": [
       "('bathtub is located near tiled frame and bathtub is used for take bath and bathtub has water.',\n",
       " 'bathtub is located near tiled frame and is used for take bath and has water.')"
      ]
     },
     "execution_count": 38,
     "metadata": {},
     "output_type": "execute_result"
    }
   ],
   "source": [
    "nodes_combine=star_walk()\n",
    "build_sentences(nodes_combine)"
   ]
  },
  {
   "cell_type": "code",
   "execution_count": 39,
   "metadata": {},
   "outputs": [
    {
     "name": "stderr",
     "output_type": "stream",
     "text": [
      "100%|██████████| 100/100 [00:08<00:00, 12.37it/s]\n"
     ]
    }
   ],
   "source": [
    "example_sents_set=set()\n",
    "sent_score_list1=[]\n",
    "sent_score_list2=[]\n",
    "for i in tqdm(range(100)):\n",
    "    nodes_combine=star_walk()\n",
    "    if not nodes_combine[0]:\n",
    "        continue\n",
    "    sent1,sent2=build_sentences(nodes_combine)\n",
    "    if sent1 in example_sents_set:\n",
    "        continue\n",
    "    else:\n",
    "        example_sents_set.add(sent1)\n",
    "    tokens_tensor = tokenizer.encode(sent1, add_special_tokens=False, return_tensors=\"pt\")           \n",
    "    sent_score_list1.append([sent1,score(tokens_tensor)])\n",
    "    \n",
    "    tokens_tensor = tokenizer.encode(sent2, add_special_tokens=False, return_tensors=\"pt\")           \n",
    "    sent_score_list2.append([sent2,score(tokens_tensor)])"
   ]
  },
  {
   "cell_type": "code",
   "execution_count": 40,
   "metadata": {},
   "outputs": [],
   "source": [
    "score_list1=[]\n",
    "score_list2=[]\n",
    "for item1,item2 in zip(sent_score_list1,sent_score_list2):\n",
    "    sent1,res1=item1\n",
    "    sent2,res2=item2\n",
    "    score_list1.append(res1)\n",
    "    score_list2.append(res2)"
   ]
  },
  {
   "cell_type": "code",
   "execution_count": 41,
   "metadata": {},
   "outputs": [
    {
     "data": {
      "text/plain": [
       "146.73291304617217"
      ]
     },
     "execution_count": 41,
     "metadata": {},
     "output_type": "execute_result"
    }
   ],
   "source": [
    "sum(score_list1)/len(score_list1)"
   ]
  },
  {
   "cell_type": "code",
   "execution_count": 42,
   "metadata": {},
   "outputs": [
    {
     "data": {
      "text/plain": [
       "170.31979061858823"
      ]
     },
     "execution_count": 42,
     "metadata": {},
     "output_type": "execute_result"
    }
   ],
   "source": [
    "sum(score_list2)/len(score_list2)"
   ]
  },
  {
   "cell_type": "code",
   "execution_count": 43,
   "metadata": {},
   "outputs": [],
   "source": [
    "filter_sents=[]\n",
    "\n",
    "for sent, val in sent_score_list1:\n",
    "    if val <=100:\n",
    "        filter_sents.append([sent,val])"
   ]
  },
  {
   "cell_type": "code",
   "execution_count": 44,
   "metadata": {},
   "outputs": [
    {
     "data": {
      "text/plain": [
       "[['toilet is located near cord and toilet is located in apartment and toilet is made of porcelain.',\n",
       "  72.901566],\n",
       " ['sink is located in house and sink is located near drain and sink is used for wash hands.',\n",
       "  94.724976],\n",
       " ['computer is located near grass and computer is located in building and computer is used for create artificial intelligence and computer is made of microchips and computer has a part, cpu.',\n",
       "  78.60975],\n",
       " ['computer is made of hardware and computer is located near knees and computer is used for entertainment and computer is located in school and computer has a part, CRT.',\n",
       "  84.900154],\n",
       " ['computer is located near label and computer is located in table and computer is used for work and computer is made of microchips and computer has a part, computer accessory.',\n",
       "  70.66183],\n",
       " ['shower is located near bed and shower is used for washing and shower is part of house and shower has hot faucet.',\n",
       "  66.30867],\n",
       " ['piano is located in drawing room and piano is located near building and piano is used for performing music.',\n",
       "  82.70866],\n",
       " ['fireplace is located near living room and fireplace is located in cabin and fireplace is used for decoration.',\n",
       "  75.69558],\n",
       " ['dresser is located near candlestick and dresser is used for store crockery and dresser has drawer.',\n",
       "  91.61638],\n",
       " ['toilet is located near towel and toilet is made of porcelain and toilet is located in hotel.',\n",
       "  84.245636],\n",
       " ['computer is located near reflection and computer is located in office building and computer is used for work and computer is made of hardware and computer has a part, memory chip.',\n",
       "  64.88494],\n",
       " ['bathtub is located near commode and bathtub is used for bathing and bathtub has water.',\n",
       "  85.584145],\n",
       " ['bathtub is located near sprout and bathtub is used for bathing and bathtub has water.',\n",
       "  97.468544],\n",
       " [\"sink is located near person and sink is located in neighbor's house and sink is used for brushing teeth.\",\n",
       "  63.798992],\n",
       " ['ottoman is made of wool and ottoman is used for decoration and ottoman is located near cellphone.',\n",
       "  77.52081],\n",
       " ['toilet is located near bottle and toilet is located in plumbing shop and toilet is made of porcelain.',\n",
       "  67.85405],\n",
       " [\"bed is used for going to sleep and bed is located in neighbor's house and bed is located near barrier.\",\n",
       "  75.86943],\n",
       " ['ottoman is used for reclining legs and ottoman is made of cotton and ottoman is located near fireplace.',\n",
       "  64.171036],\n",
       " ['toilet is located near gift and toilet is located in motel room and toilet is made of porcelain.',\n",
       "  75.52782],\n",
       " ['piano is located in symphony orchestra and piano is located near fireplace and piano is used for music.',\n",
       "  92.04497]]"
      ]
     },
     "execution_count": 44,
     "metadata": {},
     "output_type": "execute_result"
    }
   ],
   "source": [
    "filter_sents[:20]"
   ]
  },
  {
   "cell_type": "code",
   "execution_count": 45,
   "metadata": {},
   "outputs": [
    {
     "data": {
      "text/plain": [
       "InEdgeDataView([('hair_conditioner', 'shower'), ('hot_faucet', 'shower'), ('snake', 'shower'), ('water', 'shower'), ('counter', 'shower'), ('pipe', 'shower'), ('seal', 'shower'), ('bar', 'shower'), ('room', 'shower'), ('barrier', 'shower'), ('enclosure', 'shower'), ('bucket', 'shower'), ('lighting', 'shower'), ('fixture', 'shower'), ('beam', 'shower'), ('bidet', 'shower'), ('vent', 'shower'), ('bottom', 'shower'), ('faucet', 'shower'), ('ceiling', 'shower'), ('items', 'shower'), ('dish', 'shower'), ('corner', 'shower'), ('mat', 'shower'), ('hook', 'shower'), ('ledge', 'shower'), ('faucet_for_shower', 'shower'), ('pan', 'shower'), ('hose', 'shower'), ('soap', 'shower'), ('step', 'shower'), ('seat', 'shower'), ('opening', 'shower'), ('panel', 'shower'), ('planter', 'shower'), ('plumbing', 'shower'), ('rings', 'shower'), ('rod', 'shower'), ('soap_dish', 'shower'), ('sponge', 'shower'), ('toilet', 'shower'), ('toilet_bowl', 'shower'), ('towel_rack', 'shower'), ('towel_bar', 'shower'), ('tray', 'shower')])"
      ]
     },
     "execution_count": 45,
     "metadata": {},
     "output_type": "execute_result"
    }
   ],
   "source": [
    "G.in_edges(\"shower\")"
   ]
  },
  {
   "cell_type": "code",
   "execution_count": 46,
   "metadata": {},
   "outputs": [],
   "source": [
    "test=set()\n",
    "for u,v in G.out_edges(\"refrigerator\"):\n",
    "    rel_label=G[u][v][\"label\"]\n",
    "    test.add(rel_label)"
   ]
  },
  {
   "cell_type": "code",
   "execution_count": 47,
   "metadata": {},
   "outputs": [
    {
     "data": {
      "text/plain": [
       "{'/r/UsedFor'}"
      ]
     },
     "execution_count": 47,
     "metadata": {},
     "output_type": "execute_result"
    }
   ],
   "source": [
    "test"
   ]
  },
  {
   "cell_type": "code",
   "execution_count": null,
   "metadata": {},
   "outputs": [],
   "source": []
  }
 ],
 "metadata": {
  "kernelspec": {
   "display_name": "isi",
   "language": "python",
   "name": "isi"
  },
  "language_info": {
   "codemirror_mode": {
    "name": "ipython",
    "version": 3
   },
   "file_extension": ".py",
   "mimetype": "text/x-python",
   "name": "python",
   "nbconvert_exporter": "python",
   "pygments_lexer": "ipython3",
   "version": "3.7.9"
  }
 },
 "nbformat": 4,
 "nbformat_minor": 4
}
