{
 "cells": [
  {
   "cell_type": "code",
   "execution_count": 64,
   "metadata": {},
   "outputs": [],
   "source": [
    "import random\n",
    "from nltk.corpus import wordnet as wn\n",
    "from sentence_transformers import SentenceTransformer\n",
    "import faiss\n",
    "import numpy as np"
   ]
  },
  {
   "cell_type": "markdown",
   "metadata": {},
   "source": [
    "## Set up folder"
   ]
  },
  {
   "cell_type": "code",
   "execution_count": 60,
   "metadata": {},
   "outputs": [],
   "source": [
    "# input\n",
    "cskg_dim_path = \"./data/cskg/cskg_connected.tsv\"\n",
    "cskg_hard_file= \"./data/cskg/cskg_hard.tsv\"\n",
    "faiss_cskg_hard= \"./data/cskg/faiss_cskg_hard\"\n",
    "embed_cskg_hard= \"./data/cskg/embed_cskg_hard.txt\"\n",
    "\n",
    "# output\n",
    "cskg_hard_100 = \"./data/cskg/cskg_hard.tsv\""
   ]
  },
  {
   "cell_type": "markdown",
   "metadata": {},
   "source": [
    "## Class for data operation"
   ]
  },
  {
   "cell_type": "code",
   "execution_count": 6,
   "metadata": {},
   "outputs": [],
   "source": [
    "class cskg():\n",
    "    def load_source(self,filename):\n",
    "        \"\"\"\n",
    "        load cskg_dim file\n",
    "\n",
    "        return: head, lines\n",
    "        \"\"\"\n",
    "\n",
    "        with open(filename, \"r\") as f:\n",
    "            head = f.readline()\n",
    "            lines = []\n",
    "            for line_str in f:\n",
    "                line = line_str.strip().split(\"\\t\")\n",
    "                rel_id=line[2]\n",
    "                if rel_id!=\"/r/HasProperty\":\n",
    "                    continue\n",
    "                \n",
    "                lines.append(line)\n",
    "\n",
    "        self.head=head\n",
    "        self.data=lines\n",
    "        return head, lines\n",
    "    \n",
    "    def hundred_choice(self):\n",
    "        \"\"\"\n",
    "        choose 100 lines whose both subject and object don't have candidates\n",
    "        \"\"\"\n",
    "        self.candits_100=[]\n",
    "        random.shuffle(self.data)\n",
    "        for line in self.data:\n",
    "            # only choose the first label\n",
    "            subjects_=line[4].split(\"|\")\n",
    "            subject_=subjects_[0].replace(\" \",\"_\")\n",
    "            subject_candits=self.generate_candits(subject_)\n",
    "            \n",
    "            # only choose the first label\n",
    "            objects_=line[5].split(\"|\")\n",
    "            object_=objects_[0].replace(\" \",\"_\")\n",
    "            object_candits=self.generate_candits(object_)\n",
    "            \n",
    "            if subject_==\"\" or object_==\"\":\n",
    "                continue\n",
    "            rel_=line[6]\n",
    "            \n",
    "            if len(subject_candits)==0 and len(object_candits)==0:\n",
    "                self.candits_100.append([line[0],line[1],line[2],line[3],\n",
    "                                         subjects_[0],objects_[0],line[6],\n",
    "                                         line[7],line[8]])\n",
    "                \n",
    "            if len(self.candits_100)==100:\n",
    "                break\n",
    "                \n",
    "    def save_file(self, filename):\n",
    "        \"\"\"\n",
    "        save cskg_dim filtered file\n",
    "        return : None\n",
    "        \"\"\"\n",
    "        with open(filename, \"w\") as f:\n",
    "            \n",
    "            for line in self.candits_100:\n",
    "                f.write((\"\\t\").join(line)+\"\\n\")\n",
    "\n",
    "        return filename\n",
    "\n",
    "    def generate_candits(self,label_):\n",
    "        \"\"\"\n",
    "        generate candidates\n",
    "        \"\"\"\n",
    "        label_modify=label_.replace(\" \",\"_\")\n",
    "        candits=wn.synsets(label_modify)\n",
    "        return candits"
   ]
  },
  {
   "cell_type": "code",
   "execution_count": 7,
   "metadata": {},
   "outputs": [
    {
     "data": {
      "text/plain": [
       "['/c/en/0_80_screws-/r/HasProperty-/c/en/very_small-0000',\n",
       " '/c/en/0_80_screws',\n",
       " '/r/HasProperty',\n",
       " '/c/en/very_small',\n",
       " '0 80 screws',\n",
       " 'very small',\n",
       " 'has property',\n",
       " '',\n",
       " 'CN',\n",
       " '[[0-80 screws]] are [[very small]]']"
      ]
     },
     "execution_count": 7,
     "metadata": {},
     "output_type": "execute_result"
    }
   ],
   "source": [
    "DataProcessor=cskg()\n",
    "\n",
    "# load data cskg_dim.tsv\n",
    "DataProcessor.load_source(cskg_dim_path)\n",
    "\n",
    "#example of lines\n",
    "DataProcessor.data[0]"
   ]
  },
  {
   "cell_type": "code",
   "execution_count": 8,
   "metadata": {},
   "outputs": [
    {
     "data": {
      "text/plain": [
       "'./data/cskg/cskg_hard.tsv'"
      ]
     },
     "execution_count": 8,
     "metadata": {},
     "output_type": "execute_result"
    }
   ],
   "source": [
    "# choose 100 lines whose both subject and object don't have candidates\n",
    "DataProcessor.hundred_choice()\n",
    "\n",
    "#save 100 lines\n",
    "DataProcessor.save_file(cskg_hard_100)"
   ]
  },
  {
   "cell_type": "code",
   "execution_count": 9,
   "metadata": {},
   "outputs": [
    {
     "data": {
      "text/plain": [
       "['/c/en/australian_police-/r/HasProperty-/c/en/disinterested_in_cyling_offences-0000',\n",
       " '/c/en/australian_police',\n",
       " '/r/HasProperty',\n",
       " '/c/en/disinterested_in_cyling_offences',\n",
       " 'australian police',\n",
       " 'disinterested in cyling offences',\n",
       " 'has property',\n",
       " '',\n",
       " 'CN']"
      ]
     },
     "execution_count": 9,
     "metadata": {},
     "output_type": "execute_result"
    }
   ],
   "source": [
    "# example of 100 lines\n",
    "DataProcessor.candits_100[0]"
   ]
  },
  {
   "cell_type": "markdown",
   "metadata": {},
   "source": [
    "## CSKG_Hard Load"
   ]
  },
  {
   "cell_type": "code",
   "execution_count": 149,
   "metadata": {},
   "outputs": [],
   "source": [
    "def load_source(filename):\n",
    "    \"\"\"\n",
    "    load cskg_hard file\n",
    "\n",
    "    return: lines\n",
    "    \"\"\"\n",
    "    \n",
    "    with open(filename) as f:\n",
    "        lines=[]\n",
    "        \n",
    "        for line in f:\n",
    "            lines.append(line.strip().split(\"\\t\"))\n",
    "            \n",
    "    return lines"
   ]
  },
  {
   "cell_type": "code",
   "execution_count": 150,
   "metadata": {},
   "outputs": [
    {
     "data": {
      "text/plain": [
       "['/c/en/australian_police-/r/HasProperty-/c/en/disinterested_in_cyling_offences-0000',\n",
       " 'wn:police.n.1',\n",
       " 'wn:trait.n.1',\n",
       " '',\n",
       " 'australian police',\n",
       " 'disinterested in cyling offences',\n",
       " 'has property',\n",
       " '',\n",
       " 'CN']"
      ]
     },
     "execution_count": 150,
     "metadata": {},
     "output_type": "execute_result"
    }
   ],
   "source": [
    "lines = load_source(cskg_hard_file)\n",
    "\n",
    "# example of ground truth\n",
    "lines[0]"
   ]
  },
  {
   "cell_type": "code",
   "execution_count": 244,
   "metadata": {},
   "outputs": [],
   "source": [
    "left_count=[]\n",
    "right_count=[]\n",
    "for line in lines:\n",
    "    left_= line[4]\n",
    "    right_=line[5]\n",
    "    left_count.append(len(left_.split(\" \")))\n",
    "    right_count.append(len(right_.split(\" \")))"
   ]
  },
  {
   "cell_type": "code",
   "execution_count": 245,
   "metadata": {},
   "outputs": [
    {
     "data": {
      "text/plain": [
       "(array([16.,  0., 45.,  0.,  0., 22.,  0., 13.,  0.,  4.]),\n",
       " array([1. , 1.4, 1.8, 2.2, 2.6, 3. , 3.4, 3.8, 4.2, 4.6, 5. ]),\n",
       " <BarContainer object of 10 artists>)"
      ]
     },
     "execution_count": 245,
     "metadata": {},
     "output_type": "execute_result"
    },
    {
     "data": {
      "image/png": "[encoded data removed]",
      "text/plain": [
       "<Figure size 432x288 with 1 Axes>"
      ]
     },
     "metadata": {
      "needs_background": "light"
     },
     "output_type": "display_data"
    }
   ],
   "source": [
    "import matplotlib.pyplot as plt\n",
    "plt.hist(left_count)"
   ]
  },
  {
   "cell_type": "code",
   "execution_count": 246,
   "metadata": {},
   "outputs": [
    {
     "data": {
      "text/plain": [
       "(array([ 1., 28.,  0., 33.,  0., 23., 13.,  0.,  1.,  1.]),\n",
       " array([1. , 1.6, 2.2, 2.8, 3.4, 4. , 4.6, 5.2, 5.8, 6.4, 7. ]),\n",
       " <BarContainer object of 10 artists>)"
      ]
     },
     "execution_count": 246,
     "metadata": {},
     "output_type": "execute_result"
    },
    {
     "data": {
      "image/png": "[encoded data removed]",
      "text/plain": [
       "<Figure size 432x288 with 1 Axes>"
      ]
     },
     "metadata": {
      "needs_background": "light"
     },
     "output_type": "display_data"
    }
   ],
   "source": [
    "plt.hist(right_count)"
   ]
  },
  {
   "cell_type": "code",
   "execution_count": 151,
   "metadata": {},
   "outputs": [],
   "source": [
    "# statistic of cskg_hard\n",
    "lefts_=[]\n",
    "rights_=[]\n",
    "totals_=[]\n",
    "for line in lines:\n",
    "    subject_=line[1]\n",
    "    rel_=line[2]\n",
    "    object_=line[3]\n",
    "    \n",
    "    if subject_:\n",
    "        lefts_.append(1)\n",
    "    else:\n",
    "        lefts_.append(0)\n",
    "        \n",
    "    if object_:\n",
    "        rights_.append(1)\n",
    "    else:\n",
    "        rights_.append(0)\n",
    "        \n",
    "    if subject_ and object_:\n",
    "        totals_.append(1)\n",
    "    else:\n",
    "        totals_.append(0)"
   ]
  },
  {
   "cell_type": "code",
   "execution_count": 152,
   "metadata": {},
   "outputs": [
    {
     "name": "stdout",
     "output_type": "stream",
     "text": [
      "Number of annoted subject:  58\n",
      "Number of annoted object:  53\n",
      "Number of annoted edge:  49\n"
     ]
    }
   ],
   "source": [
    "print(\"Number of annoted subject: \",sum(lefts_))\n",
    "print(\"Number of annoted object: \",sum(rights_))\n",
    "print(\"Number of annoted edge: \",sum(totals_))"
   ]
  },
  {
   "cell_type": "markdown",
   "metadata": {},
   "source": [
    "## Sentence embedding for WordNet"
   ]
  },
  {
   "cell_type": "code",
   "execution_count": 117,
   "metadata": {},
   "outputs": [],
   "source": [
    "model=SentenceTransformer(\"stsb-roberta-large\")"
   ]
  },
  {
   "cell_type": "code",
   "execution_count": 118,
   "metadata": {},
   "outputs": [],
   "source": [
    "synsets_name=[]\n",
    "sents=[]\n",
    "\n",
    "for label in wn.all_synsets():\n",
    "    synsets_name.append(label.name())\n",
    "    sents.append(label.definition())\n",
    "    \n",
    "sentence_embeddings = model.encode(sents)"
   ]
  },
  {
   "cell_type": "code",
   "execution_count": 119,
   "metadata": {},
   "outputs": [
    {
     "data": {
      "text/plain": [
       "array([-0.3253834 ,  0.21606368, -0.8423682 , ...,  0.51846933,\n",
       "       -2.1251714 ,  0.7680165 ], dtype=float32)"
      ]
     },
     "execution_count": 119,
     "metadata": {},
     "output_type": "execute_result"
    }
   ],
   "source": [
    "# store to disk\n",
    "with open(embed_cskg_hard,\"w\") as f:\n",
    "    for label,sent in zip(synsets_name,sentence_embeddings):\n",
    "        f.write(label)\n",
    "        f.write(\": \")\n",
    "        f.write(\",\".join([str(_) for _ in sent])+\"\\n\")\n",
    "\n",
    "# example\n",
    "sentence_embeddings[0]"
   ]
  },
  {
   "cell_type": "code",
   "execution_count": 120,
   "metadata": {},
   "outputs": [],
   "source": [
    "d=len(sentence_embeddings[0])\n",
    "index = faiss.IndexFlatL2(d)\n",
    "index.add(sentence_embeddings)\n",
    "\n",
    "#write to disk\n",
    "faiss.write_index(index, faiss_cskg_hard)"
   ]
  },
  {
   "cell_type": "code",
   "execution_count": 121,
   "metadata": {},
   "outputs": [
    {
     "data": {
      "text/plain": [
       "'good.a.01'"
      ]
     },
     "execution_count": 121,
     "metadata": {},
     "output_type": "execute_result"
    }
   ],
   "source": [
    "# have a test\n",
    "embed=model.encode(wn.synset(\"good.a.1\").definition())\n",
    "\n",
    "D, I = index.search(np.array([embed]), 1)\n",
    "synsets_name[I[0][0]]"
   ]
  },
  {
   "cell_type": "code",
   "execution_count": 122,
   "metadata": {},
   "outputs": [],
   "source": [
    "invert_synsets_name=dict()\n",
    "idx=0\n",
    "for label in synsets_name:\n",
    "    invert_synsets_name[label]=idx\n",
    "    idx+=1"
   ]
  },
  {
   "cell_type": "code",
   "execution_count": 123,
   "metadata": {},
   "outputs": [
    {
     "data": {
      "text/plain": [
       "'good.a.01'"
      ]
     },
     "execution_count": 123,
     "metadata": {},
     "output_type": "execute_result"
    }
   ],
   "source": [
    "wn.synset(\"good.a.1\").name()"
   ]
  },
  {
   "cell_type": "code",
   "execution_count": 124,
   "metadata": {},
   "outputs": [
    {
     "data": {
      "text/plain": [
       "6162"
      ]
     },
     "execution_count": 124,
     "metadata": {},
     "output_type": "execute_result"
    }
   ],
   "source": [
    "invert_synsets_name[\"good.a.01\"]"
   ]
  },
  {
   "cell_type": "markdown",
   "metadata": {},
   "source": [
    "## Make Prediction"
   ]
  },
  {
   "cell_type": "code",
   "execution_count": 153,
   "metadata": {},
   "outputs": [],
   "source": [
    "# filter the valide line\n",
    "valid_lines=[]\n",
    "for line in lines:\n",
    "    subject_=line[1]\n",
    "    rel_=line[2]\n",
    "    object_=line[3]\n",
    "    \n",
    "    if subject_ and object_:\n",
    "        valid_lines.append(line)\n",
    "    else:\n",
    "        pass"
   ]
  },
  {
   "cell_type": "code",
   "execution_count": 154,
   "metadata": {},
   "outputs": [],
   "source": [
    "# make prediction\n",
    "node_labels=[]\n",
    "for line in valid_lines:\n",
    "    subject_label=line[4]\n",
    "    object_label=line[5]\n",
    "    \n",
    "    node_labels.append(subject_label)\n",
    "    node_labels.append(object_label)\n",
    "    \n",
    "node_embed=model.encode(node_labels)"
   ]
  },
  {
   "cell_type": "code",
   "execution_count": 251,
   "metadata": {},
   "outputs": [],
   "source": [
    "# make prediction\n",
    "k=5000\n",
    "D, I = index.search(np.array(node_embed), k)"
   ]
  },
  {
   "cell_type": "code",
   "execution_count": 252,
   "metadata": {},
   "outputs": [],
   "source": [
    "# check accuracy\n",
    "truth_idx=[]\n",
    "for line in valid_lines:\n",
    "    subject_= wn.synset(line[1].split(\":\")[1]).name()\n",
    "    object_= wn.synset(line[3].split(\":\")[1]).name()\n",
    "    truth_idx.append(invert_synsets_name[subject_])\n",
    "    truth_idx.append(invert_synsets_name[object_])\n",
    "\n",
    "sub_accuracy=[]\n",
    "obj_accuracy=[]\n",
    "for i in range(len(truth_idx)):\n",
    "    predict_idxs=I[i]\n",
    "    truth=truth_idx[i]\n",
    "    if truth in predict_idxs:\n",
    "        if i%2==0:\n",
    "            sub_accuracy.append(1)\n",
    "        else:\n",
    "            obj_accuracy.append(1)\n",
    "    else:\n",
    "        if i%2==0:\n",
    "            sub_accuracy.append(0)\n",
    "        else:\n",
    "            obj_accuracy.append(0)"
   ]
  },
  {
   "cell_type": "code",
   "execution_count": 253,
   "metadata": {},
   "outputs": [
    {
     "data": {
      "text/plain": [
       "30"
      ]
     },
     "execution_count": 253,
     "metadata": {},
     "output_type": "execute_result"
    }
   ],
   "source": [
    "sum(sub_accuracy)"
   ]
  },
  {
   "cell_type": "code",
   "execution_count": 254,
   "metadata": {},
   "outputs": [
    {
     "data": {
      "text/plain": [
       "42"
      ]
     },
     "execution_count": 254,
     "metadata": {},
     "output_type": "execute_result"
    }
   ],
   "source": [
    "sum(obj_accuracy)"
   ]
  },
  {
   "cell_type": "code",
   "execution_count": 241,
   "metadata": {},
   "outputs": [
    {
     "name": "stdout",
     "output_type": "stream",
     "text": [
      "adelaide.n.01\n",
      "the state capital of South Australia\n",
      "\n",
      "south_australia.n.01\n",
      "a state in south central Australia\n",
      "\n",
      "tall_yellow-eye.n.01\n",
      "of Australia\n",
      "\n",
      "chrysophrys.n.01\n",
      "Australian snapper\n",
      "\n",
      "new_south_wales.n.01\n",
      "an Australian state in southeastern Australia\n",
      "\n",
      "eyre_peninsula.n.01\n",
      "a peninsula of southern Australia\n",
      "\n",
      "jointed_rush.n.01\n",
      "rush of Australia\n",
      "\n",
      "canberra.n.01\n",
      "the capital of Australia; located in southeastern Australia\n",
      "\n",
      "australian.n.01\n",
      "a native or inhabitant of Australia\n",
      "\n",
      "victoria.n.06\n",
      "a state in southeastern Australia\n",
      "\n"
     ]
    }
   ],
   "source": [
    "D, I = index.search(np.array([model.encode(\"australian police\")]), 10)\n",
    "\n",
    "for i in I[0]:\n",
    "    print(synsets_name[i])\n",
    "    print(wn.synset(synsets_name[i]).definition())\n",
    "    print()"
   ]
  },
  {
   "cell_type": "code",
   "execution_count": 242,
   "metadata": {},
   "outputs": [
    {
     "name": "stdout",
     "output_type": "stream",
     "text": [
      "police.n.01\n",
      "the force of policemen and officers\n",
      "\n",
      "panda_car.n.01\n",
      "a police cruiser\n",
      "\n",
      "lieutenant.n.02\n",
      "an officer in a police force\n",
      "\n",
      "policeman.n.01\n",
      "a member of a police force\n",
      "\n",
      "captain.n.03\n",
      "a policeman in charge of a precinct\n",
      "\n",
      "police_precinct.n.01\n",
      "a precinct in which law enforcement is the responsibility of particular police force\n",
      "\n",
      "inspector.n.01\n",
      "a high ranking police officer\n",
      "\n",
      "flatfoot.n.01\n",
      "a policeman who patrols a given region\n",
      "\n",
      "detective.n.01\n",
      "a police officer who investigates crimes\n",
      "\n",
      "lawman.n.01\n",
      "an officer of the law\n",
      "\n"
     ]
    }
   ],
   "source": [
    "D, I = index.search(np.array([model.encode(\"police\")]), 10)\n",
    "\n",
    "for i in I[0]:\n",
    "    print(synsets_name[i])\n",
    "    print(wn.synset(synsets_name[i]).definition())\n",
    "    print()"
   ]
  },
  {
   "cell_type": "code",
   "execution_count": null,
   "metadata": {},
   "outputs": [],
   "source": []
  }
 ],
 "metadata": {
  "kernelspec": {
   "display_name": "isi",
   "language": "python",
   "name": "isi"
  },
  "language_info": {
   "codemirror_mode": {
    "name": "ipython",
    "version": 3
   },
   "file_extension": ".py",
   "mimetype": "text/x-python",
   "name": "python",
   "nbconvert_exporter": "python",
   "pygments_lexer": "ipython3",
   "version": "3.7.9"
  }
 },
 "nbformat": 4,
 "nbformat_minor": 4
}
