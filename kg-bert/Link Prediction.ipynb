{
 "cells": [
  {
   "cell_type": "code",
   "execution_count": 1,
   "metadata": {},
   "outputs": [],
   "source": [
    "from util import *"
   ]
  },
  {
   "cell_type": "code",
   "execution_count": 2,
   "metadata": {},
   "outputs": [],
   "source": [
    "import matplotlib.pyplot as plt\n",
    "import numpy as np\n",
    "from nltk.stem.wordnet import WordNetLemmatizer\n",
    "import random, os, time, faiss"
   ]
  },
  {
   "cell_type": "markdown",
   "metadata": {},
   "source": [
    "## Setup directories"
   ]
  },
  {
   "cell_type": "code",
   "execution_count": 3,
   "metadata": {},
   "outputs": [],
   "source": [
    "os.environ['CUDA_VISIBLE_DEVICES']= '3'\n",
    "# input_file\n",
    "kgtk_wordnet = \"./data/wn/kgtk_wordnet.tsv\"\n",
    "\n",
    "# ouput_file\n",
    "wn_entity_file = \"./data/wn/entities.txt\"\n",
    "wn_entity2text_file = \"./data/wn/entity2text.txt\"\n",
    "wn_relation_file = \"./data/wn/relations.txt\"\n",
    "wn_relation2text_file = \"./data/wn/relation2text.txt\"\n",
    "wn_train = \"./data/wn/train.tsv\"\n",
    "wn_dev = \"./data/wn/dev.tsv\"\n",
    "wn_test = \"./data/wn/test.tsv\"\n",
    "wn_MRS_rank = \"./data/wn/mrs_rank.txt\"\n",
    "wn_MFS_rank = \"./data/wn/mfs_rank.txt\"\n",
    "wn_STB_rank = \"./data/wn/stb_rank.txt\"\n",
    "wn_STR_rank = \"./data/wn/str_rank.txt\""
   ]
  },
  {
   "cell_type": "markdown",
   "metadata": {},
   "source": [
    "## Data Preperation"
   ]
  },
  {
   "cell_type": "code",
   "execution_count": 4,
   "metadata": {},
   "outputs": [],
   "source": [
    "def sent_generation(label1, rela_label, label2):\n",
    "    return label1 + \" \"+rela_label+\" \"+label2\n",
    "\n",
    "def generate_gold_file(lines):\n",
    "    # Generate TSV file for relation classification\n",
    "    wn_gold_all = []\n",
    "    i = 0\n",
    "    for line in lines:\n",
    "        node1_id = line[0]\n",
    "        relation_id = line[1]\n",
    "        node2_id = line[2]\n",
    "        node1_labels = line[3]\n",
    "        node2_labels = line[4]\n",
    "        relation_label = line[5].replace('\"',\"\")\n",
    "\n",
    "        # modeify the node labels, check with leve distance\n",
    "        node1_label = multiple_labels(node1_labels,node1_id)\n",
    "        node2_label = multiple_labels(node2_labels,node2_id)\n",
    "\n",
    "        wn_gold_all.append([node1_label, relation_label, node2_label, node1_id, node2_id,relation_id])\n",
    "        i += 1\n",
    "        if i%10000==0:\n",
    "            print(f\"\\r {i}/{len(lines)}\", end=\"\")\n",
    "        \n",
    "    return wn_gold_all\n",
    "\n",
    "def write_file(filename, lines, head=False,head_content=\"\", encoding=\"UTF-8\", delimiter=\"\\t\"):\n",
    "    # write file\n",
    "    with open(filename, \"w\", newline='') as f:\n",
    "        writer = csv.writer(f, delimiter=delimiter)\n",
    "        if head:\n",
    "            writer.writerow(head_content)\n",
    "        writer.writerows(lines)\n",
    "        \n",
    "def write_split_file(filename1,lines,entity2detail,relation2detail):\n",
    "    # write train & train2 id\n",
    "    with open(filename1,\"w\",newline='') as f1:\n",
    "        w1 = csv.writer(f1, delimiter='\\t')\n",
    "\n",
    "        for line in lines:\n",
    "            # wtite content\n",
    "            entity1, relation, entity2 = line\n",
    "            w1.writerow([entity1,relation,entity2])"
   ]
  },
  {
   "cell_type": "code",
   "execution_count": 5,
   "metadata": {},
   "outputs": [],
   "source": [
    "# load data\n",
    "head, lines = load_file(kgtk_wordnet)"
   ]
  },
  {
   "cell_type": "code",
   "execution_count": 6,
   "metadata": {},
   "outputs": [
    {
     "data": {
      "text/plain": [
       "['wn:physical_entity.n.01',\n",
       " '/r/IsA',\n",
       " 'wn:entity.n.01',\n",
       " '\"physical entity\"',\n",
       " '\"entity\"',\n",
       " '\"is a\"',\n",
       " '',\n",
       " '\"WN\"']"
      ]
     },
     "execution_count": 6,
     "metadata": {},
     "output_type": "execute_result"
    }
   ],
   "source": [
    "# triple example\n",
    "lines[0]"
   ]
  },
  {
   "cell_type": "markdown",
   "metadata": {},
   "source": [
    "**Data Description**\n",
    "\n",
    "Obtain some basic information of dataset:"
   ]
  },
  {
   "cell_type": "code",
   "execution_count": 7,
   "metadata": {},
   "outputs": [
    {
     "name": "stdout",
     "output_type": "stream",
     "text": [
      "\r",
      " 10000/10000"
     ]
    }
   ],
   "source": [
    "# generate gold line\n",
    "wn_gold = generate_gold_file(random.choices(lines, k=10000))"
   ]
  },
  {
   "cell_type": "code",
   "execution_count": 8,
   "metadata": {},
   "outputs": [
    {
     "data": {
      "text/plain": [
       "['furan',\n",
       " 'is a',\n",
       " 'organic compound',\n",
       " 'wn:furan.n.01',\n",
       " 'wn:organic_compound.n.01',\n",
       " '/r/IsA']"
      ]
     },
     "execution_count": 8,
     "metadata": {},
     "output_type": "execute_result"
    }
   ],
   "source": [
    "# example of gold line\n",
    "wn_gold[0]"
   ]
  },
  {
   "cell_type": "code",
   "execution_count": 9,
   "metadata": {},
   "outputs": [
    {
     "name": "stdout",
     "output_type": "stream",
     "text": [
      "The number of triples: 111276\n",
      "The number of unique nodes: 14912\n",
      "The number of unique relations: 3\n",
      "The most frequent node: wn:herb.n.01\n",
      "The most frequent relation: /r/IsA\n"
     ]
    }
   ],
   "source": [
    "# check whether it has triplr without predicate\n",
    "# if yes, remove this triples\n",
    "# check number of relations, unique nodes, total edges, distribution of relations, most frequent nodes\n",
    "\n",
    "unique_nodes = dict()\n",
    "relations_dict = dict()\n",
    "\n",
    "node2text = dict()\n",
    "relation2text = dict()\n",
    "\n",
    "for line in wn_gold:\n",
    "    node1_id = line[3]\n",
    "    node2_id = line[4]\n",
    "    relation_id = line[5]\n",
    "    \n",
    "    node1_label = line[0]\n",
    "    node2_label = line[2]\n",
    "    relation_label = line[1]\n",
    "    \n",
    "    # count the number of unique nodes\n",
    "    unique_nodes[node1_id] = unique_nodes.get(node1_id,0)+1\n",
    "    unique_nodes[node2_id] = unique_nodes.get(node2_id,0)+1\n",
    "    \n",
    "    # count the number of unique relations\n",
    "    relations_dict[relation_id] = relations_dict.get(relation_id,0)+1\n",
    "    \n",
    "    node2text[node1_id] = node1_label\n",
    "    node2text[node2_id] = node2_label\n",
    "    relation2text[relation_id] = relation_label\n",
    "    \n",
    "# Summary\n",
    "print(f\"The number of triples: {len(lines)}\")\n",
    "print(f\"The number of unique nodes: {len(unique_nodes)}\")\n",
    "print(f\"The number of unique relations: {len(relations_dict)}\")\n",
    "max_fre_nodes = max(unique_nodes, key=unique_nodes.get)\n",
    "print(f\"The most frequent node: {max_fre_nodes}\")\n",
    "max_fre_relation = max(relations_dict, key=relations_dict.get)\n",
    "print(f\"The most frequent relation: {max_fre_relation}\")"
   ]
  },
  {
   "cell_type": "code",
   "execution_count": 10,
   "metadata": {},
   "outputs": [
    {
     "data": {
      "text/plain": [
       "(array([1., 0., 1., 0., 0., 0., 0., 0., 0., 1.]),\n",
       " array([  74. ,  868.4, 1662.8, 2457.2, 3251.6, 4046. , 4840.4, 5634.8,\n",
       "        6429.2, 7223.6, 8018. ]),\n",
       " <BarContainer object of 10 artists>)"
      ]
     },
     "execution_count": 10,
     "metadata": {},
     "output_type": "execute_result"
    },
    {
     "data": {
      "image/png": "[encoded data removed]",
      "text/plain": [
       "<Figure size 432x288 with 1 Axes>"
      ]
     },
     "metadata": {
      "needs_background": "light"
     },
     "output_type": "display_data"
    }
   ],
   "source": [
    "plt.hist(relations_dict.values(),log=True)"
   ]
  },
  {
   "cell_type": "code",
   "execution_count": 14,
   "metadata": {},
   "outputs": [],
   "source": [
    "def entity_index_find(wn_gold):\n",
    "    idxs = []\n",
    "    for line in wn_gold:\n",
    "        \n",
    "        entity1=line[3]\n",
    "        entity2=line[4]\n",
    "        \n",
    "        entity1_label = line[0].replace('\"',\"\")\n",
    "        entity2_label = line[2].replace('\"',\"\")\n",
    "        \n",
    "        entity1_wn = wn.synset(entity1.split(\":\")[1])\n",
    "        entity2_wn = wn.synset(entity2.split(\":\")[1])\n",
    "        \n",
    "        candidates1 = generate_candidates(entity1_label)\n",
    "        candidates2 = generate_candidates(entity2_label)\n",
    "        \n",
    "\n",
    "        temp1 = candidates1.index(entity1_wn)\n",
    "        temp2 = candidates2.index(entity2_wn)\n",
    "        \n",
    "        idxs.append(temp1)\n",
    "        idxs.append(temp2)\n",
    "    \n",
    "    max_ = 1\n",
    "    freq_ = 0\n",
    "    \n",
    "    freq_accuracy = dict()\n",
    "    while freq_ <= max_:\n",
    "        temp = 0\n",
    "        for idx in idxs:\n",
    "            max_ = max(idx, max_)\n",
    "            \n",
    "            if idx == freq_:\n",
    "                temp +=1\n",
    "        \n",
    "        freq_accuracy[freq_] = temp/len(idxs)\n",
    "        \n",
    "        freq_ += 1\n",
    "    return freq_accuracy"
   ]
  },
  {
   "cell_type": "code",
   "execution_count": 15,
   "metadata": {},
   "outputs": [],
   "source": [
    "freq_accuracy = entity_index_find(wn_gold)"
   ]
  },
  {
   "cell_type": "code",
   "execution_count": 21,
   "metadata": {},
   "outputs": [
    {
     "data": {
      "text/plain": [
       "<BarContainer object of 72 artists>"
      ]
     },
     "execution_count": 21,
     "metadata": {},
     "output_type": "execute_result"
    },
    {
     "data": {
      "image/png": "[encoded data removed]",
      "text/plain": [
       "<Figure size 432x288 with 1 Axes>"
      ]
     },
     "metadata": {
      "needs_background": "light"
     },
     "output_type": "display_data"
    }
   ],
   "source": [
    "plt.xlim((-1,10))\n",
    "plt.bar(freq_accuracy.keys(), freq_accuracy.values())"
   ]
  },
  {
   "cell_type": "markdown",
   "metadata": {},
   "source": [
    "**Generate Data File**\n",
    "\n",
    "Generate Data File for Kg-Bert Prediction (train, dev, test)"
   ]
  },
  {
   "cell_type": "code",
   "execution_count": 10,
   "metadata": {},
   "outputs": [],
   "source": [
    "entity2detail = dict()\n",
    "relation2detail = dict()\n",
    "\n",
    "for node_id in unique_nodes:\n",
    "    # build dict for each entity with their id, text, and long text\n",
    "    definition = wn.synset(node_id.split(\":\")[1]).definition()\n",
    "    entity_label = node2text[node_id]\n",
    "    entity2detail[node_id]=[entity_label, definition]\n",
    "\n",
    "idx = 0\n",
    "for relation_id in relation2text:\n",
    "    # build dict for each relation with their id, text, and long text\n",
    "    relation_label = relation2text[relation_id]\n",
    "    relation2detail[relation_id]=[relation_label]\n",
    "    idx += 1\n",
    "    \n",
    "# Transfer gold data to the structure of kg-bert\n",
    "kgBert_data = [[_[3],_[5],_[4],sent_generation(_[0],_[1],_[2])] for _ in wn_gold]"
   ]
  },
  {
   "cell_type": "code",
   "execution_count": 11,
   "metadata": {},
   "outputs": [],
   "source": [
    "# write file\n",
    "# entities.txt, entity2id, entity2text, entity2textlong\n",
    "\n",
    "with open(wn_entity_file,\"w\",newline='') as f1,open(wn_entity2text_file, \"w\",newline='') as f2:\n",
    "    w1 = csv.writer(f1, delimiter='\\t')\n",
    "    w2 = csv.writer(f2, delimiter='\\t')\n",
    "    \n",
    "    for entity in entity2detail:\n",
    "        # wtite content\n",
    "        entity_text, entity_textlong = entity2detail[entity]\n",
    "        w1.writerow([entity,])\n",
    "        w2.writerow([entity,entity_textlong])\n",
    "        \n",
    "# relations.txt, rekation2id.txt, relation2text.txt\n",
    "with open(wn_relation_file,\"w\",newline='') as f1, open(wn_relation2text_file, \"w\",newline='') as f2:\n",
    "    w1 = csv.writer(f1, delimiter='\\t')\n",
    "    w2 = csv.writer(f2, delimiter='\\t')\n",
    "\n",
    "    for relation in relation2detail:\n",
    "        # wtite content\n",
    "        relation_text = relation2detail[relation][0]\n",
    "        w1.writerow([relation,])\n",
    "        w2.writerow([relation,relation_text])"
   ]
  },
  {
   "cell_type": "code",
   "execution_count": 12,
   "metadata": {},
   "outputs": [
    {
     "name": "stdout",
     "output_type": "stream",
     "text": [
      "length of train, dev, test:  8000 1000 1000\n"
     ]
    }
   ],
   "source": [
    "# Split train, dev, test file\n",
    "\n",
    "random.shuffle(kgBert_data)\n",
    "\n",
    "# define ratio of train, dev, test\n",
    "train_ratio = 0.8\n",
    "dev_ratio = 0.1\n",
    "test_ratio = 1 - train_ratio - dev_ratio\n",
    "\n",
    "len_gold = len(kgBert_data)\n",
    "train, dev, test = np.split(kgBert_data,[int(train_ratio*len_gold),int((train_ratio+dev_ratio)*len_gold)])\n",
    "print(\"length of train, dev, test: \", len(train), len(dev), len(test))\n",
    "\n",
    "# write train & train2id\n",
    "write_split_file(wn_train,[_[0:-1] for _ in train],entity2detail,relation2detail)\n",
    "\n",
    "# write dev & dev2id\n",
    "write_split_file(wn_dev,[_[0:-1] for _ in dev],entity2detail,relation2detail)\n",
    "\n",
    "# write test & test2id\n",
    "write_split_file(wn_test,[_[0:-1] for _ in test],entity2detail,relation2detail)"
   ]
  },
  {
   "cell_type": "code",
   "execution_count": 13,
   "metadata": {},
   "outputs": [
    {
     "data": {
      "text/plain": [
       "array(['wn:airhead.n.02', '/r/IsA', 'wn:bridgehead.n.01',\n",
       "       'airhead is a bridgehead'], dtype='<U79')"
      ]
     },
     "execution_count": 13,
     "metadata": {},
     "output_type": "execute_result"
    }
   ],
   "source": [
    "#example of gold file\n",
    "train[0]"
   ]
  },
  {
   "cell_type": "markdown",
   "metadata": {},
   "source": [
    "## Baseline Running"
   ]
  },
  {
   "cell_type": "markdown",
   "metadata": {},
   "source": [
    "**Random Baseline**"
   ]
  },
  {
   "cell_type": "code",
   "execution_count": 15,
   "metadata": {},
   "outputs": [],
   "source": [
    "def transfer_words(label):\n",
    "    # accoording to the labels, generate label that can be recognized by wn interface from NLTK\n",
    "    idx_list = [x for x, v in enumerate(label) if v == ' ']\n",
    "    \n",
    "    if not idx_list:\n",
    "        #no whitespace in words\n",
    "        yield label\n",
    "    else:\n",
    "        # whitespace in words\n",
    "        combs = permu(len(idx_list))\n",
    "        for comb in combs:\n",
    "            for idx, status, in zip(idx_list, comb):\n",
    "                if status:\n",
    "                    label = replace_str(label, \"-\", idx)\n",
    "                else:\n",
    "                    label = replace_str(label, \"_\", idx)\n",
    "            yield label\n",
    "            \n",
    "def generate_synsets(labels):\n",
    "    # According to the generation of labels, obtain the synsets\n",
    "    for label in labels:\n",
    "        synsets = list(wn.synsets(label))\n",
    "        \n",
    "        if synsets:\n",
    "            return synsets, label\n",
    "        \n",
    "    return [], label\n",
    "\n",
    "def generate_candidates(label):\n",
    "    candidates,_ = generate_synsets(transfer_words(label))\n",
    "    return candidates\n",
    "\n",
    "def shuffle_candidates(candits):\n",
    "    if candits:\n",
    "        # random choose candidates\n",
    "        random.shuffle(candits)\n",
    "    else:\n",
    "        return []\n",
    "    return candits\n",
    "\n",
    "def rank_check(predict_label, actual_label):\n",
    "    try:\n",
    "        idx = predict_label.index(actual_label)\n",
    "    except ValueError:\n",
    "        idx=-1\n",
    "    return idx\n",
    "\n",
    "def MRS(wn_gold):\n",
    "    # Random Baseline calculation\n",
    "    # only predict subject\n",
    "    wn_predict = []\n",
    "    for line in wn_gold:\n",
    "        entity1_label = line[3]\n",
    "        entity2_label = line[4]\n",
    "        \n",
    "        # generate all possible combination of \"_\"&\"-\" and check whether it can find sysets.\n",
    "        # if the combination can generate sysets, use this combinations to generate candidates\n",
    "        candidates1 = generate_candidates(entity1_label)\n",
    "        candidates2 = generate_candidates(entity2_label)\n",
    "        \n",
    "        candidates1=shuffle_candidates(candidates1)\n",
    "        candidates2=shuffle_candidates(candidates2)\n",
    "        \n",
    "        wn_predict.append([candidates1, line[1], candidates2])\n",
    "        \n",
    "    return wn_predict\n",
    "    \n",
    "def modify_data(lines,entity2detail):\n",
    "    # add label in the dataset used to make prediction\n",
    "    for line in lines:\n",
    "        entity1, relation, entity2, sent = line\n",
    "        entity1_label = entity2detail[entity1][0]\n",
    "        entity2_label = entity2detail[entity2][0]\n",
    "        yield entity1, relation, entity2, entity1_label,entity2_label, sent\n",
    "\n",
    "def validation(wn_predict, wn_gold):\n",
    "    # valid the rank of prediction\n",
    "    rank_left = []\n",
    "    rank_right = []\n",
    "    \n",
    "    for predict, actual in zip(wn_predict, wn_gold):\n",
    "        predict_label1 = predict[0]\n",
    "        actual_label1 = wn.synset(actual[0].split(\":\")[1].replace(\" \",\"_\"))\n",
    "        \n",
    "        predict_label2 = predict[2]\n",
    "        actual_label2 = wn.synset(actual[2].split(\":\")[1].replace(\" \",\"_\"))\n",
    "        \n",
    "        rank_left.append(rank_check(predict_label1,actual_label1))\n",
    "        rank_right.append(rank_check(predict_label2,actual_label2))\n",
    "        \n",
    "    return rank_left,rank_right\n",
    "\n",
    "def rank_accuracy(ranks):\n",
    "    # check the accuracy for different hits\n",
    "    max_dep = 1\n",
    "    threshold = 0\n",
    "    accuracy_dict = dict()\n",
    "    ite = 0\n",
    "    \n",
    "    while threshold <= max_dep and ite <500:\n",
    "        for rank in ranks:\n",
    "            max_dep = max(max_dep, rank)\n",
    "            if rank <= threshold:\n",
    "                accuracy_dict[threshold] = accuracy_dict.get(threshold,0)+1\n",
    "                \n",
    "        accuracy_dict[threshold] = accuracy_dict[threshold]/len(ranks)\n",
    "        threshold += 1\n",
    "        ite += 1\n",
    "    return accuracy_dict\n",
    "\n",
    "def save_rank_file(rank1,rank2,filename):\n",
    "    with open(filename,\"w\") as f:\n",
    "        for item1, item2 in zip(rank1,rank2):\n",
    "            f.write(str(item1)+\"\\t\"+str(item2)+\"\\n\")\n",
    "    return"
   ]
  },
  {
   "cell_type": "code",
   "execution_count": 16,
   "metadata": {},
   "outputs": [],
   "source": [
    "# modify train, dev, test data\n",
    "train_modify = list(modify_data(train,entity2detail))\n",
    "dev_modify = list(modify_data(dev,entity2detail))\n",
    "test_modify = list(modify_data(test,entity2detail))"
   ]
  },
  {
   "cell_type": "code",
   "execution_count": 17,
   "metadata": {},
   "outputs": [
    {
     "data": {
      "text/plain": [
       "('wn:airhead.n.02',\n",
       " '/r/IsA',\n",
       " 'wn:bridgehead.n.01',\n",
       " 'airhead',\n",
       " 'bridgehead',\n",
       " 'airhead is a bridgehead')"
      ]
     },
     "execution_count": 17,
     "metadata": {},
     "output_type": "execute_result"
    }
   ],
   "source": [
    "#example of modified train\n",
    "train_modify[0]"
   ]
  },
  {
   "cell_type": "code",
   "execution_count": 18,
   "metadata": {},
   "outputs": [
    {
     "name": "stdout",
     "output_type": "stream",
     "text": [
      "Accuracy of left entity train dataset (random baseline):  0.7155\n",
      "Accuracy of right entity train dataset (random baseline):  0.59425\n",
      "Accuracy of left entity dev dataset (random baseline):  0.698\n",
      "Accuracy of right entity dev dataset (random baseline):  0.595\n",
      "Accuracy of left entity test dataset (random baseline):  0.715\n",
      "Accuracy of right entity test dataset (random baseline):  0.6\n"
     ]
    }
   ],
   "source": [
    "#train dataset\n",
    "wn_ran_train_predict = MRS(train_modify)\n",
    "rank_left,rank_right = validation(wn_ran_train_predict, train_modify)\n",
    "print(\"Accuracy of left entity train dataset (random baseline): \", rank_accuracy(rank_left)[0])\n",
    "print(\"Accuracy of right entity train dataset (random baseline): \", rank_accuracy(rank_right)[0])\n",
    "\n",
    "#dev dataset\n",
    "wn_ran_dev_predict = MRS(dev_modify)\n",
    "rank_left,rank_right = validation(wn_ran_dev_predict, dev_modify)\n",
    "print(\"Accuracy of left entity dev dataset (random baseline): \", rank_accuracy(rank_left)[0])\n",
    "print(\"Accuracy of right entity dev dataset (random baseline): \", rank_accuracy(rank_right)[0])\n",
    "\n",
    "#test dataset\n",
    "wn_ran_test_predict = MRS(test_modify)\n",
    "rank_left,rank_right = validation(wn_ran_test_predict, test_modify)\n",
    "print(\"Accuracy of left entity test dataset (random baseline): \", rank_accuracy(rank_left)[0])\n",
    "print(\"Accuracy of right entity test dataset (random baseline): \", rank_accuracy(rank_right)[0])\n",
    "\n",
    "#save test result\n",
    "save_rank_file(rank_left,rank_right,wn_MRS_rank)\n",
    "\n",
    "# accuracy chang with different hits\n",
    "left_mrs_accuracy=rank_accuracy(rank_left)\n",
    "right_mrs_accuracy=rank_accuracy(rank_right)"
   ]
  },
  {
   "cell_type": "markdown",
   "metadata": {},
   "source": [
    "**MFS Baseline**"
   ]
  },
  {
   "cell_type": "code",
   "execution_count": 19,
   "metadata": {},
   "outputs": [],
   "source": [
    "def MFS(wn_gold):\n",
    "    # Frequent Baseline Calculation\n",
    "    wn_predict = []\n",
    "    for line in wn_gold:\n",
    "        entity1_label = line[3]\n",
    "        entity2_label = line[4]\n",
    "        \n",
    "        # generate all possible combination of \"_\"&\"-\" and check whether it can find sysets.\n",
    "        # if the combination can generate sysets, use this combinations to generate candidates\n",
    "        candidates1 = generate_candidates(entity1_label)\n",
    "        candidates2 = generate_candidates(entity2_label)\n",
    "        \n",
    "        wn_predict.append([candidates1, line[1], candidates2])\n",
    "        \n",
    "    return wn_predict"
   ]
  },
  {
   "cell_type": "code",
   "execution_count": 20,
   "metadata": {},
   "outputs": [
    {
     "name": "stdout",
     "output_type": "stream",
     "text": [
      "Accuracy of left entity train dataset (Frequency baseline):  0.738625\n",
      "Accuracy of right entity train dataset (Frequency baseline):  0.723125\n",
      "Accuracy of left entity dev dataset (Frequency baseline):  0.703\n",
      "Accuracy of right entity dev dataset (Frequency baseline):  0.743\n",
      "Accuracy of left entity test dataset (Frequency baseline):  0.723\n",
      "Accuracy of right entity test dataset (Frequency baseline):  0.769\n"
     ]
    }
   ],
   "source": [
    "#train dataset\n",
    "wn_ran_train_predict = MFS(train_modify)\n",
    "rank_left,rank_right = validation(wn_ran_train_predict, train_modify)\n",
    "print(\"Accuracy of left entity train dataset (Frequency baseline): \", rank_accuracy(rank_left)[0])\n",
    "print(\"Accuracy of right entity train dataset (Frequency baseline): \", rank_accuracy(rank_right)[0])\n",
    "\n",
    "#dev dataset\n",
    "wn_ran_dev_predict = MFS(dev_modify)\n",
    "rank_left,rank_right = validation(wn_ran_dev_predict, dev_modify)\n",
    "print(\"Accuracy of left entity dev dataset (Frequency baseline): \", rank_accuracy(rank_left)[0])\n",
    "print(\"Accuracy of right entity dev dataset (Frequency baseline): \", rank_accuracy(rank_right)[0])\n",
    "\n",
    "#test dataset\n",
    "wn_ran_test_predict = MFS(test_modify)\n",
    "rank_left,rank_right = validation(wn_ran_test_predict, test_modify)\n",
    "print(\"Accuracy of left entity test dataset (Frequency baseline): \", rank_accuracy(rank_left)[0])\n",
    "print(\"Accuracy of right entity test dataset (Frequency baseline): \", rank_accuracy(rank_right)[0])\n",
    "\n",
    "\n",
    "save_rank_file(rank_left,rank_right,wn_MFS_rank)\n",
    "\n",
    "# accuracy chang with different hits\n",
    "left_mfs_accuracy=rank_accuracy(rank_left)\n",
    "right_mfs_accuracy=rank_accuracy(rank_right)"
   ]
  },
  {
   "cell_type": "markdown",
   "metadata": {},
   "source": [
    "**STB**"
   ]
  },
  {
   "cell_type": "code",
   "execution_count": 28,
   "metadata": {},
   "outputs": [
    {
     "name": "stderr",
     "output_type": "stream",
     "text": [
      "100%|██████████| 405M/405M [02:57<00:00, 2.28MB/s]   \n"
     ]
    }
   ],
   "source": [
    "model_STB = SentenceTransformer('bert-base-nli-mean-tokens')"
   ]
  },
  {
   "cell_type": "code",
   "execution_count": 29,
   "metadata": {},
   "outputs": [],
   "source": [
    "def vector_normalize(vector):\n",
    "    # input should be a numpy array\n",
    "    # change to unit vector\n",
    "    return vector / (vector**2).sum()**0.5\n",
    "\n",
    "def max_candidate_faiss(label_,sent_embedding_,label_embeddings):\n",
    "    # return the max similarity candidates\n",
    "    #output: [[similarity, synset, the pos of synset]]\n",
    "\n",
    "    sent_embedding_ = vector_normalize(sent_embedding_)\n",
    "    if label_ not in label_embeddings:\n",
    "        # label is not exists in the labels embeddings means:\n",
    "            #there is no sysets for this label\n",
    "            # return \"\"\n",
    "        return \"\"\n",
    "    else:\n",
    "        # label exists\n",
    "        # return the max similarity candidates\n",
    "        index_ = label_embeddings[label_][1]\n",
    "        top_n = len(label_embeddings[label_][0])\n",
    "        \n",
    "        _, I = index_.search(np.array([sent_embedding_]), top_n)\n",
    "        #print(int(I),label_embeddings[label_][0])\n",
    "        \n",
    "        return [label_embeddings[label_][0][idx] for idx in I[0]]\n",
    "\n",
    "def candidates_embeddings_faiss(wn_gold, model):\n",
    "    # generate label node id defination embeddings from file\n",
    "    # output:{\"label_name\":[[node_id, embedding of node_id defination],[X,X],[X,X]]}\n",
    "    \n",
    "    # store label, synset\n",
    "    label_synsets = []\n",
    "    # store the defination sentence of synset\n",
    "    sents_combine = []\n",
    "    \n",
    "    embeddings = dict()\n",
    "    \n",
    "    length1 = len(wn_gold)\n",
    "    count1 = 0\n",
    "    \n",
    "    for line in wn_gold:\n",
    "        entity1 = line[0]\n",
    "        entity2 = line[2]\n",
    "        entity1_label = line[3]\n",
    "        entity2_label = line[4]\n",
    "        \n",
    "        label_synsets,sents_combine = label2sentence2sent(entity1_label, model,label_synsets,sents_combine)\n",
    "        label_synsets,sents_combine = label2sentence2sent(entity2_label, model,label_synsets,sents_combine)\n",
    "        \n",
    "        count1 += 1\n",
    "        \n",
    "        #if count1%1000==0:print(f\"\\r lines counting {count1}/{length1}\",end=\"\")\n",
    "\n",
    "    # generate embedding of sentence\n",
    "    start = time.time()\n",
    "    sents_embed = model.encode(sents_combine)\n",
    "    # dimension of faiss\n",
    "    d = len(sents_embed[0])\n",
    "    end = time.time()\n",
    "    #print(f\"model time: {end-start}\")\n",
    "    #print(\"candidates sentences embedding generated\")\n",
    "    \n",
    "    length2 = len(label_synsets)\n",
    "    for label_synset, embed in zip(label_synsets,sents_embed):\n",
    "        label, synset = label_synset\n",
    "        \n",
    "        temp = embeddings.get(label,dict())\n",
    "        if synset not in temp:\n",
    "            temp[synset] = embed\n",
    "        \n",
    "        # generate embedding of label synset\n",
    "        embeddings[label]=temp\n",
    "            \n",
    "    # write embedding into faiss\n",
    "    for label in embeddings:\n",
    "        label_embeds = embeddings[label]\n",
    "        index_ = faiss.IndexFlatL2(d)\n",
    "        sub_embeds = []\n",
    "        sub_labelId = []\n",
    "        for label_id in label_embeds:\n",
    "            embed = label_embeds[label_id]\n",
    "            sub_labelId.append(label_id)\n",
    "            sub_embeds.append(vector_normalize(embed))\n",
    "            \n",
    "        # write into faiss store with label name\n",
    "        index_.add(np.array(sub_embeds))\n",
    "        \n",
    "        embeddings[label] = (sub_labelId,index_)\n",
    "    return embeddings\n",
    "\n",
    "def sentence_embedding_faiss(wn_gold, model, label_embeddings = None):\n",
    "    # use sentences embedding to find most similar candit\n",
    "    wn_predict = []\n",
    "    sents_combine = []\n",
    "    \n",
    "    length1 = len(wn_gold)\n",
    "    count1 = 0\n",
    "    for line in wn_gold:\n",
    "        sentence = line[5]\n",
    "        sents_combine.append(sentence)\n",
    "        \n",
    "        count1 += 1\n",
    "        #if count1%1000==0:print(f\"\\r lines counting {count1}/{length1}\",end=\"\")\n",
    "    # obtain sentence embedding\n",
    "    start = time.time()\n",
    "    sents_embedding = model.encode(sents_combine)\n",
    "    end = time.time()\n",
    "    #print(f\"model time: {end-start}\")\n",
    "    \n",
    "    length2 = len(wn_gold)\n",
    "    count2 = 0\n",
    "    for line,sent_embedding in zip(wn_gold,sents_embedding):\n",
    "        entity1_label = line[3]\n",
    "        entity2_label = line[4]\n",
    "        \n",
    "        #obtain the max similar item for label1\n",
    "        entity1_label_candits = max_candidate_faiss(entity1_label,sent_embedding,label_embeddings)\n",
    "        entity2_label_candits = max_candidate_faiss(entity2_label,sent_embedding,label_embeddings)\n",
    "                \n",
    "        wn_predict.append([entity1_label_candits, line[1], entity2_label_candits,line[3],line[4]])\n",
    "        count2 +=1\n",
    "        #print(f\"\\r line countung {count2}/{length2}\", end=\"\")\n",
    "    return wn_predict\n",
    "\n",
    "def chunks_divide(data, num=10000):\n",
    "    for idx in range(0,len(data),num):\n",
    "        yield data[idx:idx+num]\n",
    "\n",
    "def process_data_inChunk(data, model, chunk_num = 10000):\n",
    "    # data file is processed in chunks\n",
    "    total = 0\n",
    "    total_predict = []\n",
    "    start_total = time.time()\n",
    "    \n",
    "    for sub_data in chunks_divide(data, num=chunk_num):\n",
    "        start = time.time()\n",
    "        label_embeddings = candidates_embeddings_faiss(sub_data, model)\n",
    "        predict = sentence_embedding_faiss(sub_data, model,label_embeddings = label_embeddings)\n",
    "        \n",
    "        total_predict += predict\n",
    "        process_num = len(sub_data)\n",
    "        total +=process_num\n",
    "        usedtime = time.time() - start\n",
    "        print(f\"The time used for this iteration: {usedtime}, finished lines {total}/{len(data)}\")\n",
    "    rank_left, rank_right = validation(total_predict, data)\n",
    "    \n",
    "    total_time = time.time()-start_total\n",
    "    print(f\"Process finished! Total time: {total_time}\")\n",
    "    return total_predict, rank_left, rank_right"
   ]
  },
  {
   "cell_type": "code",
   "execution_count": 30,
   "metadata": {},
   "outputs": [
    {
     "name": "stdout",
     "output_type": "stream",
     "text": [
      "The time used for this iteration: 104.7472071647644, finished lines 8000/8000\n",
      "Process finished! Total time: 104.82846522331238\n",
      "Accuracy of left entity train dataset (STB baseline):  0.797\n",
      "Accuracy of right entity train dataset (STB baseline):  0.64275\n",
      "The time used for this iteration: 13.122935056686401, finished lines 1000/1000\n",
      "Process finished! Total time: 13.13110065460205\n",
      "Accuracy of left entity dev dataset (STB baseline):  0.8\n",
      "Accuracy of right entity dev dataset (STB baseline):  0.659\n",
      "The time used for this iteration: 13.42634892463684, finished lines 1000/1000\n",
      "Process finished! Total time: 13.440526247024536\n",
      "Accuracy of left entity test dataset (STB baseline):  0.803\n",
      "Accuracy of right entity test dataset (STB baseline):  0.668\n"
     ]
    }
   ],
   "source": [
    "#train dataset\n",
    "wn_stb_test_predict, rank_left, rank_right= process_data_inChunk(train_modify, model_STB, chunk_num = 10000)\n",
    "print(\"Accuracy of left entity train dataset (STB baseline): \", rank_accuracy(rank_left)[0])\n",
    "print(\"Accuracy of right entity train dataset (STB baseline): \", rank_accuracy(rank_right)[0])\n",
    "\n",
    "#dev dataset\n",
    "wn_stb_dev_predict, rank_left, rank_right = process_data_inChunk(dev_modify, model_STB, chunk_num = 10000)\n",
    "print(\"Accuracy of left entity dev dataset (STB baseline): \", rank_accuracy(rank_left)[0])\n",
    "print(\"Accuracy of right entity dev dataset (STB baseline): \", rank_accuracy(rank_right)[0])\n",
    "\n",
    "#test dataset\n",
    "wn_stb_test_predict, rank_left, rank_right = process_data_inChunk(test_modify, model_STB, chunk_num = 10000)\n",
    "print(\"Accuracy of left entity test dataset (STB baseline): \", rank_accuracy(rank_left)[0])\n",
    "print(\"Accuracy of right entity test dataset (STB baseline): \", rank_accuracy(rank_right)[0])\n",
    "\n",
    "save_rank_file(rank_left,rank_right,wn_STB_rank)\n",
    "\n",
    "# accuracy chang with different hits\n",
    "left_stb_accuracy=rank_accuracy(rank_left)\n",
    "right_stb_accuracy=rank_accuracy(rank_right)"
   ]
  },
  {
   "cell_type": "markdown",
   "metadata": {},
   "source": [
    "**STR**"
   ]
  },
  {
   "cell_type": "code",
   "execution_count": 24,
   "metadata": {},
   "outputs": [],
   "source": [
    "model_STR = SentenceTransformer('roberta-large-nli-stsb-mean-tokens')"
   ]
  },
  {
   "cell_type": "code",
   "execution_count": 26,
   "metadata": {},
   "outputs": [
    {
     "name": "stdout",
     "output_type": "stream",
     "text": [
      "The time used for this iteration: 259.4492287635803, finished lines 8000/8000\n",
      "Process finished! Total time: 259.5308692455292\n",
      "Accuracy of left entity train dataset (STB baseline):  0.798625\n",
      "Accuracy of right entity train dataset (STB baseline):  0.65075\n",
      "The time used for this iteration: 32.5031213760376, finished lines 1000/1000\n",
      "Process finished! Total time: 32.517483949661255\n",
      "Accuracy of left entity train dataset (STB baseline):  0.792\n",
      "Accuracy of right entity train dataset (STB baseline):  0.649\n",
      "The time used for this iteration: 33.10553741455078, finished lines 1000/1000\n",
      "Process finished! Total time: 33.12074041366577\n",
      "Accuracy of left entity train dataset (STB baseline):  0.795\n",
      "Accuracy of right entity train dataset (STB baseline):  0.678\n"
     ]
    }
   ],
   "source": [
    "#train dataset\n",
    "wn_str_test_predict, rank_left, rank_right= process_data_inChunk(train_modify, model_STR, chunk_num = 10000)\n",
    "print(\"Accuracy of left entity train dataset (STB baseline): \", rank_accuracy(rank_left)[0])\n",
    "print(\"Accuracy of right entity train dataset (STB baseline): \", rank_accuracy(rank_right)[0])\n",
    "\n",
    "#dev dataset\n",
    "wn_str_dev_predict, rank_left, rank_right = process_data_inChunk(dev_modify, model_STR, chunk_num = 10000)\n",
    "print(\"Accuracy of left entity train dataset (STB baseline): \", rank_accuracy(rank_left)[0])\n",
    "print(\"Accuracy of right entity train dataset (STB baseline): \", rank_accuracy(rank_right)[0])\n",
    "\n",
    "#test dataset\n",
    "wn_str_test_predict, rank_left, rank_right = process_data_inChunk(test_modify, model_STR, chunk_num = 10000)\n",
    "print(\"Accuracy of left entity train dataset (STB baseline): \", rank_accuracy(rank_left)[0])\n",
    "print(\"Accuracy of right entity train dataset (STB baseline): \", rank_accuracy(rank_right)[0])\n",
    "\n",
    "save_rank_file(rank_left,rank_right,wn_STR_rank)\n",
    "\n",
    "# accuracy chang with different hits\n",
    "left_str_accuracy=rank_accuracy(rank_left)\n",
    "right_str_accuracy=rank_accuracy(rank_right)"
   ]
  },
  {
   "cell_type": "markdown",
   "metadata": {},
   "source": [
    "## Accuracy\n",
    "\n",
    "The accuracy at the top n candidates hits@n"
   ]
  },
  {
   "cell_type": "code",
   "execution_count": 31,
   "metadata": {},
   "outputs": [
    {
     "data": {
      "image/png": "[encoded data removed]",
      "text/plain": [
       "<Figure size 432x288 with 1 Axes>"
      ]
     },
     "metadata": {
      "needs_background": "light"
     },
     "output_type": "display_data"
    }
   ],
   "source": [
    "# Accuracy Plot\n",
    "# namr format: \"A_B_C\". A: the side of data. B: the method od data. C:\"accuracy\"\n",
    "names=[\"left_mrs_accuracy\",\"right_mrs_accuracy\",\n",
    "       \"left_mfs_accuracy\",\"right_mfs_accuracy\",\n",
    "       \"left_stb_accuracy\",\"right_stb_accuracy\",\n",
    "       \"left_str_accuracy\",\"right_str_accuracy\"]\n",
    "contents=[left_mrs_accuracy,right_mrs_accuracy,\n",
    "          left_mfs_accuracy,right_mfs_accuracy,\n",
    "          left_stb_accuracy,right_stb_accuracy,\n",
    "          left_str_accuracy,right_str_accuracy]\n",
    "\n",
    "color_code = iter(list(\"bgrcmykw\"))\n",
    "name_types={}\n",
    "for name, content in zip(names, contents):\n",
    "    #check name type\n",
    "    name_type = name.split(\"_\")[1]\n",
    "    name_side = name.split(\"_\")[0]\n",
    "    # define color type\n",
    "    color_ = name_types.get(name_type,next(color_code))\n",
    "    name_types[name_type] = color_\n",
    "    \n",
    "    # define line type\n",
    "    if name_side==\"right\":\n",
    "        line_type = \"-\"\n",
    "    elif name_side==\"left\":\n",
    "        line_type=\"--\"\n",
    "    else:\n",
    "        line_type=\"*\"\n",
    "    \n",
    "    plt.plot(content.keys(),content.values(),color_+line_type,label=name)\n",
    "    \n",
    "plt.xlabel('hits@n')\n",
    "plt.ylabel('accuracy')\n",
    "plt.xlim((0,10))\n",
    "plt.legend()\n",
    "plt.show()"
   ]
  },
  {
   "cell_type": "code",
   "execution_count": null,
   "metadata": {},
   "outputs": [],
   "source": []
  }
 ],
 "metadata": {
  "kernelspec": {
   "display_name": "isi",
   "language": "python",
   "name": "isi"
  },
  "language_info": {
   "codemirror_mode": {
    "name": "ipython",
    "version": 3
   },
   "file_extension": ".py",
   "mimetype": "text/x-python",
   "name": "python",
   "nbconvert_exporter": "python",
   "pygments_lexer": "ipython3",
   "version": "3.7.9"
  }
 },
 "nbformat": 4,
 "nbformat_minor": 4
}
